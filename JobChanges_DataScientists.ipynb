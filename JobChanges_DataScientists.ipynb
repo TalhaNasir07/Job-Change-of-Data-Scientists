{
  "nbformat": 4,
  "nbformat_minor": 0,
  "metadata": {
    "colab": {
      "name": "Ds_proj.ipynb",
      "provenance": [],
      "collapsed_sections": [],
      "toc_visible": true
    },
    "kernelspec": {
      "name": "python3",
      "display_name": "Python 3"
    },
    "accelerator": "GPU"
  },
  "cells": [
    {
      "cell_type": "code",
      "metadata": {
        "id": "tRpwlyy4SIrd"
      },
      "source": [
        "import pandas as pd \n",
        "import numpy as np\n",
        "import matplotlib.pyplot as plt\n",
        "import seaborn as sns\n",
        "import plotly\n",
        "from sklearn.linear_model import LogisticRegression\n",
        "from sklearn.linear_model import LogisticRegressionCV\n",
        "from sklearn.model_selection import train_test_split\n",
        "from sklearn.metrics import accuracy_score, f1_score, precision_score, recall_score\n",
        "from sklearn.ensemble import RandomForestClassifier\n",
        "from sklearn.metrics import plot_confusion_matrix\n",
        "from sklearn.metrics import confusion_matrix, roc_auc_score, roc_curve, classification_report, precision_recall_curve"
      ],
      "execution_count": null,
      "outputs": []
    },
    {
      "cell_type": "markdown",
      "metadata": {
        "id": "cbII0TcMoyVs"
      },
      "source": [
        "# **Initial Observation**"
      ]
    },
    {
      "cell_type": "code",
      "metadata": {
        "colab": {
          "base_uri": "https://localhost:8080/",
          "height": 258
        },
        "id": "dfP7InUrRaL3",
        "outputId": "e47b8fad-8411-424e-b943-8eed472ad568"
      },
      "source": [
        "df_train = pd.read_csv('aug_train.csv')\n",
        "df_train.head()\n"
      ],
      "execution_count": null,
      "outputs": [
        {
          "output_type": "execute_result",
          "data": {
            "text/html": [
              "<div>\n",
              "<style scoped>\n",
              "    .dataframe tbody tr th:only-of-type {\n",
              "        vertical-align: middle;\n",
              "    }\n",
              "\n",
              "    .dataframe tbody tr th {\n",
              "        vertical-align: top;\n",
              "    }\n",
              "\n",
              "    .dataframe thead th {\n",
              "        text-align: right;\n",
              "    }\n",
              "</style>\n",
              "<table border=\"1\" class=\"dataframe\">\n",
              "  <thead>\n",
              "    <tr style=\"text-align: right;\">\n",
              "      <th></th>\n",
              "      <th>enrollee_id</th>\n",
              "      <th>city</th>\n",
              "      <th>city_development_index</th>\n",
              "      <th>gender</th>\n",
              "      <th>relevent_experience</th>\n",
              "      <th>enrolled_university</th>\n",
              "      <th>education_level</th>\n",
              "      <th>major_discipline</th>\n",
              "      <th>experience</th>\n",
              "      <th>company_size</th>\n",
              "      <th>company_type</th>\n",
              "      <th>last_new_job</th>\n",
              "      <th>training_hours</th>\n",
              "      <th>target</th>\n",
              "    </tr>\n",
              "  </thead>\n",
              "  <tbody>\n",
              "    <tr>\n",
              "      <th>0</th>\n",
              "      <td>8949</td>\n",
              "      <td>city_103</td>\n",
              "      <td>0.920</td>\n",
              "      <td>Male</td>\n",
              "      <td>Has relevent experience</td>\n",
              "      <td>no_enrollment</td>\n",
              "      <td>Graduate</td>\n",
              "      <td>STEM</td>\n",
              "      <td>&gt;20</td>\n",
              "      <td>NaN</td>\n",
              "      <td>NaN</td>\n",
              "      <td>1</td>\n",
              "      <td>36</td>\n",
              "      <td>1.0</td>\n",
              "    </tr>\n",
              "    <tr>\n",
              "      <th>1</th>\n",
              "      <td>29725</td>\n",
              "      <td>city_40</td>\n",
              "      <td>0.776</td>\n",
              "      <td>Male</td>\n",
              "      <td>No relevent experience</td>\n",
              "      <td>no_enrollment</td>\n",
              "      <td>Graduate</td>\n",
              "      <td>STEM</td>\n",
              "      <td>15</td>\n",
              "      <td>50-99</td>\n",
              "      <td>Pvt Ltd</td>\n",
              "      <td>&gt;4</td>\n",
              "      <td>47</td>\n",
              "      <td>0.0</td>\n",
              "    </tr>\n",
              "    <tr>\n",
              "      <th>2</th>\n",
              "      <td>11561</td>\n",
              "      <td>city_21</td>\n",
              "      <td>0.624</td>\n",
              "      <td>NaN</td>\n",
              "      <td>No relevent experience</td>\n",
              "      <td>Full time course</td>\n",
              "      <td>Graduate</td>\n",
              "      <td>STEM</td>\n",
              "      <td>5</td>\n",
              "      <td>NaN</td>\n",
              "      <td>NaN</td>\n",
              "      <td>never</td>\n",
              "      <td>83</td>\n",
              "      <td>0.0</td>\n",
              "    </tr>\n",
              "    <tr>\n",
              "      <th>3</th>\n",
              "      <td>33241</td>\n",
              "      <td>city_115</td>\n",
              "      <td>0.789</td>\n",
              "      <td>NaN</td>\n",
              "      <td>No relevent experience</td>\n",
              "      <td>NaN</td>\n",
              "      <td>Graduate</td>\n",
              "      <td>Business Degree</td>\n",
              "      <td>&lt;1</td>\n",
              "      <td>NaN</td>\n",
              "      <td>Pvt Ltd</td>\n",
              "      <td>never</td>\n",
              "      <td>52</td>\n",
              "      <td>1.0</td>\n",
              "    </tr>\n",
              "    <tr>\n",
              "      <th>4</th>\n",
              "      <td>666</td>\n",
              "      <td>city_162</td>\n",
              "      <td>0.767</td>\n",
              "      <td>Male</td>\n",
              "      <td>Has relevent experience</td>\n",
              "      <td>no_enrollment</td>\n",
              "      <td>Masters</td>\n",
              "      <td>STEM</td>\n",
              "      <td>&gt;20</td>\n",
              "      <td>50-99</td>\n",
              "      <td>Funded Startup</td>\n",
              "      <td>4</td>\n",
              "      <td>8</td>\n",
              "      <td>0.0</td>\n",
              "    </tr>\n",
              "  </tbody>\n",
              "</table>\n",
              "</div>"
            ],
            "text/plain": [
              "   enrollee_id      city  ...  training_hours target\n",
              "0         8949  city_103  ...              36    1.0\n",
              "1        29725   city_40  ...              47    0.0\n",
              "2        11561   city_21  ...              83    0.0\n",
              "3        33241  city_115  ...              52    1.0\n",
              "4          666  city_162  ...               8    0.0\n",
              "\n",
              "[5 rows x 14 columns]"
            ]
          },
          "metadata": {
            "tags": []
          },
          "execution_count": 2
        }
      ]
    },
    {
      "cell_type": "code",
      "metadata": {
        "id": "iJXbyeR9Tn3S",
        "colab": {
          "base_uri": "https://localhost:8080/"
        },
        "outputId": "459430ea-6488-42da-ea98-e0d5ae3688d8"
      },
      "source": [
        "df_train.info()"
      ],
      "execution_count": null,
      "outputs": [
        {
          "output_type": "stream",
          "text": [
            "<class 'pandas.core.frame.DataFrame'>\n",
            "RangeIndex: 19158 entries, 0 to 19157\n",
            "Data columns (total 14 columns):\n",
            " #   Column                  Non-Null Count  Dtype  \n",
            "---  ------                  --------------  -----  \n",
            " 0   enrollee_id             19158 non-null  int64  \n",
            " 1   city                    19158 non-null  object \n",
            " 2   city_development_index  19158 non-null  float64\n",
            " 3   gender                  14650 non-null  object \n",
            " 4   relevent_experience     19158 non-null  object \n",
            " 5   enrolled_university     18772 non-null  object \n",
            " 6   education_level         18698 non-null  object \n",
            " 7   major_discipline        16345 non-null  object \n",
            " 8   experience              19093 non-null  object \n",
            " 9   company_size            13220 non-null  object \n",
            " 10  company_type            13018 non-null  object \n",
            " 11  last_new_job            18735 non-null  object \n",
            " 12  training_hours          19158 non-null  int64  \n",
            " 13  target                  19158 non-null  float64\n",
            "dtypes: float64(2), int64(2), object(10)\n",
            "memory usage: 2.0+ MB\n"
          ],
          "name": "stdout"
        }
      ]
    },
    {
      "cell_type": "code",
      "metadata": {
        "id": "PeqSIbbUWD-S",
        "colab": {
          "base_uri": "https://localhost:8080/"
        },
        "outputId": "06e15a7a-2468-45df-a2c2-66608a415e6c"
      },
      "source": [
        "# We won't delete any whole columns since more than 75% of the data is available for each column\n",
        "df_train.isnull().sum()"
      ],
      "execution_count": null,
      "outputs": [
        {
          "output_type": "execute_result",
          "data": {
            "text/plain": [
              "enrollee_id                  0\n",
              "city                         0\n",
              "city_development_index       0\n",
              "gender                    4508\n",
              "relevent_experience          0\n",
              "enrolled_university        386\n",
              "education_level            460\n",
              "major_discipline          2813\n",
              "experience                  65\n",
              "company_size              5938\n",
              "company_type              6140\n",
              "last_new_job               423\n",
              "training_hours               0\n",
              "target                       0\n",
              "dtype: int64"
            ]
          },
          "metadata": {
            "tags": []
          },
          "execution_count": 4
        }
      ]
    },
    {
      "cell_type": "code",
      "metadata": {
        "id": "x1VND8UJXeA1",
        "colab": {
          "base_uri": "https://localhost:8080/"
        },
        "outputId": "85225cad-c50d-4ca5-83df-9016fcb57595"
      },
      "source": [
        "df_train.shape"
      ],
      "execution_count": null,
      "outputs": [
        {
          "output_type": "execute_result",
          "data": {
            "text/plain": [
              "(19158, 14)"
            ]
          },
          "metadata": {
            "tags": []
          },
          "execution_count": 5
        }
      ]
    },
    {
      "cell_type": "code",
      "metadata": {
        "id": "ZqGJyediY7Ta",
        "colab": {
          "base_uri": "https://localhost:8080/"
        },
        "outputId": "60d7e084-3147-40da-ec32-60391b86ace5"
      },
      "source": [
        "#Scanning for anomalies \n",
        "\n",
        "df_train[\"enrollee_id\"].unique()\n",
        "df_train[\"city\"].unique()\n",
        "df_train[\"city_development_index\"].unique()\n",
        "df_train[\"gender\"].unique()\n",
        "df_train[\"relevent_experience\"].unique()\n",
        "df_train[\"enrolled_university\"].unique()\n",
        "#df_train[\"enrolled_university\"].mode()\n",
        "#df_train[\"education_level\"].unique()\n",
        "#df_train[\"major_discipline\"].unique()\n",
        "#df_train[\"experience\"].unique()\n",
        "#df_train[\"company_size\"].unique()\n",
        "#df_train[\"company_type\"].unique()\n",
        "#df_train[\"last_new_job\"].unique()\n",
        "#df_train[\"training_hours\"].unique()\n",
        "#df_train[\"target\"].unique()\n",
        "\n"
      ],
      "execution_count": null,
      "outputs": [
        {
          "output_type": "execute_result",
          "data": {
            "text/plain": [
              "array(['no_enrollment', 'Full time course', nan, 'Part time course'],\n",
              "      dtype=object)"
            ]
          },
          "metadata": {
            "tags": []
          },
          "execution_count": 6
        }
      ]
    },
    {
      "cell_type": "code",
      "metadata": {
        "id": "cjtGRmswY7YE"
      },
      "source": [
        "#Note: All columns with integer and float values do not have NULL values"
      ],
      "execution_count": null,
      "outputs": []
    },
    {
      "cell_type": "markdown",
      "metadata": {
        "id": "jj04n0O6f0Fm"
      },
      "source": [
        "# **Data Cleaning**"
      ]
    },
    {
      "cell_type": "code",
      "metadata": {
        "id": "to4u5fPWfOMJ",
        "colab": {
          "base_uri": "https://localhost:8080/"
        },
        "outputId": "8b7e2bba-3b4a-4e24-a6d6-6ed469396133"
      },
      "source": [
        "df_train.isnull().sum()"
      ],
      "execution_count": null,
      "outputs": [
        {
          "output_type": "execute_result",
          "data": {
            "text/plain": [
              "enrollee_id                  0\n",
              "city                         0\n",
              "city_development_index       0\n",
              "gender                    4508\n",
              "relevent_experience          0\n",
              "enrolled_university        386\n",
              "education_level            460\n",
              "major_discipline          2813\n",
              "experience                  65\n",
              "company_size              5938\n",
              "company_type              6140\n",
              "last_new_job               423\n",
              "training_hours               0\n",
              "target                       0\n",
              "dtype: int64"
            ]
          },
          "metadata": {
            "tags": []
          },
          "execution_count": 8
        }
      ]
    },
    {
      "cell_type": "markdown",
      "metadata": {
        "id": "KtEYppxAgFws"
      },
      "source": [
        "We have a total of 8 columns with missing data. \n",
        "\n",
        "The rows of 4 columns can be simply removed since there are very few nan values (enrolled_university, education_level, experience, last_new_job"
      ]
    },
    {
      "cell_type": "code",
      "metadata": {
        "id": "8sbqtxgsgby8"
      },
      "source": [
        "df_train = df_train.dropna(axis=0, subset=['enrolled_university'])\n",
        "df_train = df_train.dropna(axis=0, subset=['education_level'])\n",
        "df_train = df_train.dropna(axis=0, subset=['experience'])\n",
        "df_train = df_train.dropna(axis=0, subset=['last_new_job'])\n"
      ],
      "execution_count": null,
      "outputs": []
    },
    {
      "cell_type": "code",
      "metadata": {
        "id": "uxK-X7s3uWDr",
        "colab": {
          "base_uri": "https://localhost:8080/"
        },
        "outputId": "b13736da-174d-4205-8f0a-2952c6fcc12f"
      },
      "source": [
        "#Some columns have categorical data in only a few columns. This needs adjustment as well\n",
        "df_train[\"experience\"].unique()"
      ],
      "execution_count": null,
      "outputs": [
        {
          "output_type": "execute_result",
          "data": {
            "text/plain": [
              "array(['>20', '15', '5', '11', '13', '7', '17', '2', '16', '1', '4', '10',\n",
              "       '<1', '14', '18', '19', '12', '6', '9', '3', '8', '20'],\n",
              "      dtype=object)"
            ]
          },
          "metadata": {
            "tags": []
          },
          "execution_count": 10
        }
      ]
    },
    {
      "cell_type": "markdown",
      "metadata": {
        "id": "95wBaC7DhuFY"
      },
      "source": [
        "We will deal with the remaining columns and their null values individually"
      ]
    },
    {
      "cell_type": "code",
      "metadata": {
        "id": "7GMUK4Wj69Se"
      },
      "source": [
        "#dealing with the remaining missing values\n",
        "\n",
        "\n",
        "#Replaced missing gender with undefined\n",
        "df_train['gender'] = df_train['gender'].replace(np.nan, \"Undefined\")\n",
        "\n",
        "df_train.gender.isna().sum()\n",
        "\n",
        "\n",
        "#Replaced these with mode\n",
        "df_train['major_discipline'] = df_train['major_discipline'].replace(np.nan, \"STEM\")\n",
        "\n",
        "df_train.major_discipline.isna().sum()\n",
        "\n",
        "df_train['company_type'] = df_train['company_type'].replace(np.nan, 'Pvt Ltd')\n",
        "\n",
        "df_train.company_type.isna().sum()\n",
        "\n",
        "\n",
        "#For the experience column, first we will convert it from categorical to numerical\n",
        "df_train.experience.replace('>20',22,inplace=True)\n",
        "\n",
        "\n",
        "df_train.experience.replace('<1',0,inplace=True)\n",
        "\n",
        "df_train.experience=pd.to_numeric(df_train.experience)\n",
        "\n",
        "#After this we will convert the column to three different classes\n",
        "df_train.experience=np.where(df_train.experience >=10,'Highly-experienced', np.where(df_train.experience >=4,'Intermediate-experienced' ,'In-experienced/Low-experience'))\n",
        "\n",
        "set(df_train.experience)\n",
        "\n",
        "#For the relevent_experience column, we will convert the values to 1 and 0 to be used later for training\n",
        "set(df_train.relevent_experience)\n",
        "df_train.relevent_experience.replace(['Has relevent experience', 'No relevent experience'],[1,0],inplace=True)\n",
        "\n",
        "set(df_train.relevent_experience)\n",
        "\n",
        "\n",
        "#Last new job column: since we have dropped the null values, we will now convert it to a numerical column\n",
        "df_train.last_new_job.replace('>4','5',inplace=True)\n",
        "\n",
        "df_train.last_new_job.replace('never','0',inplace=True)\n",
        "\n",
        "set(df_train.last_new_job) \n",
        "df_train.last_new_job=pd.to_numeric(df_train.last_new_job)\n",
        "\n",
        "set(df_train.last_new_job)\n",
        "\n",
        "\n",
        "#company_size column: following the same logic as experience column\n",
        "df_train.company_size.replace('<10','Small',inplace=True)\n",
        "\n",
        "\n",
        "df_train.company_size.replace('10/49','Small',inplace=True)\n",
        "\n",
        "\n",
        "df_train.company_size.replace('50-99','Small',inplace=True)\n",
        "\n",
        "\n",
        "df_train.company_size.replace('100-500','Small',inplace=True)\n",
        "\n",
        "\n",
        "df_train.company_size.replace('500-999','Medium',inplace=True)\n",
        "\n",
        "\n",
        "df_train.company_size.replace('1000-4999',\"Medium\",inplace=True)\n",
        "\n",
        "\n",
        "df_train.company_size.replace('5000-9999','Large',inplace=True)\n",
        "\n",
        "\n",
        "df_train.company_size.replace('10000+','Large',inplace=True)\n",
        "\n",
        "df_train[\"company_size\"]=df_train[\"company_size\"].replace(np.nan, \"undefined\")\n",
        "\n",
        "df_train=df_train.rename(columns={'target': 'looking_for_job'})\n",
        "\n",
        "\n",
        "\n"
      ],
      "execution_count": null,
      "outputs": []
    },
    {
      "cell_type": "code",
      "metadata": {
        "id": "nXZ3d1S6DfbR",
        "colab": {
          "base_uri": "https://localhost:8080/"
        },
        "outputId": "65edeecf-ba0b-4866-badd-5f0eab09cbf9"
      },
      "source": [
        "df_train.isnull().sum()"
      ],
      "execution_count": null,
      "outputs": [
        {
          "output_type": "execute_result",
          "data": {
            "text/plain": [
              "enrollee_id               0\n",
              "city                      0\n",
              "city_development_index    0\n",
              "gender                    0\n",
              "relevent_experience       0\n",
              "enrolled_university       0\n",
              "education_level           0\n",
              "major_discipline          0\n",
              "experience                0\n",
              "company_size              0\n",
              "company_type              0\n",
              "last_new_job              0\n",
              "training_hours            0\n",
              "looking_for_job           0\n",
              "dtype: int64"
            ]
          },
          "metadata": {
            "tags": []
          },
          "execution_count": 12
        }
      ]
    },
    {
      "cell_type": "markdown",
      "metadata": {
        "id": "qz9W71KoofOG"
      },
      "source": [
        "# **Data Visualisation**"
      ]
    },
    {
      "cell_type": "code",
      "metadata": {
        "id": "IPu9Cc62wP_j",
        "colab": {
          "base_uri": "https://localhost:8080/",
          "height": 542
        },
        "outputId": "63f14030-84ca-445f-f2c2-997fbe64662d"
      },
      "source": [
        "import plotly.graph_objects as go\n",
        "fig = go.Figure(\n",
        "    data=go.Bar(x = [\"Male\",\"Female\",\"Other\",\"undefined\"],y=list(df_train.gender.value_counts())),\n",
        ")\n",
        "fig.update_layout(\n",
        "    xaxis_title=\"Gender\",\n",
        "    yaxis_title=\"Number of employees\",)\n",
        "fig.update_layout(\n",
        "    title={\n",
        "        'text':\"Gender of employees\",\n",
        "        'y':0.9,\n",
        "        'x':0.5,\n",
        "        'xanchor': 'center',\n",
        "        'yanchor': 'top'})\n",
        "fig.show()"
      ],
      "execution_count": null,
      "outputs": [
        {
          "output_type": "display_data",
          "data": {
            "text/html": [
              "<html>\n",
              "<head><meta charset=\"utf-8\" /></head>\n",
              "<body>\n",
              "    <div>\n",
              "            <script src=\"https://cdnjs.cloudflare.com/ajax/libs/mathjax/2.7.5/MathJax.js?config=TeX-AMS-MML_SVG\"></script><script type=\"text/javascript\">if (window.MathJax) {MathJax.Hub.Config({SVG: {font: \"STIX-Web\"}});}</script>\n",
              "                <script type=\"text/javascript\">window.PlotlyConfig = {MathJaxConfig: 'local'};</script>\n",
              "        <script src=\"https://cdn.plot.ly/plotly-latest.min.js\"></script>    \n",
              "            <div id=\"0e04b97c-47fa-4e69-9e73-f26b8ae14f34\" class=\"plotly-graph-div\" style=\"height:525px; width:100%;\"></div>\n",
              "            <script type=\"text/javascript\">\n",
              "                \n",
              "                    window.PLOTLYENV=window.PLOTLYENV || {};\n",
              "                    \n",
              "                if (document.getElementById(\"0e04b97c-47fa-4e69-9e73-f26b8ae14f34\")) {\n",
              "                    Plotly.newPlot(\n",
              "                        '0e04b97c-47fa-4e69-9e73-f26b8ae14f34',\n",
              "                        [{\"type\": \"bar\", \"x\": [\"Male\", \"Female\", \"Other\", \"undefined\"], \"y\": [12772, 3863, 1206, 173]}],\n",
              "                        {\"template\": {\"data\": {\"bar\": [{\"error_x\": {\"color\": \"#2a3f5f\"}, \"error_y\": {\"color\": \"#2a3f5f\"}, \"marker\": {\"line\": {\"color\": \"#E5ECF6\", \"width\": 0.5}}, \"type\": \"bar\"}], \"barpolar\": [{\"marker\": {\"line\": {\"color\": \"#E5ECF6\", \"width\": 0.5}}, \"type\": \"barpolar\"}], \"carpet\": [{\"aaxis\": {\"endlinecolor\": \"#2a3f5f\", \"gridcolor\": \"white\", \"linecolor\": \"white\", \"minorgridcolor\": \"white\", \"startlinecolor\": \"#2a3f5f\"}, \"baxis\": {\"endlinecolor\": \"#2a3f5f\", \"gridcolor\": \"white\", \"linecolor\": \"white\", \"minorgridcolor\": \"white\", \"startlinecolor\": \"#2a3f5f\"}, \"type\": \"carpet\"}], \"choropleth\": [{\"colorbar\": {\"outlinewidth\": 0, \"ticks\": \"\"}, \"type\": \"choropleth\"}], \"contour\": [{\"colorbar\": {\"outlinewidth\": 0, \"ticks\": \"\"}, \"colorscale\": [[0.0, \"#0d0887\"], [0.1111111111111111, \"#46039f\"], [0.2222222222222222, \"#7201a8\"], [0.3333333333333333, \"#9c179e\"], [0.4444444444444444, \"#bd3786\"], [0.5555555555555556, \"#d8576b\"], [0.6666666666666666, \"#ed7953\"], [0.7777777777777778, \"#fb9f3a\"], [0.8888888888888888, \"#fdca26\"], [1.0, \"#f0f921\"]], \"type\": \"contour\"}], \"contourcarpet\": [{\"colorbar\": {\"outlinewidth\": 0, \"ticks\": \"\"}, \"type\": \"contourcarpet\"}], \"heatmap\": [{\"colorbar\": {\"outlinewidth\": 0, \"ticks\": \"\"}, \"colorscale\": [[0.0, \"#0d0887\"], [0.1111111111111111, \"#46039f\"], [0.2222222222222222, \"#7201a8\"], [0.3333333333333333, \"#9c179e\"], [0.4444444444444444, \"#bd3786\"], [0.5555555555555556, \"#d8576b\"], [0.6666666666666666, \"#ed7953\"], [0.7777777777777778, \"#fb9f3a\"], [0.8888888888888888, \"#fdca26\"], [1.0, \"#f0f921\"]], \"type\": \"heatmap\"}], \"heatmapgl\": [{\"colorbar\": {\"outlinewidth\": 0, \"ticks\": \"\"}, \"colorscale\": [[0.0, \"#0d0887\"], [0.1111111111111111, \"#46039f\"], [0.2222222222222222, \"#7201a8\"], [0.3333333333333333, \"#9c179e\"], [0.4444444444444444, \"#bd3786\"], [0.5555555555555556, \"#d8576b\"], [0.6666666666666666, \"#ed7953\"], [0.7777777777777778, \"#fb9f3a\"], [0.8888888888888888, \"#fdca26\"], [1.0, \"#f0f921\"]], \"type\": \"heatmapgl\"}], \"histogram\": [{\"marker\": {\"colorbar\": {\"outlinewidth\": 0, \"ticks\": \"\"}}, \"type\": \"histogram\"}], \"histogram2d\": [{\"colorbar\": {\"outlinewidth\": 0, \"ticks\": \"\"}, \"colorscale\": [[0.0, \"#0d0887\"], [0.1111111111111111, \"#46039f\"], [0.2222222222222222, \"#7201a8\"], [0.3333333333333333, \"#9c179e\"], [0.4444444444444444, \"#bd3786\"], [0.5555555555555556, \"#d8576b\"], [0.6666666666666666, \"#ed7953\"], [0.7777777777777778, \"#fb9f3a\"], [0.8888888888888888, \"#fdca26\"], [1.0, \"#f0f921\"]], \"type\": \"histogram2d\"}], \"histogram2dcontour\": [{\"colorbar\": {\"outlinewidth\": 0, \"ticks\": \"\"}, \"colorscale\": [[0.0, \"#0d0887\"], [0.1111111111111111, \"#46039f\"], [0.2222222222222222, \"#7201a8\"], [0.3333333333333333, \"#9c179e\"], [0.4444444444444444, \"#bd3786\"], [0.5555555555555556, \"#d8576b\"], [0.6666666666666666, \"#ed7953\"], [0.7777777777777778, \"#fb9f3a\"], [0.8888888888888888, \"#fdca26\"], [1.0, \"#f0f921\"]], \"type\": \"histogram2dcontour\"}], \"mesh3d\": [{\"colorbar\": {\"outlinewidth\": 0, \"ticks\": \"\"}, \"type\": \"mesh3d\"}], \"parcoords\": [{\"line\": {\"colorbar\": {\"outlinewidth\": 0, \"ticks\": \"\"}}, \"type\": \"parcoords\"}], \"pie\": [{\"automargin\": true, \"type\": \"pie\"}], \"scatter\": [{\"marker\": {\"colorbar\": {\"outlinewidth\": 0, \"ticks\": \"\"}}, \"type\": \"scatter\"}], \"scatter3d\": [{\"line\": {\"colorbar\": {\"outlinewidth\": 0, \"ticks\": \"\"}}, \"marker\": {\"colorbar\": {\"outlinewidth\": 0, \"ticks\": \"\"}}, \"type\": \"scatter3d\"}], \"scattercarpet\": [{\"marker\": {\"colorbar\": {\"outlinewidth\": 0, \"ticks\": \"\"}}, \"type\": \"scattercarpet\"}], \"scattergeo\": [{\"marker\": {\"colorbar\": {\"outlinewidth\": 0, \"ticks\": \"\"}}, \"type\": \"scattergeo\"}], \"scattergl\": [{\"marker\": {\"colorbar\": {\"outlinewidth\": 0, \"ticks\": \"\"}}, \"type\": \"scattergl\"}], \"scattermapbox\": [{\"marker\": {\"colorbar\": {\"outlinewidth\": 0, \"ticks\": \"\"}}, \"type\": \"scattermapbox\"}], \"scatterpolar\": [{\"marker\": {\"colorbar\": {\"outlinewidth\": 0, \"ticks\": \"\"}}, \"type\": \"scatterpolar\"}], \"scatterpolargl\": [{\"marker\": {\"colorbar\": {\"outlinewidth\": 0, \"ticks\": \"\"}}, \"type\": \"scatterpolargl\"}], \"scatterternary\": [{\"marker\": {\"colorbar\": {\"outlinewidth\": 0, \"ticks\": \"\"}}, \"type\": \"scatterternary\"}], \"surface\": [{\"colorbar\": {\"outlinewidth\": 0, \"ticks\": \"\"}, \"colorscale\": [[0.0, \"#0d0887\"], [0.1111111111111111, \"#46039f\"], [0.2222222222222222, \"#7201a8\"], [0.3333333333333333, \"#9c179e\"], [0.4444444444444444, \"#bd3786\"], [0.5555555555555556, \"#d8576b\"], [0.6666666666666666, \"#ed7953\"], [0.7777777777777778, \"#fb9f3a\"], [0.8888888888888888, \"#fdca26\"], [1.0, \"#f0f921\"]], \"type\": \"surface\"}], \"table\": [{\"cells\": {\"fill\": {\"color\": \"#EBF0F8\"}, \"line\": {\"color\": \"white\"}}, \"header\": {\"fill\": {\"color\": \"#C8D4E3\"}, \"line\": {\"color\": \"white\"}}, \"type\": \"table\"}]}, \"layout\": {\"annotationdefaults\": {\"arrowcolor\": \"#2a3f5f\", \"arrowhead\": 0, \"arrowwidth\": 1}, \"coloraxis\": {\"colorbar\": {\"outlinewidth\": 0, \"ticks\": \"\"}}, \"colorscale\": {\"diverging\": [[0, \"#8e0152\"], [0.1, \"#c51b7d\"], [0.2, \"#de77ae\"], [0.3, \"#f1b6da\"], [0.4, \"#fde0ef\"], [0.5, \"#f7f7f7\"], [0.6, \"#e6f5d0\"], [0.7, \"#b8e186\"], [0.8, \"#7fbc41\"], [0.9, \"#4d9221\"], [1, \"#276419\"]], \"sequential\": [[0.0, \"#0d0887\"], [0.1111111111111111, \"#46039f\"], [0.2222222222222222, \"#7201a8\"], [0.3333333333333333, \"#9c179e\"], [0.4444444444444444, \"#bd3786\"], [0.5555555555555556, \"#d8576b\"], [0.6666666666666666, \"#ed7953\"], [0.7777777777777778, \"#fb9f3a\"], [0.8888888888888888, \"#fdca26\"], [1.0, \"#f0f921\"]], \"sequentialminus\": [[0.0, \"#0d0887\"], [0.1111111111111111, \"#46039f\"], [0.2222222222222222, \"#7201a8\"], [0.3333333333333333, \"#9c179e\"], [0.4444444444444444, \"#bd3786\"], [0.5555555555555556, \"#d8576b\"], [0.6666666666666666, \"#ed7953\"], [0.7777777777777778, \"#fb9f3a\"], [0.8888888888888888, \"#fdca26\"], [1.0, \"#f0f921\"]]}, \"colorway\": [\"#636efa\", \"#EF553B\", \"#00cc96\", \"#ab63fa\", \"#FFA15A\", \"#19d3f3\", \"#FF6692\", \"#B6E880\", \"#FF97FF\", \"#FECB52\"], \"font\": {\"color\": \"#2a3f5f\"}, \"geo\": {\"bgcolor\": \"white\", \"lakecolor\": \"white\", \"landcolor\": \"#E5ECF6\", \"showlakes\": true, \"showland\": true, \"subunitcolor\": \"white\"}, \"hoverlabel\": {\"align\": \"left\"}, \"hovermode\": \"closest\", \"mapbox\": {\"style\": \"light\"}, \"paper_bgcolor\": \"white\", \"plot_bgcolor\": \"#E5ECF6\", \"polar\": {\"angularaxis\": {\"gridcolor\": \"white\", \"linecolor\": \"white\", \"ticks\": \"\"}, \"bgcolor\": \"#E5ECF6\", \"radialaxis\": {\"gridcolor\": \"white\", \"linecolor\": \"white\", \"ticks\": \"\"}}, \"scene\": {\"xaxis\": {\"backgroundcolor\": \"#E5ECF6\", \"gridcolor\": \"white\", \"gridwidth\": 2, \"linecolor\": \"white\", \"showbackground\": true, \"ticks\": \"\", \"zerolinecolor\": \"white\"}, \"yaxis\": {\"backgroundcolor\": \"#E5ECF6\", \"gridcolor\": \"white\", \"gridwidth\": 2, \"linecolor\": \"white\", \"showbackground\": true, \"ticks\": \"\", \"zerolinecolor\": \"white\"}, \"zaxis\": {\"backgroundcolor\": \"#E5ECF6\", \"gridcolor\": \"white\", \"gridwidth\": 2, \"linecolor\": \"white\", \"showbackground\": true, \"ticks\": \"\", \"zerolinecolor\": \"white\"}}, \"shapedefaults\": {\"line\": {\"color\": \"#2a3f5f\"}}, \"ternary\": {\"aaxis\": {\"gridcolor\": \"white\", \"linecolor\": \"white\", \"ticks\": \"\"}, \"baxis\": {\"gridcolor\": \"white\", \"linecolor\": \"white\", \"ticks\": \"\"}, \"bgcolor\": \"#E5ECF6\", \"caxis\": {\"gridcolor\": \"white\", \"linecolor\": \"white\", \"ticks\": \"\"}}, \"title\": {\"x\": 0.05}, \"xaxis\": {\"automargin\": true, \"gridcolor\": \"white\", \"linecolor\": \"white\", \"ticks\": \"\", \"title\": {\"standoff\": 15}, \"zerolinecolor\": \"white\", \"zerolinewidth\": 2}, \"yaxis\": {\"automargin\": true, \"gridcolor\": \"white\", \"linecolor\": \"white\", \"ticks\": \"\", \"title\": {\"standoff\": 15}, \"zerolinecolor\": \"white\", \"zerolinewidth\": 2}}}, \"title\": {\"text\": \"Gender of employees\", \"x\": 0.5, \"xanchor\": \"center\", \"y\": 0.9, \"yanchor\": \"top\"}, \"xaxis\": {\"title\": {\"text\": \"Gender\"}}, \"yaxis\": {\"title\": {\"text\": \"Number of employees\"}}},\n",
              "                        {\"responsive\": true}\n",
              "                    ).then(function(){\n",
              "                            \n",
              "var gd = document.getElementById('0e04b97c-47fa-4e69-9e73-f26b8ae14f34');\n",
              "var x = new MutationObserver(function (mutations, observer) {{\n",
              "        var display = window.getComputedStyle(gd).display;\n",
              "        if (!display || display === 'none') {{\n",
              "            console.log([gd, 'removed!']);\n",
              "            Plotly.purge(gd);\n",
              "            observer.disconnect();\n",
              "        }}\n",
              "}});\n",
              "\n",
              "// Listen for the removal of the full notebook cells\n",
              "var notebookContainer = gd.closest('#notebook-container');\n",
              "if (notebookContainer) {{\n",
              "    x.observe(notebookContainer, {childList: true});\n",
              "}}\n",
              "\n",
              "// Listen for the clearing of the current output cell\n",
              "var outputEl = gd.closest('.output');\n",
              "if (outputEl) {{\n",
              "    x.observe(outputEl, {childList: true});\n",
              "}}\n",
              "\n",
              "                        })\n",
              "                };\n",
              "                \n",
              "            </script>\n",
              "        </div>\n",
              "</body>\n",
              "</html>"
            ]
          },
          "metadata": {
            "tags": []
          }
        }
      ]
    },
    {
      "cell_type": "code",
      "metadata": {
        "id": "ZDfHmerTzWTj",
        "colab": {
          "base_uri": "https://localhost:8080/"
        },
        "outputId": "31909144-0eb1-4610-8b76-b0adc79de817"
      },
      "source": [
        " company_types =dict(df_train.company_type.value_counts())\n",
        " company_types.keys()"
      ],
      "execution_count": null,
      "outputs": [
        {
          "output_type": "execute_result",
          "data": {
            "text/plain": [
              "dict_keys(['Pvt Ltd', 'Funded Startup', 'Public Sector', 'Early Stage Startup', 'NGO', 'Other'])"
            ]
          },
          "metadata": {
            "tags": []
          },
          "execution_count": 14
        }
      ]
    },
    {
      "cell_type": "code",
      "metadata": {
        "id": "px3MMlYh2ZT6"
      },
      "source": [
        "import plotly.express as px"
      ],
      "execution_count": null,
      "outputs": []
    },
    {
      "cell_type": "code",
      "metadata": {
        "id": "nFuaV6gZ2yww",
        "colab": {
          "base_uri": "https://localhost:8080/",
          "height": 542
        },
        "outputId": "06cf29b6-d66c-435e-e9a7-dde94a629c96"
      },
      "source": [
        "\n",
        "fig2 = go.Figure()\n",
        "fig2.add_trace(go.Bar(y=df_train.company_type.value_counts(),\n",
        "                      x = ['Pvt Ltd', 'Funded Startup', 'Public Sector', 'Early Stage Startup', 'NGO', 'Other'])\n",
        ")\n",
        "fig2.update_layout(\n",
        "    xaxis_title=\"company_type\",\n",
        "    yaxis_title=\"Number of employees\",)\n",
        "fig2.update_layout(\n",
        "    title={\n",
        "        'text':\"Number of employees by company type\",\n",
        "        'y':0.9,\n",
        "        'x':0.5,\n",
        "        'xanchor': 'center',\n",
        "        'yanchor': 'top'})\n",
        "fig2.show()"
      ],
      "execution_count": null,
      "outputs": [
        {
          "output_type": "display_data",
          "data": {
            "text/html": [
              "<html>\n",
              "<head><meta charset=\"utf-8\" /></head>\n",
              "<body>\n",
              "    <div>\n",
              "            <script src=\"https://cdnjs.cloudflare.com/ajax/libs/mathjax/2.7.5/MathJax.js?config=TeX-AMS-MML_SVG\"></script><script type=\"text/javascript\">if (window.MathJax) {MathJax.Hub.Config({SVG: {font: \"STIX-Web\"}});}</script>\n",
              "                <script type=\"text/javascript\">window.PlotlyConfig = {MathJaxConfig: 'local'};</script>\n",
              "        <script src=\"https://cdn.plot.ly/plotly-latest.min.js\"></script>    \n",
              "            <div id=\"5a520a59-7dca-4c80-81e8-08f2cca7f450\" class=\"plotly-graph-div\" style=\"height:525px; width:100%;\"></div>\n",
              "            <script type=\"text/javascript\">\n",
              "                \n",
              "                    window.PLOTLYENV=window.PLOTLYENV || {};\n",
              "                    \n",
              "                if (document.getElementById(\"5a520a59-7dca-4c80-81e8-08f2cca7f450\")) {\n",
              "                    Plotly.newPlot(\n",
              "                        '5a520a59-7dca-4c80-81e8-08f2cca7f450',\n",
              "                        [{\"type\": \"bar\", \"x\": [\"Pvt Ltd\", \"Funded Startup\", \"Public Sector\", \"Early Stage Startup\", \"NGO\", \"Other\"], \"y\": [14951, 975, 912, 562, 500, 114]}],\n",
              "                        {\"template\": {\"data\": {\"bar\": [{\"error_x\": {\"color\": \"#2a3f5f\"}, \"error_y\": {\"color\": \"#2a3f5f\"}, \"marker\": {\"line\": {\"color\": \"#E5ECF6\", \"width\": 0.5}}, \"type\": \"bar\"}], \"barpolar\": [{\"marker\": {\"line\": {\"color\": \"#E5ECF6\", \"width\": 0.5}}, \"type\": \"barpolar\"}], \"carpet\": [{\"aaxis\": {\"endlinecolor\": \"#2a3f5f\", \"gridcolor\": \"white\", \"linecolor\": \"white\", \"minorgridcolor\": \"white\", \"startlinecolor\": \"#2a3f5f\"}, \"baxis\": {\"endlinecolor\": \"#2a3f5f\", \"gridcolor\": \"white\", \"linecolor\": \"white\", \"minorgridcolor\": \"white\", \"startlinecolor\": \"#2a3f5f\"}, \"type\": \"carpet\"}], \"choropleth\": [{\"colorbar\": {\"outlinewidth\": 0, \"ticks\": \"\"}, \"type\": \"choropleth\"}], \"contour\": [{\"colorbar\": {\"outlinewidth\": 0, \"ticks\": \"\"}, \"colorscale\": [[0.0, \"#0d0887\"], [0.1111111111111111, \"#46039f\"], [0.2222222222222222, \"#7201a8\"], [0.3333333333333333, \"#9c179e\"], [0.4444444444444444, \"#bd3786\"], [0.5555555555555556, \"#d8576b\"], [0.6666666666666666, \"#ed7953\"], [0.7777777777777778, \"#fb9f3a\"], [0.8888888888888888, \"#fdca26\"], [1.0, \"#f0f921\"]], \"type\": \"contour\"}], \"contourcarpet\": [{\"colorbar\": {\"outlinewidth\": 0, \"ticks\": \"\"}, \"type\": \"contourcarpet\"}], \"heatmap\": [{\"colorbar\": {\"outlinewidth\": 0, \"ticks\": \"\"}, \"colorscale\": [[0.0, \"#0d0887\"], [0.1111111111111111, \"#46039f\"], [0.2222222222222222, \"#7201a8\"], [0.3333333333333333, \"#9c179e\"], [0.4444444444444444, \"#bd3786\"], [0.5555555555555556, \"#d8576b\"], [0.6666666666666666, \"#ed7953\"], [0.7777777777777778, \"#fb9f3a\"], [0.8888888888888888, \"#fdca26\"], [1.0, \"#f0f921\"]], \"type\": \"heatmap\"}], \"heatmapgl\": [{\"colorbar\": {\"outlinewidth\": 0, \"ticks\": \"\"}, \"colorscale\": [[0.0, \"#0d0887\"], [0.1111111111111111, \"#46039f\"], [0.2222222222222222, \"#7201a8\"], [0.3333333333333333, \"#9c179e\"], [0.4444444444444444, \"#bd3786\"], [0.5555555555555556, \"#d8576b\"], [0.6666666666666666, \"#ed7953\"], [0.7777777777777778, \"#fb9f3a\"], [0.8888888888888888, \"#fdca26\"], [1.0, \"#f0f921\"]], \"type\": \"heatmapgl\"}], \"histogram\": [{\"marker\": {\"colorbar\": {\"outlinewidth\": 0, \"ticks\": \"\"}}, \"type\": \"histogram\"}], \"histogram2d\": [{\"colorbar\": {\"outlinewidth\": 0, \"ticks\": \"\"}, \"colorscale\": [[0.0, \"#0d0887\"], [0.1111111111111111, \"#46039f\"], [0.2222222222222222, \"#7201a8\"], [0.3333333333333333, \"#9c179e\"], [0.4444444444444444, \"#bd3786\"], [0.5555555555555556, \"#d8576b\"], [0.6666666666666666, \"#ed7953\"], [0.7777777777777778, \"#fb9f3a\"], [0.8888888888888888, \"#fdca26\"], [1.0, \"#f0f921\"]], \"type\": \"histogram2d\"}], \"histogram2dcontour\": [{\"colorbar\": {\"outlinewidth\": 0, \"ticks\": \"\"}, \"colorscale\": [[0.0, \"#0d0887\"], [0.1111111111111111, \"#46039f\"], [0.2222222222222222, \"#7201a8\"], [0.3333333333333333, \"#9c179e\"], [0.4444444444444444, \"#bd3786\"], [0.5555555555555556, \"#d8576b\"], [0.6666666666666666, \"#ed7953\"], [0.7777777777777778, \"#fb9f3a\"], [0.8888888888888888, \"#fdca26\"], [1.0, \"#f0f921\"]], \"type\": \"histogram2dcontour\"}], \"mesh3d\": [{\"colorbar\": {\"outlinewidth\": 0, \"ticks\": \"\"}, \"type\": \"mesh3d\"}], \"parcoords\": [{\"line\": {\"colorbar\": {\"outlinewidth\": 0, \"ticks\": \"\"}}, \"type\": \"parcoords\"}], \"pie\": [{\"automargin\": true, \"type\": \"pie\"}], \"scatter\": [{\"marker\": {\"colorbar\": {\"outlinewidth\": 0, \"ticks\": \"\"}}, \"type\": \"scatter\"}], \"scatter3d\": [{\"line\": {\"colorbar\": {\"outlinewidth\": 0, \"ticks\": \"\"}}, \"marker\": {\"colorbar\": {\"outlinewidth\": 0, \"ticks\": \"\"}}, \"type\": \"scatter3d\"}], \"scattercarpet\": [{\"marker\": {\"colorbar\": {\"outlinewidth\": 0, \"ticks\": \"\"}}, \"type\": \"scattercarpet\"}], \"scattergeo\": [{\"marker\": {\"colorbar\": {\"outlinewidth\": 0, \"ticks\": \"\"}}, \"type\": \"scattergeo\"}], \"scattergl\": [{\"marker\": {\"colorbar\": {\"outlinewidth\": 0, \"ticks\": \"\"}}, \"type\": \"scattergl\"}], \"scattermapbox\": [{\"marker\": {\"colorbar\": {\"outlinewidth\": 0, \"ticks\": \"\"}}, \"type\": \"scattermapbox\"}], \"scatterpolar\": [{\"marker\": {\"colorbar\": {\"outlinewidth\": 0, \"ticks\": \"\"}}, \"type\": \"scatterpolar\"}], \"scatterpolargl\": [{\"marker\": {\"colorbar\": {\"outlinewidth\": 0, \"ticks\": \"\"}}, \"type\": \"scatterpolargl\"}], \"scatterternary\": [{\"marker\": {\"colorbar\": {\"outlinewidth\": 0, \"ticks\": \"\"}}, \"type\": \"scatterternary\"}], \"surface\": [{\"colorbar\": {\"outlinewidth\": 0, \"ticks\": \"\"}, \"colorscale\": [[0.0, \"#0d0887\"], [0.1111111111111111, \"#46039f\"], [0.2222222222222222, \"#7201a8\"], [0.3333333333333333, \"#9c179e\"], [0.4444444444444444, \"#bd3786\"], [0.5555555555555556, \"#d8576b\"], [0.6666666666666666, \"#ed7953\"], [0.7777777777777778, \"#fb9f3a\"], [0.8888888888888888, \"#fdca26\"], [1.0, \"#f0f921\"]], \"type\": \"surface\"}], \"table\": [{\"cells\": {\"fill\": {\"color\": \"#EBF0F8\"}, \"line\": {\"color\": \"white\"}}, \"header\": {\"fill\": {\"color\": \"#C8D4E3\"}, \"line\": {\"color\": \"white\"}}, \"type\": \"table\"}]}, \"layout\": {\"annotationdefaults\": {\"arrowcolor\": \"#2a3f5f\", \"arrowhead\": 0, \"arrowwidth\": 1}, \"coloraxis\": {\"colorbar\": {\"outlinewidth\": 0, \"ticks\": \"\"}}, \"colorscale\": {\"diverging\": [[0, \"#8e0152\"], [0.1, \"#c51b7d\"], [0.2, \"#de77ae\"], [0.3, \"#f1b6da\"], [0.4, \"#fde0ef\"], [0.5, \"#f7f7f7\"], [0.6, \"#e6f5d0\"], [0.7, \"#b8e186\"], [0.8, \"#7fbc41\"], [0.9, \"#4d9221\"], [1, \"#276419\"]], \"sequential\": [[0.0, \"#0d0887\"], [0.1111111111111111, \"#46039f\"], [0.2222222222222222, \"#7201a8\"], [0.3333333333333333, \"#9c179e\"], [0.4444444444444444, \"#bd3786\"], [0.5555555555555556, \"#d8576b\"], [0.6666666666666666, \"#ed7953\"], [0.7777777777777778, \"#fb9f3a\"], [0.8888888888888888, \"#fdca26\"], [1.0, \"#f0f921\"]], \"sequentialminus\": [[0.0, \"#0d0887\"], [0.1111111111111111, \"#46039f\"], [0.2222222222222222, \"#7201a8\"], [0.3333333333333333, \"#9c179e\"], [0.4444444444444444, \"#bd3786\"], [0.5555555555555556, \"#d8576b\"], [0.6666666666666666, \"#ed7953\"], [0.7777777777777778, \"#fb9f3a\"], [0.8888888888888888, \"#fdca26\"], [1.0, \"#f0f921\"]]}, \"colorway\": [\"#636efa\", \"#EF553B\", \"#00cc96\", \"#ab63fa\", \"#FFA15A\", \"#19d3f3\", \"#FF6692\", \"#B6E880\", \"#FF97FF\", \"#FECB52\"], \"font\": {\"color\": \"#2a3f5f\"}, \"geo\": {\"bgcolor\": \"white\", \"lakecolor\": \"white\", \"landcolor\": \"#E5ECF6\", \"showlakes\": true, \"showland\": true, \"subunitcolor\": \"white\"}, \"hoverlabel\": {\"align\": \"left\"}, \"hovermode\": \"closest\", \"mapbox\": {\"style\": \"light\"}, \"paper_bgcolor\": \"white\", \"plot_bgcolor\": \"#E5ECF6\", \"polar\": {\"angularaxis\": {\"gridcolor\": \"white\", \"linecolor\": \"white\", \"ticks\": \"\"}, \"bgcolor\": \"#E5ECF6\", \"radialaxis\": {\"gridcolor\": \"white\", \"linecolor\": \"white\", \"ticks\": \"\"}}, \"scene\": {\"xaxis\": {\"backgroundcolor\": \"#E5ECF6\", \"gridcolor\": \"white\", \"gridwidth\": 2, \"linecolor\": \"white\", \"showbackground\": true, \"ticks\": \"\", \"zerolinecolor\": \"white\"}, \"yaxis\": {\"backgroundcolor\": \"#E5ECF6\", \"gridcolor\": \"white\", \"gridwidth\": 2, \"linecolor\": \"white\", \"showbackground\": true, \"ticks\": \"\", \"zerolinecolor\": \"white\"}, \"zaxis\": {\"backgroundcolor\": \"#E5ECF6\", \"gridcolor\": \"white\", \"gridwidth\": 2, \"linecolor\": \"white\", \"showbackground\": true, \"ticks\": \"\", \"zerolinecolor\": \"white\"}}, \"shapedefaults\": {\"line\": {\"color\": \"#2a3f5f\"}}, \"ternary\": {\"aaxis\": {\"gridcolor\": \"white\", \"linecolor\": \"white\", \"ticks\": \"\"}, \"baxis\": {\"gridcolor\": \"white\", \"linecolor\": \"white\", \"ticks\": \"\"}, \"bgcolor\": \"#E5ECF6\", \"caxis\": {\"gridcolor\": \"white\", \"linecolor\": \"white\", \"ticks\": \"\"}}, \"title\": {\"x\": 0.05}, \"xaxis\": {\"automargin\": true, \"gridcolor\": \"white\", \"linecolor\": \"white\", \"ticks\": \"\", \"title\": {\"standoff\": 15}, \"zerolinecolor\": \"white\", \"zerolinewidth\": 2}, \"yaxis\": {\"automargin\": true, \"gridcolor\": \"white\", \"linecolor\": \"white\", \"ticks\": \"\", \"title\": {\"standoff\": 15}, \"zerolinecolor\": \"white\", \"zerolinewidth\": 2}}}, \"title\": {\"text\": \"Number of employees by company type\", \"x\": 0.5, \"xanchor\": \"center\", \"y\": 0.9, \"yanchor\": \"top\"}, \"xaxis\": {\"title\": {\"text\": \"company_type\"}}, \"yaxis\": {\"title\": {\"text\": \"Number of employees\"}}},\n",
              "                        {\"responsive\": true}\n",
              "                    ).then(function(){\n",
              "                            \n",
              "var gd = document.getElementById('5a520a59-7dca-4c80-81e8-08f2cca7f450');\n",
              "var x = new MutationObserver(function (mutations, observer) {{\n",
              "        var display = window.getComputedStyle(gd).display;\n",
              "        if (!display || display === 'none') {{\n",
              "            console.log([gd, 'removed!']);\n",
              "            Plotly.purge(gd);\n",
              "            observer.disconnect();\n",
              "        }}\n",
              "}});\n",
              "\n",
              "// Listen for the removal of the full notebook cells\n",
              "var notebookContainer = gd.closest('#notebook-container');\n",
              "if (notebookContainer) {{\n",
              "    x.observe(notebookContainer, {childList: true});\n",
              "}}\n",
              "\n",
              "// Listen for the clearing of the current output cell\n",
              "var outputEl = gd.closest('.output');\n",
              "if (outputEl) {{\n",
              "    x.observe(outputEl, {childList: true});\n",
              "}}\n",
              "\n",
              "                        })\n",
              "                };\n",
              "                \n",
              "            </script>\n",
              "        </div>\n",
              "</body>\n",
              "</html>"
            ]
          },
          "metadata": {
            "tags": []
          }
        }
      ]
    },
    {
      "cell_type": "code",
      "metadata": {
        "id": "TDlQHXzjaRVo",
        "colab": {
          "base_uri": "https://localhost:8080/",
          "height": 542
        },
        "outputId": "c79c0a64-59f0-4786-a2ad-683f5195ce8b"
      },
      "source": [
        "#since correlation matrix didn't give us much info on it so we  are using a box and whisker plot to understand the reation of city development index with target\n",
        "fig = px.box(df_train, y=\"city_development_index\",x= 'looking_for_job',title=\"Relation of city development index with individuals looking for a job\")\n",
        "fig.update_layout(\n",
        "    title={\n",
        "        'y':0.9,\n",
        "        'x':0.5,\n",
        "        'xanchor': 'center',\n",
        "        'yanchor': 'top'})\n",
        "fig.show()"
      ],
      "execution_count": null,
      "outputs": [
        {
          "output_type": "display_data",
          "data": {
            "text/html": [
              "<html>\n",
              "<head><meta charset=\"utf-8\" /></head>\n",
              "<body>\n",
              "    <div>\n",
              "            <script src=\"https://cdnjs.cloudflare.com/ajax/libs/mathjax/2.7.5/MathJax.js?config=TeX-AMS-MML_SVG\"></script><script type=\"text/javascript\">if (window.MathJax) {MathJax.Hub.Config({SVG: {font: \"STIX-Web\"}});}</script>\n",
              "                <script type=\"text/javascript\">window.PlotlyConfig = {MathJaxConfig: 'local'};</script>\n",
              "        <script src=\"https://cdn.plot.ly/plotly-latest.min.js\"></script>    \n",
              "            <div id=\"51c894e3-6d18-4335-be35-d8319f936eda\" class=\"plotly-graph-div\" style=\"height:525px; width:100%;\"></div>\n",
              "            <script type=\"text/javascript\">\n",
              "                \n",
              "                    window.PLOTLYENV=window.PLOTLYENV || {};\n",
              "                    \n",
              "                if (document.getElementById(\"51c894e3-6d18-4335-be35-d8319f936eda\")) {\n",
              "                    Plotly.newPlot(\n",
              "                        '51c894e3-6d18-4335-be35-d8319f936eda',\n",
              "                        [{\"alignmentgroup\": \"True\", \"hoverlabel\": {\"namelength\": 0}, \"hovertemplate\": \"looking_for_job=%{x}<br>city_development_index=%{y}\", \"legendgroup\": \"\", \"marker\": {\"color\": \"#636efa\"}, \"name\": \"\", \"notched\": false, \"offsetgroup\": \"\", \"orientation\": \"v\", \"showlegend\": false, \"type\": \"box\", \"x\": [1.0, 0.0, 0.0, 0.0, 1.0, 0.0, 1.0, 1.0, 0.0, 1.0, 0.0, 0.0, 0.0, 0.0, 0.0, 0.0, 1.0, 1.0, 0.0, 0.0, 0.0, 0.0, 0.0, 0.0, 1.0, 0.0, 1.0, 1.0, 0.0, 0.0, 0.0, 0.0, 0.0, 0.0, 0.0, 1.0, 0.0, 0.0, 0.0, 1.0, 0.0, 1.0, 1.0, 1.0, 1.0, 1.0, 0.0, 1.0, 0.0, 0.0, 0.0, 0.0, 0.0, 0.0, 0.0, 1.0, 0.0, 0.0, 0.0, 1.0, 0.0, 0.0, 0.0, 0.0, 1.0, 0.0, 0.0, 0.0, 0.0, 0.0, 0.0, 0.0, 0.0, 0.0, 0.0, 0.0, 0.0, 0.0, 0.0, 0.0, 0.0, 0.0, 0.0, 0.0, 1.0, 1.0, 0.0, 0.0, 0.0, 0.0, 1.0, 1.0, 1.0, 0.0, 0.0, 0.0, 0.0, 0.0, 0.0, 1.0, 0.0, 0.0, 0.0, 0.0, 1.0, 0.0, 0.0, 0.0, 1.0, 0.0, 0.0, 0.0, 0.0, 1.0, 0.0, 0.0, 0.0, 0.0, 0.0, 0.0, 0.0, 1.0, 0.0, 0.0, 0.0, 0.0, 0.0, 1.0, 0.0, 0.0, 1.0, 0.0, 0.0, 0.0, 0.0, 0.0, 0.0, 1.0, 0.0, 0.0, 0.0, 1.0, 0.0, 0.0, 1.0, 0.0, 1.0, 0.0, 0.0, 0.0, 0.0, 0.0, 0.0, 1.0, 0.0, 0.0, 0.0, 0.0, 1.0, 0.0, 0.0, 0.0, 0.0, 0.0, 0.0, 0.0, 0.0, 0.0, 0.0, 0.0, 0.0, 0.0, 0.0, 1.0, 0.0, 1.0, 0.0, 0.0, 0.0, 1.0, 0.0, 0.0, 0.0, 0.0, 0.0, 0.0, 0.0, 1.0, 0.0, 0.0, 0.0, 1.0, 0.0, 1.0, 0.0, 0.0, 1.0, 0.0, 0.0, 0.0, 0.0, 0.0, 0.0, 0.0, 0.0, 0.0, 0.0, 0.0, 0.0, 1.0, 0.0, 0.0, 0.0, 0.0, 0.0, 0.0, 1.0, 0.0, 0.0, 0.0, 0.0, 0.0, 0.0, 1.0, 0.0, 0.0, 0.0, 0.0, 0.0, 0.0, 0.0, 0.0, 0.0, 0.0, 0.0, 0.0, 1.0, 1.0, 0.0, 0.0, 0.0, 0.0, 1.0, 1.0, 0.0, 0.0, 0.0, 0.0, 0.0, 0.0, 1.0, 0.0, 0.0, 1.0, 0.0, 0.0, 0.0, 0.0, 0.0, 0.0, 0.0, 0.0, 0.0, 1.0, 1.0, 0.0, 0.0, 0.0, 0.0, 0.0, 0.0, 0.0, 0.0, 1.0, 0.0, 0.0, 0.0, 0.0, 0.0, 0.0, 0.0, 0.0, 0.0, 0.0, 0.0, 1.0, 0.0, 0.0, 1.0, 1.0, 0.0, 0.0, 0.0, 1.0, 1.0, 0.0, 0.0, 0.0, 0.0, 0.0, 0.0, 0.0, 0.0, 1.0, 0.0, 0.0, 0.0, 0.0, 0.0, 0.0, 0.0, 0.0, 0.0, 1.0, 0.0, 0.0, 0.0, 1.0, 0.0, 0.0, 0.0, 0.0, 0.0, 0.0, 0.0, 1.0, 0.0, 0.0, 1.0, 0.0, 0.0, 0.0, 0.0, 0.0, 0.0, 0.0, 1.0, 0.0, 1.0, 0.0, 0.0, 1.0, 0.0, 0.0, 0.0, 0.0, 1.0, 0.0, 1.0, 0.0, 1.0, 0.0, 0.0, 1.0, 0.0, 0.0, 0.0, 1.0, 0.0, 0.0, 1.0, 0.0, 0.0, 0.0, 0.0, 0.0, 0.0, 0.0, 0.0, 0.0, 0.0, 0.0, 0.0, 0.0, 1.0, 0.0, 0.0, 0.0, 0.0, 0.0, 1.0, 0.0, 1.0, 0.0, 0.0, 0.0, 0.0, 1.0, 0.0, 1.0, 0.0, 0.0, 0.0, 0.0, 0.0, 0.0, 1.0, 0.0, 0.0, 0.0, 0.0, 0.0, 1.0, 0.0, 0.0, 0.0, 0.0, 0.0, 0.0, 1.0, 0.0, 0.0, 1.0, 0.0, 0.0, 0.0, 0.0, 0.0, 1.0, 0.0, 1.0, 0.0, 0.0, 0.0, 0.0, 1.0, 0.0, 0.0, 0.0, 1.0, 0.0, 0.0, 0.0, 0.0, 0.0, 0.0, 1.0, 1.0, 0.0, 0.0, 1.0, 0.0, 0.0, 1.0, 1.0, 0.0, 0.0, 0.0, 1.0, 0.0, 0.0, 0.0, 0.0, 0.0, 0.0, 0.0, 0.0, 1.0, 0.0, 0.0, 0.0, 1.0, 0.0, 1.0, 0.0, 0.0, 0.0, 0.0, 0.0, 1.0, 0.0, 0.0, 0.0, 1.0, 0.0, 1.0, 0.0, 0.0, 0.0, 0.0, 0.0, 1.0, 1.0, 0.0, 0.0, 1.0, 0.0, 0.0, 1.0, 1.0, 0.0, 1.0, 1.0, 0.0, 0.0, 0.0, 0.0, 1.0, 0.0, 1.0, 0.0, 0.0, 1.0, 0.0, 1.0, 0.0, 0.0, 0.0, 0.0, 0.0, 0.0, 0.0, 0.0, 1.0, 0.0, 0.0, 0.0, 0.0, 0.0, 0.0, 0.0, 0.0, 0.0, 0.0, 0.0, 0.0, 0.0, 1.0, 1.0, 0.0, 0.0, 0.0, 0.0, 0.0, 0.0, 0.0, 1.0, 1.0, 0.0, 0.0, 1.0, 0.0, 0.0, 0.0, 0.0, 1.0, 0.0, 0.0, 0.0, 0.0, 1.0, 0.0, 0.0, 1.0, 0.0, 1.0, 0.0, 0.0, 0.0, 1.0, 0.0, 0.0, 0.0, 0.0, 0.0, 0.0, 0.0, 0.0, 0.0, 1.0, 1.0, 0.0, 0.0, 0.0, 0.0, 0.0, 0.0, 0.0, 1.0, 0.0, 0.0, 0.0, 0.0, 0.0, 0.0, 0.0, 1.0, 0.0, 0.0, 1.0, 1.0, 0.0, 0.0, 0.0, 0.0, 0.0, 0.0, 0.0, 0.0, 0.0, 0.0, 1.0, 0.0, 1.0, 1.0, 1.0, 1.0, 0.0, 0.0, 0.0, 0.0, 0.0, 0.0, 0.0, 0.0, 1.0, 0.0, 1.0, 0.0, 0.0, 0.0, 1.0, 0.0, 0.0, 0.0, 0.0, 0.0, 1.0, 1.0, 0.0, 1.0, 0.0, 0.0, 1.0, 1.0, 1.0, 1.0, 1.0, 0.0, 0.0, 0.0, 0.0, 0.0, 1.0, 1.0, 0.0, 0.0, 1.0, 0.0, 0.0, 0.0, 0.0, 0.0, 0.0, 0.0, 1.0, 0.0, 1.0, 0.0, 0.0, 0.0, 0.0, 0.0, 0.0, 0.0, 0.0, 1.0, 0.0, 1.0, 0.0, 0.0, 0.0, 1.0, 1.0, 0.0, 0.0, 0.0, 0.0, 1.0, 0.0, 0.0, 0.0, 0.0, 0.0, 1.0, 0.0, 0.0, 0.0, 0.0, 1.0, 1.0, 0.0, 0.0, 0.0, 0.0, 0.0, 1.0, 0.0, 0.0, 0.0, 1.0, 0.0, 0.0, 0.0, 0.0, 1.0, 0.0, 0.0, 0.0, 0.0, 0.0, 0.0, 0.0, 0.0, 0.0, 1.0, 1.0, 0.0, 0.0, 0.0, 1.0, 1.0, 0.0, 1.0, 0.0, 0.0, 0.0, 0.0, 0.0, 0.0, 0.0, 0.0, 1.0, 0.0, 0.0, 0.0, 0.0, 0.0, 1.0, 0.0, 0.0, 0.0, 1.0, 1.0, 0.0, 0.0, 0.0, 0.0, 0.0, 1.0, 0.0, 0.0, 0.0, 1.0, 0.0, 0.0, 1.0, 0.0, 0.0, 0.0, 0.0, 0.0, 0.0, 0.0, 0.0, 0.0, 0.0, 0.0, 1.0, 1.0, 0.0, 0.0, 0.0, 0.0, 0.0, 1.0, 0.0, 0.0, 0.0, 0.0, 1.0, 0.0, 0.0, 0.0, 0.0, 0.0, 1.0, 0.0, 1.0, 0.0, 0.0, 0.0, 0.0, 0.0, 0.0, 0.0, 0.0, 1.0, 1.0, 0.0, 1.0, 0.0, 1.0, 0.0, 0.0, 0.0, 0.0, 0.0, 0.0, 0.0, 0.0, 1.0, 1.0, 0.0, 0.0, 1.0, 0.0, 0.0, 0.0, 1.0, 1.0, 0.0, 0.0, 0.0, 0.0, 1.0, 0.0, 0.0, 1.0, 0.0, 0.0, 0.0, 0.0, 0.0, 0.0, 0.0, 0.0, 0.0, 0.0, 0.0, 0.0, 0.0, 0.0, 0.0, 0.0, 0.0, 0.0, 0.0, 0.0, 0.0, 0.0, 1.0, 0.0, 0.0, 1.0, 0.0, 0.0, 0.0, 0.0, 0.0, 0.0, 0.0, 0.0, 0.0, 0.0, 0.0, 0.0, 0.0, 0.0, 0.0, 1.0, 0.0, 1.0, 0.0, 0.0, 0.0, 0.0, 1.0, 0.0, 0.0, 1.0, 1.0, 0.0, 0.0, 0.0, 0.0, 1.0, 0.0, 1.0, 0.0, 0.0, 0.0, 1.0, 1.0, 1.0, 1.0, 0.0, 0.0, 0.0, 0.0, 0.0, 1.0, 0.0, 0.0, 0.0, 0.0, 0.0, 0.0, 0.0, 0.0, 0.0, 1.0, 0.0, 0.0, 1.0, 0.0, 0.0, 0.0, 0.0, 1.0, 0.0, 0.0, 0.0, 0.0, 0.0, 0.0, 0.0, 1.0, 0.0, 1.0, 1.0, 0.0, 0.0, 1.0, 0.0, 0.0, 0.0, 0.0, 0.0, 1.0, 0.0, 0.0, 0.0, 0.0, 0.0, 0.0, 1.0, 0.0, 0.0, 0.0, 0.0, 0.0, 1.0, 0.0, 1.0, 0.0, 0.0, 0.0, 1.0, 0.0, 1.0, 0.0, 1.0, 0.0, 0.0, 1.0, 0.0, 0.0, 0.0, 0.0, 1.0, 1.0, 0.0, 0.0, 1.0, 0.0, 1.0, 0.0, 0.0, 1.0, 1.0, 0.0, 0.0, 0.0, 0.0, 0.0, 1.0, 0.0, 0.0, 0.0, 0.0, 0.0, 1.0, 0.0, 1.0, 0.0, 0.0, 0.0, 0.0, 0.0, 0.0, 0.0, 0.0, 0.0, 1.0, 0.0, 1.0, 0.0, 0.0, 0.0, 0.0, 0.0, 0.0, 1.0, 1.0, 1.0, 0.0, 1.0, 1.0, 1.0, 0.0, 1.0, 1.0, 0.0, 1.0, 0.0, 1.0, 1.0, 0.0, 0.0, 0.0, 0.0, 0.0, 0.0, 0.0, 0.0, 0.0, 0.0, 0.0, 1.0, 0.0, 0.0, 1.0, 0.0, 0.0, 0.0, 0.0, 0.0, 1.0, 1.0, 1.0, 0.0, 0.0, 0.0, 0.0, 1.0, 0.0, 0.0, 0.0, 0.0, 1.0, 0.0, 1.0, 0.0, 1.0, 0.0, 0.0, 0.0, 0.0, 1.0, 0.0, 0.0, 0.0, 0.0, 0.0, 1.0, 0.0, 0.0, 0.0, 0.0, 0.0, 0.0, 1.0, 0.0, 1.0, 0.0, 0.0, 0.0, 1.0, 0.0, 0.0, 0.0, 0.0, 0.0, 0.0, 0.0, 0.0, 1.0, 1.0, 0.0, 0.0, 0.0, 0.0, 1.0, 0.0, 1.0, 0.0, 1.0, 0.0, 0.0, 1.0, 1.0, 0.0, 0.0, 0.0, 0.0, 0.0, 1.0, 0.0, 0.0, 0.0, 0.0, 1.0, 0.0, 0.0, 0.0, 0.0, 0.0, 1.0, 0.0, 0.0, 0.0, 0.0, 0.0, 1.0, 1.0, 1.0, 0.0, 1.0, 0.0, 1.0, 1.0, 1.0, 1.0, 1.0, 1.0, 0.0, 0.0, 0.0, 0.0, 0.0, 0.0, 0.0, 0.0, 0.0, 0.0, 0.0, 1.0, 0.0, 0.0, 0.0, 0.0, 0.0, 1.0, 0.0, 1.0, 1.0, 1.0, 1.0, 1.0, 0.0, 0.0, 0.0, 0.0, 0.0, 1.0, 0.0, 1.0, 0.0, 0.0, 0.0, 1.0, 0.0, 1.0, 0.0, 0.0, 1.0, 1.0, 0.0, 0.0, 0.0, 0.0, 1.0, 0.0, 1.0, 0.0, 0.0, 0.0, 0.0, 0.0, 0.0, 1.0, 0.0, 0.0, 0.0, 0.0, 0.0, 0.0, 0.0, 1.0, 0.0, 0.0, 1.0, 0.0, 0.0, 1.0, 0.0, 0.0, 0.0, 1.0, 0.0, 1.0, 0.0, 0.0, 0.0, 0.0, 1.0, 0.0, 1.0, 0.0, 0.0, 0.0, 1.0, 1.0, 1.0, 0.0, 0.0, 0.0, 0.0, 0.0, 0.0, 0.0, 0.0, 0.0, 0.0, 0.0, 1.0, 1.0, 1.0, 0.0, 0.0, 0.0, 0.0, 0.0, 0.0, 0.0, 1.0, 0.0, 0.0, 0.0, 0.0, 0.0, 1.0, 1.0, 0.0, 0.0, 1.0, 0.0, 0.0, 0.0, 0.0, 1.0, 0.0, 0.0, 0.0, 0.0, 0.0, 0.0, 0.0, 0.0, 1.0, 1.0, 0.0, 1.0, 0.0, 0.0, 1.0, 0.0, 0.0, 1.0, 0.0, 0.0, 0.0, 0.0, 0.0, 0.0, 0.0, 0.0, 0.0, 1.0, 0.0, 1.0, 0.0, 0.0, 0.0, 1.0, 1.0, 0.0, 0.0, 1.0, 1.0, 0.0, 0.0, 0.0, 1.0, 1.0, 0.0, 0.0, 0.0, 0.0, 0.0, 0.0, 0.0, 0.0, 1.0, 0.0, 0.0, 1.0, 0.0, 0.0, 0.0, 0.0, 0.0, 0.0, 1.0, 0.0, 1.0, 0.0, 1.0, 1.0, 1.0, 0.0, 1.0, 0.0, 0.0, 1.0, 1.0, 0.0, 0.0, 1.0, 0.0, 0.0, 0.0, 0.0, 0.0, 0.0, 0.0, 0.0, 0.0, 0.0, 0.0, 0.0, 1.0, 0.0, 0.0, 0.0, 1.0, 0.0, 1.0, 1.0, 1.0, 0.0, 0.0, 0.0, 0.0, 0.0, 0.0, 0.0, 1.0, 1.0, 1.0, 1.0, 0.0, 0.0, 0.0, 0.0, 0.0, 0.0, 0.0, 0.0, 0.0, 0.0, 0.0, 0.0, 0.0, 1.0, 0.0, 0.0, 0.0, 0.0, 0.0, 0.0, 0.0, 1.0, 0.0, 0.0, 1.0, 0.0, 1.0, 0.0, 0.0, 0.0, 1.0, 0.0, 1.0, 0.0, 1.0, 0.0, 0.0, 0.0, 0.0, 1.0, 0.0, 0.0, 0.0, 0.0, 1.0, 1.0, 0.0, 0.0, 1.0, 0.0, 0.0, 0.0, 0.0, 1.0, 0.0, 0.0, 0.0, 0.0, 1.0, 0.0, 0.0, 0.0, 0.0, 1.0, 1.0, 1.0, 0.0, 1.0, 0.0, 1.0, 0.0, 0.0, 0.0, 0.0, 0.0, 0.0, 0.0, 0.0, 0.0, 0.0, 0.0, 0.0, 0.0, 0.0, 0.0, 0.0, 0.0, 0.0, 1.0, 1.0, 0.0, 0.0, 1.0, 1.0, 0.0, 0.0, 0.0, 1.0, 0.0, 0.0, 1.0, 0.0, 0.0, 0.0, 0.0, 0.0, 0.0, 0.0, 0.0, 1.0, 0.0, 1.0, 1.0, 0.0, 0.0, 0.0, 1.0, 0.0, 0.0, 1.0, 0.0, 1.0, 0.0, 0.0, 0.0, 0.0, 0.0, 1.0, 1.0, 1.0, 0.0, 0.0, 0.0, 0.0, 1.0, 0.0, 0.0, 0.0, 1.0, 1.0, 0.0, 0.0, 0.0, 0.0, 1.0, 1.0, 0.0, 0.0, 0.0, 0.0, 0.0, 1.0, 0.0, 0.0, 1.0, 1.0, 1.0, 0.0, 0.0, 0.0, 0.0, 0.0, 0.0, 0.0, 0.0, 0.0, 0.0, 0.0, 0.0, 1.0, 1.0, 0.0, 0.0, 0.0, 0.0, 0.0, 0.0, 0.0, 1.0, 0.0, 0.0, 0.0, 1.0, 0.0, 0.0, 0.0, 0.0, 0.0, 0.0, 0.0, 0.0, 0.0, 0.0, 1.0, 0.0, 0.0, 0.0, 0.0, 0.0, 0.0, 0.0, 0.0, 0.0, 0.0, 0.0, 0.0, 0.0, 0.0, 0.0, 1.0, 1.0, 1.0, 0.0, 0.0, 0.0, 0.0, 0.0, 0.0, 0.0, 0.0, 0.0, 0.0, 0.0, 0.0, 0.0, 1.0, 0.0, 1.0, 1.0, 0.0, 0.0, 0.0, 0.0, 0.0, 0.0, 0.0, 1.0, 0.0, 0.0, 0.0, 0.0, 0.0, 1.0, 0.0, 0.0, 0.0, 0.0, 1.0, 0.0, 1.0, 0.0, 1.0, 1.0, 0.0, 1.0, 0.0, 0.0, 1.0, 1.0, 0.0, 0.0, 0.0, 0.0, 1.0, 0.0, 0.0, 1.0, 0.0, 1.0, 0.0, 1.0, 0.0, 1.0, 0.0, 0.0, 0.0, 0.0, 0.0, 0.0, 0.0, 0.0, 0.0, 1.0, 1.0, 0.0, 1.0, 0.0, 0.0, 0.0, 0.0, 0.0, 0.0, 0.0, 1.0, 1.0, 0.0, 0.0, 1.0, 0.0, 0.0, 0.0, 0.0, 0.0, 0.0, 0.0, 0.0, 0.0, 1.0, 0.0, 1.0, 1.0, 0.0, 0.0, 0.0, 0.0, 0.0, 0.0, 0.0, 0.0, 0.0, 0.0, 1.0, 0.0, 0.0, 0.0, 0.0, 0.0, 0.0, 0.0, 0.0, 1.0, 0.0, 0.0, 0.0, 0.0, 0.0, 0.0, 0.0, 0.0, 1.0, 0.0, 0.0, 0.0, 0.0, 0.0, 0.0, 0.0, 0.0, 0.0, 1.0, 0.0, 0.0, 0.0, 0.0, 0.0, 0.0, 1.0, 0.0, 1.0, 0.0, 0.0, 0.0, 0.0, 1.0, 1.0, 1.0, 1.0, 0.0, 1.0, 1.0, 1.0, 0.0, 1.0, 0.0, 0.0, 1.0, 1.0, 0.0, 0.0, 0.0, 0.0, 1.0, 0.0, 0.0, 1.0, 1.0, 0.0, 0.0, 0.0, 1.0, 0.0, 0.0, 0.0, 0.0, 0.0, 0.0, 0.0, 0.0, 0.0, 0.0, 0.0, 1.0, 0.0, 0.0, 0.0, 0.0, 0.0, 0.0, 1.0, 0.0, 0.0, 0.0, 0.0, 0.0, 0.0, 0.0, 1.0, 1.0, 0.0, 0.0, 0.0, 0.0, 1.0, 0.0, 0.0, 0.0, 1.0, 1.0, 0.0, 0.0, 0.0, 0.0, 0.0, 0.0, 0.0, 1.0, 0.0, 0.0, 0.0, 0.0, 0.0, 1.0, 1.0, 0.0, 0.0, 0.0, 0.0, 0.0, 0.0, 0.0, 0.0, 0.0, 0.0, 0.0, 0.0, 1.0, 1.0, 0.0, 0.0, 0.0, 0.0, 0.0, 0.0, 0.0, 0.0, 1.0, 0.0, 1.0, 0.0, 0.0, 0.0, 0.0, 0.0, 1.0, 0.0, 0.0, 1.0, 0.0, 1.0, 0.0, 0.0, 1.0, 1.0, 1.0, 1.0, 1.0, 0.0, 0.0, 0.0, 1.0, 0.0, 1.0, 0.0, 0.0, 0.0, 0.0, 1.0, 0.0, 0.0, 0.0, 1.0, 1.0, 0.0, 1.0, 0.0, 1.0, 0.0, 0.0, 0.0, 0.0, 1.0, 0.0, 0.0, 0.0, 1.0, 1.0, 1.0, 0.0, 1.0, 0.0, 0.0, 0.0, 1.0, 0.0, 0.0, 0.0, 1.0, 1.0, 0.0, 0.0, 0.0, 0.0, 0.0, 0.0, 1.0, 0.0, 0.0, 0.0, 0.0, 1.0, 1.0, 0.0, 1.0, 0.0, 1.0, 0.0, 0.0, 0.0, 0.0, 0.0, 0.0, 0.0, 0.0, 0.0, 1.0, 0.0, 0.0, 0.0, 0.0, 0.0, 1.0, 1.0, 0.0, 0.0, 1.0, 0.0, 0.0, 0.0, 0.0, 0.0, 0.0, 0.0, 0.0, 0.0, 0.0, 0.0, 0.0, 0.0, 0.0, 0.0, 0.0, 0.0, 0.0, 0.0, 1.0, 0.0, 0.0, 0.0, 1.0, 0.0, 1.0, 0.0, 0.0, 0.0, 0.0, 1.0, 0.0, 0.0, 0.0, 1.0, 1.0, 1.0, 1.0, 1.0, 1.0, 0.0, 0.0, 0.0, 1.0, 0.0, 1.0, 0.0, 0.0, 1.0, 1.0, 0.0, 0.0, 0.0, 1.0, 1.0, 0.0, 0.0, 0.0, 0.0, 1.0, 0.0, 0.0, 0.0, 0.0, 0.0, 0.0, 0.0, 1.0, 0.0, 1.0, 0.0, 0.0, 0.0, 0.0, 1.0, 0.0, 0.0, 1.0, 0.0, 0.0, 0.0, 0.0, 0.0, 1.0, 0.0, 0.0, 1.0, 1.0, 0.0, 0.0, 0.0, 1.0, 0.0, 0.0, 0.0, 0.0, 0.0, 0.0, 0.0, 0.0, 0.0, 0.0, 0.0, 0.0, 0.0, 0.0, 0.0, 1.0, 0.0, 0.0, 0.0, 1.0, 1.0, 0.0, 1.0, 0.0, 0.0, 0.0, 0.0, 0.0, 0.0, 1.0, 1.0, 0.0, 0.0, 1.0, 1.0, 0.0, 0.0, 0.0, 0.0, 1.0, 0.0, 0.0, 1.0, 1.0, 0.0, 0.0, 0.0, 0.0, 0.0, 0.0, 0.0, 0.0, 0.0, 0.0, 1.0, 0.0, 0.0, 0.0, 0.0, 0.0, 0.0, 0.0, 1.0, 1.0, 0.0, 0.0, 0.0, 0.0, 0.0, 1.0, 0.0, 0.0, 1.0, 0.0, 0.0, 0.0, 0.0, 0.0, 0.0, 1.0, 0.0, 0.0, 0.0, 0.0, 0.0, 0.0, 1.0, 1.0, 1.0, 0.0, 0.0, 1.0, 0.0, 0.0, 1.0, 0.0, 0.0, 0.0, 0.0, 0.0, 0.0, 0.0, 0.0, 0.0, 1.0, 0.0, 0.0, 0.0, 1.0, 0.0, 0.0, 1.0, 0.0, 1.0, 1.0, 1.0, 1.0, 0.0, 1.0, 0.0, 0.0, 0.0, 0.0, 0.0, 0.0, 0.0, 0.0, 0.0, 0.0, 0.0, 0.0, 0.0, 1.0, 1.0, 0.0, 0.0, 0.0, 1.0, 0.0, 1.0, 0.0, 0.0, 0.0, 0.0, 0.0, 0.0, 0.0, 0.0, 0.0, 0.0, 1.0, 1.0, 1.0, 0.0, 0.0, 0.0, 0.0, 1.0, 0.0, 0.0, 0.0, 0.0, 0.0, 0.0, 0.0, 0.0, 0.0, 1.0, 1.0, 0.0, 0.0, 0.0, 1.0, 0.0, 0.0, 0.0, 0.0, 1.0, 0.0, 0.0, 1.0, 0.0, 0.0, 0.0, 0.0, 0.0, 1.0, 0.0, 0.0, 1.0, 0.0, 0.0, 1.0, 1.0, 0.0, 0.0, 0.0, 0.0, 0.0, 1.0, 0.0, 1.0, 0.0, 1.0, 0.0, 1.0, 0.0, 0.0, 0.0, 0.0, 0.0, 1.0, 0.0, 0.0, 0.0, 0.0, 0.0, 0.0, 0.0, 0.0, 1.0, 1.0, 0.0, 0.0, 0.0, 1.0, 0.0, 0.0, 1.0, 0.0, 0.0, 0.0, 1.0, 0.0, 0.0, 0.0, 0.0, 0.0, 1.0, 0.0, 0.0, 0.0, 0.0, 0.0, 0.0, 0.0, 1.0, 0.0, 0.0, 0.0, 0.0, 0.0, 1.0, 0.0, 0.0, 0.0, 1.0, 0.0, 0.0, 0.0, 0.0, 0.0, 0.0, 0.0, 1.0, 0.0, 0.0, 0.0, 0.0, 0.0, 0.0, 0.0, 1.0, 1.0, 0.0, 0.0, 0.0, 0.0, 1.0, 0.0, 0.0, 1.0, 1.0, 0.0, 0.0, 0.0, 0.0, 0.0, 1.0, 0.0, 0.0, 1.0, 0.0, 0.0, 0.0, 0.0, 0.0, 1.0, 0.0, 0.0, 0.0, 1.0, 0.0, 0.0, 0.0, 0.0, 0.0, 0.0, 1.0, 0.0, 0.0, 0.0, 0.0, 0.0, 0.0, 0.0, 1.0, 0.0, 0.0, 0.0, 0.0, 0.0, 0.0, 0.0, 0.0, 0.0, 0.0, 0.0, 1.0, 0.0, 1.0, 0.0, 0.0, 0.0, 0.0, 0.0, 0.0, 0.0, 0.0, 0.0, 0.0, 0.0, 0.0, 0.0, 0.0, 0.0, 0.0, 0.0, 1.0, 1.0, 0.0, 0.0, 1.0, 0.0, 0.0, 1.0, 1.0, 0.0, 0.0, 1.0, 1.0, 0.0, 0.0, 1.0, 1.0, 0.0, 0.0, 0.0, 0.0, 1.0, 0.0, 0.0, 0.0, 1.0, 0.0, 1.0, 0.0, 0.0, 0.0, 0.0, 0.0, 0.0, 0.0, 0.0, 1.0, 0.0, 0.0, 0.0, 0.0, 0.0, 0.0, 1.0, 0.0, 0.0, 0.0, 0.0, 0.0, 0.0, 1.0, 0.0, 1.0, 0.0, 1.0, 0.0, 1.0, 0.0, 0.0, 0.0, 0.0, 1.0, 1.0, 0.0, 0.0, 1.0, 0.0, 0.0, 1.0, 0.0, 0.0, 0.0, 0.0, 0.0, 0.0, 1.0, 0.0, 0.0, 0.0, 0.0, 0.0, 0.0, 0.0, 0.0, 0.0, 0.0, 0.0, 0.0, 0.0, 0.0, 0.0, 1.0, 0.0, 0.0, 1.0, 0.0, 0.0, 0.0, 1.0, 0.0, 1.0, 1.0, 0.0, 0.0, 0.0, 0.0, 0.0, 0.0, 0.0, 0.0, 0.0, 0.0, 0.0, 1.0, 1.0, 0.0, 0.0, 0.0, 0.0, 0.0, 1.0, 0.0, 0.0, 0.0, 0.0, 0.0, 0.0, 0.0, 0.0, 0.0, 0.0, 0.0, 0.0, 0.0, 0.0, 0.0, 1.0, 1.0, 0.0, 1.0, 0.0, 0.0, 0.0, 0.0, 0.0, 1.0, 1.0, 1.0, 0.0, 1.0, 0.0, 0.0, 1.0, 1.0, 1.0, 0.0, 0.0, 0.0, 0.0, 1.0, 0.0, 0.0, 0.0, 1.0, 0.0, 0.0, 1.0, 0.0, 0.0, 0.0, 0.0, 0.0, 0.0, 1.0, 0.0, 0.0, 0.0, 0.0, 0.0, 1.0, 1.0, 0.0, 0.0, 0.0, 0.0, 0.0, 1.0, 0.0, 0.0, 0.0, 0.0, 1.0, 1.0, 1.0, 0.0, 0.0, 0.0, 0.0, 0.0, 0.0, 1.0, 0.0, 0.0, 0.0, 0.0, 1.0, 0.0, 0.0, 0.0, 0.0, 0.0, 0.0, 0.0, 0.0, 1.0, 0.0, 0.0, 0.0, 0.0, 0.0, 0.0, 0.0, 0.0, 0.0, 0.0, 0.0, 0.0, 0.0, 0.0, 0.0, 0.0, 1.0, 0.0, 1.0, 0.0, 1.0, 0.0, 1.0, 1.0, 1.0, 0.0, 1.0, 0.0, 0.0, 0.0, 0.0, 1.0, 0.0, 0.0, 0.0, 0.0, 1.0, 0.0, 0.0, 0.0, 0.0, 0.0, 0.0, 0.0, 0.0, 0.0, 0.0, 0.0, 0.0, 0.0, 1.0, 0.0, 0.0, 0.0, 0.0, 0.0, 0.0, 0.0, 0.0, 0.0, 0.0, 0.0, 0.0, 0.0, 0.0, 0.0, 0.0, 0.0, 1.0, 0.0, 0.0, 0.0, 0.0, 0.0, 1.0, 0.0, 0.0, 0.0, 1.0, 1.0, 0.0, 0.0, 1.0, 1.0, 0.0, 1.0, 1.0, 0.0, 0.0, 0.0, 0.0, 0.0, 0.0, 0.0, 1.0, 0.0, 1.0, 1.0, 0.0, 0.0, 1.0, 0.0, 0.0, 0.0, 1.0, 0.0, 1.0, 0.0, 0.0, 0.0, 0.0, 0.0, 0.0, 0.0, 1.0, 0.0, 0.0, 0.0, 1.0, 0.0, 1.0, 0.0, 0.0, 0.0, 0.0, 0.0, 0.0, 0.0, 1.0, 1.0, 0.0, 0.0, 0.0, 0.0, 0.0, 0.0, 1.0, 0.0, 0.0, 0.0, 0.0, 0.0, 1.0, 0.0, 0.0, 0.0, 0.0, 0.0, 0.0, 0.0, 1.0, 0.0, 1.0, 0.0, 0.0, 0.0, 0.0, 1.0, 1.0, 0.0, 0.0, 0.0, 0.0, 0.0, 0.0, 0.0, 0.0, 0.0, 0.0, 0.0, 1.0, 0.0, 0.0, 0.0, 0.0, 1.0, 0.0, 0.0, 1.0, 0.0, 0.0, 0.0, 1.0, 0.0, 0.0, 1.0, 0.0, 1.0, 0.0, 0.0, 0.0, 1.0, 0.0, 0.0, 0.0, 0.0, 1.0, 0.0, 0.0, 0.0, 0.0, 0.0, 1.0, 0.0, 0.0, 0.0, 0.0, 0.0, 0.0, 0.0, 0.0, 0.0, 0.0, 0.0, 0.0, 1.0, 0.0, 0.0, 0.0, 0.0, 1.0, 0.0, 0.0, 1.0, 0.0, 0.0, 0.0, 1.0, 0.0, 1.0, 1.0, 1.0, 0.0, 0.0, 0.0, 1.0, 1.0, 0.0, 0.0, 0.0, 0.0, 0.0, 0.0, 0.0, 0.0, 0.0, 1.0, 0.0, 1.0, 0.0, 1.0, 0.0, 0.0, 0.0, 0.0, 1.0, 0.0, 0.0, 1.0, 0.0, 1.0, 0.0, 0.0, 0.0, 0.0, 0.0, 1.0, 0.0, 1.0, 0.0, 1.0, 0.0, 0.0, 0.0, 0.0, 0.0, 0.0, 0.0, 0.0, 0.0, 1.0, 0.0, 0.0, 0.0, 0.0, 0.0, 0.0, 0.0, 0.0, 0.0, 1.0, 0.0, 1.0, 0.0, 0.0, 0.0, 0.0, 0.0, 0.0, 0.0, 0.0, 0.0, 0.0, 1.0, 0.0, 0.0, 1.0, 0.0, 0.0, 0.0, 0.0, 0.0, 0.0, 0.0, 0.0, 0.0, 1.0, 1.0, 0.0, 0.0, 0.0, 0.0, 0.0, 0.0, 0.0, 0.0, 1.0, 1.0, 0.0, 1.0, 0.0, 0.0, 0.0, 0.0, 0.0, 0.0, 0.0, 0.0, 0.0, 0.0, 0.0, 1.0, 1.0, 1.0, 0.0, 0.0, 0.0, 1.0, 1.0, 0.0, 0.0, 0.0, 0.0, 0.0, 0.0, 0.0, 1.0, 0.0, 0.0, 1.0, 1.0, 0.0, 0.0, 0.0, 0.0, 1.0, 1.0, 0.0, 0.0, 0.0, 0.0, 0.0, 1.0, 1.0, 0.0, 1.0, 0.0, 1.0, 0.0, 0.0, 1.0, 0.0, 0.0, 0.0, 0.0, 0.0, 0.0, 1.0, 0.0, 0.0, 0.0, 0.0, 0.0, 0.0, 1.0, 0.0, 0.0, 0.0, 1.0, 0.0, 1.0, 1.0, 0.0, 1.0, 1.0, 0.0, 0.0, 0.0, 1.0, 0.0, 0.0, 0.0, 0.0, 0.0, 0.0, 1.0, 1.0, 0.0, 0.0, 1.0, 0.0, 1.0, 0.0, 0.0, 0.0, 1.0, 0.0, 0.0, 1.0, 0.0, 0.0, 0.0, 0.0, 0.0, 1.0, 0.0, 1.0, 0.0, 0.0, 0.0, 1.0, 0.0, 0.0, 0.0, 0.0, 1.0, 0.0, 0.0, 0.0, 0.0, 0.0, 0.0, 0.0, 0.0, 1.0, 0.0, 1.0, 1.0, 1.0, 1.0, 0.0, 0.0, 0.0, 1.0, 1.0, 0.0, 0.0, 0.0, 0.0, 1.0, 1.0, 1.0, 0.0, 1.0, 1.0, 0.0, 0.0, 1.0, 1.0, 0.0, 0.0, 0.0, 0.0, 0.0, 1.0, 1.0, 1.0, 0.0, 0.0, 0.0, 1.0, 0.0, 0.0, 0.0, 1.0, 0.0, 0.0, 0.0, 1.0, 0.0, 0.0, 0.0, 0.0, 0.0, 0.0, 0.0, 0.0, 0.0, 0.0, 0.0, 0.0, 0.0, 0.0, 1.0, 0.0, 0.0, 1.0, 0.0, 0.0, 0.0, 0.0, 0.0, 0.0, 0.0, 1.0, 0.0, 0.0, 1.0, 1.0, 0.0, 0.0, 0.0, 1.0, 0.0, 0.0, 0.0, 1.0, 0.0, 0.0, 1.0, 0.0, 0.0, 0.0, 0.0, 0.0, 0.0, 0.0, 1.0, 0.0, 1.0, 0.0, 0.0, 0.0, 0.0, 0.0, 0.0, 0.0, 0.0, 1.0, 0.0, 0.0, 0.0, 1.0, 0.0, 0.0, 0.0, 1.0, 0.0, 1.0, 1.0, 1.0, 0.0, 0.0, 0.0, 1.0, 0.0, 0.0, 0.0, 0.0, 0.0, 0.0, 1.0, 0.0, 0.0, 0.0, 1.0, 0.0, 0.0, 1.0, 0.0, 1.0, 0.0, 0.0, 1.0, 0.0, 0.0, 0.0, 0.0, 0.0, 0.0, 1.0, 0.0, 1.0, 0.0, 0.0, 0.0, 1.0, 1.0, 0.0, 0.0, 0.0, 0.0, 0.0, 0.0, 1.0, 0.0, 0.0, 0.0, 0.0, 0.0, 1.0, 0.0, 0.0, 0.0, 1.0, 1.0, 0.0, 1.0, 1.0, 1.0, 1.0, 0.0, 0.0, 0.0, 1.0, 0.0, 1.0, 0.0, 0.0, 0.0, 0.0, 0.0, 1.0, 0.0, 0.0, 0.0, 0.0, 0.0, 0.0, 0.0, 0.0, 0.0, 0.0, 0.0, 0.0, 0.0, 0.0, 0.0, 1.0, 1.0, 1.0, 0.0, 0.0, 0.0, 0.0, 0.0, 0.0, 0.0, 1.0, 0.0, 0.0, 0.0, 0.0, 0.0, 0.0, 0.0, 0.0, 1.0, 0.0, 0.0, 0.0, 0.0, 0.0, 0.0, 0.0, 0.0, 0.0, 1.0, 0.0, 0.0, 0.0, 0.0, 0.0, 0.0, 1.0, 0.0, 0.0, 1.0, 1.0, 0.0, 1.0, 0.0, 0.0, 0.0, 0.0, 1.0, 0.0, 0.0, 0.0, 0.0, 1.0, 0.0, 0.0, 0.0, 1.0, 0.0, 0.0, 0.0, 0.0, 1.0, 0.0, 0.0, 0.0, 1.0, 0.0, 0.0, 0.0, 1.0, 1.0, 0.0, 0.0, 0.0, 0.0, 0.0, 0.0, 1.0, 0.0, 0.0, 0.0, 0.0, 0.0, 1.0, 0.0, 0.0, 1.0, 0.0, 0.0, 0.0, 0.0, 1.0, 0.0, 0.0, 1.0, 0.0, 0.0, 0.0, 0.0, 0.0, 1.0, 0.0, 0.0, 1.0, 0.0, 0.0, 0.0, 0.0, 0.0, 1.0, 0.0, 0.0, 0.0, 0.0, 0.0, 1.0, 0.0, 1.0, 0.0, 1.0, 0.0, 1.0, 0.0, 0.0, 0.0, 1.0, 0.0, 0.0, 0.0, 0.0, 0.0, 0.0, 0.0, 0.0, 0.0, 1.0, 0.0, 0.0, 1.0, 0.0, 0.0, 0.0, 1.0, 0.0, 0.0, 0.0, 0.0, 0.0, 0.0, 1.0, 0.0, 0.0, 0.0, 0.0, 0.0, 0.0, 0.0, 0.0, 1.0, 0.0, 0.0, 1.0, 0.0, 0.0, 1.0, 0.0, 0.0, 0.0, 0.0, 0.0, 0.0, 0.0, 0.0, 0.0, 0.0, 1.0, 0.0, 0.0, 1.0, 0.0, 0.0, 1.0, 0.0, 0.0, 0.0, 0.0, 1.0, 0.0, 0.0, 0.0, 0.0, 0.0, 0.0, 1.0, 1.0, 1.0, 0.0, 0.0, 0.0, 0.0, 0.0, 0.0, 0.0, 0.0, 0.0, 1.0, 1.0, 0.0, 0.0, 0.0, 0.0, 0.0, 0.0, 0.0, 0.0, 0.0, 0.0, 0.0, 0.0, 0.0, 0.0, 0.0, 0.0, 1.0, 0.0, 0.0, 0.0, 1.0, 0.0, 0.0, 0.0, 0.0, 0.0, 0.0, 0.0, 0.0, 0.0, 0.0, 0.0, 0.0, 0.0, 0.0, 0.0, 0.0, 0.0, 1.0, 1.0, 1.0, 0.0, 0.0, 0.0, 1.0, 1.0, 1.0, 0.0, 0.0, 1.0, 1.0, 0.0, 0.0, 1.0, 0.0, 0.0, 0.0, 0.0, 0.0, 0.0, 1.0, 0.0, 0.0, 0.0, 0.0, 0.0, 0.0, 0.0, 1.0, 1.0, 0.0, 0.0, 0.0, 1.0, 0.0, 0.0, 0.0, 0.0, 0.0, 0.0, 0.0, 0.0, 0.0, 0.0, 1.0, 0.0, 0.0, 0.0, 0.0, 0.0, 0.0, 0.0, 0.0, 1.0, 0.0, 0.0, 0.0, 0.0, 0.0, 0.0, 0.0, 1.0, 0.0, 0.0, 1.0, 0.0, 0.0, 1.0, 1.0, 0.0, 0.0, 0.0, 0.0, 0.0, 0.0, 0.0, 0.0, 1.0, 1.0, 1.0, 0.0, 1.0, 0.0, 0.0, 0.0, 0.0, 1.0, 0.0, 1.0, 0.0, 1.0, 0.0, 0.0, 0.0, 0.0, 1.0, 1.0, 0.0, 1.0, 0.0, 1.0, 1.0, 0.0, 0.0, 1.0, 0.0, 0.0, 1.0, 0.0, 0.0, 0.0, 0.0, 0.0, 0.0, 0.0, 0.0, 1.0, 0.0, 0.0, 1.0, 0.0, 0.0, 0.0, 1.0, 1.0, 1.0, 0.0, 0.0, 0.0, 0.0, 0.0, 0.0, 0.0, 0.0, 1.0, 1.0, 1.0, 0.0, 1.0, 0.0, 1.0, 1.0, 0.0, 0.0, 1.0, 1.0, 0.0, 0.0, 0.0, 0.0, 1.0, 0.0, 0.0, 0.0, 1.0, 1.0, 0.0, 1.0, 0.0, 1.0, 0.0, 0.0, 0.0, 0.0, 1.0, 1.0, 1.0, 0.0, 1.0, 0.0, 0.0, 0.0, 0.0, 0.0, 0.0, 0.0, 0.0, 0.0, 1.0, 0.0, 0.0, 1.0, 0.0, 1.0, 0.0, 0.0, 0.0, 0.0, 0.0, 0.0, 1.0, 0.0, 0.0, 0.0, 0.0, 0.0, 0.0, 0.0, 0.0, 0.0, 1.0, 0.0, 1.0, 1.0, 0.0, 0.0, 1.0, 0.0, 1.0, 0.0, 0.0, 0.0, 0.0, 1.0, 0.0, 1.0, 0.0, 0.0, 0.0, 0.0, 1.0, 0.0, 0.0, 0.0, 0.0, 0.0, 0.0, 0.0, 0.0, 1.0, 0.0, 0.0, 0.0, 1.0, 1.0, 1.0, 0.0, 0.0, 0.0, 0.0, 0.0, 1.0, 0.0, 0.0, 0.0, 0.0, 0.0, 1.0, 1.0, 0.0, 0.0, 0.0, 0.0, 0.0, 0.0, 0.0, 0.0, 0.0, 0.0, 0.0, 1.0, 0.0, 0.0, 0.0, 0.0, 0.0, 0.0, 0.0, 1.0, 0.0, 0.0, 0.0, 0.0, 0.0, 0.0, 0.0, 0.0, 0.0, 1.0, 1.0, 0.0, 0.0, 0.0, 0.0, 1.0, 0.0, 0.0, 0.0, 0.0, 1.0, 0.0, 0.0, 0.0, 0.0, 0.0, 0.0, 1.0, 0.0, 0.0, 0.0, 0.0, 0.0, 1.0, 0.0, 1.0, 1.0, 0.0, 0.0, 0.0, 0.0, 1.0, 1.0, 0.0, 0.0, 0.0, 0.0, 0.0, 0.0, 0.0, 0.0, 0.0, 0.0, 0.0, 0.0, 0.0, 0.0, 0.0, 0.0, 0.0, 0.0, 0.0, 1.0, 0.0, 1.0, 0.0, 0.0, 1.0, 0.0, 0.0, 1.0, 0.0, 0.0, 1.0, 0.0, 1.0, 0.0, 0.0, 0.0, 1.0, 0.0, 0.0, 0.0, 0.0, 0.0, 0.0, 0.0, 0.0, 0.0, 0.0, 0.0, 1.0, 1.0, 0.0, 0.0, 1.0, 0.0, 1.0, 0.0, 0.0, 0.0, 0.0, 0.0, 1.0, 0.0, 1.0, 0.0, 0.0, 0.0, 0.0, 0.0, 0.0, 0.0, 0.0, 0.0, 0.0, 0.0, 0.0, 0.0, 0.0, 0.0, 0.0, 0.0, 1.0, 0.0, 0.0, 1.0, 0.0, 0.0, 1.0, 1.0, 1.0, 0.0, 1.0, 0.0, 0.0, 0.0, 0.0, 1.0, 0.0, 0.0, 1.0, 0.0, 0.0, 0.0, 0.0, 1.0, 1.0, 1.0, 0.0, 0.0, 0.0, 0.0, 0.0, 0.0, 0.0, 1.0, 1.0, 0.0, 0.0, 0.0, 0.0, 1.0, 0.0, 0.0, 1.0, 0.0, 0.0, 0.0, 0.0, 0.0, 1.0, 0.0, 0.0, 0.0, 0.0, 0.0, 0.0, 0.0, 1.0, 0.0, 1.0, 0.0, 1.0, 0.0, 1.0, 0.0, 0.0, 0.0, 0.0, 0.0, 1.0, 1.0, 1.0, 0.0, 0.0, 0.0, 0.0, 0.0, 0.0, 0.0, 1.0, 0.0, 1.0, 0.0, 0.0, 0.0, 1.0, 0.0, 1.0, 0.0, 1.0, 0.0, 0.0, 0.0, 1.0, 1.0, 0.0, 0.0, 0.0, 0.0, 0.0, 1.0, 1.0, 0.0, 0.0, 0.0, 1.0, 1.0, 0.0, 1.0, 0.0, 0.0, 1.0, 0.0, 0.0, 0.0, 0.0, 0.0, 0.0, 0.0, 0.0, 0.0, 0.0, 0.0, 0.0, 1.0, 1.0, 1.0, 0.0, 0.0, 0.0, 0.0, 1.0, 0.0, 1.0, 0.0, 0.0, 1.0, 1.0, 0.0, 1.0, 0.0, 0.0, 1.0, 0.0, 0.0, 0.0, 0.0, 0.0, 1.0, 0.0, 0.0, 0.0, 0.0, 0.0, 0.0, 0.0, 1.0, 0.0, 0.0, 0.0, 1.0, 0.0, 0.0, 0.0, 0.0, 0.0, 0.0, 0.0, 0.0, 0.0, 1.0, 1.0, 0.0, 1.0, 0.0, 0.0, 0.0, 1.0, 1.0, 0.0, 0.0, 0.0, 1.0, 0.0, 1.0, 0.0, 1.0, 0.0, 0.0, 1.0, 0.0, 0.0, 1.0, 0.0, 0.0, 0.0, 0.0, 1.0, 0.0, 0.0, 0.0, 0.0, 0.0, 0.0, 0.0, 0.0, 0.0, 0.0, 1.0, 0.0, 0.0, 0.0, 0.0, 0.0, 0.0, 0.0, 0.0, 1.0, 0.0, 0.0, 0.0, 1.0, 0.0, 0.0, 0.0, 0.0, 0.0, 0.0, 0.0, 0.0, 0.0, 0.0, 0.0, 0.0, 0.0, 0.0, 0.0, 0.0, 1.0, 1.0, 0.0, 1.0, 1.0, 0.0, 1.0, 0.0, 0.0, 0.0, 1.0, 1.0, 0.0, 0.0, 0.0, 0.0, 0.0, 0.0, 0.0, 1.0, 0.0, 0.0, 0.0, 0.0, 0.0, 1.0, 0.0, 0.0, 1.0, 1.0, 0.0, 0.0, 0.0, 0.0, 1.0, 1.0, 0.0, 1.0, 1.0, 0.0, 0.0, 0.0, 0.0, 1.0, 1.0, 0.0, 0.0, 0.0, 0.0, 0.0, 0.0, 0.0, 0.0, 1.0, 1.0, 0.0, 1.0, 0.0, 1.0, 0.0, 0.0, 0.0, 0.0, 0.0, 0.0, 0.0, 0.0, 1.0, 1.0, 0.0, 0.0, 0.0, 0.0, 0.0, 1.0, 0.0, 1.0, 0.0, 0.0, 0.0, 0.0, 0.0, 0.0, 0.0, 0.0, 0.0, 1.0, 0.0, 0.0, 0.0, 1.0, 1.0, 1.0, 0.0, 0.0, 0.0, 1.0, 0.0, 0.0, 0.0, 1.0, 0.0, 0.0, 0.0, 0.0, 0.0, 0.0, 1.0, 0.0, 1.0, 0.0, 0.0, 0.0, 1.0, 0.0, 1.0, 0.0, 1.0, 0.0, 0.0, 0.0, 0.0, 1.0, 0.0, 0.0, 1.0, 0.0, 1.0, 0.0, 0.0, 1.0, 0.0, 0.0, 1.0, 1.0, 1.0, 1.0, 0.0, 0.0, 1.0, 0.0, 0.0, 0.0, 0.0, 0.0, 0.0, 0.0, 0.0, 1.0, 0.0, 0.0, 0.0, 0.0, 0.0, 0.0, 1.0, 0.0, 0.0, 1.0, 1.0, 1.0, 1.0, 0.0, 0.0, 0.0, 0.0, 0.0, 1.0, 0.0, 1.0, 0.0, 0.0, 0.0, 0.0, 0.0, 1.0, 0.0, 0.0, 1.0, 0.0, 1.0, 0.0, 1.0, 0.0, 1.0, 1.0, 0.0, 1.0, 1.0, 0.0, 0.0, 0.0, 0.0, 0.0, 0.0, 1.0, 0.0, 1.0, 1.0, 0.0, 1.0, 1.0, 0.0, 0.0, 1.0, 0.0, 1.0, 0.0, 0.0, 0.0, 1.0, 0.0, 0.0, 1.0, 0.0, 0.0, 0.0, 0.0, 0.0, 0.0, 0.0, 0.0, 0.0, 0.0, 0.0, 0.0, 0.0, 1.0, 1.0, 0.0, 0.0, 0.0, 0.0, 0.0, 0.0, 1.0, 0.0, 0.0, 1.0, 0.0, 0.0, 0.0, 0.0, 0.0, 0.0, 0.0, 0.0, 0.0, 1.0, 0.0, 0.0, 0.0, 0.0, 0.0, 1.0, 1.0, 0.0, 0.0, 0.0, 0.0, 0.0, 1.0, 0.0, 1.0, 1.0, 1.0, 1.0, 0.0, 0.0, 0.0, 0.0, 0.0, 0.0, 1.0, 0.0, 0.0, 1.0, 1.0, 0.0, 1.0, 1.0, 1.0, 1.0, 0.0, 1.0, 0.0, 0.0, 0.0, 0.0, 0.0, 0.0, 0.0, 0.0, 0.0, 0.0, 0.0, 0.0, 0.0, 0.0, 0.0, 0.0, 0.0, 0.0, 0.0, 0.0, 1.0, 0.0, 0.0, 1.0, 0.0, 0.0, 1.0, 1.0, 1.0, 0.0, 1.0, 0.0, 0.0, 1.0, 1.0, 0.0, 0.0, 1.0, 1.0, 0.0, 0.0, 0.0, 0.0, 1.0, 1.0, 0.0, 0.0, 0.0, 1.0, 0.0, 0.0, 0.0, 0.0, 0.0, 0.0, 0.0, 1.0, 1.0, 1.0, 0.0, 0.0, 0.0, 1.0, 0.0, 0.0, 0.0, 0.0, 1.0, 0.0, 0.0, 0.0, 1.0, 0.0, 0.0, 0.0, 0.0, 1.0, 1.0, 0.0, 1.0, 1.0, 0.0, 0.0, 0.0, 0.0, 1.0, 0.0, 0.0, 1.0, 0.0, 0.0, 0.0, 0.0, 1.0, 1.0, 0.0, 0.0, 0.0, 0.0, 1.0, 0.0, 1.0, 0.0, 0.0, 0.0, 0.0, 0.0, 0.0, 0.0, 0.0, 0.0, 0.0, 0.0, 1.0, 1.0, 0.0, 0.0, 0.0, 0.0, 0.0, 0.0, 0.0, 0.0, 0.0, 0.0, 0.0, 0.0, 0.0, 0.0, 0.0, 0.0, 1.0, 0.0, 0.0, 1.0, 0.0, 0.0, 1.0, 0.0, 1.0, 0.0, 0.0, 0.0, 0.0, 0.0, 0.0, 0.0, 0.0, 0.0, 0.0, 0.0, 1.0, 0.0, 1.0, 0.0, 0.0, 0.0, 0.0, 0.0, 0.0, 0.0, 0.0, 0.0, 0.0, 1.0, 0.0, 1.0, 1.0, 0.0, 0.0, 0.0, 0.0, 0.0, 0.0, 0.0, 1.0, 1.0, 1.0, 0.0, 0.0, 0.0, 0.0, 0.0, 1.0, 1.0, 1.0, 1.0, 0.0, 0.0, 0.0, 0.0, 0.0, 0.0, 0.0, 0.0, 0.0, 0.0, 0.0, 0.0, 1.0, 0.0, 0.0, 1.0, 0.0, 0.0, 1.0, 0.0, 0.0, 0.0, 1.0, 1.0, 0.0, 0.0, 0.0, 0.0, 0.0, 1.0, 0.0, 0.0, 0.0, 0.0, 1.0, 0.0, 0.0, 0.0, 0.0, 0.0, 1.0, 1.0, 0.0, 1.0, 0.0, 1.0, 0.0, 1.0, 0.0, 0.0, 0.0, 0.0, 1.0, 0.0, 0.0, 0.0, 1.0, 0.0, 0.0, 0.0, 0.0, 0.0, 0.0, 0.0, 1.0, 0.0, 1.0, 0.0, 1.0, 0.0, 1.0, 0.0, 0.0, 0.0, 0.0, 0.0, 0.0, 0.0, 0.0, 0.0, 0.0, 0.0, 0.0, 1.0, 0.0, 0.0, 1.0, 1.0, 1.0, 0.0, 0.0, 0.0, 1.0, 1.0, 0.0, 1.0, 0.0, 0.0, 0.0, 0.0, 1.0, 1.0, 0.0, 0.0, 0.0, 0.0, 0.0, 1.0, 0.0, 0.0, 1.0, 1.0, 0.0, 1.0, 0.0, 1.0, 1.0, 0.0, 0.0, 0.0, 0.0, 1.0, 1.0, 1.0, 1.0, 1.0, 0.0, 0.0, 1.0, 1.0, 0.0, 1.0, 1.0, 0.0, 1.0, 0.0, 0.0, 0.0, 0.0, 0.0, 0.0, 0.0, 1.0, 0.0, 0.0, 1.0, 0.0, 0.0, 0.0, 0.0, 0.0, 1.0, 1.0, 1.0, 0.0, 0.0, 0.0, 0.0, 0.0, 0.0, 0.0, 0.0, 0.0, 0.0, 0.0, 0.0, 0.0, 0.0, 1.0, 0.0, 1.0, 0.0, 1.0, 1.0, 0.0, 0.0, 0.0, 0.0, 0.0, 0.0, 1.0, 1.0, 0.0, 0.0, 0.0, 0.0, 0.0, 0.0, 1.0, 0.0, 0.0, 0.0, 0.0, 0.0, 0.0, 0.0, 0.0, 0.0, 0.0, 1.0, 0.0, 0.0, 0.0, 1.0, 0.0, 0.0, 0.0, 0.0, 0.0, 0.0, 1.0, 0.0, 0.0, 0.0, 0.0, 0.0, 0.0, 0.0, 1.0, 0.0, 1.0, 0.0, 0.0, 1.0, 0.0, 0.0, 0.0, 0.0, 1.0, 0.0, 0.0, 0.0, 0.0, 0.0, 1.0, 0.0, 0.0, 0.0, 0.0, 0.0, 1.0, 0.0, 0.0, 0.0, 1.0, 0.0, 1.0, 0.0, 0.0, 0.0, 0.0, 0.0, 0.0, 0.0, 0.0, 0.0, 0.0, 0.0, 0.0, 0.0, 0.0, 0.0, 0.0, 1.0, 0.0, 0.0, 0.0, 1.0, 0.0, 0.0, 1.0, 0.0, 0.0, 0.0, 0.0, 0.0, 1.0, 0.0, 0.0, 0.0, 1.0, 0.0, 0.0, 0.0, 0.0, 0.0, 0.0, 0.0, 0.0, 0.0, 0.0, 0.0, 0.0, 1.0, 0.0, 0.0, 0.0, 0.0, 1.0, 1.0, 0.0, 1.0, 0.0, 0.0, 0.0, 0.0, 0.0, 0.0, 1.0, 0.0, 0.0, 1.0, 1.0, 0.0, 1.0, 1.0, 0.0, 0.0, 0.0, 1.0, 1.0, 0.0, 1.0, 1.0, 1.0, 1.0, 1.0, 0.0, 1.0, 1.0, 1.0, 1.0, 0.0, 0.0, 0.0, 1.0, 1.0, 0.0, 0.0, 0.0, 0.0, 0.0, 1.0, 1.0, 1.0, 1.0, 0.0, 0.0, 0.0, 0.0, 0.0, 0.0, 0.0, 0.0, 0.0, 0.0, 0.0, 0.0, 0.0, 0.0, 0.0, 0.0, 0.0, 0.0, 0.0, 0.0, 0.0, 0.0, 0.0, 0.0, 1.0, 0.0, 0.0, 0.0, 0.0, 0.0, 0.0, 0.0, 0.0, 0.0, 0.0, 0.0, 0.0, 0.0, 0.0, 1.0, 1.0, 0.0, 0.0, 0.0, 0.0, 0.0, 0.0, 0.0, 0.0, 0.0, 0.0, 1.0, 0.0, 0.0, 1.0, 0.0, 0.0, 1.0, 0.0, 1.0, 0.0, 0.0, 0.0, 0.0, 0.0, 0.0, 0.0, 0.0, 1.0, 0.0, 1.0, 0.0, 0.0, 0.0, 0.0, 0.0, 1.0, 0.0, 0.0, 1.0, 0.0, 0.0, 0.0, 1.0, 0.0, 0.0, 0.0, 0.0, 0.0, 0.0, 0.0, 0.0, 0.0, 1.0, 0.0, 0.0, 1.0, 0.0, 0.0, 0.0, 1.0, 0.0, 0.0, 0.0, 0.0, 0.0, 0.0, 1.0, 0.0, 0.0, 0.0, 0.0, 1.0, 0.0, 1.0, 0.0, 1.0, 1.0, 0.0, 0.0, 0.0, 1.0, 1.0, 1.0, 0.0, 0.0, 0.0, 0.0, 0.0, 1.0, 0.0, 1.0, 0.0, 1.0, 1.0, 0.0, 0.0, 0.0, 1.0, 0.0, 0.0, 0.0, 0.0, 0.0, 0.0, 1.0, 0.0, 0.0, 0.0, 0.0, 0.0, 0.0, 0.0, 0.0, 0.0, 0.0, 1.0, 0.0, 1.0, 0.0, 0.0, 0.0, 0.0, 0.0, 1.0, 0.0, 0.0, 0.0, 0.0, 0.0, 0.0, 0.0, 0.0, 1.0, 1.0, 1.0, 0.0, 0.0, 1.0, 0.0, 0.0, 1.0, 0.0, 0.0, 0.0, 0.0, 1.0, 0.0, 1.0, 0.0, 0.0, 1.0, 0.0, 0.0, 0.0, 0.0, 1.0, 1.0, 0.0, 0.0, 1.0, 0.0, 0.0, 0.0, 0.0, 0.0, 0.0, 1.0, 0.0, 1.0, 0.0, 1.0, 0.0, 0.0, 0.0, 0.0, 0.0, 0.0, 0.0, 0.0, 1.0, 0.0, 0.0, 0.0, 0.0, 1.0, 0.0, 0.0, 0.0, 0.0, 0.0, 0.0, 1.0, 0.0, 0.0, 0.0, 0.0, 1.0, 1.0, 0.0, 0.0, 0.0, 0.0, 1.0, 0.0, 0.0, 1.0, 1.0, 0.0, 0.0, 0.0, 0.0, 0.0, 0.0, 0.0, 0.0, 0.0, 0.0, 0.0, 0.0, 0.0, 0.0, 0.0, 0.0, 0.0, 0.0, 0.0, 0.0, 0.0, 0.0, 0.0, 1.0, 1.0, 0.0, 0.0, 0.0, 1.0, 1.0, 0.0, 0.0, 1.0, 0.0, 0.0, 1.0, 0.0, 0.0, 1.0, 0.0, 0.0, 0.0, 0.0, 1.0, 0.0, 0.0, 0.0, 1.0, 1.0, 0.0, 0.0, 1.0, 0.0, 0.0, 1.0, 1.0, 0.0, 0.0, 0.0, 0.0, 0.0, 0.0, 0.0, 0.0, 0.0, 1.0, 0.0, 0.0, 0.0, 1.0, 0.0, 0.0, 0.0, 0.0, 0.0, 1.0, 0.0, 0.0, 0.0, 0.0, 0.0, 0.0, 1.0, 0.0, 0.0, 0.0, 0.0, 0.0, 1.0, 0.0, 1.0, 0.0, 0.0, 1.0, 0.0, 0.0, 0.0, 0.0, 0.0, 1.0, 0.0, 0.0, 0.0, 0.0, 0.0, 0.0, 0.0, 1.0, 0.0, 0.0, 0.0, 0.0, 0.0, 0.0, 0.0, 1.0, 0.0, 0.0, 0.0, 0.0, 0.0, 0.0, 0.0, 1.0, 0.0, 0.0, 0.0, 0.0, 1.0, 0.0, 1.0, 1.0, 0.0, 0.0, 1.0, 0.0, 0.0, 0.0, 1.0, 1.0, 1.0, 0.0, 1.0, 0.0, 0.0, 0.0, 0.0, 0.0, 0.0, 0.0, 0.0, 1.0, 0.0, 0.0, 0.0, 1.0, 1.0, 0.0, 0.0, 0.0, 0.0, 0.0, 0.0, 0.0, 0.0, 1.0, 0.0, 1.0, 1.0, 0.0, 0.0, 0.0, 0.0, 1.0, 0.0, 1.0, 0.0, 0.0, 0.0, 0.0, 0.0, 0.0, 0.0, 1.0, 1.0, 0.0, 0.0, 0.0, 0.0, 0.0, 0.0, 0.0, 0.0, 0.0, 0.0, 0.0, 0.0, 1.0, 0.0, 1.0, 0.0, 1.0, 0.0, 0.0, 0.0, 0.0, 0.0, 1.0, 0.0, 0.0, 1.0, 0.0, 1.0, 0.0, 0.0, 0.0, 0.0, 0.0, 0.0, 0.0, 0.0, 0.0, 0.0, 1.0, 0.0, 0.0, 0.0, 0.0, 0.0, 0.0, 1.0, 0.0, 0.0, 0.0, 0.0, 0.0, 0.0, 1.0, 0.0, 1.0, 0.0, 0.0, 0.0, 0.0, 0.0, 1.0, 0.0, 1.0, 0.0, 0.0, 0.0, 0.0, 1.0, 0.0, 1.0, 1.0, 1.0, 1.0, 1.0, 0.0, 0.0, 0.0, 0.0, 1.0, 0.0, 0.0, 0.0, 0.0, 0.0, 0.0, 1.0, 0.0, 1.0, 0.0, 0.0, 0.0, 1.0, 0.0, 0.0, 1.0, 0.0, 0.0, 0.0, 0.0, 0.0, 0.0, 0.0, 0.0, 0.0, 1.0, 1.0, 0.0, 1.0, 0.0, 0.0, 0.0, 1.0, 1.0, 1.0, 0.0, 1.0, 0.0, 1.0, 0.0, 0.0, 0.0, 0.0, 0.0, 1.0, 1.0, 0.0, 1.0, 0.0, 0.0, 0.0, 0.0, 0.0, 0.0, 0.0, 0.0, 1.0, 1.0, 0.0, 0.0, 0.0, 0.0, 0.0, 0.0, 0.0, 1.0, 0.0, 0.0, 0.0, 1.0, 0.0, 0.0, 1.0, 0.0, 1.0, 0.0, 0.0, 1.0, 0.0, 1.0, 0.0, 0.0, 0.0, 1.0, 0.0, 0.0, 1.0, 0.0, 0.0, 0.0, 0.0, 0.0, 0.0, 1.0, 0.0, 0.0, 0.0, 0.0, 0.0, 0.0, 1.0, 0.0, 0.0, 0.0, 0.0, 0.0, 0.0, 0.0, 1.0, 0.0, 0.0, 0.0, 0.0, 0.0, 0.0, 1.0, 0.0, 0.0, 0.0, 0.0, 1.0, 0.0, 0.0, 1.0, 0.0, 0.0, 0.0, 0.0, 0.0, 0.0, 1.0, 0.0, 0.0, 0.0, 1.0, 0.0, 0.0, 0.0, 1.0, 0.0, 0.0, 0.0, 0.0, 0.0, 0.0, 0.0, 0.0, 1.0, 0.0, 1.0, 0.0, 1.0, 0.0, 0.0, 1.0, 0.0, 0.0, 0.0, 0.0, 0.0, 1.0, 0.0, 0.0, 0.0, 0.0, 1.0, 0.0, 0.0, 0.0, 0.0, 0.0, 0.0, 0.0, 0.0, 1.0, 0.0, 1.0, 0.0, 0.0, 1.0, 0.0, 0.0, 0.0, 0.0, 0.0, 1.0, 0.0, 0.0, 0.0, 0.0, 0.0, 0.0, 0.0, 0.0, 0.0, 1.0, 0.0, 1.0, 0.0, 1.0, 0.0, 0.0, 0.0, 0.0, 0.0, 0.0, 0.0, 0.0, 0.0, 0.0, 0.0, 0.0, 0.0, 1.0, 1.0, 1.0, 0.0, 0.0, 0.0, 0.0, 0.0, 0.0, 0.0, 0.0, 0.0, 0.0, 0.0, 0.0, 0.0, 1.0, 1.0, 0.0, 0.0, 0.0, 0.0, 1.0, 0.0, 1.0, 1.0, 0.0, 0.0, 0.0, 0.0, 0.0, 1.0, 0.0, 0.0, 0.0, 0.0, 0.0, 0.0, 0.0, 0.0, 0.0, 0.0, 0.0, 0.0, 0.0, 1.0, 1.0, 0.0, 0.0, 0.0, 0.0, 1.0, 0.0, 0.0, 0.0, 0.0, 0.0, 0.0, 0.0, 0.0, 1.0, 0.0, 0.0, 0.0, 0.0, 0.0, 0.0, 1.0, 0.0, 0.0, 1.0, 0.0, 0.0, 0.0, 0.0, 0.0, 0.0, 0.0, 0.0, 0.0, 1.0, 0.0, 1.0, 0.0, 1.0, 0.0, 0.0, 0.0, 1.0, 0.0, 0.0, 1.0, 1.0, 0.0, 0.0, 0.0, 0.0, 0.0, 0.0, 0.0, 0.0, 0.0, 0.0, 0.0, 0.0, 0.0, 1.0, 0.0, 0.0, 1.0, 1.0, 1.0, 0.0, 0.0, 1.0, 0.0, 1.0, 0.0, 0.0, 0.0, 0.0, 1.0, 0.0, 0.0, 0.0, 1.0, 1.0, 0.0, 0.0, 0.0, 0.0, 0.0, 0.0, 1.0, 0.0, 0.0, 1.0, 0.0, 0.0, 0.0, 0.0, 0.0, 1.0, 0.0, 0.0, 1.0, 0.0, 1.0, 0.0, 1.0, 0.0, 0.0, 0.0, 0.0, 1.0, 1.0, 1.0, 0.0, 0.0, 0.0, 0.0, 0.0, 0.0, 0.0, 0.0, 1.0, 1.0, 0.0, 0.0, 1.0, 1.0, 0.0, 0.0, 1.0, 0.0, 0.0, 0.0, 1.0, 0.0, 1.0, 0.0, 1.0, 0.0, 0.0, 0.0, 0.0, 1.0, 1.0, 1.0, 1.0, 0.0, 0.0, 0.0, 0.0, 0.0, 0.0, 1.0, 1.0, 1.0, 0.0, 0.0, 0.0, 1.0, 0.0, 0.0, 0.0, 0.0, 0.0, 0.0, 0.0, 0.0, 0.0, 0.0, 0.0, 1.0, 1.0, 0.0, 1.0, 0.0, 0.0, 0.0, 0.0, 0.0, 0.0, 0.0, 0.0, 1.0, 1.0, 0.0, 0.0, 0.0, 0.0, 0.0, 0.0, 0.0, 0.0, 0.0, 0.0, 1.0, 0.0, 0.0, 0.0, 0.0, 0.0, 0.0, 0.0, 0.0, 1.0, 0.0, 0.0, 0.0, 1.0, 0.0, 0.0, 0.0, 0.0, 0.0, 1.0, 0.0, 0.0, 0.0, 0.0, 0.0, 0.0, 0.0, 0.0, 0.0, 1.0, 1.0, 0.0, 0.0, 1.0, 1.0, 0.0, 1.0, 0.0, 0.0, 1.0, 0.0, 1.0, 0.0, 0.0, 0.0, 0.0, 0.0, 1.0, 0.0, 0.0, 0.0, 0.0, 0.0, 0.0, 0.0, 0.0, 0.0, 0.0, 0.0, 1.0, 0.0, 0.0, 1.0, 0.0, 0.0, 0.0, 0.0, 0.0, 0.0, 0.0, 0.0, 0.0, 1.0, 0.0, 0.0, 0.0, 1.0, 0.0, 0.0, 0.0, 0.0, 0.0, 0.0, 0.0, 1.0, 0.0, 0.0, 1.0, 0.0, 1.0, 1.0, 0.0, 1.0, 1.0, 0.0, 1.0, 0.0, 1.0, 0.0, 0.0, 0.0, 0.0, 1.0, 0.0, 1.0, 0.0, 0.0, 0.0, 0.0, 0.0, 0.0, 0.0, 0.0, 1.0, 1.0, 0.0, 0.0, 0.0, 1.0, 0.0, 0.0, 0.0, 1.0, 0.0, 1.0, 0.0, 0.0, 1.0, 0.0, 0.0, 0.0, 0.0, 0.0, 0.0, 0.0, 0.0, 0.0, 0.0, 0.0, 0.0, 1.0, 0.0, 0.0, 0.0, 1.0, 0.0, 0.0, 0.0, 0.0, 1.0, 0.0, 0.0, 0.0, 0.0, 0.0, 1.0, 1.0, 1.0, 0.0, 0.0, 0.0, 0.0, 0.0, 0.0, 0.0, 0.0, 0.0, 1.0, 0.0, 1.0, 1.0, 0.0, 0.0, 0.0, 0.0, 1.0, 1.0, 0.0, 0.0, 1.0, 0.0, 0.0, 0.0, 0.0, 0.0, 0.0, 0.0, 0.0, 0.0, 0.0, 0.0, 0.0, 0.0, 0.0, 0.0, 1.0, 0.0, 0.0, 1.0, 0.0, 0.0, 0.0, 0.0, 0.0, 1.0, 0.0, 0.0, 0.0, 0.0, 0.0, 0.0, 0.0, 0.0, 1.0, 0.0, 1.0, 0.0, 0.0, 0.0, 0.0, 0.0, 0.0, 0.0, 0.0, 1.0, 0.0, 1.0, 0.0, 1.0, 0.0, 1.0, 0.0, 0.0, 0.0, 0.0, 0.0, 0.0, 1.0, 1.0, 1.0, 0.0, 0.0, 0.0, 0.0, 0.0, 0.0, 0.0, 0.0, 0.0, 1.0, 1.0, 1.0, 0.0, 0.0, 0.0, 1.0, 1.0, 0.0, 0.0, 0.0, 0.0, 0.0, 0.0, 0.0, 0.0, 1.0, 0.0, 0.0, 0.0, 0.0, 0.0, 0.0, 0.0, 0.0, 1.0, 0.0, 1.0, 0.0, 0.0, 0.0, 0.0, 1.0, 0.0, 1.0, 1.0, 0.0, 0.0, 1.0, 0.0, 0.0, 0.0, 0.0, 0.0, 0.0, 1.0, 0.0, 0.0, 0.0, 1.0, 0.0, 0.0, 0.0, 0.0, 1.0, 1.0, 0.0, 0.0, 0.0, 1.0, 0.0, 0.0, 0.0, 0.0, 0.0, 0.0, 1.0, 0.0, 0.0, 0.0, 0.0, 0.0, 0.0, 0.0, 0.0, 0.0, 0.0, 1.0, 0.0, 0.0, 0.0, 0.0, 0.0, 0.0, 1.0, 0.0, 0.0, 0.0, 1.0, 1.0, 0.0, 0.0, 0.0, 0.0, 0.0, 0.0, 0.0, 0.0, 0.0, 1.0, 0.0, 0.0, 0.0, 0.0, 0.0, 1.0, 0.0, 0.0, 0.0, 0.0, 0.0, 1.0, 0.0, 0.0, 0.0, 1.0, 0.0, 0.0, 0.0, 0.0, 1.0, 0.0, 0.0, 0.0, 0.0, 0.0, 1.0, 1.0, 0.0, 0.0, 0.0, 1.0, 1.0, 0.0, 0.0, 1.0, 0.0, 1.0, 0.0, 0.0, 0.0, 0.0, 0.0, 0.0, 0.0, 0.0, 1.0, 0.0, 0.0, 1.0, 0.0, 0.0, 0.0, 0.0, 0.0, 0.0, 0.0, 0.0, 0.0, 0.0, 0.0, 0.0, 0.0, 0.0, 0.0, 0.0, 1.0, 0.0, 0.0, 0.0, 0.0, 0.0, 0.0, 0.0, 0.0, 0.0, 0.0, 0.0, 1.0, 0.0, 1.0, 1.0, 1.0, 0.0, 0.0, 0.0, 0.0, 1.0, 0.0, 0.0, 0.0, 0.0, 0.0, 0.0, 1.0, 0.0, 0.0, 0.0, 0.0, 0.0, 1.0, 0.0, 0.0, 0.0, 0.0, 0.0, 0.0, 0.0, 0.0, 0.0, 0.0, 0.0, 0.0, 0.0, 1.0, 0.0, 0.0, 0.0, 0.0, 0.0, 0.0, 1.0, 0.0, 0.0, 0.0, 0.0, 0.0, 1.0, 0.0, 1.0, 1.0, 0.0, 1.0, 0.0, 1.0, 0.0, 0.0, 0.0, 0.0, 0.0, 0.0, 0.0, 1.0, 0.0, 0.0, 1.0, 0.0, 0.0, 0.0, 0.0, 0.0, 0.0, 0.0, 0.0, 1.0, 0.0, 0.0, 0.0, 0.0, 1.0, 1.0, 0.0, 0.0, 0.0, 1.0, 0.0, 0.0, 0.0, 0.0, 1.0, 0.0, 0.0, 0.0, 0.0, 0.0, 0.0, 0.0, 1.0, 1.0, 1.0, 0.0, 0.0, 1.0, 1.0, 0.0, 1.0, 0.0, 0.0, 0.0, 0.0, 0.0, 0.0, 0.0, 0.0, 1.0, 1.0, 1.0, 0.0, 0.0, 0.0, 0.0, 1.0, 0.0, 0.0, 0.0, 0.0, 0.0, 0.0, 0.0, 0.0, 0.0, 1.0, 0.0, 0.0, 0.0, 0.0, 0.0, 1.0, 1.0, 0.0, 0.0, 0.0, 1.0, 1.0, 1.0, 0.0, 0.0, 0.0, 0.0, 0.0, 0.0, 0.0, 0.0, 0.0, 1.0, 0.0, 0.0, 0.0, 0.0, 0.0, 0.0, 1.0, 0.0, 1.0, 0.0, 0.0, 0.0, 0.0, 0.0, 0.0, 1.0, 0.0, 0.0, 0.0, 0.0, 0.0, 1.0, 1.0, 1.0, 0.0, 0.0, 1.0, 0.0, 0.0, 1.0, 0.0, 0.0, 0.0, 0.0, 0.0, 0.0, 0.0, 1.0, 0.0, 0.0, 0.0, 0.0, 0.0, 1.0, 0.0, 1.0, 0.0, 0.0, 0.0, 0.0, 0.0, 0.0, 1.0, 0.0, 0.0, 1.0, 1.0, 0.0, 1.0, 0.0, 1.0, 0.0, 0.0, 0.0, 0.0, 0.0, 0.0, 0.0, 1.0, 0.0, 0.0, 0.0, 1.0, 0.0, 1.0, 0.0, 0.0, 0.0, 0.0, 0.0, 0.0, 0.0, 1.0, 1.0, 0.0, 0.0, 1.0, 0.0, 0.0, 0.0, 1.0, 0.0, 0.0, 0.0, 1.0, 0.0, 0.0, 0.0, 0.0, 1.0, 0.0, 1.0, 0.0, 0.0, 0.0, 0.0, 0.0, 0.0, 0.0, 0.0, 0.0, 0.0, 0.0, 0.0, 1.0, 1.0, 0.0, 0.0, 0.0, 0.0, 0.0, 1.0, 1.0, 0.0, 0.0, 0.0, 0.0, 0.0, 0.0, 1.0, 0.0, 1.0, 0.0, 0.0, 0.0, 0.0, 0.0, 1.0, 0.0, 0.0, 0.0, 0.0, 0.0, 1.0, 1.0, 0.0, 0.0, 0.0, 0.0, 0.0, 0.0, 0.0, 0.0, 1.0, 0.0, 0.0, 1.0, 1.0, 0.0, 0.0, 1.0, 0.0, 0.0, 1.0, 0.0, 1.0, 0.0, 0.0, 1.0, 0.0, 1.0, 0.0, 1.0, 0.0, 0.0, 0.0, 0.0, 0.0, 1.0, 0.0, 1.0, 0.0, 0.0, 0.0, 0.0, 1.0, 1.0, 0.0, 0.0, 1.0, 1.0, 0.0, 0.0, 0.0, 0.0, 0.0, 0.0, 1.0, 0.0, 0.0, 1.0, 0.0, 1.0, 0.0, 0.0, 0.0, 0.0, 0.0, 0.0, 0.0, 1.0, 1.0, 0.0, 0.0, 0.0, 0.0, 1.0, 1.0, 0.0, 1.0, 0.0, 0.0, 0.0, 0.0, 0.0, 1.0, 0.0, 0.0, 1.0, 0.0, 1.0, 0.0, 0.0, 0.0, 0.0, 0.0, 0.0, 1.0, 1.0, 0.0, 0.0, 0.0, 0.0, 0.0, 0.0, 0.0, 0.0, 1.0, 0.0, 1.0, 0.0, 1.0, 0.0, 0.0, 1.0, 0.0, 0.0, 1.0, 0.0, 0.0, 1.0, 0.0, 0.0, 0.0, 0.0, 0.0, 0.0, 0.0, 0.0, 1.0, 0.0, 1.0, 0.0, 1.0, 0.0, 0.0, 1.0, 0.0, 0.0, 0.0, 1.0, 0.0, 0.0, 0.0, 0.0, 0.0, 0.0, 0.0, 1.0, 1.0, 0.0, 0.0, 0.0, 0.0, 0.0, 0.0, 0.0, 0.0, 0.0, 0.0, 0.0, 1.0, 0.0, 0.0, 0.0, 1.0, 0.0, 0.0, 0.0, 0.0, 1.0, 0.0, 0.0, 0.0, 0.0, 0.0, 0.0, 0.0, 1.0, 0.0, 0.0, 0.0, 0.0, 0.0, 1.0, 0.0, 0.0, 1.0, 0.0, 0.0, 0.0, 1.0, 0.0, 0.0, 0.0, 1.0, 0.0, 0.0, 0.0, 0.0, 1.0, 0.0, 0.0, 0.0, 1.0, 0.0, 0.0, 1.0, 0.0, 1.0, 0.0, 0.0, 0.0, 1.0, 0.0, 0.0, 0.0, 0.0, 0.0, 0.0, 0.0, 0.0, 0.0, 0.0, 0.0, 0.0, 1.0, 1.0, 0.0, 0.0, 0.0, 0.0, 0.0, 0.0, 0.0, 1.0, 0.0, 0.0, 0.0, 0.0, 1.0, 0.0, 0.0, 0.0, 0.0, 1.0, 0.0, 0.0, 0.0, 0.0, 0.0, 0.0, 0.0, 0.0, 0.0, 0.0, 1.0, 0.0, 0.0, 0.0, 0.0, 0.0, 1.0, 0.0, 0.0, 1.0, 1.0, 1.0, 0.0, 0.0, 0.0, 0.0, 0.0, 0.0, 0.0, 0.0, 1.0, 0.0, 0.0, 0.0, 0.0, 0.0, 1.0, 0.0, 0.0, 1.0, 0.0, 0.0, 1.0, 0.0, 0.0, 0.0, 1.0, 0.0, 0.0, 0.0, 0.0, 0.0, 0.0, 0.0, 1.0, 1.0, 1.0, 0.0, 0.0, 1.0, 0.0, 0.0, 0.0, 0.0, 0.0, 0.0, 1.0, 0.0, 0.0, 0.0, 0.0, 0.0, 0.0, 1.0, 0.0, 0.0, 0.0, 0.0, 0.0, 0.0, 0.0, 1.0, 0.0, 0.0, 0.0, 1.0, 0.0, 0.0, 0.0, 0.0, 0.0, 0.0, 0.0, 0.0, 0.0, 0.0, 0.0, 0.0, 0.0, 0.0, 0.0, 1.0, 1.0, 0.0, 0.0, 0.0, 0.0, 0.0, 0.0, 0.0, 0.0, 0.0, 0.0, 1.0, 0.0, 0.0, 0.0, 0.0, 0.0, 0.0, 0.0, 0.0, 0.0, 0.0, 0.0, 0.0, 0.0, 0.0, 0.0, 1.0, 0.0, 0.0, 0.0, 1.0, 1.0, 0.0, 0.0, 1.0, 1.0, 0.0, 0.0, 0.0, 0.0, 1.0, 0.0, 0.0, 0.0, 0.0, 0.0, 1.0, 0.0, 0.0, 1.0, 0.0, 1.0, 0.0, 0.0, 0.0, 0.0, 0.0, 0.0, 0.0, 0.0, 0.0, 0.0, 0.0, 0.0, 0.0, 1.0, 1.0, 0.0, 0.0, 0.0, 1.0, 0.0, 0.0, 0.0, 0.0, 0.0, 0.0, 0.0, 0.0, 1.0, 0.0, 0.0, 0.0, 0.0, 0.0, 0.0, 0.0, 0.0, 0.0, 0.0, 0.0, 1.0, 1.0, 1.0, 0.0, 0.0, 0.0, 0.0, 1.0, 1.0, 1.0, 0.0, 1.0, 1.0, 0.0, 0.0, 0.0, 1.0, 0.0, 0.0, 0.0, 1.0, 0.0, 1.0, 0.0, 0.0, 0.0, 1.0, 0.0, 1.0, 0.0, 1.0, 0.0, 0.0, 0.0, 1.0, 0.0, 0.0, 0.0, 0.0, 0.0, 0.0, 0.0, 1.0, 0.0, 0.0, 1.0, 1.0, 0.0, 0.0, 0.0, 0.0, 0.0, 0.0, 0.0, 0.0, 0.0, 0.0, 0.0, 0.0, 0.0, 0.0, 0.0, 0.0, 0.0, 0.0, 0.0, 0.0, 0.0, 0.0, 1.0, 1.0, 1.0, 0.0, 0.0, 0.0, 0.0, 0.0, 0.0, 0.0, 1.0, 0.0, 0.0, 0.0, 0.0, 0.0, 0.0, 0.0, 0.0, 0.0, 1.0, 0.0, 0.0, 0.0, 1.0, 0.0, 0.0, 0.0, 0.0, 0.0, 0.0, 0.0, 0.0, 0.0, 0.0, 0.0, 0.0, 0.0, 1.0, 0.0, 0.0, 1.0, 1.0, 1.0, 0.0, 0.0, 0.0, 0.0, 1.0, 0.0, 1.0, 0.0, 1.0, 0.0, 0.0, 1.0, 0.0, 0.0, 0.0, 1.0, 0.0, 1.0, 0.0, 0.0, 0.0, 0.0, 0.0, 0.0, 0.0, 0.0, 0.0, 0.0, 0.0, 0.0, 0.0, 0.0, 0.0, 0.0, 1.0, 1.0, 1.0, 1.0, 0.0, 1.0, 0.0, 0.0, 0.0, 0.0, 0.0, 0.0, 1.0, 0.0, 0.0, 0.0, 1.0, 0.0, 0.0, 1.0, 1.0, 0.0, 1.0, 0.0, 0.0, 0.0, 0.0, 0.0, 0.0, 0.0, 0.0, 0.0, 0.0, 1.0, 0.0, 0.0, 0.0, 1.0, 1.0, 0.0, 0.0, 0.0, 1.0, 1.0, 0.0, 0.0, 0.0, 0.0, 0.0, 0.0, 0.0, 1.0, 0.0, 1.0, 0.0, 0.0, 0.0, 0.0, 0.0, 0.0, 1.0, 0.0, 0.0, 0.0, 0.0, 0.0, 0.0, 0.0, 1.0, 1.0, 0.0, 0.0, 1.0, 0.0, 0.0, 1.0, 1.0, 0.0, 0.0, 1.0, 1.0, 1.0, 0.0, 1.0, 0.0, 1.0, 0.0, 0.0, 0.0, 1.0, 1.0, 0.0, 0.0, 0.0, 1.0, 0.0, 0.0, 0.0, 0.0, 0.0, 0.0, 0.0, 0.0, 1.0, 0.0, 0.0, 1.0, 0.0, 0.0, 0.0, 0.0, 0.0, 0.0, 0.0, 0.0, 0.0, 0.0, 1.0, 0.0, 0.0, 0.0, 0.0, 0.0, 0.0, 1.0, 0.0, 0.0, 0.0, 0.0, 0.0, 0.0, 0.0, 1.0, 0.0, 0.0, 0.0, 0.0, 0.0, 0.0, 0.0, 0.0, 0.0, 0.0, 0.0, 1.0, 0.0, 1.0, 0.0, 0.0, 0.0, 0.0, 0.0, 0.0, 1.0, 0.0, 0.0, 0.0, 1.0, 0.0, 0.0, 0.0, 0.0, 0.0, 0.0, 0.0, 0.0, 0.0, 0.0, 1.0, 1.0, 0.0, 0.0, 1.0, 0.0, 0.0, 0.0, 0.0, 1.0, 1.0, 0.0, 1.0, 1.0, 1.0, 0.0, 1.0, 0.0, 1.0, 0.0, 0.0, 1.0, 0.0, 1.0, 0.0, 0.0, 0.0, 0.0, 0.0, 1.0, 1.0, 0.0, 1.0, 0.0, 1.0, 0.0, 1.0, 0.0, 0.0, 0.0, 0.0, 0.0, 0.0, 1.0, 0.0, 0.0, 0.0, 0.0, 0.0, 0.0, 0.0, 0.0, 0.0, 1.0, 0.0, 0.0, 0.0, 1.0, 0.0, 0.0, 1.0, 0.0, 1.0, 0.0, 0.0, 1.0, 0.0, 1.0, 1.0, 0.0, 0.0, 0.0, 0.0, 1.0, 0.0, 0.0, 0.0, 0.0, 0.0, 0.0, 0.0, 0.0, 0.0, 0.0, 0.0, 1.0, 0.0, 1.0, 0.0, 0.0, 1.0, 0.0, 0.0, 0.0, 0.0, 0.0, 0.0, 0.0, 1.0, 0.0, 0.0, 0.0, 0.0, 0.0, 0.0, 1.0, 1.0, 0.0, 0.0, 0.0, 0.0, 0.0, 0.0, 1.0, 1.0, 0.0, 1.0, 0.0, 0.0, 0.0, 1.0, 1.0, 0.0, 0.0, 0.0, 1.0, 0.0, 0.0, 0.0, 1.0, 0.0, 0.0, 0.0, 1.0, 0.0, 0.0, 0.0, 0.0, 0.0, 0.0, 0.0, 0.0, 0.0, 0.0, 0.0, 1.0, 0.0, 0.0, 0.0, 0.0, 1.0, 0.0, 1.0, 0.0, 0.0, 0.0, 0.0, 0.0, 0.0, 1.0, 1.0, 1.0, 0.0, 1.0, 0.0, 1.0, 0.0, 0.0, 0.0, 0.0, 0.0, 0.0, 0.0, 0.0, 1.0, 0.0, 1.0, 0.0, 0.0, 1.0, 0.0, 0.0, 0.0, 0.0, 1.0, 0.0, 0.0, 0.0, 1.0, 0.0, 0.0, 0.0, 0.0, 0.0, 0.0, 1.0, 0.0, 0.0, 0.0, 1.0, 0.0, 0.0, 0.0, 0.0, 0.0, 0.0, 0.0, 0.0, 1.0, 0.0, 0.0, 1.0, 1.0, 0.0, 0.0, 0.0, 0.0, 0.0, 0.0, 0.0, 0.0, 0.0, 0.0, 0.0, 0.0, 0.0, 1.0, 0.0, 0.0, 0.0, 0.0, 0.0, 0.0, 1.0, 1.0, 0.0, 0.0, 0.0, 0.0, 0.0, 0.0, 0.0, 0.0, 0.0, 0.0, 0.0, 1.0, 0.0, 0.0, 1.0, 0.0, 0.0, 0.0, 1.0, 1.0, 0.0, 1.0, 0.0, 0.0, 0.0, 1.0, 0.0, 0.0, 0.0, 1.0, 0.0, 1.0, 0.0, 0.0, 0.0, 0.0, 0.0, 0.0, 0.0, 0.0, 0.0, 1.0, 0.0, 1.0, 0.0, 1.0, 1.0, 0.0, 0.0, 0.0, 0.0, 0.0, 0.0, 0.0, 0.0, 0.0, 1.0, 0.0, 0.0, 0.0, 0.0, 0.0, 0.0, 0.0, 1.0, 0.0, 0.0, 0.0, 1.0, 0.0, 0.0, 0.0, 0.0, 1.0, 0.0, 1.0, 0.0, 0.0, 0.0, 0.0, 0.0, 0.0, 0.0, 0.0, 0.0, 0.0, 1.0, 0.0, 0.0, 0.0, 0.0, 0.0, 0.0, 0.0, 0.0, 0.0, 1.0, 0.0, 0.0, 0.0, 0.0, 0.0, 0.0, 0.0, 1.0, 1.0, 0.0, 0.0, 0.0, 0.0, 0.0, 0.0, 1.0, 0.0, 0.0, 1.0, 0.0, 1.0, 0.0, 1.0, 0.0, 0.0, 0.0, 0.0, 0.0, 0.0, 0.0, 0.0, 0.0, 0.0, 0.0, 1.0, 0.0, 0.0, 1.0, 0.0, 0.0, 0.0, 1.0, 0.0, 0.0, 0.0, 0.0, 1.0, 0.0, 0.0, 1.0, 0.0, 0.0, 0.0, 0.0, 1.0, 0.0, 0.0, 0.0, 0.0, 1.0, 0.0, 0.0, 0.0, 0.0, 0.0, 0.0, 1.0, 0.0, 0.0, 0.0, 0.0, 1.0, 0.0, 0.0, 0.0, 0.0, 0.0, 0.0, 1.0, 0.0, 0.0, 0.0, 0.0, 0.0, 0.0, 0.0, 0.0, 0.0, 1.0, 0.0, 0.0, 0.0, 0.0, 0.0, 0.0, 0.0, 1.0, 0.0, 1.0, 1.0, 1.0, 0.0, 1.0, 0.0, 0.0, 1.0, 0.0, 0.0, 0.0, 0.0, 1.0, 1.0, 1.0, 1.0, 1.0, 0.0, 0.0, 0.0, 0.0, 0.0, 1.0, 0.0, 0.0, 0.0, 1.0, 0.0, 1.0, 0.0, 0.0, 1.0, 1.0, 0.0, 0.0, 0.0, 0.0, 0.0, 0.0, 1.0, 0.0, 0.0, 0.0, 0.0, 1.0, 1.0, 0.0, 1.0, 0.0, 0.0, 0.0, 0.0, 0.0, 0.0, 0.0, 0.0, 0.0, 0.0, 0.0, 0.0, 0.0, 0.0, 1.0, 0.0, 0.0, 0.0, 0.0, 1.0, 0.0, 1.0, 0.0, 0.0, 0.0, 0.0, 0.0, 1.0, 1.0, 0.0, 0.0, 0.0, 0.0, 0.0, 0.0, 0.0, 0.0, 1.0, 0.0, 0.0, 1.0, 1.0, 1.0, 0.0, 0.0, 0.0, 0.0, 0.0, 1.0, 0.0, 0.0, 0.0, 1.0, 1.0, 1.0, 0.0, 0.0, 0.0, 0.0, 0.0, 0.0, 0.0, 0.0, 1.0, 1.0, 1.0, 1.0, 0.0, 0.0, 0.0, 0.0, 0.0, 1.0, 0.0, 0.0, 1.0, 0.0, 0.0, 1.0, 0.0, 1.0, 1.0, 1.0, 0.0, 0.0, 0.0, 1.0, 0.0, 0.0, 0.0, 1.0, 0.0, 1.0, 1.0, 1.0, 1.0, 1.0, 0.0, 1.0, 0.0, 0.0, 0.0, 0.0, 0.0, 1.0, 1.0, 1.0, 0.0, 0.0, 0.0, 0.0, 0.0, 0.0, 0.0, 0.0, 1.0, 1.0, 1.0, 0.0, 0.0, 1.0, 1.0, 0.0, 0.0, 0.0, 1.0, 1.0, 0.0, 1.0, 0.0, 0.0, 1.0, 1.0, 0.0, 0.0, 0.0, 0.0, 0.0, 1.0, 0.0, 0.0, 1.0, 0.0, 0.0, 0.0, 0.0, 0.0, 1.0, 1.0, 0.0, 0.0, 0.0, 0.0, 1.0, 0.0, 0.0, 1.0, 1.0, 0.0, 0.0, 0.0, 0.0, 1.0, 1.0, 1.0, 0.0, 0.0, 0.0, 1.0, 0.0, 0.0, 1.0, 0.0, 1.0, 0.0, 0.0, 0.0, 0.0, 1.0, 1.0, 0.0, 0.0, 0.0, 0.0, 0.0, 1.0, 0.0, 0.0, 0.0, 1.0, 0.0, 0.0, 1.0, 0.0, 0.0, 0.0, 0.0, 0.0, 0.0, 0.0, 0.0, 0.0, 0.0, 0.0, 0.0, 0.0, 0.0, 0.0, 1.0, 0.0, 0.0, 1.0, 1.0, 0.0, 1.0, 1.0, 1.0, 0.0, 1.0, 1.0, 0.0, 0.0, 0.0, 0.0, 0.0, 0.0, 0.0, 0.0, 0.0, 0.0, 0.0, 1.0, 0.0, 0.0, 0.0, 0.0, 0.0, 0.0, 0.0, 1.0, 0.0, 0.0, 0.0, 0.0, 0.0, 0.0, 0.0, 0.0, 1.0, 0.0, 0.0, 1.0, 1.0, 1.0, 1.0, 1.0, 0.0, 0.0, 1.0, 1.0, 1.0, 0.0, 0.0, 0.0, 1.0, 0.0, 0.0, 0.0, 0.0, 0.0, 0.0, 1.0, 0.0, 1.0, 1.0, 1.0, 0.0, 0.0, 0.0, 1.0, 0.0, 0.0, 1.0, 0.0, 1.0, 0.0, 0.0, 1.0, 0.0, 1.0, 0.0, 0.0, 0.0, 0.0, 0.0, 1.0, 0.0, 0.0, 0.0, 0.0, 0.0, 0.0, 1.0, 0.0, 0.0, 0.0, 0.0, 0.0, 0.0, 0.0, 1.0, 0.0, 1.0, 0.0, 0.0, 1.0, 0.0, 0.0, 0.0, 0.0, 0.0, 0.0, 0.0, 0.0, 0.0, 0.0, 1.0, 0.0, 0.0, 0.0, 0.0, 0.0, 0.0, 0.0, 0.0, 0.0, 0.0, 0.0, 0.0, 0.0, 0.0, 0.0, 0.0, 1.0, 0.0, 0.0, 1.0, 1.0, 0.0, 0.0, 0.0, 0.0, 0.0, 0.0, 0.0, 0.0, 0.0, 0.0, 1.0, 0.0, 0.0, 0.0, 0.0, 0.0, 0.0, 0.0, 0.0, 1.0, 0.0, 1.0, 1.0, 0.0, 1.0, 0.0, 1.0, 0.0, 0.0, 1.0, 0.0, 0.0, 0.0, 0.0, 0.0, 0.0, 0.0, 0.0, 0.0, 1.0, 0.0, 0.0, 1.0, 0.0, 0.0, 0.0, 1.0, 0.0, 0.0, 0.0, 1.0, 0.0, 0.0, 0.0, 0.0, 1.0, 1.0, 1.0, 0.0, 0.0, 1.0, 1.0, 1.0, 0.0, 0.0, 0.0, 0.0, 0.0, 0.0, 0.0, 0.0, 1.0, 0.0, 1.0, 0.0, 0.0, 0.0, 0.0, 1.0, 1.0, 1.0, 0.0, 0.0, 1.0, 0.0, 0.0, 1.0, 1.0, 0.0, 0.0, 0.0, 0.0, 0.0, 0.0, 0.0, 0.0, 0.0, 0.0, 1.0, 0.0, 0.0, 0.0, 0.0, 0.0, 0.0, 0.0, 0.0, 0.0, 0.0, 0.0, 0.0, 0.0, 0.0, 1.0, 0.0, 0.0, 1.0, 0.0, 0.0, 1.0, 1.0, 0.0, 0.0, 0.0, 1.0, 1.0, 0.0, 0.0, 1.0, 0.0, 1.0, 1.0, 0.0, 0.0, 0.0, 0.0, 0.0, 0.0, 1.0, 0.0, 1.0, 0.0, 0.0, 1.0, 0.0, 1.0, 0.0, 0.0, 1.0, 0.0, 0.0, 0.0, 0.0, 1.0, 0.0, 0.0, 0.0, 1.0, 0.0, 0.0, 0.0, 0.0, 0.0, 0.0, 0.0, 0.0, 0.0, 1.0, 1.0, 0.0, 0.0, 0.0, 0.0, 0.0, 0.0, 0.0, 0.0, 0.0, 0.0, 1.0, 0.0, 0.0, 0.0, 0.0, 0.0, 0.0, 0.0, 0.0, 0.0, 0.0, 0.0, 0.0, 0.0, 0.0, 0.0, 0.0, 0.0, 0.0, 0.0, 0.0, 0.0, 0.0, 0.0, 0.0, 0.0, 0.0, 0.0, 0.0, 0.0, 0.0, 0.0, 1.0, 0.0, 0.0, 0.0, 0.0, 0.0, 0.0, 0.0, 0.0, 0.0, 0.0, 0.0, 0.0, 0.0, 1.0, 0.0, 0.0, 0.0, 0.0, 0.0, 0.0, 0.0, 1.0, 0.0, 0.0, 0.0, 0.0, 0.0, 0.0, 0.0, 0.0, 0.0, 0.0, 0.0, 0.0, 0.0, 0.0, 0.0, 0.0, 0.0, 0.0, 0.0, 1.0, 0.0, 1.0, 0.0, 0.0, 1.0, 0.0, 0.0, 0.0, 0.0, 0.0, 0.0, 1.0, 1.0, 0.0, 0.0, 1.0, 1.0, 0.0, 0.0, 0.0, 0.0, 0.0, 0.0, 1.0, 0.0, 0.0, 0.0, 0.0, 0.0, 1.0, 0.0, 0.0, 0.0, 0.0, 0.0, 0.0, 0.0, 0.0, 1.0, 0.0, 1.0, 0.0, 0.0, 0.0, 1.0, 0.0, 0.0, 0.0, 0.0, 0.0, 1.0, 0.0, 1.0, 0.0, 0.0, 0.0, 0.0, 0.0, 0.0, 0.0, 0.0, 0.0, 0.0, 1.0, 0.0, 0.0, 0.0, 1.0, 0.0, 1.0, 0.0, 0.0, 0.0, 0.0, 0.0, 0.0, 0.0, 0.0, 0.0, 0.0, 0.0, 0.0, 0.0, 1.0, 0.0, 0.0, 0.0, 1.0, 1.0, 0.0, 1.0, 0.0, 0.0, 0.0, 0.0, 0.0, 0.0, 0.0, 0.0, 0.0, 0.0, 0.0, 0.0, 0.0, 1.0, 0.0, 0.0, 0.0, 0.0, 0.0, 0.0, 0.0, 0.0, 0.0, 0.0, 0.0, 0.0, 1.0, 1.0, 0.0, 1.0, 0.0, 0.0, 0.0, 0.0, 1.0, 0.0, 0.0, 1.0, 1.0, 0.0, 1.0, 1.0, 1.0, 1.0, 0.0, 0.0, 1.0, 0.0, 0.0, 0.0, 1.0, 1.0, 1.0, 1.0, 0.0, 0.0, 0.0, 1.0, 0.0, 0.0, 1.0, 1.0, 1.0, 0.0, 0.0, 0.0, 0.0, 0.0, 0.0, 0.0, 0.0, 0.0, 0.0, 1.0, 0.0, 1.0, 0.0, 1.0, 0.0, 1.0, 0.0, 0.0, 1.0, 1.0, 1.0, 0.0, 0.0, 0.0, 0.0, 1.0, 0.0, 1.0, 0.0, 0.0, 0.0, 0.0, 0.0, 0.0, 0.0, 1.0, 0.0, 0.0, 0.0, 1.0, 0.0, 0.0, 0.0, 1.0, 0.0, 1.0, 0.0, 0.0, 0.0, 0.0, 0.0, 0.0, 1.0, 1.0, 0.0, 0.0, 1.0, 0.0, 1.0, 0.0, 0.0, 1.0, 0.0, 0.0, 0.0, 0.0, 0.0, 0.0, 0.0, 1.0, 0.0, 0.0, 1.0, 1.0, 1.0, 0.0, 0.0, 0.0, 0.0, 0.0, 0.0, 0.0, 0.0, 0.0, 0.0, 0.0, 0.0, 1.0, 1.0, 0.0, 0.0, 0.0, 1.0, 0.0, 1.0, 0.0, 0.0, 0.0, 0.0, 0.0, 0.0, 0.0, 1.0, 1.0, 0.0, 0.0, 0.0, 1.0, 0.0, 0.0, 0.0, 0.0, 0.0, 1.0, 0.0, 0.0, 1.0, 0.0, 1.0, 0.0, 0.0, 0.0, 0.0, 1.0, 0.0, 0.0, 0.0, 0.0, 0.0, 0.0, 0.0, 0.0, 0.0, 0.0, 0.0, 0.0, 0.0, 0.0, 0.0, 0.0, 0.0, 1.0, 0.0, 0.0, 0.0, 1.0, 0.0, 0.0, 0.0, 0.0, 0.0, 1.0, 1.0, 0.0, 0.0, 1.0, 1.0, 0.0, 0.0, 0.0, 0.0, 1.0, 0.0, 0.0, 1.0, 0.0, 1.0, 1.0, 0.0, 1.0, 1.0, 0.0, 1.0, 0.0, 1.0, 0.0, 0.0, 0.0, 0.0, 0.0, 0.0, 0.0, 0.0, 0.0, 0.0, 0.0, 0.0, 0.0, 0.0, 0.0, 0.0, 0.0, 1.0, 1.0, 0.0, 1.0, 0.0, 1.0, 0.0, 1.0, 1.0, 1.0, 0.0, 0.0, 1.0, 1.0, 0.0, 0.0, 1.0, 1.0, 0.0, 0.0, 1.0, 1.0, 1.0, 0.0, 0.0, 0.0, 0.0, 0.0, 0.0, 0.0, 0.0, 0.0, 0.0, 0.0, 0.0, 1.0, 0.0, 1.0, 0.0, 0.0, 1.0, 1.0, 0.0, 0.0, 0.0, 0.0, 1.0, 0.0, 0.0, 1.0, 0.0, 1.0, 1.0, 0.0, 0.0, 1.0, 0.0, 0.0, 0.0, 0.0, 0.0, 0.0, 0.0, 0.0, 1.0, 1.0, 0.0, 1.0, 0.0, 0.0, 0.0, 1.0, 1.0, 0.0, 0.0, 0.0, 0.0, 0.0, 0.0, 0.0, 0.0, 1.0, 0.0, 1.0, 0.0, 0.0, 1.0, 0.0, 0.0, 0.0, 0.0, 0.0, 0.0, 0.0, 1.0, 0.0, 0.0, 0.0, 0.0, 0.0, 0.0, 0.0, 0.0, 1.0, 1.0, 1.0, 0.0, 0.0, 1.0, 0.0, 1.0, 0.0, 0.0, 0.0, 0.0, 0.0, 1.0, 1.0, 1.0, 0.0, 1.0, 0.0, 1.0, 0.0, 1.0, 1.0, 0.0, 1.0, 1.0, 0.0, 0.0, 0.0, 0.0, 0.0, 0.0, 1.0, 0.0, 0.0, 0.0, 0.0, 0.0, 0.0, 0.0, 0.0, 1.0, 1.0, 0.0, 0.0, 0.0, 0.0, 0.0, 0.0, 1.0, 1.0, 0.0, 0.0, 0.0, 0.0, 0.0, 0.0, 0.0, 0.0, 1.0, 1.0, 0.0, 0.0, 0.0, 0.0, 1.0, 1.0, 1.0, 1.0, 1.0, 0.0, 1.0, 0.0, 0.0, 0.0, 0.0, 0.0, 0.0, 0.0, 0.0, 0.0, 0.0, 0.0, 0.0, 0.0, 0.0, 0.0, 0.0, 0.0, 0.0, 1.0, 1.0, 1.0, 0.0, 0.0, 1.0, 0.0, 0.0, 0.0, 0.0, 0.0, 0.0, 1.0, 0.0, 0.0, 0.0, 0.0, 0.0, 1.0, 0.0, 0.0, 1.0, 0.0, 0.0, 0.0, 0.0, 0.0, 1.0, 1.0, 1.0, 0.0, 0.0, 1.0, 0.0, 1.0, 0.0, 0.0, 0.0, 0.0, 0.0, 0.0, 0.0, 0.0, 1.0, 0.0, 0.0, 0.0, 0.0, 0.0, 0.0, 0.0, 1.0, 0.0, 0.0, 0.0, 1.0, 0.0, 1.0, 0.0, 0.0, 0.0, 1.0, 1.0, 0.0, 0.0, 0.0, 1.0, 0.0, 0.0, 1.0, 0.0, 0.0, 0.0, 1.0, 0.0, 0.0, 0.0, 0.0, 0.0, 0.0, 0.0, 0.0, 1.0, 1.0, 0.0, 0.0, 0.0, 1.0, 0.0, 0.0, 0.0, 0.0, 1.0, 0.0, 1.0, 1.0, 0.0, 0.0, 0.0, 0.0, 0.0, 1.0, 0.0, 1.0, 0.0, 0.0, 0.0, 0.0, 0.0, 1.0, 0.0, 0.0, 0.0, 1.0, 0.0, 0.0, 1.0, 0.0, 0.0, 1.0, 0.0, 0.0, 0.0, 0.0, 1.0, 1.0, 0.0, 0.0, 0.0, 0.0, 0.0, 1.0, 1.0, 0.0, 0.0, 0.0, 0.0, 0.0, 0.0, 1.0, 1.0, 0.0, 0.0, 0.0, 0.0, 1.0, 0.0, 0.0, 0.0, 0.0, 0.0, 0.0, 0.0, 0.0, 0.0, 0.0, 1.0, 1.0, 0.0, 0.0, 0.0, 0.0, 0.0, 1.0, 1.0, 0.0, 0.0, 0.0, 1.0, 0.0, 0.0, 0.0, 0.0, 0.0, 0.0, 0.0, 0.0, 0.0, 1.0, 1.0, 1.0, 0.0, 0.0, 0.0, 0.0, 0.0, 1.0, 0.0, 0.0, 0.0, 0.0, 0.0, 1.0, 1.0, 0.0, 0.0, 0.0, 0.0, 0.0, 0.0, 0.0, 1.0, 0.0, 0.0, 0.0, 0.0, 0.0, 0.0, 0.0, 1.0, 0.0, 0.0, 1.0, 0.0, 0.0, 1.0, 1.0, 0.0, 0.0, 1.0, 0.0, 0.0, 0.0, 1.0, 0.0, 0.0, 0.0, 0.0, 0.0, 0.0, 0.0, 0.0, 0.0, 0.0, 0.0, 1.0, 0.0, 0.0, 1.0, 0.0, 0.0, 1.0, 1.0, 0.0, 0.0, 1.0, 0.0, 0.0, 0.0, 0.0, 1.0, 0.0, 0.0, 0.0, 0.0, 0.0, 1.0, 0.0, 1.0, 1.0, 0.0, 0.0, 1.0, 0.0, 0.0, 0.0, 1.0, 1.0, 0.0, 0.0, 0.0, 0.0, 0.0, 0.0, 1.0, 0.0, 0.0, 0.0, 0.0, 0.0, 0.0, 0.0, 0.0, 0.0, 1.0, 0.0, 1.0, 1.0, 0.0, 0.0, 1.0, 0.0, 0.0, 0.0, 1.0, 0.0, 0.0, 0.0, 1.0, 0.0, 0.0, 0.0, 0.0, 0.0, 0.0, 1.0, 0.0, 0.0, 1.0, 0.0, 1.0, 1.0, 0.0, 0.0, 0.0, 1.0, 0.0, 0.0, 0.0, 0.0, 0.0, 0.0, 0.0, 0.0, 0.0, 0.0, 1.0, 1.0, 1.0, 0.0, 1.0, 0.0, 0.0, 0.0, 1.0, 1.0, 0.0, 0.0, 0.0, 0.0, 0.0, 0.0, 0.0, 1.0, 1.0, 0.0, 0.0, 0.0, 0.0, 0.0, 0.0, 1.0, 0.0, 0.0, 1.0, 0.0, 0.0, 0.0, 0.0, 0.0, 0.0, 0.0, 0.0, 0.0, 0.0, 0.0, 0.0, 0.0, 0.0, 0.0, 1.0, 0.0, 0.0, 0.0, 0.0, 0.0, 0.0, 0.0, 0.0, 0.0, 0.0, 1.0, 0.0, 0.0, 0.0, 0.0, 0.0, 1.0, 0.0, 0.0, 0.0, 0.0, 0.0, 0.0, 1.0, 0.0, 0.0, 0.0, 1.0, 1.0, 0.0, 0.0, 0.0, 0.0, 0.0, 0.0, 1.0, 0.0, 0.0, 0.0, 0.0, 0.0, 0.0, 0.0, 0.0, 0.0, 0.0, 0.0, 0.0, 0.0, 0.0, 0.0, 0.0, 1.0, 0.0, 0.0, 0.0, 0.0, 0.0, 0.0, 0.0, 0.0, 0.0, 0.0, 0.0, 0.0, 0.0, 0.0, 0.0, 1.0, 0.0, 0.0, 0.0, 0.0, 0.0, 0.0, 0.0, 1.0, 0.0, 0.0, 0.0, 0.0, 0.0, 0.0, 0.0, 1.0, 0.0, 0.0, 0.0, 0.0, 0.0, 1.0, 1.0, 0.0, 1.0, 0.0, 0.0, 1.0, 1.0, 1.0, 0.0, 0.0, 0.0, 0.0, 0.0, 1.0, 0.0, 0.0, 0.0, 0.0, 0.0, 0.0, 1.0, 0.0, 1.0, 0.0, 0.0, 1.0, 0.0, 0.0, 0.0, 0.0, 0.0, 1.0, 0.0, 0.0, 0.0, 0.0, 0.0, 0.0, 0.0, 1.0, 0.0, 1.0, 1.0, 1.0, 1.0, 1.0, 0.0, 0.0, 0.0, 0.0, 0.0, 0.0, 0.0, 1.0, 0.0, 1.0, 0.0, 0.0, 0.0, 0.0, 0.0, 1.0, 1.0, 0.0, 0.0, 0.0, 0.0, 0.0, 0.0, 1.0, 1.0, 0.0, 0.0, 0.0, 0.0, 0.0, 0.0, 0.0, 0.0, 0.0, 0.0, 1.0, 0.0, 0.0, 0.0, 0.0, 0.0, 0.0, 1.0, 1.0, 0.0, 0.0, 1.0, 0.0, 0.0, 0.0, 1.0, 0.0, 0.0, 0.0, 0.0, 1.0, 0.0, 0.0, 0.0, 0.0, 1.0, 0.0, 1.0, 1.0, 0.0, 0.0, 0.0, 0.0, 0.0, 0.0, 0.0, 0.0, 1.0, 0.0, 0.0, 1.0, 1.0, 0.0, 0.0, 0.0, 1.0, 0.0, 1.0, 0.0, 0.0, 1.0, 1.0, 1.0, 1.0, 0.0, 0.0, 0.0, 1.0, 0.0, 0.0, 0.0, 0.0, 0.0, 0.0, 0.0, 0.0, 0.0, 0.0, 0.0, 1.0, 0.0, 0.0, 0.0, 1.0, 0.0, 0.0, 1.0, 1.0, 1.0, 1.0, 0.0, 0.0, 1.0, 1.0, 0.0, 0.0, 1.0, 0.0, 0.0, 0.0, 1.0, 1.0, 0.0, 1.0, 0.0, 0.0, 0.0, 0.0, 0.0, 0.0, 0.0, 0.0, 1.0, 0.0, 0.0, 0.0, 0.0, 0.0, 0.0, 0.0, 0.0, 0.0, 0.0, 1.0, 1.0, 0.0, 0.0, 0.0, 1.0, 0.0, 0.0, 1.0, 1.0, 1.0, 0.0, 0.0, 1.0, 0.0, 0.0, 0.0, 1.0, 0.0, 0.0, 0.0, 1.0, 1.0, 1.0, 1.0, 0.0, 0.0, 0.0, 0.0, 0.0, 0.0, 0.0, 0.0, 0.0, 1.0, 0.0, 0.0, 0.0, 0.0, 0.0, 0.0, 0.0, 0.0, 0.0, 0.0, 0.0, 1.0, 0.0, 0.0, 0.0, 1.0, 0.0, 0.0, 0.0, 0.0, 0.0, 0.0, 0.0, 1.0, 0.0, 0.0, 0.0, 0.0, 1.0, 0.0, 0.0, 0.0, 1.0, 0.0, 0.0, 0.0, 0.0, 0.0, 0.0, 0.0, 0.0, 0.0, 0.0, 0.0, 0.0, 1.0, 1.0, 0.0, 1.0, 0.0, 1.0, 0.0, 0.0, 0.0, 0.0, 0.0, 0.0, 0.0, 0.0, 0.0, 1.0, 0.0, 0.0, 0.0, 0.0, 0.0, 0.0, 0.0, 0.0, 0.0, 0.0, 0.0, 0.0, 0.0, 0.0, 0.0, 0.0, 1.0, 0.0, 1.0, 0.0, 0.0, 0.0, 0.0, 1.0, 0.0, 0.0, 1.0, 0.0, 1.0, 0.0, 0.0, 1.0, 1.0, 0.0, 1.0, 0.0, 0.0, 0.0, 0.0, 1.0, 0.0, 0.0, 1.0, 1.0, 0.0, 0.0, 0.0, 0.0, 1.0, 0.0, 0.0, 0.0, 0.0, 0.0, 0.0, 0.0, 0.0, 0.0, 1.0, 0.0, 0.0, 0.0, 1.0, 0.0, 0.0, 1.0, 0.0, 0.0, 0.0, 0.0, 0.0, 0.0, 0.0, 0.0, 0.0, 0.0, 0.0, 0.0, 0.0, 0.0, 0.0, 1.0, 0.0, 0.0, 0.0, 1.0, 0.0, 0.0, 0.0, 0.0, 1.0, 0.0, 0.0, 0.0, 1.0, 0.0, 0.0, 0.0, 0.0, 0.0, 0.0, 0.0, 0.0, 0.0, 0.0, 0.0, 0.0, 0.0, 0.0, 1.0, 0.0, 0.0, 0.0, 0.0, 1.0, 0.0, 0.0, 1.0, 0.0, 1.0, 0.0, 1.0, 0.0, 0.0, 0.0, 0.0, 0.0, 1.0, 0.0, 0.0, 0.0, 0.0, 0.0, 0.0, 0.0, 1.0, 0.0, 0.0, 0.0, 0.0, 0.0, 0.0, 0.0, 0.0, 0.0, 0.0, 0.0, 0.0, 0.0, 0.0, 1.0, 0.0, 0.0, 0.0, 0.0, 0.0, 0.0, 1.0, 1.0, 1.0, 1.0, 0.0, 0.0, 0.0, 1.0, 0.0, 0.0, 1.0, 0.0, 0.0, 0.0, 0.0, 0.0, 0.0, 0.0, 0.0, 0.0, 0.0, 0.0, 0.0, 0.0, 0.0, 0.0, 1.0, 0.0, 0.0, 0.0, 0.0, 0.0, 0.0, 0.0, 0.0, 0.0, 0.0, 0.0, 0.0, 1.0, 0.0, 0.0, 0.0, 0.0, 0.0, 0.0, 0.0, 1.0, 0.0, 0.0, 0.0, 0.0, 0.0, 0.0, 0.0, 0.0, 0.0, 1.0, 1.0, 0.0, 1.0, 0.0, 0.0, 1.0, 0.0, 0.0, 0.0, 0.0, 1.0, 0.0, 0.0, 0.0, 1.0, 1.0, 0.0, 0.0, 1.0, 0.0, 0.0, 1.0, 1.0, 0.0, 1.0, 0.0, 0.0, 0.0, 0.0, 0.0, 0.0, 0.0, 0.0, 0.0, 0.0, 1.0, 0.0, 1.0, 1.0, 0.0, 0.0, 0.0, 0.0, 0.0, 0.0, 0.0, 1.0, 0.0, 0.0, 1.0, 0.0, 0.0, 1.0, 1.0, 0.0, 0.0, 0.0, 0.0, 1.0, 0.0, 0.0, 0.0, 0.0, 0.0, 1.0, 0.0, 0.0, 0.0, 0.0, 1.0, 0.0, 0.0, 0.0, 1.0, 1.0, 0.0, 0.0, 0.0, 0.0, 0.0, 0.0, 0.0, 1.0, 0.0, 1.0, 0.0, 1.0, 0.0, 0.0, 0.0, 0.0, 0.0, 1.0, 0.0, 0.0, 1.0, 1.0, 0.0, 1.0, 0.0, 0.0, 1.0, 1.0, 0.0, 0.0, 1.0, 0.0, 0.0, 0.0, 0.0, 1.0, 0.0, 0.0, 0.0, 0.0, 1.0, 0.0, 1.0, 1.0, 0.0, 1.0, 0.0, 0.0, 1.0, 0.0, 0.0, 0.0, 0.0, 0.0, 1.0, 1.0, 0.0, 0.0, 0.0, 1.0, 1.0, 0.0, 1.0, 1.0, 0.0, 1.0, 0.0, 0.0, 0.0, 0.0, 0.0, 0.0, 0.0, 1.0, 0.0, 0.0, 1.0, 1.0, 0.0, 0.0, 0.0, 0.0, 1.0, 0.0, 0.0, 0.0, 0.0, 1.0, 0.0, 0.0, 0.0, 0.0, 0.0, 1.0, 0.0, 0.0, 0.0, 0.0, 1.0, 0.0, 1.0, 1.0, 0.0, 0.0, 0.0, 0.0, 1.0, 0.0, 1.0, 1.0, 0.0, 0.0, 0.0, 0.0, 0.0, 0.0, 0.0, 1.0, 0.0, 0.0, 0.0, 0.0, 0.0, 0.0, 0.0, 1.0, 0.0, 1.0, 1.0, 0.0, 0.0, 1.0, 0.0, 1.0, 0.0, 1.0, 0.0, 0.0, 0.0, 0.0, 0.0, 0.0, 1.0, 0.0, 0.0, 0.0, 0.0, 0.0, 1.0, 0.0, 0.0, 0.0, 0.0, 0.0, 1.0, 0.0, 1.0, 0.0, 1.0, 1.0, 0.0, 1.0, 0.0, 0.0, 0.0, 0.0, 1.0, 1.0, 0.0, 0.0, 0.0, 0.0, 0.0, 0.0, 0.0, 0.0, 0.0, 0.0, 0.0, 0.0, 0.0, 1.0, 0.0, 1.0, 0.0, 0.0, 0.0, 0.0, 0.0, 0.0, 0.0, 0.0, 0.0, 1.0, 0.0, 0.0, 0.0, 0.0, 0.0, 0.0, 0.0, 1.0, 0.0, 0.0, 0.0, 0.0, 0.0, 0.0, 0.0, 0.0, 1.0, 0.0, 0.0, 0.0, 0.0, 1.0, 0.0, 0.0, 0.0, 1.0, 0.0, 0.0, 0.0, 0.0, 1.0, 0.0, 0.0, 0.0, 0.0, 0.0, 0.0, 0.0, 1.0, 0.0, 0.0, 1.0, 0.0, 0.0, 0.0, 0.0, 0.0, 0.0, 1.0, 0.0, 0.0, 1.0, 0.0, 0.0, 1.0, 0.0, 0.0, 0.0, 1.0, 0.0, 0.0, 0.0, 1.0, 0.0, 0.0, 0.0, 1.0, 1.0, 1.0, 0.0, 1.0, 0.0, 0.0, 0.0, 0.0, 0.0, 0.0, 0.0, 0.0, 1.0, 0.0, 0.0, 0.0, 1.0, 0.0, 1.0, 0.0, 0.0, 0.0, 0.0, 1.0, 0.0, 1.0, 0.0, 0.0, 1.0, 0.0, 0.0, 0.0, 0.0, 0.0, 1.0, 0.0, 1.0, 0.0, 0.0, 0.0, 0.0, 0.0, 0.0, 1.0, 0.0, 0.0, 0.0, 0.0, 0.0, 0.0, 0.0, 0.0, 0.0, 1.0, 1.0, 0.0, 0.0, 0.0, 1.0, 0.0, 0.0, 0.0, 0.0, 0.0, 0.0, 0.0, 1.0, 0.0, 0.0, 0.0, 0.0, 0.0, 0.0, 1.0, 1.0, 1.0, 0.0, 0.0, 0.0, 0.0, 0.0, 1.0, 0.0, 1.0, 0.0, 0.0, 0.0, 0.0, 1.0, 0.0, 1.0, 1.0, 0.0, 0.0, 0.0, 0.0, 0.0, 0.0, 0.0, 1.0, 0.0, 0.0, 1.0, 0.0, 0.0, 0.0, 0.0, 1.0, 0.0, 0.0, 1.0, 0.0, 0.0, 0.0, 1.0, 0.0, 1.0, 1.0, 0.0, 0.0, 0.0, 0.0, 0.0, 1.0, 0.0, 0.0, 0.0, 1.0, 0.0, 0.0, 0.0, 0.0, 0.0, 1.0, 0.0, 0.0, 0.0, 0.0, 0.0, 1.0, 0.0, 0.0, 0.0, 0.0, 1.0, 0.0, 0.0, 1.0, 0.0, 0.0, 1.0, 0.0, 0.0, 0.0, 0.0, 0.0, 0.0, 1.0, 1.0, 0.0, 0.0, 0.0, 0.0, 0.0, 0.0, 0.0, 0.0, 0.0, 1.0, 0.0, 0.0, 1.0, 1.0, 0.0, 0.0, 0.0, 0.0, 0.0, 0.0, 0.0, 0.0, 1.0, 0.0, 0.0, 1.0, 1.0, 1.0, 1.0, 0.0, 0.0, 0.0, 1.0, 1.0, 0.0, 0.0, 0.0, 0.0, 0.0, 0.0, 0.0, 0.0, 0.0, 0.0, 0.0, 1.0, 0.0, 0.0, 0.0, 0.0, 0.0, 1.0, 0.0, 0.0, 1.0, 0.0, 0.0, 1.0, 0.0, 0.0, 0.0, 0.0, 1.0, 0.0, 0.0, 0.0, 0.0, 0.0, 1.0, 0.0, 0.0, 0.0, 1.0, 0.0, 1.0, 0.0, 1.0, 0.0, 1.0, 0.0, 0.0, 0.0, 1.0, 0.0, 0.0, 0.0, 0.0, 0.0, 0.0, 0.0, 0.0, 0.0, 0.0, 0.0, 0.0, 0.0, 0.0, 0.0, 1.0, 0.0, 0.0, 1.0, 0.0, 0.0, 0.0, 0.0, 0.0, 0.0, 0.0, 0.0, 0.0, 1.0, 0.0, 0.0, 0.0, 0.0, 0.0, 1.0, 0.0, 0.0, 0.0, 0.0, 1.0, 1.0, 1.0, 0.0, 0.0, 0.0, 0.0, 0.0, 0.0, 0.0, 0.0, 0.0, 1.0, 0.0, 0.0, 0.0, 0.0, 0.0, 0.0, 0.0, 0.0, 0.0, 0.0, 0.0, 1.0, 0.0, 1.0, 0.0, 0.0, 1.0, 0.0, 0.0, 0.0, 1.0, 1.0, 0.0, 0.0, 1.0, 1.0, 0.0, 1.0, 1.0, 0.0, 1.0, 0.0, 0.0, 0.0, 0.0, 1.0, 0.0, 0.0, 0.0, 1.0, 1.0, 0.0, 1.0, 0.0, 0.0, 0.0, 0.0, 0.0, 0.0, 1.0, 1.0, 0.0, 1.0, 1.0, 0.0, 0.0, 0.0, 1.0, 0.0, 0.0, 0.0, 1.0, 0.0, 0.0, 0.0, 1.0, 0.0, 0.0, 1.0, 1.0, 1.0, 1.0, 0.0, 0.0, 0.0, 0.0, 1.0, 1.0, 0.0, 0.0, 0.0, 1.0, 0.0, 0.0, 0.0, 1.0, 0.0, 0.0, 0.0, 1.0, 1.0, 0.0, 0.0, 1.0, 0.0, 0.0, 0.0, 0.0, 0.0, 0.0, 0.0, 1.0, 1.0, 1.0, 0.0, 1.0, 1.0, 0.0, 1.0, 0.0, 0.0, 0.0, 0.0, 0.0, 1.0, 0.0, 0.0, 1.0, 0.0, 0.0, 0.0, 0.0, 0.0, 0.0, 0.0, 0.0, 0.0, 1.0, 0.0, 1.0, 0.0, 0.0, 0.0, 1.0, 0.0, 0.0, 1.0, 0.0, 0.0, 0.0, 0.0, 0.0, 0.0, 0.0, 0.0, 1.0, 0.0, 0.0, 1.0, 0.0, 0.0, 0.0, 1.0, 0.0, 0.0, 0.0, 1.0, 1.0, 0.0, 1.0, 1.0, 1.0, 1.0, 0.0, 0.0, 1.0, 0.0, 0.0, 0.0, 1.0, 1.0, 0.0, 0.0, 1.0, 1.0, 0.0, 0.0, 0.0, 0.0, 0.0, 0.0, 0.0, 0.0, 0.0, 0.0, 0.0, 1.0, 0.0, 0.0, 0.0, 0.0, 0.0, 0.0, 0.0, 0.0, 0.0, 1.0, 0.0, 0.0, 0.0, 0.0, 1.0, 0.0, 0.0, 0.0, 0.0, 0.0, 0.0, 0.0, 1.0, 1.0, 1.0, 1.0, 0.0, 0.0, 0.0, 0.0, 0.0, 0.0, 0.0, 0.0, 1.0, 0.0, 1.0, 1.0, 0.0, 0.0, 0.0, 0.0, 1.0, 0.0, 0.0, 1.0, 1.0, 0.0, 0.0, 0.0, 0.0, 0.0, 0.0, 0.0, 0.0, 1.0, 0.0, 0.0, 1.0, 0.0, 0.0, 0.0, 0.0, 1.0, 0.0, 0.0, 1.0, 0.0, 0.0, 1.0, 0.0, 0.0, 0.0, 0.0, 0.0, 1.0, 0.0, 0.0, 0.0, 0.0, 0.0, 0.0, 0.0, 1.0, 1.0, 0.0, 0.0, 0.0, 1.0, 0.0, 0.0, 0.0, 1.0, 0.0, 0.0, 0.0, 0.0, 0.0, 0.0, 0.0, 1.0, 1.0, 1.0, 1.0, 0.0, 1.0, 0.0, 0.0, 0.0, 0.0, 0.0, 1.0, 0.0, 0.0, 1.0, 1.0, 0.0, 0.0, 1.0, 1.0, 0.0, 0.0, 1.0, 0.0, 0.0, 1.0, 1.0, 0.0, 1.0, 0.0, 1.0, 0.0, 1.0, 0.0, 0.0, 1.0, 0.0, 0.0, 0.0, 0.0, 0.0, 0.0, 0.0, 0.0, 0.0, 0.0, 0.0, 0.0, 0.0, 1.0, 0.0, 0.0, 0.0, 0.0, 0.0, 1.0, 0.0, 0.0, 1.0, 1.0, 0.0, 0.0, 0.0, 1.0, 0.0, 0.0, 1.0, 0.0, 1.0, 0.0, 0.0, 0.0, 0.0, 0.0, 0.0, 0.0, 1.0, 0.0, 1.0, 0.0, 0.0, 0.0, 0.0, 0.0, 0.0, 0.0, 0.0, 0.0, 0.0, 0.0, 1.0, 0.0, 0.0, 0.0, 0.0, 1.0, 0.0, 0.0, 0.0, 0.0, 0.0, 0.0, 0.0, 0.0, 0.0, 0.0, 1.0, 0.0, 0.0, 0.0, 1.0, 0.0, 0.0, 1.0, 0.0, 0.0, 0.0, 0.0, 1.0, 0.0, 1.0, 0.0, 0.0, 0.0, 0.0, 0.0, 0.0, 0.0, 0.0, 0.0, 0.0, 0.0, 0.0, 0.0, 0.0, 0.0, 0.0, 0.0, 0.0, 0.0, 0.0, 1.0, 0.0, 0.0, 0.0, 0.0, 0.0, 0.0, 1.0, 0.0, 1.0, 1.0, 1.0, 0.0, 0.0, 0.0, 1.0, 0.0, 0.0, 0.0, 0.0, 0.0, 0.0, 0.0, 0.0, 0.0, 0.0, 1.0, 0.0, 0.0, 0.0, 0.0, 0.0, 0.0, 0.0, 0.0, 0.0, 0.0, 0.0, 1.0, 0.0, 1.0, 0.0, 1.0, 0.0, 0.0, 1.0, 1.0, 0.0, 1.0, 0.0, 1.0, 1.0, 0.0, 0.0, 0.0, 0.0, 1.0, 0.0, 0.0, 1.0, 0.0, 0.0, 0.0, 0.0, 0.0, 0.0, 0.0, 0.0, 0.0, 1.0, 0.0, 0.0, 0.0, 0.0, 0.0, 0.0, 0.0, 0.0, 0.0, 0.0, 0.0, 1.0, 0.0, 1.0, 0.0, 0.0, 0.0, 0.0, 1.0, 0.0, 0.0, 0.0, 0.0, 1.0, 0.0, 1.0, 0.0, 0.0, 0.0, 0.0, 0.0, 0.0, 1.0, 0.0, 0.0, 1.0, 0.0, 1.0, 0.0, 0.0, 0.0, 0.0, 0.0, 0.0, 0.0, 0.0, 0.0, 0.0, 0.0, 0.0, 0.0, 0.0, 0.0, 0.0, 0.0, 0.0, 0.0, 0.0, 1.0, 0.0, 0.0, 0.0, 0.0, 1.0, 0.0, 1.0, 0.0, 0.0, 0.0, 0.0, 0.0, 0.0, 0.0, 0.0, 1.0, 0.0, 0.0, 0.0, 0.0, 0.0, 0.0, 0.0, 1.0, 1.0, 0.0, 0.0, 0.0, 0.0, 1.0, 1.0, 0.0, 0.0, 0.0, 0.0, 0.0, 0.0, 0.0, 1.0, 0.0, 1.0, 0.0, 1.0, 0.0, 0.0, 1.0, 0.0, 0.0, 0.0, 0.0, 0.0, 0.0, 0.0, 0.0, 0.0, 1.0, 0.0, 1.0, 1.0, 0.0, 0.0, 1.0, 0.0, 0.0, 0.0, 0.0, 1.0, 1.0, 1.0, 1.0, 0.0, 0.0, 1.0, 0.0, 1.0, 0.0, 0.0, 0.0, 0.0, 0.0, 1.0, 0.0, 0.0, 0.0, 0.0, 1.0, 0.0, 0.0, 0.0, 0.0, 0.0, 0.0, 0.0, 0.0, 0.0, 0.0, 0.0, 0.0, 0.0, 0.0, 0.0, 0.0, 0.0, 1.0, 1.0, 0.0, 0.0, 0.0, 0.0, 0.0, 1.0, 0.0, 0.0, 1.0, 1.0, 0.0, 0.0, 1.0, 0.0, 0.0, 0.0, 0.0, 0.0, 1.0, 0.0, 0.0, 0.0, 1.0, 0.0, 0.0, 0.0, 0.0, 0.0, 0.0, 1.0, 0.0, 1.0, 0.0, 0.0, 0.0, 0.0, 0.0, 1.0, 0.0, 0.0, 0.0, 1.0, 1.0, 0.0, 0.0, 0.0, 0.0, 0.0, 0.0, 0.0, 1.0, 0.0, 0.0, 0.0, 1.0, 0.0, 0.0, 0.0, 1.0, 1.0, 0.0, 1.0, 1.0, 0.0, 0.0, 0.0, 1.0, 0.0, 0.0, 1.0, 0.0, 0.0, 0.0, 0.0, 1.0, 1.0, 0.0, 0.0, 1.0, 0.0, 0.0, 0.0, 0.0, 0.0, 0.0, 0.0, 0.0, 0.0, 0.0, 0.0, 0.0, 1.0, 0.0, 0.0, 1.0, 0.0, 0.0, 0.0, 0.0, 1.0, 0.0, 0.0, 0.0, 0.0, 0.0, 1.0, 0.0, 0.0, 0.0, 0.0, 1.0, 0.0, 1.0, 0.0, 0.0, 0.0, 1.0, 0.0, 1.0, 0.0, 1.0, 0.0, 0.0, 1.0, 0.0, 0.0, 0.0, 0.0, 0.0, 0.0, 1.0, 0.0, 0.0, 0.0, 1.0, 0.0, 0.0, 0.0, 0.0, 0.0, 0.0, 0.0, 0.0, 1.0, 0.0, 1.0, 0.0, 1.0, 0.0, 0.0, 0.0, 0.0, 1.0, 0.0, 0.0, 0.0, 1.0, 0.0, 0.0, 0.0, 0.0, 1.0, 1.0, 0.0, 0.0, 0.0, 0.0, 0.0, 1.0, 0.0, 0.0, 0.0, 0.0, 0.0, 0.0, 1.0, 0.0, 0.0, 0.0, 1.0, 0.0, 0.0, 1.0, 0.0, 0.0, 0.0, 1.0, 0.0, 1.0, 0.0, 0.0, 0.0, 0.0, 0.0, 0.0, 0.0, 0.0, 0.0, 0.0, 1.0, 0.0, 1.0, 0.0, 1.0, 0.0, 0.0, 0.0, 0.0, 0.0, 0.0, 1.0, 0.0, 0.0, 1.0, 0.0, 1.0, 0.0, 0.0, 1.0, 0.0, 0.0, 0.0, 1.0, 0.0, 0.0, 1.0, 1.0, 0.0, 0.0, 0.0, 1.0, 1.0, 0.0, 0.0, 1.0, 0.0, 0.0, 0.0, 1.0, 1.0, 0.0, 0.0, 0.0, 0.0, 1.0, 0.0, 0.0, 1.0, 0.0, 1.0, 0.0, 0.0, 1.0, 0.0, 0.0, 0.0, 0.0, 1.0, 0.0, 1.0, 1.0, 0.0, 0.0, 0.0, 0.0, 0.0, 0.0, 0.0, 0.0, 0.0, 0.0, 1.0, 0.0, 1.0, 0.0, 1.0, 1.0, 0.0, 1.0, 1.0, 0.0, 1.0, 1.0, 0.0, 0.0, 1.0, 0.0, 0.0, 0.0, 1.0, 0.0, 0.0, 0.0, 0.0, 1.0, 0.0, 0.0, 0.0, 0.0, 0.0, 0.0, 1.0, 0.0, 0.0, 0.0, 0.0, 0.0, 1.0, 0.0, 0.0, 0.0, 0.0, 1.0, 1.0, 0.0, 0.0, 1.0, 0.0, 0.0, 0.0, 0.0, 0.0, 0.0, 0.0, 0.0, 0.0, 0.0, 1.0, 0.0, 0.0, 0.0, 0.0, 0.0, 0.0, 0.0, 0.0, 0.0, 0.0, 0.0, 1.0, 1.0, 0.0, 1.0, 0.0, 0.0, 0.0, 0.0, 0.0, 0.0, 0.0, 0.0, 0.0, 1.0, 0.0, 0.0, 0.0, 0.0, 0.0, 1.0, 0.0, 0.0, 0.0, 0.0, 0.0, 1.0, 0.0, 1.0, 1.0, 0.0, 0.0, 1.0, 0.0, 0.0, 0.0, 0.0, 0.0, 0.0, 0.0, 0.0, 0.0, 1.0, 1.0, 0.0, 1.0, 1.0, 1.0, 1.0, 0.0, 0.0, 0.0, 0.0, 0.0, 0.0, 0.0, 0.0, 0.0, 0.0, 0.0, 0.0, 0.0, 1.0, 0.0, 0.0, 1.0, 1.0, 0.0, 0.0, 0.0, 0.0, 1.0, 0.0, 0.0, 0.0, 0.0, 1.0, 1.0, 0.0, 0.0, 0.0, 0.0, 1.0, 1.0, 0.0, 1.0, 1.0, 0.0, 0.0, 0.0, 0.0, 0.0, 0.0, 1.0, 0.0, 0.0, 0.0, 0.0, 0.0, 0.0, 1.0, 0.0, 1.0, 0.0, 0.0, 0.0, 0.0, 0.0, 1.0, 0.0, 1.0, 0.0, 0.0, 0.0, 0.0, 0.0, 1.0, 0.0, 0.0, 1.0, 0.0, 1.0, 1.0, 1.0, 0.0, 1.0, 1.0, 0.0, 0.0, 0.0, 1.0, 1.0, 0.0, 1.0, 0.0, 1.0, 0.0, 0.0, 0.0, 1.0, 0.0, 0.0, 0.0, 0.0, 1.0, 0.0, 0.0, 0.0, 0.0, 0.0, 1.0, 1.0, 0.0, 0.0, 0.0, 0.0, 0.0, 0.0, 0.0, 1.0, 0.0, 0.0, 0.0, 0.0, 1.0, 0.0, 1.0, 0.0, 0.0, 0.0, 0.0, 0.0, 0.0, 0.0, 0.0, 0.0, 0.0, 0.0, 0.0, 1.0, 0.0, 0.0, 0.0, 1.0, 0.0, 0.0, 0.0, 0.0, 1.0, 1.0, 1.0, 0.0, 0.0, 0.0, 0.0, 0.0, 0.0, 1.0, 0.0, 0.0, 0.0, 0.0, 0.0, 0.0, 1.0, 1.0, 1.0, 0.0, 0.0, 0.0, 0.0, 1.0, 0.0, 0.0, 0.0, 0.0, 1.0, 0.0, 0.0, 1.0, 0.0, 0.0, 1.0, 1.0, 0.0, 0.0, 1.0, 1.0, 0.0, 0.0, 0.0, 0.0, 0.0, 1.0, 1.0, 1.0, 0.0, 0.0, 1.0, 1.0, 0.0, 0.0, 1.0, 0.0, 1.0, 0.0, 0.0, 1.0, 0.0, 0.0, 0.0, 1.0, 1.0, 1.0, 1.0, 0.0, 0.0, 0.0, 0.0, 0.0, 0.0, 1.0, 0.0, 0.0, 0.0, 0.0, 1.0, 0.0, 1.0, 0.0, 0.0, 0.0, 0.0, 1.0, 0.0, 0.0, 0.0, 0.0, 0.0, 0.0, 1.0, 0.0, 0.0, 0.0, 0.0, 0.0, 0.0, 0.0, 1.0, 1.0, 0.0, 0.0, 1.0, 1.0, 1.0, 1.0, 0.0, 0.0, 1.0, 0.0, 1.0, 0.0, 0.0, 0.0, 0.0, 1.0, 0.0, 0.0, 0.0, 0.0, 0.0, 0.0, 0.0, 0.0, 0.0, 0.0, 0.0, 0.0, 0.0, 1.0, 0.0, 1.0, 0.0, 0.0, 1.0, 0.0, 0.0, 0.0, 0.0, 0.0, 0.0, 1.0, 0.0, 0.0, 1.0, 0.0, 0.0, 0.0, 0.0, 0.0, 1.0, 0.0, 0.0, 1.0, 0.0, 0.0, 0.0, 1.0, 0.0, 0.0, 0.0, 0.0, 0.0, 0.0, 0.0, 0.0, 1.0, 0.0, 0.0, 0.0, 1.0, 0.0, 0.0, 1.0, 1.0, 0.0, 1.0, 0.0, 1.0, 0.0, 1.0, 0.0, 1.0, 1.0, 0.0, 1.0, 1.0, 0.0, 1.0, 0.0, 0.0, 0.0, 0.0, 0.0, 1.0, 0.0, 1.0, 0.0, 0.0, 0.0, 0.0, 1.0, 0.0, 0.0, 0.0, 0.0, 0.0, 0.0, 0.0, 0.0, 1.0, 1.0, 0.0, 1.0, 0.0, 1.0, 1.0, 0.0, 1.0, 0.0, 0.0, 0.0, 0.0, 0.0, 0.0, 0.0, 1.0, 0.0, 0.0, 0.0, 0.0, 0.0, 0.0, 1.0, 1.0, 1.0, 1.0, 0.0, 0.0, 0.0, 0.0, 0.0, 0.0, 1.0, 0.0, 1.0, 1.0, 0.0, 1.0, 0.0, 0.0, 0.0, 0.0, 0.0, 1.0, 0.0, 1.0, 0.0, 0.0, 0.0, 1.0, 1.0, 1.0, 0.0, 1.0, 0.0, 0.0, 0.0, 0.0, 1.0, 1.0, 0.0, 0.0, 1.0, 0.0, 0.0, 0.0, 0.0, 0.0, 0.0, 0.0, 0.0, 0.0, 1.0, 0.0, 0.0, 0.0, 0.0, 0.0, 1.0, 0.0, 0.0, 0.0, 0.0, 0.0, 0.0, 0.0, 0.0, 0.0, 0.0, 0.0, 1.0, 0.0, 1.0, 0.0, 0.0, 0.0, 0.0, 0.0, 1.0, 1.0, 1.0, 0.0, 0.0, 1.0, 0.0, 0.0, 0.0, 0.0, 0.0, 1.0, 0.0, 0.0, 0.0, 0.0, 0.0, 1.0, 0.0, 0.0, 0.0, 1.0, 1.0, 0.0, 0.0, 0.0, 0.0, 1.0, 0.0, 1.0, 1.0, 1.0, 0.0, 0.0, 0.0, 0.0, 0.0, 0.0, 0.0, 0.0, 0.0, 0.0, 0.0, 0.0, 0.0, 1.0, 0.0, 0.0, 0.0, 0.0, 0.0, 0.0, 1.0, 0.0, 0.0, 0.0, 1.0, 1.0, 1.0, 0.0, 1.0, 0.0, 0.0, 1.0, 0.0, 0.0, 0.0, 0.0, 0.0, 0.0, 1.0, 1.0, 1.0, 1.0, 1.0, 0.0, 0.0, 0.0, 0.0, 0.0, 0.0, 0.0, 0.0, 0.0, 0.0, 0.0, 0.0, 1.0, 0.0, 0.0, 0.0, 0.0, 0.0, 1.0, 1.0, 0.0, 0.0, 0.0, 0.0, 0.0, 0.0, 1.0, 0.0, 1.0, 0.0, 0.0, 0.0, 0.0, 0.0, 0.0, 0.0, 0.0, 1.0, 0.0, 1.0, 1.0, 1.0, 0.0, 0.0, 0.0, 1.0, 0.0, 1.0, 0.0, 0.0, 0.0, 0.0, 0.0, 0.0, 0.0, 0.0, 1.0, 0.0, 1.0, 0.0, 0.0, 0.0, 0.0, 1.0, 0.0, 0.0, 0.0, 0.0, 0.0, 0.0, 1.0, 0.0, 0.0, 0.0, 1.0, 1.0, 1.0, 1.0, 0.0, 0.0, 1.0, 1.0, 0.0, 0.0, 1.0, 0.0, 0.0, 0.0, 0.0, 0.0, 0.0, 0.0, 1.0, 0.0, 0.0, 1.0, 1.0, 0.0, 1.0, 0.0, 0.0, 1.0, 1.0, 0.0, 0.0, 0.0, 0.0, 0.0, 0.0, 0.0, 1.0, 0.0, 0.0, 0.0, 0.0, 0.0, 0.0, 0.0, 0.0, 0.0, 0.0, 0.0, 0.0, 0.0, 0.0, 0.0, 0.0, 0.0, 0.0, 0.0, 1.0, 0.0, 0.0, 0.0, 0.0, 0.0, 1.0, 0.0, 0.0, 0.0, 0.0, 1.0, 0.0, 0.0, 0.0, 1.0, 0.0, 0.0, 0.0, 0.0, 0.0, 0.0, 0.0, 0.0, 0.0, 0.0, 0.0, 1.0, 0.0, 1.0, 0.0, 1.0, 0.0, 0.0, 0.0, 0.0, 0.0, 0.0, 0.0, 0.0, 0.0, 0.0, 0.0, 1.0, 0.0, 0.0, 0.0, 0.0, 1.0, 1.0, 1.0, 0.0, 0.0, 0.0, 0.0, 0.0, 0.0, 1.0, 0.0, 1.0, 0.0, 1.0, 0.0, 0.0, 0.0, 0.0, 0.0, 0.0, 0.0, 0.0, 0.0, 0.0, 0.0, 0.0, 0.0, 0.0, 0.0, 0.0, 1.0, 1.0, 1.0, 0.0, 1.0, 0.0, 1.0, 0.0, 0.0, 0.0, 0.0, 0.0, 0.0, 0.0, 1.0, 0.0, 0.0, 0.0, 1.0, 0.0, 0.0, 0.0, 0.0, 0.0, 1.0, 0.0, 0.0, 0.0, 0.0, 0.0, 0.0, 0.0, 0.0, 0.0, 0.0, 0.0, 0.0, 1.0, 0.0, 0.0, 0.0, 1.0, 0.0, 0.0, 0.0, 0.0, 1.0, 1.0, 0.0, 0.0, 0.0, 0.0, 0.0, 1.0, 1.0, 0.0, 0.0, 1.0, 0.0, 0.0, 0.0, 0.0, 0.0, 1.0, 1.0, 1.0, 1.0, 0.0, 0.0, 0.0, 0.0, 0.0, 0.0, 0.0, 1.0, 0.0, 0.0, 0.0, 1.0, 0.0, 0.0, 1.0, 0.0, 0.0, 0.0, 1.0, 0.0, 0.0, 0.0, 0.0, 1.0, 0.0, 0.0, 0.0, 0.0, 0.0, 0.0, 0.0, 0.0, 0.0, 1.0, 1.0, 0.0, 1.0, 1.0, 1.0, 0.0, 0.0, 1.0, 1.0, 0.0, 0.0, 0.0, 0.0, 0.0, 0.0, 0.0, 1.0, 0.0, 0.0, 1.0, 0.0, 0.0, 0.0, 0.0, 0.0, 1.0, 0.0, 1.0, 0.0, 0.0, 0.0, 0.0, 0.0, 0.0, 0.0, 0.0, 0.0, 0.0, 0.0, 0.0, 0.0, 1.0, 0.0, 1.0, 0.0, 1.0, 1.0, 0.0, 1.0, 0.0, 0.0, 0.0, 0.0, 0.0, 1.0, 0.0, 1.0, 0.0, 0.0, 0.0, 0.0, 0.0, 1.0, 0.0, 0.0, 0.0, 0.0, 0.0, 1.0, 1.0, 0.0, 0.0, 1.0, 1.0, 0.0, 0.0, 0.0, 1.0, 0.0, 0.0, 0.0, 0.0, 0.0, 0.0, 0.0, 1.0, 0.0, 0.0, 1.0, 0.0, 0.0, 0.0, 0.0, 0.0, 0.0, 0.0, 0.0, 0.0, 0.0, 0.0, 0.0, 0.0, 0.0, 0.0, 0.0, 0.0, 0.0, 1.0, 1.0, 0.0, 0.0, 0.0, 0.0, 0.0, 0.0, 0.0, 0.0, 0.0, 0.0, 0.0, 0.0, 0.0, 0.0, 0.0, 0.0, 0.0, 0.0, 0.0, 0.0, 0.0, 0.0, 0.0, 1.0, 0.0, 1.0, 1.0, 1.0, 0.0, 0.0, 0.0, 1.0, 1.0, 0.0, 0.0, 1.0, 0.0, 0.0, 0.0, 0.0, 0.0, 0.0, 0.0, 1.0, 1.0, 0.0, 1.0, 0.0, 1.0, 0.0, 0.0, 0.0, 0.0, 0.0, 0.0, 0.0, 1.0, 0.0, 0.0, 0.0, 0.0, 0.0, 1.0, 0.0, 0.0, 0.0, 1.0, 0.0, 0.0, 0.0, 0.0, 0.0, 0.0, 0.0, 0.0, 0.0, 0.0, 1.0, 0.0, 0.0, 0.0, 0.0, 0.0, 0.0, 0.0, 0.0, 0.0, 0.0, 0.0, 0.0, 1.0, 0.0, 0.0, 0.0, 1.0, 0.0, 0.0, 0.0, 0.0, 0.0, 1.0, 0.0, 0.0, 0.0, 0.0, 0.0, 0.0, 1.0, 0.0, 0.0, 0.0, 0.0, 0.0, 0.0, 0.0, 0.0, 0.0, 0.0, 1.0, 1.0, 0.0, 0.0, 1.0, 1.0, 0.0, 0.0, 1.0, 1.0, 0.0, 1.0, 0.0, 0.0, 0.0, 1.0, 0.0, 0.0, 0.0, 1.0, 0.0, 0.0, 1.0, 0.0, 1.0, 0.0, 0.0, 0.0, 1.0, 0.0, 1.0, 0.0, 0.0, 0.0, 1.0, 0.0, 0.0, 0.0, 1.0, 0.0, 0.0, 0.0, 0.0, 0.0, 0.0, 0.0, 1.0, 0.0, 1.0, 0.0, 0.0, 0.0, 0.0, 1.0, 0.0, 0.0, 0.0, 0.0, 1.0, 0.0, 0.0, 0.0, 0.0, 0.0, 1.0, 0.0, 0.0, 0.0, 0.0, 0.0, 0.0, 0.0, 1.0, 0.0, 0.0, 0.0, 0.0, 0.0, 0.0, 0.0, 0.0, 0.0, 0.0, 0.0, 0.0, 0.0, 0.0, 0.0, 0.0, 0.0, 0.0, 0.0, 0.0, 0.0, 0.0, 1.0, 1.0, 1.0, 0.0, 0.0, 0.0, 1.0, 0.0, 0.0, 1.0, 0.0, 0.0, 1.0, 1.0, 1.0, 0.0, 0.0, 1.0, 0.0, 0.0, 0.0, 0.0, 1.0, 0.0, 0.0, 0.0, 1.0, 0.0, 1.0, 0.0, 0.0, 1.0, 0.0, 0.0, 0.0, 0.0, 0.0, 0.0, 0.0, 0.0, 0.0, 0.0, 0.0, 0.0, 0.0, 1.0, 0.0, 0.0, 0.0, 0.0, 1.0, 0.0, 0.0, 0.0, 0.0, 0.0, 0.0, 0.0, 0.0, 1.0, 0.0, 1.0, 1.0, 0.0, 0.0, 0.0, 0.0, 0.0, 0.0, 1.0, 0.0, 0.0, 0.0, 1.0, 1.0, 0.0, 1.0, 0.0, 0.0, 0.0, 0.0, 0.0, 1.0, 0.0, 0.0, 0.0, 0.0, 0.0, 1.0, 0.0, 1.0, 1.0, 0.0, 0.0, 0.0, 0.0, 0.0, 0.0, 0.0, 1.0, 0.0, 0.0, 1.0, 0.0, 0.0, 0.0, 0.0, 0.0, 1.0, 0.0, 0.0, 0.0, 0.0, 1.0, 0.0, 0.0, 1.0, 0.0, 0.0, 0.0, 0.0, 0.0, 0.0, 1.0, 0.0, 0.0, 1.0, 1.0, 0.0, 0.0, 0.0, 0.0, 1.0, 1.0, 0.0, 0.0, 1.0, 0.0, 1.0, 1.0, 0.0, 0.0, 0.0, 0.0, 0.0, 0.0, 1.0, 1.0, 0.0, 0.0, 0.0, 0.0, 0.0, 0.0, 1.0, 1.0, 0.0, 0.0, 0.0, 0.0, 0.0, 0.0, 0.0, 1.0, 1.0, 1.0, 0.0, 0.0, 0.0, 1.0, 1.0, 1.0, 0.0, 1.0, 0.0, 0.0, 0.0, 1.0, 1.0, 1.0, 0.0, 0.0, 1.0, 0.0, 0.0, 1.0, 1.0, 1.0, 0.0, 1.0, 1.0, 1.0, 0.0, 0.0, 0.0, 0.0, 0.0, 1.0, 0.0, 0.0, 0.0, 1.0, 0.0, 0.0, 1.0, 1.0, 0.0, 0.0, 0.0, 1.0, 1.0, 0.0, 0.0, 0.0, 0.0, 0.0, 0.0, 1.0, 0.0, 0.0, 0.0, 0.0, 0.0, 0.0, 0.0, 0.0, 0.0, 0.0, 1.0, 0.0, 0.0, 0.0, 0.0, 0.0, 0.0, 0.0, 0.0, 0.0, 0.0, 0.0, 0.0, 0.0, 0.0, 0.0, 0.0, 1.0, 0.0, 0.0, 0.0, 0.0, 0.0, 0.0, 0.0, 0.0, 0.0, 0.0, 0.0, 1.0, 1.0, 1.0, 0.0, 0.0, 0.0, 0.0, 0.0, 0.0, 0.0, 0.0, 0.0, 0.0, 0.0, 0.0, 0.0, 1.0, 0.0, 0.0, 0.0, 0.0, 1.0, 0.0, 0.0, 0.0, 1.0, 1.0, 0.0, 0.0, 0.0, 0.0, 1.0, 0.0, 1.0, 0.0, 0.0, 0.0, 0.0, 1.0, 0.0, 0.0, 0.0, 1.0, 1.0, 0.0, 0.0, 0.0, 0.0, 0.0, 0.0, 1.0, 0.0, 0.0, 0.0, 0.0, 0.0, 0.0, 0.0, 0.0, 0.0, 0.0, 0.0, 0.0, 0.0, 1.0, 1.0, 1.0, 0.0, 0.0, 0.0, 0.0, 0.0, 0.0, 0.0, 1.0, 1.0, 0.0, 0.0, 1.0, 0.0, 1.0, 1.0, 0.0, 1.0, 1.0, 1.0, 0.0, 1.0, 1.0, 0.0, 1.0, 0.0, 0.0, 0.0, 0.0, 0.0, 0.0, 0.0, 1.0, 0.0, 0.0, 0.0, 1.0, 0.0, 0.0, 0.0, 0.0, 0.0, 0.0, 0.0, 1.0, 1.0, 1.0, 0.0, 0.0, 0.0, 0.0, 0.0, 1.0, 0.0, 1.0, 0.0, 1.0, 0.0, 0.0, 1.0, 0.0, 0.0, 1.0, 0.0, 0.0, 0.0, 0.0, 1.0, 0.0, 0.0, 0.0, 0.0, 0.0, 1.0, 0.0, 1.0, 0.0, 0.0, 0.0, 0.0, 0.0, 0.0, 0.0, 0.0, 0.0, 1.0, 1.0, 0.0, 0.0, 0.0, 1.0, 0.0, 1.0, 1.0, 1.0, 0.0, 0.0, 0.0, 0.0, 0.0, 0.0, 0.0, 0.0, 1.0, 0.0, 0.0, 1.0, 0.0, 0.0, 0.0, 1.0, 0.0, 0.0, 1.0, 0.0, 0.0, 0.0, 0.0, 0.0, 0.0, 0.0, 0.0, 0.0, 0.0, 1.0, 0.0, 0.0, 0.0, 1.0, 0.0, 0.0, 1.0, 0.0, 0.0, 0.0, 0.0, 0.0, 0.0, 1.0, 0.0, 1.0, 0.0, 0.0, 0.0, 0.0, 1.0, 0.0, 0.0, 0.0, 1.0, 0.0, 1.0, 0.0, 0.0, 1.0, 0.0, 0.0, 1.0, 0.0, 0.0, 1.0, 0.0, 1.0, 0.0, 0.0, 0.0, 0.0, 0.0, 0.0, 0.0, 0.0, 0.0, 0.0, 0.0, 0.0, 0.0, 0.0, 0.0, 0.0, 0.0, 0.0, 0.0, 0.0, 0.0, 0.0, 0.0, 1.0, 0.0, 0.0, 0.0, 1.0, 1.0, 0.0, 1.0, 1.0, 1.0, 0.0, 0.0, 0.0, 0.0, 0.0, 1.0, 0.0, 0.0, 0.0, 0.0, 0.0, 0.0, 0.0, 0.0, 0.0, 0.0, 0.0, 0.0, 0.0, 0.0, 1.0, 0.0, 1.0, 0.0, 0.0, 1.0, 0.0, 1.0, 0.0, 0.0, 0.0, 0.0, 1.0, 0.0, 0.0, 0.0, 1.0, 1.0, 0.0, 1.0, 0.0, 0.0, 1.0, 0.0, 1.0, 0.0, 1.0, 1.0, 0.0, 0.0, 1.0, 1.0, 0.0, 0.0, 0.0, 0.0, 0.0, 0.0, 1.0, 0.0, 0.0, 1.0, 1.0, 0.0, 1.0, 0.0, 0.0, 0.0, 0.0, 1.0, 1.0, 1.0, 0.0, 0.0, 0.0, 0.0, 1.0, 0.0, 0.0, 0.0, 0.0, 0.0, 0.0, 1.0, 1.0, 0.0, 0.0, 1.0, 1.0, 1.0, 1.0, 0.0, 0.0, 0.0, 0.0, 1.0, 0.0, 0.0, 0.0, 1.0, 0.0, 1.0, 0.0, 1.0, 0.0, 0.0, 0.0, 0.0, 0.0, 0.0, 0.0, 0.0, 0.0, 0.0, 0.0, 0.0, 1.0, 1.0, 0.0, 0.0, 0.0, 0.0, 0.0, 1.0, 0.0, 1.0, 0.0, 0.0, 0.0, 1.0, 0.0, 0.0, 0.0, 0.0, 0.0, 1.0, 0.0, 0.0, 0.0, 0.0, 0.0, 0.0, 0.0, 0.0, 0.0, 0.0, 0.0, 1.0, 0.0, 0.0, 0.0, 0.0, 0.0, 1.0, 0.0, 1.0, 1.0, 0.0, 0.0, 1.0, 0.0, 0.0, 0.0, 0.0, 0.0, 0.0, 0.0, 0.0, 0.0, 1.0, 0.0, 0.0, 0.0, 0.0, 0.0, 0.0, 0.0, 0.0, 0.0, 0.0, 1.0, 0.0, 0.0, 0.0, 0.0, 0.0, 0.0, 0.0, 0.0, 0.0, 0.0, 0.0, 0.0, 1.0, 0.0, 1.0, 0.0, 0.0, 0.0, 0.0, 1.0, 0.0, 0.0, 0.0, 0.0, 1.0, 0.0, 0.0, 0.0, 1.0, 0.0, 0.0, 1.0, 0.0, 0.0, 0.0, 0.0, 1.0, 0.0, 0.0, 0.0, 1.0, 1.0, 1.0, 0.0, 0.0, 0.0, 1.0, 1.0, 1.0, 0.0, 1.0, 1.0, 0.0, 1.0, 0.0, 0.0, 1.0, 0.0, 0.0, 0.0, 1.0, 0.0, 0.0, 1.0, 0.0, 0.0, 0.0, 0.0, 1.0, 1.0, 0.0, 0.0, 0.0, 0.0, 0.0, 0.0, 0.0, 0.0, 0.0, 1.0, 1.0, 0.0, 0.0, 0.0, 0.0, 0.0, 1.0, 0.0, 0.0, 0.0, 0.0, 0.0, 1.0, 0.0, 0.0, 1.0, 0.0, 0.0, 1.0, 0.0, 0.0, 1.0, 1.0, 1.0, 0.0, 0.0, 0.0, 0.0, 0.0, 1.0, 1.0, 0.0, 0.0, 1.0, 0.0, 1.0, 1.0, 0.0, 0.0, 0.0, 0.0, 0.0, 1.0, 0.0, 1.0, 1.0, 0.0, 0.0, 1.0, 0.0, 0.0, 0.0, 0.0, 1.0, 0.0, 0.0, 0.0, 1.0, 1.0, 0.0, 1.0, 0.0, 0.0, 0.0, 0.0, 0.0, 0.0, 0.0, 1.0, 0.0, 0.0, 1.0, 0.0, 1.0, 0.0, 0.0, 0.0, 0.0, 1.0, 0.0, 1.0, 0.0, 0.0, 0.0, 0.0, 0.0, 0.0, 1.0, 0.0, 0.0, 1.0, 1.0, 0.0, 0.0, 0.0, 1.0, 0.0, 0.0, 1.0, 1.0, 0.0, 0.0, 0.0, 0.0, 1.0, 0.0, 0.0, 0.0, 0.0, 1.0, 0.0, 0.0, 0.0, 0.0, 1.0, 0.0, 0.0, 0.0, 1.0, 1.0, 0.0, 0.0, 0.0, 0.0, 1.0, 0.0, 1.0, 1.0, 1.0, 0.0, 1.0, 0.0, 0.0, 1.0, 0.0, 0.0, 0.0, 0.0, 1.0, 0.0, 0.0, 0.0, 0.0, 0.0, 0.0, 1.0, 0.0, 0.0, 0.0, 0.0, 1.0, 0.0, 0.0, 0.0, 1.0, 1.0, 1.0, 0.0, 0.0, 1.0, 0.0, 0.0, 0.0, 0.0, 0.0, 0.0, 0.0, 0.0, 1.0, 1.0, 1.0, 0.0, 0.0, 0.0, 0.0, 0.0, 0.0, 0.0, 0.0, 0.0, 1.0, 0.0, 1.0, 0.0, 1.0, 0.0, 0.0, 0.0, 0.0, 0.0, 1.0, 0.0, 0.0, 0.0, 1.0, 1.0, 0.0, 1.0, 1.0, 0.0, 1.0, 0.0, 0.0, 1.0, 0.0, 0.0, 1.0, 0.0, 0.0, 0.0, 0.0, 0.0, 1.0, 1.0, 0.0, 0.0, 0.0, 0.0, 0.0, 1.0, 0.0, 0.0, 0.0, 0.0, 1.0, 1.0, 0.0, 0.0, 0.0, 0.0, 0.0, 1.0, 0.0, 0.0, 0.0, 1.0, 0.0, 0.0, 1.0, 1.0, 0.0, 0.0, 1.0, 0.0, 1.0, 0.0, 0.0, 1.0, 0.0, 0.0, 0.0, 1.0, 1.0, 0.0, 1.0, 0.0, 1.0, 0.0, 0.0, 1.0, 1.0, 0.0, 1.0, 0.0, 0.0, 0.0, 0.0, 0.0, 0.0, 0.0, 0.0, 0.0, 0.0, 0.0, 0.0, 1.0, 0.0, 1.0, 0.0, 0.0, 0.0, 0.0, 0.0, 0.0, 0.0, 0.0, 0.0, 0.0, 0.0, 0.0, 0.0, 0.0, 0.0, 0.0, 1.0, 1.0, 0.0, 1.0, 0.0, 0.0, 1.0, 0.0, 0.0, 0.0, 0.0, 0.0, 0.0, 0.0, 0.0, 0.0, 0.0, 0.0, 0.0, 1.0, 0.0, 0.0, 0.0, 0.0, 0.0, 1.0, 0.0, 0.0, 0.0, 0.0, 0.0, 0.0, 1.0, 1.0, 0.0, 0.0, 0.0, 0.0, 0.0, 0.0, 0.0, 0.0, 0.0, 1.0, 0.0, 1.0, 1.0, 0.0, 0.0, 0.0, 0.0, 0.0, 1.0, 0.0, 1.0, 0.0, 0.0, 1.0, 0.0, 0.0, 0.0, 0.0, 0.0, 1.0, 0.0, 0.0, 0.0, 0.0, 1.0, 0.0, 0.0, 1.0, 0.0, 0.0, 1.0, 0.0, 0.0, 0.0, 0.0, 0.0, 0.0, 0.0, 0.0, 1.0, 0.0, 1.0, 0.0, 0.0, 1.0, 0.0, 0.0, 1.0, 0.0, 0.0, 0.0, 0.0, 0.0, 0.0, 0.0, 0.0, 1.0, 0.0, 0.0, 0.0, 1.0, 0.0, 0.0, 0.0, 0.0, 0.0, 0.0, 0.0, 0.0, 0.0, 0.0, 1.0, 0.0, 0.0, 1.0, 1.0, 1.0, 1.0, 0.0, 1.0, 0.0, 0.0, 0.0, 0.0, 0.0, 0.0, 0.0, 0.0, 0.0, 1.0, 0.0, 0.0, 0.0, 1.0, 0.0, 0.0, 0.0, 0.0, 0.0, 0.0, 1.0, 0.0, 0.0, 1.0, 0.0, 0.0, 0.0, 0.0, 0.0, 1.0, 1.0, 1.0, 0.0, 0.0, 0.0, 0.0, 0.0, 0.0, 0.0, 0.0, 0.0, 0.0, 0.0, 0.0, 1.0, 0.0, 0.0, 0.0, 0.0, 1.0, 0.0, 0.0, 0.0, 0.0, 1.0, 0.0, 0.0, 0.0, 0.0, 1.0, 0.0, 1.0, 0.0, 0.0, 1.0, 0.0, 0.0, 0.0, 1.0, 1.0, 1.0, 1.0, 1.0, 0.0, 0.0, 1.0, 0.0, 0.0, 0.0, 0.0, 0.0, 1.0, 0.0, 0.0, 0.0, 0.0, 0.0, 0.0, 0.0, 1.0, 0.0, 0.0, 0.0, 0.0, 0.0, 0.0, 0.0, 0.0, 0.0, 0.0, 0.0, 0.0, 0.0, 0.0, 0.0, 0.0, 1.0, 0.0, 0.0, 0.0, 1.0, 0.0, 0.0, 0.0, 0.0, 0.0, 1.0, 1.0, 0.0, 0.0, 0.0, 0.0, 1.0, 1.0, 1.0, 0.0, 1.0, 1.0, 0.0, 1.0, 0.0, 0.0, 0.0, 0.0, 1.0, 1.0, 1.0, 1.0, 1.0, 1.0, 0.0, 0.0, 1.0, 0.0, 1.0, 0.0, 0.0, 0.0, 1.0, 0.0, 0.0, 1.0, 0.0, 0.0, 0.0, 0.0, 0.0, 0.0, 0.0, 0.0, 0.0, 0.0, 1.0, 1.0, 1.0, 1.0, 0.0, 0.0, 0.0, 0.0, 1.0, 0.0, 0.0, 0.0, 0.0, 0.0, 0.0, 0.0, 0.0, 0.0, 0.0, 0.0, 0.0, 0.0, 0.0, 0.0, 0.0, 0.0, 0.0, 1.0, 0.0, 0.0, 0.0, 0.0, 0.0, 1.0, 0.0, 0.0, 0.0, 0.0, 0.0, 0.0, 0.0, 0.0, 0.0, 1.0, 0.0, 0.0, 0.0, 1.0, 0.0, 0.0, 0.0, 0.0, 0.0, 0.0, 1.0, 0.0, 0.0, 0.0, 0.0, 1.0, 1.0, 0.0, 0.0, 1.0, 0.0, 1.0, 0.0, 0.0, 1.0, 1.0, 0.0, 0.0, 0.0, 0.0, 0.0, 0.0, 0.0, 0.0, 1.0, 0.0, 0.0, 0.0, 0.0, 0.0, 0.0, 0.0, 0.0, 0.0, 0.0, 0.0, 0.0, 0.0, 0.0, 1.0, 0.0, 0.0, 0.0, 0.0, 0.0, 0.0, 0.0, 0.0, 0.0, 0.0, 0.0, 0.0, 1.0, 0.0, 0.0, 1.0, 0.0, 0.0, 1.0, 0.0, 1.0, 0.0, 0.0, 1.0, 0.0, 0.0, 1.0, 0.0, 1.0, 0.0, 0.0, 0.0, 0.0, 0.0, 0.0, 1.0, 0.0, 0.0, 0.0, 1.0, 1.0, 0.0, 0.0, 1.0, 0.0, 0.0, 0.0, 0.0, 0.0, 0.0, 0.0, 0.0, 1.0, 0.0, 0.0, 0.0, 0.0, 0.0, 0.0, 1.0, 1.0, 0.0, 0.0, 0.0, 0.0, 0.0, 0.0, 1.0, 1.0, 1.0, 1.0, 0.0, 0.0, 0.0, 0.0, 1.0, 0.0, 0.0, 0.0, 1.0, 0.0, 1.0, 0.0, 0.0, 1.0, 0.0, 0.0, 1.0, 0.0, 1.0, 1.0, 1.0, 0.0, 0.0, 1.0, 1.0, 1.0, 0.0, 0.0, 1.0, 1.0, 0.0, 0.0, 0.0, 0.0, 1.0, 0.0, 0.0, 1.0, 1.0, 1.0, 0.0, 0.0, 1.0, 0.0, 0.0, 0.0, 0.0, 0.0, 0.0, 0.0, 0.0, 0.0, 1.0, 1.0, 1.0, 0.0, 0.0, 0.0, 0.0, 0.0, 1.0, 0.0, 1.0, 0.0, 0.0, 0.0, 1.0, 0.0, 0.0, 0.0, 0.0, 0.0, 1.0, 0.0, 0.0, 0.0, 0.0, 0.0, 0.0, 1.0, 0.0, 0.0, 0.0, 0.0, 0.0, 0.0, 0.0, 1.0, 0.0, 0.0, 0.0, 1.0, 0.0, 0.0, 0.0, 0.0, 1.0, 1.0, 0.0, 1.0, 1.0, 0.0, 0.0, 0.0, 0.0, 1.0, 1.0, 0.0, 0.0, 0.0, 0.0, 0.0, 1.0, 0.0, 0.0, 0.0, 0.0, 0.0, 0.0, 0.0, 0.0, 0.0, 0.0, 0.0, 0.0, 1.0, 0.0, 0.0, 0.0, 1.0, 1.0, 1.0, 0.0, 1.0, 0.0, 0.0, 1.0, 0.0, 0.0, 0.0, 0.0, 0.0, 0.0, 0.0, 0.0, 0.0, 0.0, 0.0, 0.0, 0.0, 1.0, 0.0, 0.0, 1.0, 0.0, 0.0, 0.0, 0.0, 0.0, 1.0, 1.0, 0.0, 0.0, 1.0, 0.0, 0.0, 0.0, 0.0, 1.0, 1.0, 0.0, 0.0, 0.0, 0.0, 0.0, 0.0, 0.0, 1.0, 0.0, 0.0, 0.0, 0.0, 0.0, 0.0, 0.0, 1.0, 1.0, 0.0, 0.0, 0.0, 0.0, 1.0, 0.0, 1.0, 0.0, 0.0, 1.0, 0.0, 0.0, 0.0, 0.0, 0.0, 0.0, 0.0, 1.0, 1.0, 0.0, 0.0, 0.0, 0.0, 0.0, 0.0, 0.0, 0.0, 1.0, 0.0, 0.0, 1.0, 1.0, 0.0, 0.0, 1.0, 1.0, 0.0, 1.0, 0.0, 1.0, 0.0, 0.0, 0.0, 0.0, 1.0, 1.0, 1.0, 0.0, 0.0, 1.0, 0.0, 0.0, 0.0, 1.0, 0.0, 1.0, 0.0, 1.0, 0.0, 1.0, 0.0, 1.0, 0.0, 1.0, 1.0, 0.0, 0.0, 0.0, 0.0, 0.0, 0.0, 0.0, 0.0, 0.0, 0.0, 1.0, 0.0, 0.0, 0.0, 0.0, 0.0, 1.0, 1.0, 0.0, 1.0, 0.0, 0.0, 0.0, 1.0, 0.0, 0.0, 1.0, 1.0, 0.0, 0.0, 1.0, 0.0, 0.0, 0.0, 0.0, 0.0, 0.0, 0.0, 0.0, 0.0, 0.0, 1.0, 1.0, 0.0, 0.0, 1.0, 0.0, 0.0, 0.0, 1.0, 1.0, 0.0, 0.0, 0.0, 1.0, 1.0, 0.0, 0.0, 1.0, 0.0, 0.0, 1.0, 0.0, 1.0, 0.0, 1.0, 0.0, 0.0, 0.0, 1.0, 0.0, 0.0, 0.0, 0.0, 0.0, 0.0, 0.0, 1.0, 0.0, 0.0, 0.0, 0.0, 0.0, 1.0, 0.0, 0.0, 0.0, 0.0, 0.0, 0.0, 0.0, 0.0, 0.0, 0.0, 1.0, 0.0, 0.0, 0.0, 0.0, 1.0, 0.0, 1.0, 0.0, 0.0, 0.0, 0.0, 1.0, 0.0, 1.0, 1.0, 0.0, 0.0, 0.0, 1.0, 0.0, 1.0, 1.0, 0.0, 1.0, 0.0, 0.0, 1.0, 0.0, 0.0, 0.0, 1.0, 0.0, 1.0, 0.0, 0.0, 0.0, 0.0, 1.0, 0.0, 0.0, 0.0, 0.0, 1.0, 0.0, 0.0, 0.0, 0.0, 0.0, 0.0, 0.0, 0.0, 0.0, 0.0, 0.0, 1.0, 1.0, 0.0, 0.0, 0.0, 0.0, 0.0, 1.0, 1.0, 1.0, 0.0, 0.0, 1.0, 0.0, 0.0, 0.0, 0.0, 0.0, 0.0, 0.0, 0.0, 0.0, 0.0, 1.0, 0.0, 0.0, 0.0, 1.0, 0.0, 0.0, 1.0, 0.0, 0.0, 0.0, 0.0, 0.0, 1.0, 0.0, 1.0, 0.0, 0.0, 0.0, 0.0, 0.0, 0.0, 0.0, 0.0, 0.0, 0.0, 0.0, 0.0, 0.0, 0.0, 0.0, 0.0, 1.0, 0.0, 0.0, 1.0, 0.0, 0.0, 0.0, 0.0, 1.0, 0.0, 0.0, 0.0, 1.0, 0.0, 0.0, 1.0, 0.0, 0.0, 0.0, 1.0, 0.0, 0.0, 0.0, 1.0, 1.0, 0.0, 0.0, 0.0, 0.0, 0.0, 0.0, 0.0, 0.0, 1.0, 0.0, 0.0, 0.0, 0.0, 0.0, 0.0, 0.0, 1.0, 0.0, 0.0, 0.0, 1.0, 0.0, 0.0, 0.0, 0.0, 1.0, 0.0, 0.0, 0.0, 0.0, 0.0, 0.0, 0.0, 0.0, 0.0, 1.0, 0.0, 0.0, 0.0, 0.0, 0.0, 1.0, 0.0, 1.0, 0.0, 0.0, 0.0, 0.0, 0.0, 0.0, 0.0, 0.0, 0.0, 1.0, 0.0, 1.0, 0.0, 0.0, 0.0, 1.0, 0.0, 0.0, 0.0, 0.0, 0.0, 0.0, 1.0, 0.0, 0.0, 0.0, 0.0, 0.0, 0.0, 0.0, 1.0, 1.0, 1.0, 1.0, 0.0, 0.0, 0.0, 1.0, 1.0, 0.0, 0.0, 1.0, 1.0, 1.0, 0.0, 0.0, 0.0, 0.0, 0.0, 0.0, 1.0, 0.0, 0.0, 0.0, 0.0, 1.0, 0.0, 0.0, 0.0, 0.0, 0.0, 0.0, 0.0, 0.0, 0.0, 1.0, 0.0, 0.0, 0.0, 1.0, 0.0, 0.0, 0.0, 1.0, 0.0, 0.0, 0.0, 0.0, 0.0, 0.0, 1.0, 0.0, 0.0, 1.0, 0.0, 1.0, 0.0, 1.0, 0.0, 0.0, 0.0, 1.0, 0.0, 1.0, 0.0, 0.0, 0.0, 0.0, 0.0, 0.0, 1.0, 0.0, 0.0, 0.0, 0.0, 0.0, 0.0, 0.0, 0.0, 0.0, 0.0, 0.0, 0.0, 0.0, 0.0, 1.0, 1.0, 0.0, 0.0, 0.0, 0.0, 0.0, 0.0, 0.0, 0.0, 0.0, 0.0, 0.0, 0.0, 1.0, 0.0, 0.0, 0.0, 0.0, 1.0, 1.0, 1.0, 0.0, 1.0, 0.0, 1.0, 0.0, 0.0, 0.0, 0.0, 1.0, 1.0, 0.0, 0.0, 0.0, 0.0, 1.0, 1.0, 0.0, 0.0, 0.0, 0.0, 0.0, 0.0, 1.0, 0.0, 0.0, 0.0, 0.0, 0.0, 1.0, 0.0, 0.0, 0.0, 0.0, 0.0, 0.0, 1.0, 0.0, 1.0, 0.0, 1.0, 0.0, 0.0, 0.0, 0.0, 0.0, 1.0, 0.0, 0.0, 1.0, 0.0, 1.0, 0.0, 0.0, 1.0, 0.0, 0.0, 1.0, 0.0, 0.0, 0.0, 1.0, 1.0, 0.0, 0.0, 1.0, 1.0, 0.0, 1.0, 0.0, 0.0, 0.0, 0.0, 1.0, 0.0, 0.0, 0.0, 0.0, 1.0, 0.0, 1.0, 1.0, 0.0, 0.0, 1.0, 1.0, 1.0, 0.0, 0.0, 0.0, 0.0, 0.0, 1.0, 0.0, 0.0, 0.0, 0.0, 1.0, 1.0, 1.0, 0.0, 0.0, 0.0, 1.0, 0.0, 0.0, 1.0, 0.0, 0.0, 0.0, 1.0, 0.0, 0.0, 1.0, 0.0, 1.0, 0.0, 0.0, 0.0, 0.0, 0.0, 0.0, 1.0, 0.0, 1.0, 0.0, 0.0, 1.0, 1.0, 1.0, 0.0, 0.0, 1.0, 0.0, 0.0, 0.0, 0.0, 1.0, 0.0, 0.0, 0.0, 0.0, 0.0, 0.0, 0.0, 1.0, 0.0, 0.0, 0.0, 0.0, 1.0, 0.0, 1.0, 0.0, 0.0, 1.0, 0.0, 0.0, 0.0, 0.0, 0.0, 0.0, 0.0, 0.0, 0.0, 0.0, 0.0, 0.0, 1.0, 1.0, 0.0, 0.0, 1.0, 0.0, 0.0, 0.0, 0.0, 0.0, 0.0, 1.0, 0.0, 0.0, 0.0, 0.0, 1.0, 0.0, 0.0, 0.0, 0.0, 0.0, 0.0, 0.0, 1.0, 0.0, 0.0, 1.0, 0.0, 1.0, 1.0, 0.0, 0.0, 0.0, 0.0, 0.0, 1.0, 1.0, 0.0, 0.0, 0.0, 0.0, 1.0, 0.0, 0.0, 1.0, 1.0, 0.0, 0.0, 1.0, 1.0, 0.0, 0.0, 0.0, 0.0, 0.0, 0.0, 0.0, 0.0, 0.0, 1.0, 0.0, 0.0, 0.0, 0.0, 0.0, 0.0, 0.0, 0.0, 0.0, 0.0, 0.0, 0.0, 0.0, 0.0, 0.0, 0.0, 0.0, 0.0, 1.0, 0.0, 0.0, 0.0, 0.0, 1.0, 0.0, 0.0, 0.0, 0.0, 1.0, 0.0, 0.0, 0.0, 0.0, 0.0, 1.0, 0.0, 1.0, 0.0, 0.0, 0.0, 0.0, 0.0, 1.0, 0.0, 0.0, 0.0, 1.0, 1.0, 0.0, 0.0, 0.0, 0.0, 1.0, 1.0, 0.0, 0.0, 0.0, 1.0, 0.0, 1.0, 1.0, 0.0, 0.0, 0.0, 1.0, 0.0, 1.0, 1.0, 0.0, 0.0, 1.0, 0.0, 0.0, 1.0, 0.0, 0.0, 0.0, 0.0, 1.0, 0.0, 1.0, 0.0, 0.0, 0.0, 0.0, 0.0, 0.0, 0.0, 0.0, 0.0, 0.0, 0.0, 0.0, 0.0, 0.0, 0.0, 1.0, 1.0, 0.0, 0.0, 0.0, 1.0, 0.0, 0.0, 1.0, 0.0, 0.0, 0.0, 0.0, 0.0, 0.0, 0.0, 0.0, 0.0, 1.0, 0.0, 0.0, 0.0, 0.0, 0.0, 1.0, 0.0, 0.0, 0.0, 0.0, 0.0, 0.0, 0.0, 0.0, 0.0, 0.0, 0.0, 0.0, 1.0, 0.0, 0.0, 0.0, 0.0, 0.0, 0.0, 0.0, 0.0, 0.0, 0.0, 0.0, 0.0, 0.0, 0.0, 0.0, 0.0, 1.0, 0.0, 0.0, 0.0, 0.0, 0.0, 0.0, 0.0, 0.0, 1.0, 0.0, 0.0, 1.0, 0.0, 0.0, 0.0, 0.0, 0.0, 0.0, 0.0, 0.0, 0.0, 0.0, 0.0, 0.0, 1.0, 0.0, 0.0, 0.0, 1.0, 0.0, 0.0, 0.0, 1.0, 1.0, 0.0, 0.0, 0.0, 0.0, 0.0, 0.0, 0.0, 0.0, 0.0, 1.0, 0.0, 0.0, 0.0, 0.0, 0.0, 0.0, 1.0, 0.0, 0.0, 0.0, 0.0, 0.0, 0.0, 0.0, 0.0, 0.0, 0.0, 0.0, 0.0, 1.0, 0.0, 0.0, 0.0, 0.0, 0.0, 0.0, 0.0, 1.0, 0.0, 1.0, 0.0, 1.0, 0.0, 0.0, 0.0, 0.0, 0.0, 0.0, 0.0, 0.0, 1.0, 0.0, 0.0, 0.0, 0.0, 1.0, 0.0, 0.0, 1.0, 1.0, 0.0, 0.0, 0.0, 0.0, 0.0, 0.0, 0.0, 0.0, 0.0, 0.0, 0.0, 1.0, 0.0, 0.0, 0.0, 1.0, 0.0, 0.0, 0.0, 0.0, 0.0, 1.0, 1.0, 0.0, 1.0, 0.0, 0.0, 0.0, 0.0, 0.0, 0.0, 0.0, 0.0, 1.0, 1.0, 0.0, 0.0, 0.0, 1.0, 0.0, 0.0, 0.0, 0.0, 0.0, 1.0, 0.0, 0.0, 0.0, 1.0, 0.0, 0.0, 0.0, 0.0, 0.0, 0.0, 1.0, 1.0, 0.0, 1.0, 0.0, 0.0, 0.0, 0.0, 0.0, 0.0, 1.0, 1.0, 0.0, 0.0, 0.0, 0.0, 1.0, 0.0, 0.0, 0.0, 0.0, 0.0, 1.0, 0.0, 0.0, 0.0, 0.0, 0.0, 1.0, 0.0, 0.0, 1.0, 0.0, 0.0, 0.0, 0.0, 1.0, 0.0, 1.0, 1.0, 0.0, 0.0, 0.0, 0.0, 0.0, 1.0, 0.0, 0.0, 1.0, 1.0, 0.0, 0.0, 0.0, 0.0, 0.0, 0.0, 0.0, 0.0, 0.0, 0.0, 0.0, 1.0, 0.0, 0.0, 0.0, 1.0, 1.0, 0.0, 1.0, 0.0, 0.0, 0.0, 0.0, 1.0, 0.0, 0.0, 0.0, 0.0, 0.0, 0.0, 0.0, 0.0, 0.0, 0.0, 1.0, 0.0, 0.0, 0.0, 0.0, 0.0, 0.0, 0.0, 0.0, 0.0, 0.0, 1.0, 0.0, 1.0, 0.0, 1.0, 0.0, 1.0, 0.0, 0.0, 0.0, 0.0, 1.0, 1.0, 0.0, 1.0, 0.0, 0.0, 0.0, 1.0, 0.0, 0.0, 0.0, 0.0, 1.0, 0.0, 1.0, 0.0, 0.0, 1.0, 0.0, 0.0, 0.0, 1.0, 0.0, 0.0, 0.0, 0.0, 0.0, 1.0, 1.0, 1.0, 0.0, 0.0, 1.0, 0.0, 0.0, 0.0, 0.0, 1.0, 0.0, 0.0, 1.0, 1.0, 0.0, 0.0, 1.0, 0.0, 0.0, 0.0, 1.0, 0.0, 1.0, 1.0, 0.0, 0.0, 0.0, 0.0, 0.0, 0.0, 0.0, 0.0, 0.0, 0.0, 0.0, 1.0, 0.0, 0.0, 0.0, 0.0, 0.0, 0.0, 1.0, 0.0, 0.0, 0.0, 0.0, 0.0, 0.0, 0.0, 1.0, 0.0, 0.0, 0.0, 1.0, 0.0, 0.0, 0.0, 0.0, 1.0, 0.0, 0.0, 1.0, 0.0, 0.0, 0.0, 1.0, 0.0, 1.0, 0.0, 1.0, 0.0, 0.0, 0.0, 0.0, 0.0, 0.0, 0.0, 1.0, 0.0, 1.0, 0.0, 1.0, 1.0, 0.0, 0.0, 0.0, 0.0, 0.0, 0.0, 1.0, 0.0, 0.0, 0.0, 0.0, 1.0, 0.0, 1.0, 0.0, 0.0, 0.0, 0.0, 0.0, 0.0, 0.0, 1.0, 0.0, 0.0, 0.0, 0.0, 0.0, 1.0, 0.0, 0.0, 0.0, 0.0, 1.0, 1.0, 0.0, 0.0, 0.0, 0.0, 0.0, 0.0, 0.0, 0.0, 0.0, 1.0, 0.0, 0.0, 0.0, 0.0, 0.0, 0.0, 0.0, 1.0, 1.0, 0.0, 0.0, 0.0, 0.0, 0.0, 1.0, 0.0, 0.0, 1.0, 1.0, 0.0, 0.0, 0.0, 0.0, 1.0, 0.0, 0.0, 0.0, 1.0, 1.0, 0.0, 0.0, 0.0, 0.0, 0.0, 0.0, 1.0, 0.0, 1.0, 0.0, 1.0, 0.0, 0.0, 0.0, 0.0, 1.0, 0.0, 0.0, 0.0, 0.0, 1.0, 0.0, 0.0, 0.0, 0.0, 0.0, 0.0, 0.0, 0.0, 0.0, 0.0, 1.0, 0.0, 1.0, 0.0, 0.0, 0.0, 0.0, 0.0, 0.0, 0.0, 0.0, 1.0, 0.0, 0.0, 0.0, 0.0, 0.0, 0.0, 0.0, 0.0, 0.0, 0.0, 0.0, 1.0, 0.0, 0.0, 0.0, 0.0, 0.0, 0.0, 0.0, 0.0, 0.0, 0.0, 0.0, 0.0, 0.0, 0.0, 1.0, 0.0, 1.0, 0.0, 0.0, 0.0, 0.0, 0.0, 0.0, 1.0, 0.0, 1.0, 0.0, 1.0, 0.0, 0.0, 0.0, 0.0, 0.0, 0.0, 0.0, 0.0, 0.0, 0.0, 0.0, 0.0, 0.0, 0.0, 0.0, 1.0, 1.0, 0.0, 0.0, 0.0, 0.0, 1.0, 0.0, 0.0, 0.0, 0.0, 0.0, 0.0, 0.0, 1.0, 0.0, 1.0, 0.0, 0.0, 0.0, 0.0, 0.0, 0.0, 0.0, 0.0, 0.0, 0.0, 0.0, 0.0, 0.0, 0.0, 0.0, 0.0, 0.0, 0.0, 0.0, 1.0, 1.0, 0.0, 0.0, 1.0, 0.0, 0.0, 1.0, 0.0, 0.0, 1.0, 0.0, 0.0, 0.0, 0.0, 1.0, 1.0, 0.0, 0.0, 0.0, 0.0, 0.0, 0.0, 1.0, 1.0, 0.0, 0.0, 0.0, 1.0, 0.0, 0.0, 0.0, 1.0, 0.0, 0.0, 0.0, 0.0, 0.0, 0.0, 0.0, 0.0, 1.0, 0.0, 0.0, 0.0, 1.0, 0.0, 0.0, 1.0, 0.0, 0.0, 0.0, 0.0, 0.0, 1.0, 0.0, 0.0, 1.0, 0.0, 0.0, 0.0, 0.0, 0.0, 0.0, 1.0, 0.0, 0.0, 0.0, 0.0, 0.0, 0.0, 1.0, 0.0, 1.0, 0.0, 1.0, 1.0, 0.0, 1.0, 0.0, 0.0, 0.0, 1.0, 0.0, 0.0, 0.0, 0.0, 0.0, 0.0, 0.0, 0.0, 0.0, 0.0, 0.0, 1.0, 0.0, 0.0, 0.0, 0.0, 1.0, 1.0, 0.0, 0.0, 0.0, 1.0, 0.0, 1.0, 0.0, 0.0, 0.0, 0.0, 1.0, 0.0, 1.0, 0.0, 0.0, 0.0, 0.0, 0.0, 0.0, 0.0, 0.0, 0.0, 0.0, 1.0, 0.0, 0.0, 1.0, 0.0, 1.0, 1.0, 0.0, 0.0, 0.0, 0.0, 0.0, 0.0, 0.0, 0.0, 0.0, 0.0, 1.0, 0.0, 1.0, 0.0, 1.0, 0.0, 0.0, 0.0, 0.0, 1.0, 0.0, 0.0, 0.0, 1.0, 0.0, 1.0, 0.0, 0.0, 1.0, 0.0, 0.0, 0.0, 0.0, 0.0, 1.0, 0.0, 0.0, 0.0, 0.0, 0.0, 1.0, 0.0, 0.0, 0.0, 0.0, 0.0, 0.0, 0.0, 0.0, 0.0, 0.0, 1.0, 1.0, 0.0, 0.0, 0.0, 1.0, 0.0, 0.0, 0.0, 0.0, 0.0, 0.0, 0.0, 0.0, 0.0, 0.0, 0.0, 1.0, 0.0, 1.0, 0.0, 0.0, 1.0, 0.0, 0.0, 0.0, 1.0, 1.0, 1.0, 1.0, 0.0, 0.0, 0.0, 0.0, 0.0, 1.0, 0.0, 1.0, 1.0, 0.0, 0.0, 1.0, 0.0, 0.0, 0.0, 0.0, 0.0, 0.0, 0.0, 1.0, 0.0, 0.0, 0.0, 1.0, 0.0, 0.0, 1.0, 0.0, 0.0, 0.0, 0.0, 0.0, 0.0, 1.0, 0.0, 0.0, 1.0, 0.0, 1.0, 1.0, 0.0, 0.0, 0.0, 0.0, 0.0, 0.0, 0.0, 0.0, 0.0, 0.0, 0.0, 1.0, 0.0, 1.0, 0.0, 0.0, 1.0, 0.0, 0.0, 1.0, 0.0, 0.0, 1.0, 0.0, 1.0, 0.0, 0.0, 1.0, 0.0, 0.0, 0.0, 1.0, 0.0, 0.0, 0.0, 0.0, 0.0, 0.0, 0.0, 1.0, 1.0, 0.0, 0.0, 0.0, 0.0, 1.0, 1.0, 0.0, 0.0, 0.0, 1.0, 0.0, 0.0, 0.0, 0.0, 1.0, 0.0, 1.0, 0.0, 0.0, 1.0, 0.0, 0.0, 0.0, 1.0, 0.0, 0.0, 0.0, 0.0, 1.0, 0.0, 0.0, 0.0, 0.0, 0.0, 1.0, 1.0, 0.0, 0.0, 0.0, 1.0, 0.0, 0.0, 0.0, 0.0, 0.0, 1.0, 0.0, 0.0, 0.0, 0.0, 0.0, 0.0, 0.0, 1.0, 0.0, 0.0, 0.0, 0.0, 0.0, 1.0, 0.0, 0.0, 0.0, 0.0, 0.0, 0.0, 1.0, 1.0, 1.0, 0.0, 1.0, 0.0, 0.0, 0.0, 1.0, 0.0, 0.0, 0.0, 0.0, 0.0, 0.0, 0.0, 0.0, 1.0, 0.0, 0.0, 0.0, 0.0, 1.0, 0.0, 1.0, 1.0, 0.0, 0.0, 1.0, 0.0, 0.0, 1.0, 0.0, 0.0, 0.0, 0.0, 0.0, 1.0, 1.0, 0.0, 0.0, 0.0, 0.0, 0.0, 0.0, 0.0, 0.0, 1.0, 1.0, 1.0, 0.0, 0.0, 1.0, 0.0, 1.0, 0.0, 1.0, 1.0, 0.0, 1.0, 0.0, 0.0, 0.0, 1.0, 0.0, 0.0, 0.0, 1.0, 0.0, 0.0, 0.0, 0.0, 0.0, 0.0, 0.0, 0.0, 0.0, 1.0, 1.0, 0.0, 0.0, 0.0, 0.0, 0.0, 0.0, 1.0, 0.0, 0.0, 0.0, 0.0, 0.0, 1.0, 1.0, 0.0, 0.0, 0.0, 0.0, 0.0, 0.0, 0.0, 1.0, 0.0, 0.0, 0.0, 0.0, 0.0, 1.0, 1.0, 0.0, 0.0, 0.0, 0.0, 1.0, 1.0, 0.0, 0.0, 0.0, 0.0, 0.0, 1.0, 0.0, 0.0, 1.0, 0.0, 0.0, 0.0, 0.0, 0.0, 0.0, 0.0, 0.0, 0.0, 0.0, 1.0, 0.0, 0.0, 0.0, 0.0, 0.0, 0.0, 1.0, 0.0, 1.0, 0.0, 0.0, 0.0, 0.0, 0.0, 0.0, 0.0, 1.0, 0.0, 0.0, 0.0, 0.0, 1.0, 1.0, 0.0, 1.0, 0.0, 1.0, 1.0, 0.0, 0.0, 1.0, 0.0, 1.0, 0.0, 0.0, 1.0, 0.0, 0.0, 0.0, 0.0, 1.0, 0.0, 1.0, 0.0, 0.0, 1.0, 1.0, 0.0, 0.0, 0.0, 1.0, 0.0, 0.0, 0.0, 0.0, 0.0, 0.0, 1.0, 0.0, 0.0, 0.0, 0.0, 0.0, 1.0, 1.0, 0.0, 0.0, 0.0, 0.0, 0.0, 0.0, 0.0, 0.0, 0.0, 0.0, 0.0, 0.0, 0.0, 1.0, 0.0, 0.0, 0.0, 0.0, 0.0, 1.0, 0.0, 0.0, 0.0, 0.0, 0.0, 0.0, 0.0, 0.0, 0.0, 1.0, 0.0, 0.0, 0.0, 0.0, 0.0, 1.0, 0.0, 0.0, 0.0, 0.0, 0.0, 0.0, 0.0, 0.0, 0.0, 0.0, 0.0, 1.0, 0.0, 0.0, 0.0, 0.0, 1.0, 0.0, 0.0, 0.0, 0.0, 0.0, 0.0, 0.0, 1.0, 1.0, 0.0, 1.0, 1.0, 1.0, 1.0, 1.0, 0.0, 0.0, 0.0, 0.0, 0.0, 0.0, 0.0, 0.0, 1.0, 0.0, 1.0, 0.0, 0.0, 1.0, 0.0, 0.0, 0.0, 0.0, 0.0, 0.0, 0.0, 0.0, 0.0, 0.0, 0.0, 0.0, 0.0, 0.0, 0.0, 1.0, 1.0, 0.0, 0.0, 0.0, 0.0, 0.0, 0.0, 0.0, 0.0, 0.0, 0.0, 0.0, 0.0, 0.0, 0.0, 0.0, 0.0, 0.0, 0.0, 0.0, 0.0, 0.0, 0.0, 0.0, 0.0, 1.0, 0.0, 0.0, 0.0, 0.0, 0.0, 0.0, 0.0, 1.0, 1.0, 0.0, 1.0, 1.0, 0.0, 0.0, 0.0, 1.0, 1.0, 1.0, 0.0, 1.0, 0.0, 1.0, 0.0, 1.0, 0.0, 0.0, 0.0, 0.0, 1.0, 0.0, 1.0, 0.0, 1.0, 0.0, 1.0, 1.0, 0.0, 0.0, 0.0, 0.0, 0.0, 1.0, 0.0, 0.0, 0.0, 1.0, 0.0, 1.0, 1.0, 0.0, 0.0, 0.0, 0.0, 0.0, 0.0, 0.0, 1.0, 1.0, 0.0, 0.0, 1.0, 0.0, 0.0, 0.0, 0.0, 0.0, 1.0, 0.0, 0.0, 0.0, 0.0, 0.0, 0.0, 1.0, 0.0, 0.0, 0.0, 1.0, 0.0, 1.0, 0.0, 1.0, 0.0, 0.0, 0.0, 0.0, 0.0, 0.0, 0.0, 0.0, 0.0, 0.0, 0.0, 0.0, 0.0, 1.0, 0.0, 0.0, 0.0, 0.0, 0.0, 1.0, 0.0, 0.0, 0.0, 0.0, 0.0, 0.0, 1.0, 0.0, 0.0, 0.0, 0.0, 1.0, 0.0, 0.0, 1.0, 0.0, 0.0, 0.0, 0.0, 0.0, 1.0, 0.0, 0.0, 0.0, 1.0, 0.0, 0.0, 0.0, 0.0, 1.0, 0.0, 1.0, 0.0, 0.0, 0.0, 1.0, 0.0, 0.0, 0.0, 0.0, 1.0, 0.0, 0.0, 0.0, 0.0, 1.0, 0.0, 1.0, 1.0, 0.0, 1.0, 1.0, 0.0, 0.0, 0.0, 0.0, 0.0, 0.0, 1.0, 0.0, 0.0, 0.0, 0.0, 0.0, 1.0, 0.0, 0.0, 0.0, 1.0, 0.0, 0.0, 0.0, 0.0, 0.0, 1.0, 0.0, 0.0, 0.0, 0.0, 1.0, 0.0, 0.0, 0.0, 0.0, 0.0, 0.0, 0.0, 0.0, 1.0, 0.0, 0.0, 1.0, 0.0, 0.0, 0.0, 0.0, 0.0, 0.0, 0.0, 0.0, 0.0, 0.0, 0.0, 0.0, 0.0, 0.0, 0.0, 0.0, 0.0, 0.0, 0.0, 1.0, 0.0, 0.0, 0.0, 0.0, 0.0, 1.0, 1.0, 0.0, 0.0, 0.0, 1.0, 0.0, 1.0, 1.0, 1.0, 0.0, 0.0, 0.0, 0.0, 0.0, 0.0, 0.0, 0.0, 0.0, 0.0, 0.0, 0.0, 0.0, 0.0, 0.0, 1.0, 0.0, 0.0, 0.0, 0.0, 0.0, 0.0, 0.0, 0.0, 1.0, 0.0, 0.0, 0.0, 0.0, 1.0, 0.0, 1.0, 0.0, 0.0, 1.0, 0.0, 0.0, 0.0, 0.0, 0.0, 0.0, 0.0, 1.0, 1.0, 0.0, 0.0, 0.0, 0.0, 1.0, 1.0, 1.0, 0.0, 1.0, 0.0, 0.0, 1.0, 0.0, 0.0, 0.0, 0.0, 1.0, 1.0, 0.0, 0.0, 1.0, 1.0, 1.0, 0.0, 0.0, 1.0, 0.0, 0.0, 0.0, 0.0, 0.0, 0.0, 0.0, 0.0, 0.0, 1.0, 0.0, 0.0, 0.0, 0.0, 0.0, 0.0, 0.0, 0.0, 0.0, 0.0, 1.0, 1.0, 0.0, 0.0, 0.0, 0.0, 1.0, 0.0, 0.0, 0.0, 0.0, 0.0, 0.0, 0.0, 0.0, 0.0, 0.0, 0.0, 1.0, 0.0, 1.0, 0.0, 0.0, 1.0, 1.0, 0.0, 0.0, 0.0, 0.0, 1.0, 0.0, 1.0, 1.0, 0.0, 0.0, 0.0, 0.0, 0.0, 1.0, 1.0, 0.0, 0.0, 0.0, 0.0, 0.0, 0.0, 0.0, 0.0, 0.0, 0.0, 0.0, 1.0, 0.0, 0.0, 0.0, 1.0, 1.0, 0.0, 0.0, 0.0, 0.0, 0.0, 0.0, 0.0, 0.0, 0.0, 0.0, 0.0, 1.0, 0.0, 1.0, 0.0, 0.0, 0.0, 0.0, 1.0, 0.0, 0.0, 0.0, 0.0, 1.0, 1.0, 1.0, 0.0, 0.0, 1.0, 0.0, 1.0, 0.0, 0.0, 0.0, 0.0, 0.0, 0.0, 0.0, 0.0, 0.0, 0.0, 0.0, 0.0, 0.0, 0.0, 1.0, 1.0, 0.0, 0.0, 0.0, 0.0, 0.0, 0.0, 0.0, 0.0, 0.0, 0.0, 0.0, 0.0, 0.0, 1.0, 0.0, 0.0, 0.0, 0.0, 0.0, 0.0, 0.0, 0.0, 0.0, 0.0, 0.0, 0.0, 0.0, 0.0, 0.0, 1.0, 0.0, 1.0, 0.0, 0.0, 0.0, 1.0, 1.0, 0.0, 1.0, 0.0, 0.0, 0.0, 0.0, 0.0, 0.0, 0.0, 0.0, 0.0, 0.0, 1.0, 1.0, 0.0, 1.0, 0.0, 0.0, 0.0, 0.0, 1.0, 0.0, 0.0, 1.0, 1.0, 0.0, 0.0, 0.0, 0.0, 0.0, 1.0, 1.0, 0.0, 0.0, 0.0, 1.0, 0.0, 0.0, 1.0, 1.0, 0.0, 0.0, 0.0, 0.0, 0.0, 0.0, 0.0, 1.0, 0.0, 1.0, 0.0, 0.0, 0.0, 0.0, 0.0, 0.0, 0.0, 0.0, 0.0, 1.0, 0.0, 1.0, 1.0, 0.0, 0.0, 0.0, 0.0, 1.0, 0.0, 1.0, 0.0, 0.0, 0.0, 0.0, 1.0, 1.0, 0.0, 0.0, 1.0, 0.0, 0.0, 0.0, 0.0, 0.0, 0.0, 1.0, 1.0, 0.0, 0.0, 0.0, 1.0, 0.0, 0.0, 0.0, 0.0, 0.0, 1.0, 1.0, 0.0, 1.0, 0.0, 0.0, 0.0, 0.0, 1.0, 0.0, 1.0, 0.0, 0.0, 0.0, 1.0, 0.0, 1.0, 0.0, 0.0, 0.0, 0.0, 0.0, 0.0, 0.0, 0.0, 1.0, 1.0, 0.0, 1.0, 0.0, 0.0, 0.0, 1.0, 0.0, 0.0, 0.0, 0.0, 0.0, 0.0, 0.0, 0.0, 0.0, 0.0, 1.0, 0.0, 0.0, 0.0, 0.0, 0.0, 0.0, 0.0, 0.0, 0.0, 1.0, 0.0, 0.0, 0.0, 1.0, 0.0, 1.0, 0.0, 0.0, 0.0, 1.0, 1.0, 0.0, 1.0, 0.0, 1.0, 0.0, 0.0, 0.0, 0.0, 0.0, 0.0, 1.0, 0.0, 0.0, 1.0, 0.0, 0.0, 0.0, 0.0, 1.0, 0.0, 0.0, 0.0, 0.0, 0.0, 1.0, 0.0, 0.0, 1.0, 0.0, 1.0, 1.0, 0.0, 0.0, 0.0, 0.0, 0.0, 0.0, 0.0, 0.0, 0.0, 0.0, 0.0, 0.0, 0.0, 0.0, 0.0, 0.0, 0.0, 0.0, 1.0, 0.0, 0.0, 0.0, 0.0, 0.0, 0.0, 0.0, 0.0, 0.0, 0.0, 0.0, 0.0, 1.0, 0.0, 1.0, 0.0, 1.0, 1.0, 0.0, 0.0, 0.0, 0.0, 0.0, 0.0, 0.0, 1.0, 1.0, 0.0, 0.0, 1.0, 1.0, 0.0, 0.0, 0.0, 1.0, 1.0, 0.0, 0.0, 0.0, 0.0, 0.0, 0.0, 0.0, 1.0, 0.0, 0.0, 0.0, 0.0, 0.0, 0.0, 1.0, 0.0, 0.0, 1.0, 1.0, 0.0, 0.0, 0.0, 0.0, 0.0, 0.0, 1.0, 0.0, 0.0, 1.0, 1.0, 1.0, 1.0, 0.0, 0.0, 1.0, 0.0, 0.0, 0.0, 0.0, 0.0, 0.0, 0.0, 0.0, 0.0, 1.0, 1.0, 0.0, 1.0, 0.0, 1.0, 0.0, 0.0, 1.0, 0.0, 0.0, 0.0, 0.0, 0.0, 0.0, 0.0, 0.0, 0.0, 0.0, 0.0, 0.0, 0.0, 0.0, 0.0, 1.0, 0.0, 0.0, 1.0, 0.0, 1.0, 1.0, 0.0, 0.0, 0.0, 0.0, 0.0, 1.0, 0.0, 0.0, 0.0, 0.0, 0.0, 1.0, 0.0, 0.0, 0.0, 0.0, 0.0, 0.0, 0.0, 0.0, 0.0, 0.0, 0.0, 0.0, 0.0, 1.0, 0.0, 0.0, 0.0, 1.0, 1.0, 0.0, 0.0, 0.0, 0.0, 0.0, 0.0, 1.0, 0.0, 0.0, 0.0, 1.0, 0.0, 1.0, 0.0, 0.0, 0.0, 1.0, 0.0, 1.0, 0.0, 0.0, 0.0, 0.0, 0.0, 0.0, 1.0, 0.0, 0.0, 1.0, 0.0, 0.0, 0.0, 1.0, 1.0, 1.0, 0.0, 1.0, 0.0, 0.0, 1.0, 0.0, 1.0, 0.0, 0.0, 1.0, 0.0, 1.0, 0.0, 0.0, 1.0, 0.0, 1.0, 1.0, 0.0, 1.0, 0.0, 0.0, 0.0, 1.0, 1.0, 1.0, 1.0, 0.0, 0.0, 0.0, 0.0, 0.0, 1.0, 1.0, 1.0, 1.0, 0.0, 0.0, 0.0, 1.0, 0.0, 0.0, 1.0, 0.0, 0.0, 0.0, 0.0, 0.0, 1.0, 1.0, 0.0, 0.0, 0.0, 1.0, 0.0, 1.0, 1.0, 0.0, 1.0, 0.0, 0.0, 0.0, 0.0, 0.0, 0.0, 0.0, 1.0, 0.0, 0.0, 0.0, 1.0, 0.0, 0.0, 1.0, 0.0, 1.0, 0.0, 0.0, 0.0, 0.0, 0.0, 0.0, 0.0, 0.0, 0.0, 0.0, 1.0, 0.0, 0.0, 0.0, 0.0, 0.0, 0.0, 0.0, 0.0, 1.0, 0.0, 1.0, 0.0, 0.0, 1.0, 0.0, 0.0, 0.0, 0.0, 1.0, 1.0, 0.0, 0.0, 1.0, 0.0, 0.0, 0.0, 1.0, 1.0, 1.0, 0.0, 0.0, 0.0, 0.0, 0.0, 0.0, 0.0, 0.0, 0.0, 0.0, 0.0, 0.0, 1.0, 0.0, 0.0, 0.0, 0.0, 1.0, 1.0, 0.0, 0.0, 0.0, 0.0, 0.0, 0.0, 0.0, 0.0, 0.0, 0.0, 0.0, 1.0, 0.0, 0.0, 0.0, 1.0, 1.0, 0.0, 0.0, 0.0, 0.0, 0.0, 1.0, 0.0, 1.0, 0.0, 0.0, 0.0, 1.0, 0.0, 0.0, 1.0, 0.0, 1.0, 0.0, 1.0, 0.0, 0.0, 0.0, 1.0, 0.0, 1.0, 0.0, 0.0, 0.0, 1.0, 0.0, 0.0, 0.0, 0.0, 1.0, 0.0, 0.0, 0.0, 0.0, 0.0, 1.0, 0.0, 0.0, 0.0, 0.0, 0.0, 1.0, 0.0, 0.0, 1.0, 0.0, 1.0, 0.0, 0.0, 1.0, 1.0, 0.0, 1.0, 1.0, 0.0, 0.0, 1.0, 0.0, 0.0, 0.0, 0.0, 0.0, 0.0, 0.0, 1.0, 1.0, 1.0, 0.0, 0.0, 0.0, 1.0, 1.0, 1.0, 0.0, 0.0, 0.0, 1.0, 1.0, 0.0, 0.0, 1.0, 1.0, 1.0, 1.0, 1.0, 0.0, 0.0, 0.0, 0.0, 0.0, 0.0, 0.0, 0.0, 1.0, 1.0, 0.0, 0.0, 0.0, 0.0, 0.0, 0.0, 0.0, 1.0, 1.0, 1.0, 0.0, 0.0, 1.0, 0.0, 1.0, 0.0, 1.0, 0.0, 1.0, 1.0, 0.0, 0.0, 0.0, 0.0, 0.0, 0.0, 0.0, 1.0, 0.0, 1.0, 0.0, 0.0, 0.0, 1.0, 0.0, 0.0, 1.0, 0.0, 1.0, 0.0, 0.0, 1.0, 0.0, 1.0, 0.0, 0.0, 1.0, 0.0, 0.0, 0.0, 1.0, 0.0, 0.0, 1.0, 1.0, 0.0, 1.0, 0.0, 1.0, 1.0, 0.0, 0.0, 0.0, 0.0, 0.0, 0.0, 1.0, 0.0, 0.0, 0.0, 0.0, 0.0, 1.0, 0.0, 0.0, 0.0, 0.0, 0.0, 0.0, 0.0, 0.0, 0.0, 0.0, 1.0, 0.0, 0.0, 0.0, 0.0, 0.0, 1.0, 1.0, 0.0, 0.0, 0.0, 0.0, 0.0, 1.0, 1.0, 1.0, 0.0, 1.0, 0.0, 0.0, 0.0, 0.0, 0.0, 0.0, 0.0, 1.0, 1.0, 0.0, 0.0, 0.0, 0.0, 0.0, 0.0, 0.0, 0.0, 0.0, 0.0, 0.0, 0.0, 0.0, 0.0, 0.0, 0.0, 0.0, 0.0, 0.0, 1.0, 0.0, 0.0, 1.0, 0.0, 0.0, 0.0, 1.0, 1.0, 0.0, 0.0, 0.0, 0.0, 1.0, 0.0, 0.0, 1.0, 0.0, 0.0, 1.0, 0.0, 0.0, 0.0, 0.0, 0.0, 0.0, 0.0, 0.0, 0.0, 0.0, 1.0, 1.0, 0.0, 0.0, 0.0, 0.0, 0.0, 0.0, 0.0, 0.0, 0.0, 1.0, 0.0, 0.0, 0.0, 0.0, 0.0, 0.0, 0.0, 0.0, 0.0, 0.0, 1.0, 0.0, 0.0, 1.0, 0.0, 0.0, 0.0, 0.0, 0.0, 0.0, 0.0, 0.0, 0.0, 0.0, 0.0, 1.0, 0.0, 1.0, 0.0, 0.0, 0.0, 0.0, 1.0, 0.0, 0.0, 0.0, 0.0, 0.0, 1.0, 0.0, 0.0, 0.0, 1.0, 1.0, 0.0, 0.0, 0.0, 1.0, 0.0, 0.0, 0.0, 0.0, 0.0, 0.0, 0.0, 0.0, 0.0, 0.0, 0.0, 1.0, 0.0, 0.0, 0.0, 0.0, 1.0, 0.0, 0.0, 0.0, 0.0, 0.0, 1.0, 0.0, 0.0, 0.0, 0.0, 1.0, 0.0, 1.0, 0.0, 0.0, 0.0, 0.0, 0.0, 0.0, 1.0, 0.0, 0.0, 0.0, 0.0, 0.0, 1.0, 0.0, 0.0, 1.0, 1.0, 1.0, 0.0, 0.0, 0.0, 1.0, 1.0, 0.0, 0.0, 0.0], \"x0\": \" \", \"xaxis\": \"x\", \"y\": [0.92, 0.7759999999999999, 0.624, 0.767, 0.764, 0.92, 0.762, 0.92, 0.92, 0.624, 0.92, 0.913, 0.624, 0.926, 0.92, 0.624, 0.624, 0.8270000000000001, 0.843, 0.926, 0.804, 0.7759999999999999, 0.624, 0.855, 0.624, 0.92, 0.887, 0.624, 0.92, 0.92, 0.92, 0.92, 0.91, 0.92, 0.926, 0.926, 0.92, 0.926, 0.924, 0.624, 0.6659999999999999, 0.624, 0.624, 0.624, 0.92, 0.5579999999999999, 0.923, 0.5579999999999999, 0.6659999999999999, 0.794, 0.924, 0.926, 0.924, 0.754, 0.92, 0.767, 0.855, 0.939, 0.887, 0.865, 0.855, 0.91, 0.91, 0.6659999999999999, 0.624, 0.8270000000000001, 0.855, 0.55, 0.92, 0.893, 0.92, 0.855, 0.92, 0.92, 0.92, 0.92, 0.92, 0.7959999999999999, 0.884, 0.866, 0.92, 0.698, 0.92, 0.91, 0.92, 0.682, 0.92, 0.802, 0.92, 0.579, 0.802, 0.55, 0.55, 0.878, 0.92, 0.92, 0.91, 0.939, 0.897, 0.624, 0.91, 0.754, 0.855, 0.926, 0.949, 0.624, 0.926, 0.925, 0.624, 0.698, 0.8959999999999999, 0.92, 0.624, 0.91, 0.878, 0.92, 0.836, 0.693, 0.855, 0.92, 0.92, 0.92, 0.893, 0.926, 0.804, 0.6659999999999999, 0.804, 0.92, 0.55, 0.92, 0.698, 0.624, 0.92, 0.866, 0.92, 0.926, 0.769, 0.754, 0.855, 0.92, 0.926, 0.92, 0.92, 0.91, 0.624, 0.91, 0.925, 0.926, 0.92, 0.92, 0.939, 0.92, 0.804, 0.92, 0.92, 0.698, 0.92, 0.754, 0.92, 0.855, 0.698, 0.91, 0.878, 0.92, 0.949, 0.92, 0.92, 0.7759999999999999, 0.92, 0.924, 0.939, 0.926, 0.897, 0.624, 0.92, 0.789, 0.698, 0.92, 0.624, 0.91, 0.923, 0.91, 0.92, 0.92, 0.893, 0.802, 0.884, 0.887, 0.624, 0.775, 0.624, 0.903, 0.92, 0.92, 0.92, 0.624, 0.624, 0.555, 0.624, 0.92, 0.624, 0.754, 0.92, 0.91, 0.92, 0.939, 0.926, 0.939, 0.624, 0.91, 0.92, 0.92, 0.92, 0.926, 0.878, 0.727, 0.91, 0.92, 0.754, 0.903, 0.884, 0.903, 0.92, 0.624, 0.92, 0.92, 0.92, 0.804, 0.926, 0.698, 0.926, 0.624, 0.92, 0.92, 0.91, 0.92, 0.624, 0.624, 0.92, 0.893, 0.762, 0.836, 0.6659999999999999, 0.6659999999999999, 0.897, 0.926, 0.884, 0.92, 0.624, 0.923, 0.92, 0.92, 0.91, 0.624, 0.923, 0.92, 0.91, 0.926, 0.926, 0.92, 0.92, 0.92, 0.949, 0.939, 0.64, 0.92, 0.794, 0.878, 0.516, 0.878, 0.698, 0.727, 0.754, 0.924, 0.92, 0.92, 0.92, 0.555, 0.926, 0.754, 0.855, 0.92, 0.579, 0.897, 0.804, 0.624, 0.855, 0.913, 0.92, 0.92, 0.923, 0.913, 0.92, 0.804, 0.92, 0.926, 0.743, 0.926, 0.92, 0.804, 0.92, 0.92, 0.804, 0.92, 0.92, 0.92, 0.698, 0.92, 0.769, 0.91, 0.939, 0.939, 0.899, 0.855, 0.92, 0.698, 0.91, 0.804, 0.913, 0.855, 0.92, 0.897, 0.915, 0.887, 0.924, 0.624, 0.802, 0.6890000000000001, 0.698, 0.92, 0.92, 0.698, 0.897, 0.893, 0.91, 0.92, 0.92, 0.92, 0.624, 0.91, 0.899, 0.878, 0.7759999999999999, 0.804, 0.926, 0.899, 0.624, 0.91, 0.92, 0.893, 0.624, 0.804, 0.92, 0.92, 0.926, 0.92, 0.92, 0.887, 0.897, 0.926, 0.897, 0.91, 0.939, 0.91, 0.939, 0.924, 0.624, 0.92, 0.836, 0.92, 0.939, 0.895, 0.92, 0.884, 0.55, 0.89, 0.92, 0.926, 0.887, 0.855, 0.624, 0.92, 0.8959999999999999, 0.884, 0.624, 0.754, 0.762, 0.624, 0.926, 0.92, 0.92, 0.92, 0.92, 0.92, 0.855, 0.767, 0.884, 0.92, 0.91, 0.855, 0.897, 0.8270000000000001, 0.624, 0.794, 0.939, 0.527, 0.884, 0.91, 0.92, 0.698, 0.92, 0.884, 0.7659999999999999, 0.738, 0.855, 0.91, 0.92, 0.878, 0.624, 0.762, 0.91, 0.903, 0.855, 0.878, 0.92, 0.92, 0.624, 0.762, 0.92, 0.8270000000000001, 0.624, 0.91, 0.923, 0.7759999999999999, 0.624, 0.767, 0.767, 0.624, 0.836, 0.926, 0.624, 0.92, 0.91, 0.624, 0.624, 0.64, 0.804, 0.802, 0.624, 0.92, 0.647, 0.939, 0.624, 0.624, 0.926, 0.924, 0.624, 0.92, 0.855, 0.795, 0.92, 0.5579999999999999, 0.92, 0.624, 0.92, 0.939, 0.794, 0.855, 0.682, 0.624, 0.926, 0.92, 0.91, 0.92, 0.926, 0.624, 0.887, 0.802, 0.939, 0.91, 0.754, 0.624, 0.5579999999999999, 0.624, 0.7959999999999999, 0.92, 0.92, 0.698, 0.624, 0.624, 0.624, 0.91, 0.74, 0.855, 0.92, 0.579, 0.624, 0.754, 0.91, 0.624, 0.92, 0.91, 0.624, 0.926, 0.624, 0.754, 0.698, 0.895, 0.91, 0.91, 0.802, 0.89, 0.855, 0.624, 0.924, 0.91, 0.855, 0.8270000000000001, 0.939, 0.926, 0.698, 0.913, 0.92, 0.804, 0.92, 0.865, 0.92, 0.624, 0.624, 0.624, 0.92, 0.624, 0.743, 0.926, 0.91, 0.897, 0.624, 0.924, 0.738, 0.866, 0.624, 0.701, 0.91, 0.884, 0.91, 0.92, 0.92, 0.802, 0.92, 0.926, 0.698, 0.893, 0.893, 0.7659999999999999, 0.926, 0.516, 0.698, 0.92, 0.754, 0.624, 0.92, 0.624, 0.913, 0.92, 0.91, 0.92, 0.92, 0.92, 0.92, 0.624, 0.939, 0.762, 0.855, 0.925, 0.6659999999999999, 0.802, 0.762, 0.92, 0.804, 0.897, 0.767, 0.92, 0.794, 0.682, 0.926, 0.92, 0.92, 0.762, 0.926, 0.767, 0.887, 0.926, 0.91, 0.895, 0.624, 0.91, 0.92, 0.624, 0.915, 0.624, 0.91, 0.92, 0.762, 0.624, 0.92, 0.92, 0.802, 0.754, 0.92, 0.698, 0.91, 0.878, 0.92, 0.91, 0.939, 0.624, 0.682, 0.624, 0.939, 0.92, 0.804, 0.92, 0.884, 0.926, 0.92, 0.92, 0.92, 0.92, 0.55, 0.926, 0.624, 0.92, 0.8959999999999999, 0.92, 0.92, 0.769, 0.804, 0.924, 0.91, 0.926, 0.913, 0.92, 0.92, 0.92, 0.624, 0.92, 0.939, 0.624, 0.926, 0.926, 0.624, 0.897, 0.92, 0.899, 0.6659999999999999, 0.493, 0.91, 0.624, 0.926, 0.899, 0.884, 0.878, 0.92, 0.92, 0.926, 0.92, 0.92, 0.84, 0.624, 0.91, 0.804, 0.926, 0.555, 0.769, 0.897, 0.926, 0.926, 0.887, 0.804, 0.6890000000000001, 0.92, 0.794, 0.698, 0.91, 0.855, 0.91, 0.92, 0.91, 0.92, 0.55, 0.624, 0.939, 0.92, 0.624, 0.92, 0.866, 0.878, 0.903, 0.691, 0.91, 0.92, 0.624, 0.698, 0.92, 0.92, 0.92, 0.735, 0.926, 0.698, 0.91, 0.926, 0.92, 0.926, 0.804, 0.55, 0.55, 0.624, 0.742, 0.92, 0.893, 0.92, 0.624, 0.794, 0.624, 0.92, 0.855, 0.884, 0.91, 0.624, 0.92, 0.893, 0.91, 0.624, 0.866, 0.92, 0.855, 0.92, 0.939, 0.92, 0.897, 0.92, 0.8270000000000001, 0.555, 0.624, 0.92, 0.92, 0.939, 0.926, 0.92, 0.624, 0.855, 0.92, 0.804, 0.843, 0.802, 0.913, 0.738, 0.92, 0.479, 0.92, 0.527, 0.92, 0.923, 0.7759999999999999, 0.92, 0.92, 0.624, 0.92, 0.624, 0.624, 0.91, 0.92, 0.92, 0.926, 0.92, 0.624, 0.92, 0.7759999999999999, 0.926, 0.91, 0.682, 0.878, 0.754, 0.913, 0.899, 0.92, 0.92, 0.926, 0.92, 0.624, 0.924, 0.55, 0.92, 0.949, 0.92, 0.91, 0.887, 0.722, 0.624, 0.893, 0.92, 0.926, 0.897, 0.92, 0.92, 0.8270000000000001, 0.89, 0.804, 0.92, 0.624, 0.925, 0.698, 0.92, 0.92, 0.91, 0.92, 0.915, 0.887, 0.92, 0.624, 0.92, 0.743, 0.92, 0.92, 0.92, 0.6890000000000001, 0.92, 0.897, 0.92, 0.92, 0.92, 0.897, 0.92, 0.926, 0.91, 0.92, 0.91, 0.913, 0.893, 0.92, 0.926, 0.624, 0.939, 0.926, 0.92, 0.769, 0.92, 0.527, 0.921, 0.89, 0.926, 0.895, 0.92, 0.738, 0.767, 0.848, 0.767, 0.926, 0.92, 0.926, 0.698, 0.92, 0.856, 0.92, 0.91, 0.767, 0.624, 0.926, 0.887, 0.92, 0.91, 0.92, 0.698, 0.92, 0.92, 0.92, 0.92, 0.92, 0.624, 0.92, 0.843, 0.624, 0.866, 0.92, 0.479, 0.91, 0.479, 0.897, 0.624, 0.92, 0.887, 0.91, 0.92, 0.624, 0.754, 0.92, 0.926, 0.92, 0.926, 0.6659999999999999, 0.939, 0.624, 0.92, 0.897, 0.804, 0.843, 0.624, 0.91, 0.92, 0.762, 0.903, 0.624, 0.893, 0.804, 0.754, 0.855, 0.92, 0.92, 0.64, 0.893, 0.92, 0.92, 0.878, 0.893, 0.843, 0.92, 0.92, 0.624, 0.92, 0.624, 0.897, 0.6659999999999999, 0.84, 0.624, 0.624, 0.92, 0.754, 0.7759999999999999, 0.92, 0.624, 0.743, 0.92, 0.939, 0.624, 0.836, 0.804, 0.698, 0.91, 0.682, 0.897, 0.91, 0.899, 0.92, 0.92, 0.893, 0.855, 0.91, 0.92, 0.92, 0.939, 0.92, 0.8270000000000001, 0.767, 0.92, 0.92, 0.624, 0.92, 0.91, 0.92, 0.92, 0.92, 0.92, 0.624, 0.92, 0.92, 0.926, 0.91, 0.92, 0.624, 0.624, 0.92, 0.92, 0.903, 0.92, 0.903, 0.92, 0.926, 0.8959999999999999, 0.92, 0.92, 0.743, 0.925, 0.926, 0.92, 0.939, 0.897, 0.624, 0.898, 0.92, 0.856, 0.55, 0.878, 0.866, 0.624, 0.55, 0.92, 0.624, 0.624, 0.92, 0.624, 0.698, 0.855, 0.926, 0.92, 0.92, 0.926, 0.897, 0.92, 0.92, 0.843, 0.92, 0.926, 0.624, 0.527, 0.624, 0.926, 0.913, 0.5579999999999999, 0.92, 0.91, 0.92, 0.91, 0.855, 0.92, 0.92, 0.91, 0.899, 0.92, 0.92, 0.698, 0.92, 0.923, 0.92, 0.91, 0.887, 0.8270000000000001, 0.754, 0.92, 0.926, 0.55, 0.92, 0.92, 0.92, 0.92, 0.743, 0.897, 0.924, 0.92, 0.878, 0.897, 0.92, 0.698, 0.698, 0.92, 0.624, 0.897, 0.899, 0.92, 0.843, 0.754, 0.92, 0.866, 0.939, 0.754, 0.897, 0.55, 0.698, 0.92, 0.624, 0.769, 0.682, 0.91, 0.897, 0.91, 0.754, 0.91, 0.624, 0.698, 0.5579999999999999, 0.92, 0.91, 0.855, 0.926, 0.92, 0.897, 0.92, 0.6659999999999999, 0.624, 0.698, 0.8959999999999999, 0.767, 0.624, 0.887, 0.92, 0.92, 0.92, 0.913, 0.624, 0.92, 0.527, 0.624, 0.624, 0.887, 0.92, 0.855, 0.895, 0.897, 0.624, 0.926, 0.926, 0.91, 0.624, 0.624, 0.939, 0.83, 0.913, 0.926, 0.92, 0.624, 0.92, 0.92, 0.73, 0.92, 0.91, 0.624, 0.624, 0.624, 0.92, 0.698, 0.764, 0.624, 0.698, 0.624, 0.92, 0.624, 0.92, 0.92, 0.949, 0.68, 0.92, 0.897, 0.926, 0.698, 0.92, 0.926, 0.92, 0.92, 0.624, 0.92, 0.939, 0.92, 0.92, 0.6890000000000001, 0.624, 0.92, 0.555, 0.6890000000000001, 0.624, 0.698, 0.887, 0.91, 0.925, 0.624, 0.92, 0.624, 0.91, 0.624, 0.92, 0.89, 0.92, 0.91, 0.754, 0.84, 0.624, 0.92, 0.91, 0.624, 0.527, 0.92, 0.855, 0.923, 0.698, 0.5579999999999999, 0.926, 0.698, 0.624, 0.55, 0.804, 0.924, 0.921, 0.8959999999999999, 0.624, 0.92, 0.92, 0.624, 0.624, 0.893, 0.91, 0.91, 0.767, 0.91, 0.939, 0.624, 0.91, 0.884, 0.624, 0.926, 0.91, 0.91, 0.624, 0.8959999999999999, 0.754, 0.92, 0.92, 0.92, 0.926, 0.624, 0.624, 0.926, 0.878, 0.8270000000000001, 0.92, 0.725, 0.624, 0.893, 0.8270000000000001, 0.624, 0.884, 0.91, 0.926, 0.926, 0.698, 0.92, 0.924, 0.794, 0.926, 0.624, 0.92, 0.698, 0.92, 0.893, 0.926, 0.92, 0.92, 0.893, 0.55, 0.92, 0.91, 0.789, 0.738, 0.6890000000000001, 0.624, 0.682, 0.8959999999999999, 0.939, 0.92, 0.624, 0.92, 0.855, 0.855, 0.767, 0.624, 0.926, 0.92, 0.92, 0.92, 0.926, 0.92, 0.939, 0.624, 0.92, 0.92, 0.92, 0.624, 0.926, 0.92, 0.55, 0.8270000000000001, 0.92, 0.92, 0.7659999999999999, 0.92, 0.92, 0.939, 0.579, 0.92, 0.92, 0.915, 0.92, 0.5579999999999999, 0.754, 0.855, 0.92, 0.923, 0.624, 0.624, 0.55, 0.91, 0.939, 0.624, 0.926, 0.92, 0.913, 0.624, 0.903, 0.92, 0.836, 0.926, 0.92, 0.926, 0.926, 0.878, 0.92, 0.624, 0.92, 0.848, 0.939, 0.754, 0.92, 0.923, 0.92, 0.92, 0.878, 0.924, 0.624, 0.92, 0.92, 0.8959999999999999, 0.698, 0.92, 0.92, 0.527, 0.624, 0.92, 0.8959999999999999, 0.682, 0.92, 0.698, 0.91, 0.698, 0.624, 0.899, 0.698, 0.92, 0.92, 0.913, 0.624, 0.893, 0.91, 0.624, 0.624, 0.624, 0.91, 0.92, 0.754, 0.949, 0.92, 0.55, 0.926, 0.836, 0.887, 0.698, 0.92, 0.91, 0.92, 0.91, 0.903, 0.722, 0.624, 0.92, 0.74, 0.624, 0.893, 0.91, 0.624, 0.624, 0.804, 0.893, 0.682, 0.92, 0.855, 0.754, 0.624, 0.92, 0.804, 0.55, 0.91, 0.92, 0.698, 0.91, 0.887, 0.91, 0.924, 0.698, 0.92, 0.897, 0.624, 0.92, 0.92, 0.698, 0.926, 0.91, 0.865, 0.887, 0.624, 0.939, 0.55, 0.92, 0.926, 0.926, 0.92, 0.915, 0.92, 0.915, 0.92, 0.624, 0.92, 0.448, 0.92, 0.698, 0.855, 0.939, 0.92, 0.884, 0.855, 0.92, 0.92, 0.74, 0.91, 0.92, 0.624, 0.855, 0.682, 0.762, 0.92, 0.915, 0.926, 0.91, 0.92, 0.91, 0.855, 0.89, 0.6659999999999999, 0.855, 0.92, 0.855, 0.92, 0.926, 0.91, 0.763, 0.6890000000000001, 0.92, 0.92, 0.8959999999999999, 0.897, 0.698, 0.92, 0.92, 0.926, 0.91, 0.5579999999999999, 0.92, 0.924, 0.92, 0.92, 0.624, 0.624, 0.92, 0.939, 0.624, 0.624, 0.92, 0.926, 0.92, 0.624, 0.92, 0.897, 0.926, 0.926, 0.92, 0.884, 0.91, 0.92, 0.624, 0.939, 0.897, 0.92, 0.92, 0.92, 0.855, 0.92, 0.923, 0.92, 0.624, 0.92, 0.92, 0.92, 0.804, 0.949, 0.727, 0.92, 0.624, 0.926, 0.92, 0.897, 0.92, 0.624, 0.91, 0.92, 0.92, 0.789, 0.624, 0.91, 0.624, 0.949, 0.926, 0.624, 0.92, 0.92, 0.926, 0.924, 0.865, 0.754, 0.7659999999999999, 0.92, 0.738, 0.624, 0.92, 0.738, 0.5579999999999999, 0.92, 0.92, 0.897, 0.92, 0.92, 0.925, 0.92, 0.624, 0.92, 0.926, 0.92, 0.92, 0.804, 0.926, 0.91, 0.92, 0.923, 0.92, 0.743, 0.878, 0.926, 0.923, 0.92, 0.802, 0.624, 0.91, 0.92, 0.836, 0.804, 0.92, 0.836, 0.92, 0.91, 0.926, 0.92, 0.926, 0.92, 0.949, 0.92, 0.92, 0.92, 0.939, 0.754, 0.924, 0.925, 0.897, 0.91, 0.897, 0.924, 0.913, 0.624, 0.887, 0.887, 0.624, 0.895, 0.624, 0.92, 0.92, 0.527, 0.754, 0.92, 0.624, 0.92, 0.92, 0.92, 0.7759999999999999, 0.91, 0.698, 0.754, 0.92, 0.624, 0.923, 0.92, 0.698, 0.84, 0.92, 0.924, 0.855, 0.92, 0.926, 0.92, 0.92, 0.624, 0.92, 0.855, 0.925, 0.89, 0.92, 0.92, 0.949, 0.624, 0.762, 0.924, 0.92, 0.91, 0.698, 0.624, 0.764, 0.91, 0.624, 0.92, 0.92, 0.8270000000000001, 0.92, 0.926, 0.698, 0.92, 0.91, 0.92, 0.926, 0.624, 0.897, 0.527, 0.804, 0.55, 0.926, 0.722, 0.92, 0.866, 0.7959999999999999, 0.92, 0.92, 0.698, 0.91, 0.915, 0.8959999999999999, 0.92, 0.624, 0.92, 0.92, 0.924, 0.855, 0.939, 0.92, 0.698, 0.878, 0.92, 0.91, 0.91, 0.624, 0.848, 0.762, 0.92, 0.92, 0.624, 0.698, 0.804, 0.698, 0.91, 0.939, 0.92, 0.91, 0.624, 0.878, 0.92, 0.624, 0.92, 0.893, 0.92, 0.92, 0.91, 0.804, 0.91, 0.624, 0.74, 0.802, 0.92, 0.939, 0.92, 0.92, 0.92, 0.91, 0.926, 0.91, 0.92, 0.92, 0.92, 0.926, 0.762, 0.926, 0.939, 0.92, 0.8959999999999999, 0.92, 0.897, 0.579, 0.91, 0.926, 0.91, 0.804, 0.6659999999999999, 0.92, 0.926, 0.91, 0.92, 0.897, 0.624, 0.92, 0.624, 0.92, 0.92, 0.55, 0.92, 0.926, 0.887, 0.92, 0.624, 0.624, 0.698, 0.949, 0.92, 0.92, 0.624, 0.83, 0.804, 0.926, 0.92, 0.91, 0.698, 0.698, 0.92, 0.804, 0.939, 0.789, 0.855, 0.926, 0.579, 0.682, 0.804, 0.91, 0.92, 0.789, 0.804, 0.579, 0.855, 0.926, 0.897, 0.725, 0.5579999999999999, 0.897, 0.722, 0.924, 0.92, 0.899, 0.926, 0.698, 0.899, 0.7959999999999999, 0.91, 0.92, 0.92, 0.92, 0.893, 0.925, 0.855, 0.7759999999999999, 0.738, 0.92, 0.624, 0.92, 0.91, 0.924, 0.92, 0.913, 0.855, 0.527, 0.92, 0.92, 0.92, 0.897, 0.92, 0.884, 0.926, 0.92, 0.939, 0.893, 0.762, 0.624, 0.92, 0.624, 0.91, 0.926, 0.89, 0.91, 0.624, 0.913, 0.855, 0.897, 0.924, 0.804, 0.804, 0.527, 0.92, 0.743, 0.836, 0.92, 0.527, 0.92, 0.624, 0.878, 0.92, 0.92, 0.92, 0.887, 0.924, 0.6659999999999999, 0.92, 0.926, 0.92, 0.884, 0.92, 0.698, 0.92, 0.924, 0.903, 0.624, 0.926, 0.767, 0.92, 0.92, 0.754, 0.91, 0.92, 0.624, 0.624, 0.762, 0.789, 0.624, 0.855, 0.804, 0.92, 0.624, 0.924, 0.939, 0.92, 0.92, 0.92, 0.91, 0.624, 0.926, 0.92, 0.897, 0.926, 0.92, 0.925, 0.55, 0.92, 0.624, 0.698, 0.91, 0.893, 0.764, 0.92, 0.767, 0.92, 0.878, 0.624, 0.939, 0.926, 0.855, 0.624, 0.7959999999999999, 0.762, 0.754, 0.479, 0.624, 0.92, 0.91, 0.6659999999999999, 0.624, 0.92, 0.624, 0.92, 0.624, 0.855, 0.884, 0.624, 0.754, 0.903, 0.92, 0.855, 0.897, 0.624, 0.855, 0.624, 0.92, 0.92, 0.624, 0.92, 0.92, 0.924, 0.91, 0.802, 0.884, 0.698, 0.91, 0.6659999999999999, 0.91, 0.802, 0.624, 0.887, 0.897, 0.624, 0.92, 0.92, 0.925, 0.55, 0.92, 0.804, 0.5579999999999999, 0.836, 0.925, 0.91, 0.8270000000000001, 0.926, 0.92, 0.924, 0.92, 0.5579999999999999, 0.855, 0.624, 0.92, 0.92, 0.92, 0.754, 0.91, 0.764, 0.893, 0.926, 0.91, 0.624, 0.925, 0.899, 0.92, 0.789, 0.899, 0.624, 0.624, 0.92, 0.698, 0.802, 0.624, 0.913, 0.92, 0.624, 0.698, 0.7659999999999999, 0.92, 0.926, 0.698, 0.762, 0.92, 0.5579999999999999, 0.897, 0.91, 0.92, 0.887, 0.754, 0.92, 0.745, 0.92, 0.727, 0.92, 0.91, 0.92, 0.92, 0.866, 0.624, 0.92, 0.92, 0.7659999999999999, 0.92, 0.92, 0.92, 0.897, 0.91, 0.92, 0.92, 0.926, 0.926, 0.893, 0.624, 0.767, 0.92, 0.55, 0.91, 0.92, 0.92, 0.855, 0.92, 0.92, 0.624, 0.762, 0.895, 0.624, 0.624, 0.897, 0.92, 0.624, 0.92, 0.698, 0.754, 0.527, 0.949, 0.698, 0.899, 0.8270000000000001, 0.926, 0.92, 0.893, 0.92, 0.624, 0.84, 0.92, 0.92, 0.939, 0.92, 0.691, 0.926, 0.926, 0.92, 0.624, 0.698, 0.897, 0.804, 0.939, 0.92, 0.836, 0.624, 0.624, 0.624, 0.698, 0.624, 0.624, 0.924, 0.804, 0.92, 0.767, 0.789, 0.92, 0.92, 0.754, 0.92, 0.926, 0.893, 0.913, 0.92, 0.92, 0.682, 0.897, 0.92, 0.8270000000000001, 0.92, 0.92, 0.624, 0.926, 0.92, 0.884, 0.698, 0.897, 0.624, 0.55, 0.92, 0.926, 0.802, 0.89, 0.92, 0.926, 0.767, 0.92, 0.925, 0.767, 0.645, 0.926, 0.91, 0.925, 0.92, 0.624, 0.624, 0.92, 0.92, 0.727, 0.92, 0.624, 0.926, 0.624, 0.92, 0.624, 0.698, 0.92, 0.802, 0.92, 0.91, 0.624, 0.743, 0.92, 0.924, 0.624, 0.91, 0.762, 0.924, 0.804, 0.624, 0.92, 0.91, 0.6659999999999999, 0.926, 0.804, 0.855, 0.926, 0.698, 0.92, 0.92, 0.55, 0.92, 0.92, 0.926, 0.579, 0.804, 0.939, 0.939, 0.92, 0.92, 0.92, 0.92, 0.926, 0.92, 0.8959999999999999, 0.92, 0.855, 0.926, 0.624, 0.624, 0.92, 0.855, 0.624, 0.743, 0.8270000000000001, 0.84, 0.926, 0.624, 0.727, 0.92, 0.92, 0.926, 0.923, 0.92, 0.926, 0.897, 0.913, 0.698, 0.579, 0.92, 0.855, 0.802, 0.855, 0.624, 0.91, 0.624, 0.92, 0.926, 0.91, 0.926, 0.855, 0.91, 0.92, 0.624, 0.698, 0.698, 0.887, 0.74, 0.92, 0.92, 0.855, 0.92, 0.939, 0.698, 0.92, 0.92, 0.802, 0.763, 0.924, 0.92, 0.92, 0.92, 0.55, 0.91, 0.92, 0.92, 0.897, 0.91, 0.624, 0.92, 0.884, 0.92, 0.856, 0.887, 0.624, 0.624, 0.903, 0.624, 0.866, 0.624, 0.939, 0.624, 0.92, 0.6890000000000001, 0.579, 0.91, 0.887, 0.624, 0.92, 0.762, 0.91, 0.92, 0.743, 0.698, 0.55, 0.92, 0.8959999999999999, 0.92, 0.92, 0.925, 0.92, 0.866, 0.939, 0.92, 0.624, 0.92, 0.92, 0.743, 0.624, 0.899, 0.92, 0.5579999999999999, 0.866, 0.92, 0.899, 0.855, 0.91, 0.624, 0.92, 0.855, 0.91, 0.802, 0.624, 0.939, 0.926, 0.91, 0.91, 0.926, 0.92, 0.92, 0.624, 0.91, 0.682, 0.804, 0.92, 0.743, 0.855, 0.949, 0.55, 0.92, 0.55, 0.802, 0.624, 0.939, 0.884, 0.92, 0.926, 0.92, 0.624, 0.624, 0.8959999999999999, 0.92, 0.924, 0.926, 0.624, 0.8959999999999999, 0.92, 0.92, 0.92, 0.698, 0.855, 0.624, 0.855, 0.897, 0.698, 0.6659999999999999, 0.91, 0.624, 0.893, 0.762, 0.897, 0.926, 0.92, 0.682, 0.92, 0.878, 0.6890000000000001, 0.926, 0.887, 0.624, 0.923, 0.624, 0.92, 0.91, 0.6890000000000001, 0.754, 0.926, 0.923, 0.897, 0.913, 0.92, 0.897, 0.624, 0.8270000000000001, 0.624, 0.754, 0.926, 0.949, 0.92, 0.92, 0.91, 0.926, 0.92, 0.92, 0.92, 0.92, 0.92, 0.92, 0.92, 0.92, 0.92, 0.926, 0.926, 0.92, 0.884, 0.624, 0.893, 0.92, 0.91, 0.897, 0.91, 0.92, 0.91, 0.866, 0.92, 0.579, 0.91, 0.804, 0.92, 0.624, 0.92, 0.624, 0.516, 0.92, 0.92, 0.55, 0.884, 0.92, 0.91, 0.92, 0.92, 0.767, 0.92, 0.804, 0.698, 0.913, 0.91, 0.91, 0.92, 0.92, 0.754, 0.92, 0.624, 0.893, 0.92, 0.92, 0.7659999999999999, 0.897, 0.91, 0.92, 0.624, 0.754, 0.91, 0.915, 0.804, 0.939, 0.923, 0.624, 0.92, 0.92, 0.92, 0.926, 0.92, 0.92, 0.624, 0.8270000000000001, 0.624, 0.92, 0.92, 0.802, 0.92, 0.92, 0.624, 0.738, 0.926, 0.55, 0.939, 0.926, 0.6659999999999999, 0.682, 0.91, 0.848, 0.7659999999999999, 0.92, 0.91, 0.92, 0.92, 0.939, 0.624, 0.624, 0.92, 0.92, 0.92, 0.92, 0.913, 0.926, 0.92, 0.92, 0.698, 0.92, 0.92, 0.624, 0.92, 0.92, 0.92, 0.624, 0.804, 0.92, 0.92, 0.924, 0.903, 0.92, 0.913, 0.624, 0.92, 0.624, 0.843, 0.91, 0.698, 0.647, 0.924, 0.926, 0.926, 0.698, 0.926, 0.923, 0.754, 0.624, 0.92, 0.884, 0.897, 0.698, 0.926, 0.897, 0.92, 0.754, 0.89, 0.926, 0.843, 0.92, 0.795, 0.926, 0.92, 0.804, 0.926, 0.802, 0.743, 0.923, 0.624, 0.92, 0.92, 0.878, 0.924, 0.624, 0.7959999999999999, 0.92, 0.855, 0.92, 0.92, 0.55, 0.754, 0.855, 0.7879999999999999, 0.624, 0.895, 0.624, 0.698, 0.698, 0.804, 0.899, 0.8270000000000001, 0.926, 0.913, 0.624, 0.897, 0.926, 0.926, 0.926, 0.804, 0.624, 0.698, 0.903, 0.92, 0.743, 0.92, 0.91, 0.91, 0.698, 0.92, 0.856, 0.624, 0.55, 0.91, 0.624, 0.92, 0.624, 0.923, 0.926, 0.893, 0.895, 0.624, 0.624, 0.804, 0.92, 0.624, 0.926, 0.624, 0.55, 0.804, 0.804, 0.92, 0.6659999999999999, 0.754, 0.754, 0.624, 0.884, 0.92, 0.939, 0.92, 0.624, 0.926, 0.92, 0.92, 0.83, 0.92, 0.624, 0.926, 0.923, 0.92, 0.855, 0.899, 0.92, 0.92, 0.624, 0.939, 0.92, 0.698, 0.624, 0.624, 0.698, 0.78, 0.884, 0.92, 0.8270000000000001, 0.91, 0.762, 0.884, 0.92, 0.794, 0.55, 0.764, 0.92, 0.887, 0.92, 0.91, 0.527, 0.926, 0.925, 0.92, 0.939, 0.923, 0.887, 0.926, 0.91, 0.926, 0.527, 0.804, 0.855, 0.794, 0.924, 0.698, 0.91, 0.767, 0.91, 0.743, 0.92, 0.92, 0.843, 0.92, 0.92, 0.91, 0.887, 0.855, 0.92, 0.91, 0.887, 0.939, 0.92, 0.624, 0.698, 0.789, 0.939, 0.624, 0.939, 0.92, 0.913, 0.836, 0.92, 0.91, 0.843, 0.926, 0.691, 0.92, 0.925, 0.865, 0.899, 0.884, 0.624, 0.92, 0.899, 0.926, 0.92, 0.92, 0.92, 0.743, 0.624, 0.926, 0.804, 0.804, 0.92, 0.92, 0.754, 0.836, 0.92, 0.91, 0.921, 0.698, 0.624, 0.804, 0.55, 0.804, 0.926, 0.6659999999999999, 0.55, 0.92, 0.92, 0.743, 0.899, 0.926, 0.887, 0.691, 0.897, 0.92, 0.926, 0.769, 0.939, 0.923, 0.682, 0.949, 0.624, 0.924, 0.92, 0.926, 0.855, 0.91, 0.74, 0.698, 0.624, 0.624, 0.92, 0.92, 0.926, 0.91, 0.926, 0.727, 0.7759999999999999, 0.898, 0.895, 0.802, 0.92, 0.855, 0.698, 0.92, 0.92, 0.939, 0.92, 0.92, 0.91, 0.949, 0.92, 0.939, 0.92, 0.91, 0.74, 0.884, 0.698, 0.92, 0.493, 0.763, 0.762, 0.91, 0.682, 0.92, 0.64, 0.92, 0.92, 0.92, 0.91, 0.92, 0.92, 0.855, 0.92, 0.91, 0.926, 0.624, 0.92, 0.92, 0.555, 0.899, 0.91, 0.92, 0.878, 0.926, 0.855, 0.579, 0.92, 0.624, 0.926, 0.884, 0.7959999999999999, 0.624, 0.887, 0.92, 0.92, 0.91, 0.7659999999999999, 0.913, 0.92, 0.92, 0.884, 0.698, 0.92, 0.92, 0.939, 0.804, 0.91, 0.624, 0.8959999999999999, 0.899, 0.527, 0.6890000000000001, 0.92, 0.855, 0.897, 0.926, 0.855, 0.897, 0.92, 0.92, 0.92, 0.92, 0.92, 0.802, 0.92, 0.91, 0.92, 0.624, 0.91, 0.91, 0.895, 0.847, 0.895, 0.91, 0.92, 0.92, 0.92, 0.926, 0.924, 0.92, 0.92, 0.738, 0.884, 0.92, 0.743, 0.624, 0.855, 0.624, 0.92, 0.92, 0.55, 0.856, 0.767, 0.754, 0.92, 0.92, 0.926, 0.939, 0.893, 0.92, 0.55, 0.91, 0.92, 0.795, 0.682, 0.926, 0.722, 0.698, 0.92, 0.847, 0.624, 0.92, 0.92, 0.897, 0.92, 0.92, 0.855, 0.91, 0.802, 0.91, 0.624, 0.624, 0.91, 0.92, 0.91, 0.92, 0.91, 0.92, 0.926, 0.887, 0.624, 0.624, 0.92, 0.897, 0.92, 0.92, 0.926, 0.698, 0.939, 0.624, 0.91, 0.855, 0.91, 0.91, 0.897, 0.624, 0.92, 0.92, 0.68, 0.91, 0.897, 0.8270000000000001, 0.939, 0.55, 0.763, 0.926, 0.92, 0.92, 0.92, 0.92, 0.92, 0.698, 0.855, 0.804, 0.92, 0.897, 0.5579999999999999, 0.762, 0.926, 0.624, 0.92, 0.91, 0.926, 0.55, 0.698, 0.925, 0.91, 0.89, 0.91, 0.92, 0.92, 0.843, 0.91, 0.92, 0.855, 0.92, 0.897, 0.698, 0.92, 0.691, 0.556, 0.855, 0.754, 0.92, 0.92, 0.738, 0.624, 0.91, 0.926, 0.92, 0.91, 0.926, 0.92, 0.939, 0.682, 0.92, 0.92, 0.804, 0.6659999999999999, 0.92, 0.926, 0.866, 0.624, 0.804, 0.926, 0.924, 0.926, 0.727, 0.89, 0.92, 0.624, 0.895, 0.92, 0.855, 0.926, 0.92, 0.91, 0.624, 0.926, 0.925, 0.624, 0.6659999999999999, 0.92, 0.939, 0.579, 0.92, 0.926, 0.802, 0.92, 0.754, 0.624, 0.91, 0.91, 0.624, 0.762, 0.7959999999999999, 0.92, 0.897, 0.624, 0.92, 0.92, 0.92, 0.926, 0.91, 0.92, 0.893, 0.836, 0.926, 0.855, 0.92, 0.92, 0.884, 0.913, 0.624, 0.92, 0.92, 0.91, 0.74, 0.92, 0.92, 0.92, 0.92, 0.682, 0.843, 0.754, 0.92, 0.92, 0.55, 0.579, 0.579, 0.92, 0.92, 0.897, 0.92, 0.926, 0.887, 0.91, 0.847, 0.923, 0.836, 0.92, 0.92, 0.923, 0.624, 0.92, 0.92, 0.624, 0.698, 0.925, 0.624, 0.91, 0.855, 0.926, 0.92, 0.624, 0.91, 0.794, 0.55, 0.92, 0.855, 0.92, 0.624, 0.856, 0.92, 0.92, 0.624, 0.804, 0.804, 0.624, 0.926, 0.915, 0.92, 0.743, 0.7759999999999999, 0.743, 0.92, 0.92, 0.83, 0.884, 0.624, 0.92, 0.92, 0.855, 0.893, 0.624, 0.68, 0.92, 0.624, 0.624, 0.92, 0.91, 0.887, 0.92, 0.762, 0.91, 0.624, 0.887, 0.898, 0.893, 0.91, 0.91, 0.91, 0.939, 0.624, 0.92, 0.92, 0.92, 0.91, 0.754, 0.762, 0.924, 0.92, 0.794, 0.92, 0.92, 0.6659999999999999, 0.92, 0.624, 0.92, 0.92, 0.926, 0.923, 0.949, 0.897, 0.855, 0.512, 0.926, 0.92, 0.91, 0.92, 0.855, 0.624, 0.527, 0.527, 0.895, 0.913, 0.691, 0.624, 0.926, 0.926, 0.878, 0.91, 0.802, 0.92, 0.949, 0.836, 0.926, 0.743, 0.91, 0.8959999999999999, 0.92, 0.92, 0.624, 0.887, 0.92, 0.92, 0.804, 0.624, 0.92, 0.92, 0.624, 0.855, 0.6659999999999999, 0.7659999999999999, 0.5579999999999999, 0.92, 0.698, 0.92, 0.92, 0.92, 0.92, 0.698, 0.8959999999999999, 0.924, 0.897, 0.624, 0.64, 0.887, 0.884, 0.92, 0.92, 0.847, 0.91, 0.624, 0.856, 0.92, 0.92, 0.698, 0.624, 0.926, 0.527, 0.92, 0.92, 0.897, 0.92, 0.92, 0.624, 0.92, 0.91, 0.92, 0.884, 0.855, 0.884, 0.843, 0.624, 0.754, 0.794, 0.92, 0.92, 0.878, 0.624, 0.579, 0.855, 0.924, 0.624, 0.624, 0.92, 0.624, 0.92, 0.92, 0.887, 0.939, 0.804, 0.767, 0.92, 0.926, 0.926, 0.887, 0.624, 0.899, 0.6659999999999999, 0.8270000000000001, 0.926, 0.92, 0.92, 0.527, 0.91, 0.92, 0.92, 0.92, 0.6659999999999999, 0.926, 0.843, 0.893, 0.92, 0.6890000000000001, 0.884, 0.516, 0.624, 0.92, 0.92, 0.92, 0.479, 0.8959999999999999, 0.926, 0.74, 0.939, 0.899, 0.527, 0.91, 0.92, 0.91, 0.6659999999999999, 0.897, 0.92, 0.802, 0.8959999999999999, 0.92, 0.878, 0.91, 0.92, 0.804, 0.926, 0.924, 0.763, 0.6659999999999999, 0.579, 0.92, 0.924, 0.92, 0.92, 0.893, 0.855, 0.855, 0.624, 0.897, 0.624, 0.92, 0.924, 0.698, 0.55, 0.913, 0.939, 0.92, 0.743, 0.92, 0.8270000000000001, 0.91, 0.92, 0.794, 0.91, 0.92, 0.624, 0.698, 0.725, 0.939, 0.92, 0.91, 0.624, 0.92, 0.92, 0.92, 0.884, 0.624, 0.92, 0.624, 0.92, 0.843, 0.55, 0.92, 0.893, 0.893, 0.754, 0.92, 0.926, 0.624, 0.939, 0.855, 0.91, 0.887, 0.897, 0.92, 0.897, 0.91, 0.624, 0.624, 0.91, 0.92, 0.754, 0.794, 0.527, 0.91, 0.624, 0.895, 0.878, 0.897, 0.92, 0.903, 0.897, 0.92, 0.92, 0.624, 0.92, 0.89, 0.92, 0.939, 0.91, 0.624, 0.91, 0.897, 0.92, 0.848, 0.91, 0.698, 0.92, 0.89, 0.802, 0.92, 0.925, 0.92, 0.92, 0.92, 0.92, 0.926, 0.866, 0.91, 0.92, 0.89, 0.91, 0.91, 0.899, 0.926, 0.926, 0.92, 0.743, 0.624, 0.855, 0.92, 0.91, 0.92, 0.624, 0.624, 0.92, 0.743, 0.92, 0.855, 0.91, 0.624, 0.91, 0.579, 0.887, 0.691, 0.895, 0.698, 0.92, 0.624, 0.92, 0.7759999999999999, 0.624, 0.91, 0.884, 0.848, 0.527, 0.698, 0.91, 0.926, 0.55, 0.794, 0.92, 0.925, 0.92, 0.939, 0.91, 0.92, 0.926, 0.939, 0.624, 0.926, 0.91, 0.624, 0.878, 0.92, 0.5579999999999999, 0.878, 0.55, 0.897, 0.624, 0.939, 0.91, 0.939, 0.836, 0.92, 0.624, 0.624, 0.91, 0.8270000000000001, 0.92, 0.887, 0.843, 0.92, 0.91, 0.92, 0.836, 0.624, 0.624, 0.624, 0.925, 0.92, 0.92, 0.624, 0.926, 0.92, 0.91, 0.92, 0.92, 0.915, 0.926, 0.795, 0.884, 0.92, 0.91, 0.84, 0.55, 0.836, 0.925, 0.92, 0.92, 0.856, 0.92, 0.92, 0.92, 0.899, 0.913, 0.89, 0.887, 0.939, 0.926, 0.926, 0.91, 0.762, 0.855, 0.91, 0.924, 0.92, 0.624, 0.624, 0.926, 0.8959999999999999, 0.926, 0.479, 0.624, 0.8270000000000001, 0.92, 0.743, 0.55, 0.624, 0.762, 0.939, 0.92, 0.691, 0.91, 0.924, 0.92, 0.923, 0.926, 0.92, 0.802, 0.924, 0.754, 0.698, 0.92, 0.794, 0.698, 0.887, 0.624, 0.926, 0.92, 0.754, 0.91, 0.92, 0.698, 0.91, 0.92, 0.92, 0.926, 0.92, 0.949, 0.843, 0.92, 0.624, 0.92, 0.84, 0.579, 0.91, 0.802, 0.91, 0.92, 0.91, 0.624, 0.91, 0.698, 0.64, 0.92, 0.91, 0.91, 0.743, 0.624, 0.8270000000000001, 0.926, 0.855, 0.92, 0.682, 0.624, 0.887, 0.855, 0.884, 0.887, 0.74, 0.92, 0.939, 0.92, 0.923, 0.624, 0.698, 0.55, 0.624, 0.698, 0.738, 0.92, 0.897, 0.926, 0.92, 0.91, 0.856, 0.83, 0.624, 0.887, 0.925, 0.926, 0.555, 0.754, 0.624, 0.624, 0.556, 0.92, 0.579, 0.925, 0.92, 0.804, 0.624, 0.913, 0.92, 0.698, 0.624, 0.92, 0.624, 0.802, 0.92, 0.91, 0.92, 0.624, 0.926, 0.92, 0.769, 0.624, 0.92, 0.698, 0.624, 0.624, 0.579, 0.91, 0.92, 0.926, 0.92, 0.91, 0.899, 0.887, 0.92, 0.92, 0.926, 0.698, 0.84, 0.804, 0.92, 0.92, 0.893, 0.579, 0.804, 0.92, 0.92, 0.624, 0.91, 0.725, 0.754, 0.55, 0.887, 0.923, 0.924, 0.92, 0.624, 0.624, 0.855, 0.624, 0.92, 0.579, 0.91, 0.926, 0.926, 0.926, 0.939, 0.698, 0.624, 0.682, 0.92, 0.949, 0.92, 0.55, 0.92, 0.92, 0.92, 0.624, 0.6659999999999999, 0.92, 0.92, 0.743, 0.89, 0.624, 0.92, 0.579, 0.926, 0.789, 0.92, 0.624, 0.843, 0.763, 0.624, 0.802, 0.91, 0.897, 0.92, 0.767, 0.92, 0.92, 0.92, 0.698, 0.624, 0.682, 0.624, 0.624, 0.924, 0.92, 0.804, 0.897, 0.92, 0.887, 0.74, 0.762, 0.924, 0.762, 0.926, 0.92, 0.884, 0.855, 0.754, 0.899, 0.804, 0.925, 0.754, 0.624, 0.924, 0.92, 0.899, 0.925, 0.897, 0.926, 0.92, 0.762, 0.8959999999999999, 0.624, 0.555, 0.624, 0.92, 0.92, 0.855, 0.804, 0.899, 0.55, 0.92, 0.91, 0.925, 0.91, 0.926, 0.698, 0.897, 0.92, 0.624, 0.624, 0.923, 0.769, 0.92, 0.83, 0.698, 0.92, 0.91, 0.91, 0.92, 0.92, 0.939, 0.624, 0.794, 0.866, 0.92, 0.92, 0.698, 0.479, 0.7390000000000001, 0.895, 0.926, 0.92, 0.92, 0.915, 0.92, 0.926, 0.897, 0.92, 0.91, 0.802, 0.754, 0.92, 0.92, 0.624, 0.92, 0.939, 0.895, 0.91, 0.804, 0.848, 0.924, 0.91, 0.915, 0.767, 0.92, 0.92, 0.92, 0.92, 0.92, 0.939, 0.92, 0.624, 0.624, 0.579, 0.92, 0.762, 0.7959999999999999, 0.754, 0.698, 0.624, 0.897, 0.925, 0.624, 0.802, 0.913, 0.898, 0.897, 0.887, 0.754, 0.92, 0.897, 0.91, 0.915, 0.92, 0.895, 0.836, 0.698, 0.923, 0.92, 0.7659999999999999, 0.698, 0.92, 0.91, 0.926, 0.89, 0.884, 0.92, 0.7759999999999999, 0.91, 0.624, 0.887, 0.92, 0.92, 0.91, 0.92, 0.926, 0.698, 0.92, 0.887, 0.92, 0.939, 0.897, 0.92, 0.698, 0.91, 0.742, 0.836, 0.624, 0.579, 0.624, 0.624, 0.92, 0.68, 0.92, 0.92, 0.92, 0.802, 0.939, 0.92, 0.682, 0.624, 0.802, 0.92, 0.897, 0.92, 0.92, 0.92, 0.92, 0.91, 0.897, 0.92, 0.939, 0.743, 0.92, 0.836, 0.5579999999999999, 0.92, 0.92, 0.91, 0.8270000000000001, 0.682, 0.624, 0.855, 0.579, 0.926, 0.804, 0.926, 0.624, 0.926, 0.89, 0.754, 0.624, 0.624, 0.698, 0.897, 0.698, 0.92, 0.926, 0.92, 0.926, 0.924, 0.624, 0.884, 0.92, 0.866, 0.924, 0.624, 0.924, 0.92, 0.926, 0.92, 0.624, 0.887, 0.92, 0.887, 0.924, 0.843, 0.727, 0.698, 0.754, 0.92, 0.92, 0.92, 0.884, 0.8959999999999999, 0.887, 0.92, 0.848, 0.55, 0.698, 0.624, 0.91, 0.855, 0.92, 0.926, 0.682, 0.92, 0.698, 0.624, 0.92, 0.802, 0.92, 0.903, 0.924, 0.92, 0.92, 0.804, 0.6890000000000001, 0.691, 0.899, 0.92, 0.926, 0.92, 0.924, 0.939, 0.939, 0.939, 0.698, 0.555, 0.92, 0.887, 0.855, 0.698, 0.762, 0.92, 0.926, 0.624, 0.92, 0.91, 0.92, 0.897, 0.6890000000000001, 0.804, 0.624, 0.92, 0.897, 0.923, 0.92, 0.856, 0.691, 0.855, 0.743, 0.804, 0.92, 0.624, 0.92, 0.92, 0.92, 0.7759999999999999, 0.92, 0.92, 0.8270000000000001, 0.878, 0.89, 0.762, 0.926, 0.913, 0.926, 0.897, 0.624, 0.92, 0.92, 0.865, 0.55, 0.878, 0.92, 0.895, 0.939, 0.92, 0.926, 0.855, 0.843, 0.92, 0.913, 0.555, 0.624, 0.527, 0.91, 0.92, 0.897, 0.624, 0.92, 0.92, 0.624, 0.624, 0.899, 0.624, 0.563, 0.804, 0.893, 0.92, 0.794, 0.91, 0.92, 0.804, 0.624, 0.698, 0.903, 0.92, 0.884, 0.92, 0.836, 0.913, 0.926, 0.884, 0.91, 0.903, 0.92, 0.92, 0.92, 0.698, 0.899, 0.92, 0.624, 0.92, 0.92, 0.92, 0.624, 0.897, 0.691, 0.926, 0.579, 0.939, 0.92, 0.92, 0.903, 0.91, 0.92, 0.624, 0.924, 0.926, 0.624, 0.926, 0.92, 0.897, 0.7759999999999999, 0.624, 0.92, 0.887, 0.7659999999999999, 0.624, 0.855, 0.91, 0.92, 0.893, 0.55, 0.91, 0.624, 0.897, 0.855, 0.7959999999999999, 0.923, 0.743, 0.924, 0.91, 0.92, 0.698, 0.887, 0.6659999999999999, 0.92, 0.92, 0.624, 0.926, 0.926, 0.92, 0.923, 0.925, 0.926, 0.884, 0.6890000000000001, 0.92, 0.92, 0.897, 0.926, 0.92, 0.926, 0.92, 0.804, 0.8270000000000001, 0.92, 0.624, 0.92, 0.624, 0.698, 0.92, 0.92, 0.91, 0.92, 0.624, 0.7959999999999999, 0.924, 0.887, 0.754, 0.926, 0.878, 0.92, 0.624, 0.8270000000000001, 0.92, 0.887, 0.866, 0.743, 0.92, 0.91, 0.939, 0.926, 0.804, 0.698, 0.91, 0.887, 0.8270000000000001, 0.624, 0.624, 0.682, 0.624, 0.624, 0.91, 0.6890000000000001, 0.923, 0.926, 0.923, 0.897, 0.884, 0.926, 0.897, 0.8959999999999999, 0.527, 0.91, 0.884, 0.92, 0.887, 0.624, 0.878, 0.92, 0.8270000000000001, 0.8959999999999999, 0.925, 0.92, 0.698, 0.926, 0.92, 0.91, 0.92, 0.924, 0.624, 0.624, 0.92, 0.804, 0.923, 0.624, 0.924, 0.92, 0.939, 0.579, 0.926, 0.92, 0.926, 0.8270000000000001, 0.91, 0.924, 0.91, 0.897, 0.92, 0.923, 0.915, 0.884, 0.926, 0.624, 0.92, 0.624, 0.92, 0.92, 0.92, 0.92, 0.91, 0.624, 0.624, 0.939, 0.92, 0.91, 0.92, 0.926, 0.89, 0.884, 0.624, 0.92, 0.92, 0.698, 0.926, 0.92, 0.92, 0.6890000000000001, 0.754, 0.682, 0.698, 0.698, 0.897, 0.921, 0.897, 0.92, 0.92, 0.866, 0.55, 0.855, 0.92, 0.7759999999999999, 0.579, 0.92, 0.624, 0.624, 0.624, 0.92, 0.92, 0.624, 0.91, 0.55, 0.855, 0.92, 0.887, 0.698, 0.92, 0.624, 0.92, 0.91, 0.698, 0.555, 0.836, 0.897, 0.925, 0.897, 0.926, 0.92, 0.924, 0.899, 0.647, 0.92, 0.92, 0.624, 0.624, 0.855, 0.698, 0.92, 0.92, 0.92, 0.624, 0.698, 0.7390000000000001, 0.91, 0.924, 0.897, 0.92, 0.92, 0.624, 0.899, 0.897, 0.91, 0.802, 0.624, 0.855, 0.624, 0.855, 0.92, 0.624, 0.7759999999999999, 0.856, 0.794, 0.887, 0.926, 0.866, 0.754, 0.836, 0.624, 0.5579999999999999, 0.924, 0.754, 0.624, 0.926, 0.754, 0.92, 0.8270000000000001, 0.926, 0.738, 0.899, 0.92, 0.91, 0.893, 0.92, 0.55, 0.624, 0.8959999999999999, 0.624, 0.92, 0.624, 0.91, 0.926, 0.92, 0.897, 0.92, 0.92, 0.92, 0.624, 0.899, 0.92, 0.92, 0.624, 0.804, 0.743, 0.624, 0.92, 0.893, 0.878, 0.92, 0.624, 0.887, 0.698, 0.92, 0.92, 0.92, 0.884, 0.802, 0.924, 0.92, 0.893, 0.848, 0.92, 0.727, 0.878, 0.8959999999999999, 0.897, 0.926, 0.8270000000000001, 0.92, 0.926, 0.6890000000000001, 0.74, 0.924, 0.847, 0.624, 0.624, 0.92, 0.516, 0.925, 0.563, 0.5579999999999999, 0.92, 0.555, 0.926, 0.624, 0.92, 0.804, 0.92, 0.939, 0.92, 0.624, 0.92, 0.7659999999999999, 0.91, 0.775, 0.92, 0.91, 0.924, 0.92, 0.913, 0.926, 0.92, 0.91, 0.804, 0.91, 0.897, 0.91, 0.895, 0.939, 0.804, 0.92, 0.92, 0.92, 0.866, 0.855, 0.92, 0.836, 0.804, 0.624, 0.5579999999999999, 0.903, 0.698, 0.754, 0.887, 0.738, 0.624, 0.624, 0.624, 0.92, 0.624, 0.923, 0.926, 0.624, 0.624, 0.913, 0.698, 0.92, 0.624, 0.92, 0.926, 0.92, 0.91, 0.448, 0.624, 0.897, 0.91, 0.624, 0.8270000000000001, 0.939, 0.92, 0.6659999999999999, 0.89, 0.92, 0.92, 0.848, 0.91, 0.698, 0.92, 0.899, 0.804, 0.92, 0.624, 0.92, 0.802, 0.91, 0.926, 0.887, 0.92, 0.92, 0.91, 0.555, 0.926, 0.8270000000000001, 0.924, 0.92, 0.624, 0.91, 0.91, 0.764, 0.92, 0.698, 0.92, 0.92, 0.727, 0.493, 0.6659999999999999, 0.949, 0.55, 0.92, 0.92, 0.8959999999999999, 0.698, 0.848, 0.92, 0.55, 0.926, 0.926, 0.926, 0.92, 0.92, 0.624, 0.92, 0.767, 0.804, 0.804, 0.92, 0.624, 0.926, 0.89, 0.926, 0.925, 0.92, 0.92, 0.754, 0.789, 0.55, 0.91, 0.804, 0.91, 0.91, 0.926, 0.92, 0.624, 0.91, 0.92, 0.92, 0.866, 0.91, 0.92, 0.92, 0.92, 0.92, 0.698, 0.698, 0.7959999999999999, 0.92, 0.92, 0.92, 0.843, 0.92, 0.91, 0.91, 0.91, 0.7959999999999999, 0.897, 0.924, 0.926, 0.91, 0.926, 0.855, 0.92, 0.91, 0.624, 0.624, 0.92, 0.743, 0.926, 0.92, 0.92, 0.84, 0.91, 0.949, 0.926, 0.897, 0.91, 0.939, 0.624, 0.92, 0.92, 0.624, 0.92, 0.91, 0.91, 0.624, 0.624, 0.92, 0.92, 0.92, 0.6659999999999999, 0.92, 0.924, 0.903, 0.924, 0.92, 0.884, 0.55, 0.624, 0.92, 0.789, 0.754, 0.92, 0.555, 0.924, 0.92, 0.92, 0.647, 0.8959999999999999, 0.884, 0.624, 0.895, 0.624, 0.91, 0.92, 0.897, 0.91, 0.8959999999999999, 0.924, 0.92, 0.624, 0.647, 0.92, 0.794, 0.903, 0.92, 0.926, 0.698, 0.743, 0.923, 0.92, 0.698, 0.624, 0.624, 0.926, 0.92, 0.903, 0.913, 0.624, 0.926, 0.698, 0.624, 0.92, 0.55, 0.939, 0.624, 0.92, 0.92, 0.897, 0.698, 0.91, 0.913, 0.754, 0.698, 0.624, 0.915, 0.855, 0.754, 0.926, 0.91, 0.91, 0.89, 0.624, 0.92, 0.92, 0.8270000000000001, 0.92, 0.855, 0.624, 0.804, 0.855, 0.91, 0.939, 0.91, 0.887, 0.624, 0.897, 0.92, 0.91, 0.866, 0.926, 0.92, 0.878, 0.624, 0.92, 0.624, 0.624, 0.92, 0.924, 0.92, 0.624, 0.624, 0.91, 0.92, 0.624, 0.923, 0.843, 0.913, 0.624, 0.848, 0.579, 0.92, 0.89, 0.926, 0.91, 0.448, 0.6659999999999999, 0.624, 0.624, 0.624, 0.698, 0.624, 0.92, 0.624, 0.92, 0.92, 0.804, 0.802, 0.624, 0.6890000000000001, 0.624, 0.624, 0.92, 0.804, 0.804, 0.897, 0.624, 0.624, 0.92, 0.92, 0.624, 0.926, 0.624, 0.884, 0.91, 0.92, 0.624, 0.92, 0.866, 0.92, 0.925, 0.926, 0.8270000000000001, 0.92, 0.92, 0.92, 0.754, 0.92, 0.926, 0.682, 0.897, 0.92, 0.7959999999999999, 0.92, 0.836, 0.843, 0.92, 0.939, 0.926, 0.92, 0.884, 0.92, 0.899, 0.926, 0.856, 0.6659999999999999, 0.624, 0.91, 0.8270000000000001, 0.698, 0.92, 0.91, 0.843, 0.743, 0.725, 0.897, 0.92, 0.743, 0.624, 0.624, 0.794, 0.925, 0.804, 0.624, 0.762, 0.926, 0.884, 0.926, 0.92, 0.924, 0.926, 0.895, 0.698, 0.698, 0.767, 0.925, 0.897, 0.926, 0.698, 0.92, 0.91, 0.92, 0.897, 0.92, 0.698, 0.92, 0.897, 0.754, 0.7659999999999999, 0.897, 0.926, 0.855, 0.767, 0.698, 0.802, 0.91, 0.698, 0.92, 0.624, 0.92, 0.91, 0.92, 0.92, 0.855, 0.92, 0.939, 0.624, 0.895, 0.926, 0.92, 0.624, 0.92, 0.92, 0.92, 0.624, 0.624, 0.789, 0.804, 0.92, 0.92, 0.866, 0.7759999999999999, 0.624, 0.624, 0.7759999999999999, 0.926, 0.698, 0.624, 0.624, 0.92, 0.878, 0.92, 0.698, 0.92, 0.897, 0.926, 0.91, 0.923, 0.762, 0.897, 0.895, 0.624, 0.624, 0.624, 0.802, 0.624, 0.884, 0.91, 0.884, 0.887, 0.926, 0.887, 0.91, 0.866, 0.624, 0.92, 0.92, 0.89, 0.624, 0.789, 0.92, 0.92, 0.6890000000000001, 0.727, 0.754, 0.926, 0.802, 0.926, 0.92, 0.92, 0.92, 0.624, 0.939, 0.6659999999999999, 0.92, 0.92, 0.92, 0.624, 0.89, 0.92, 0.647, 0.698, 0.92, 0.92, 0.754, 0.624, 0.92, 0.855, 0.92, 0.92, 0.92, 0.939, 0.624, 0.939, 0.939, 0.624, 0.624, 0.55, 0.754, 0.903, 0.92, 0.624, 0.624, 0.92, 0.92, 0.92, 0.84, 0.92, 0.624, 0.92, 0.91, 0.895, 0.6659999999999999, 0.92, 0.92, 0.91, 0.92, 0.92, 0.92, 0.92, 0.698, 0.855, 0.624, 0.624, 0.92, 0.92, 0.92, 0.624, 0.754, 0.92, 0.698, 0.926, 0.92, 0.939, 0.939, 0.895, 0.915, 0.92, 0.92, 0.624, 0.91, 0.925, 0.915, 0.698, 0.92, 0.92, 0.923, 0.925, 0.775, 0.8959999999999999, 0.91, 0.897, 0.926, 0.884, 0.698, 0.92, 0.939, 0.884, 0.91, 0.91, 0.624, 0.926, 0.855, 0.624, 0.89, 0.903, 0.624, 0.92, 0.92, 0.893, 0.92, 0.897, 0.91, 0.92, 0.949, 0.624, 0.698, 0.92, 0.624, 0.92, 0.92, 0.624, 0.91, 0.624, 0.897, 0.925, 0.926, 0.939, 0.764, 0.893, 0.92, 0.924, 0.866, 0.926, 0.698, 0.624, 0.926, 0.926, 0.855, 0.939, 0.754, 0.92, 0.92, 0.698, 0.92, 0.512, 0.847, 0.92, 0.895, 0.92, 0.795, 0.743, 0.698, 0.92, 0.754, 0.698, 0.897, 0.624, 0.527, 0.939, 0.91, 0.767, 0.897, 0.92, 0.91, 0.624, 0.745, 0.91, 0.92, 0.624, 0.855, 0.897, 0.92, 0.939, 0.855, 0.92, 0.893, 0.926, 0.624, 0.743, 0.624, 0.624, 0.91, 0.8959999999999999, 0.899, 0.762, 0.939, 0.624, 0.92, 0.804, 0.624, 0.92, 0.926, 0.5579999999999999, 0.55, 0.91, 0.83, 0.939, 0.624, 0.91, 0.92, 0.767, 0.884, 0.624, 0.92, 0.926, 0.92, 0.624, 0.91, 0.92, 0.92, 0.92, 0.836, 0.92, 0.92, 0.92, 0.939, 0.624, 0.6890000000000001, 0.92, 0.682, 0.855, 0.556, 0.91, 0.92, 0.92, 0.91, 0.925, 0.897, 0.926, 0.92, 0.8959999999999999, 0.698, 0.939, 0.897, 0.624, 0.7759999999999999, 0.754, 0.923, 0.926, 0.899, 0.92, 0.579, 0.698, 0.802, 0.754, 0.893, 0.926, 0.802, 0.884, 0.92, 0.855, 0.92, 0.899, 0.92, 0.624, 0.92, 0.923, 0.897, 0.6890000000000001, 0.624, 0.92, 0.92, 0.92, 0.91, 0.855, 0.92, 0.698, 0.884, 0.8270000000000001, 0.92, 0.698, 0.91, 0.926, 0.92, 0.856, 0.897, 0.939, 0.92, 0.754, 0.804, 0.92, 0.923, 0.92, 0.804, 0.91, 0.91, 0.624, 0.91, 0.926, 0.92, 0.913, 0.698, 0.923, 0.884, 0.8270000000000001, 0.855, 0.855, 0.624, 0.92, 0.899, 0.762, 0.767, 0.92, 0.92, 0.698, 0.92, 0.698, 0.92, 0.884, 0.527, 0.624, 0.91, 0.893, 0.949, 0.624, 0.92, 0.924, 0.92, 0.698, 0.855, 0.91, 0.897, 0.624, 0.804, 0.624, 0.926, 0.91, 0.92, 0.926, 0.923, 0.939, 0.926, 0.55, 0.624, 0.6659999999999999, 0.624, 0.92, 0.92, 0.754, 0.624, 0.6890000000000001, 0.742, 0.91, 0.92, 0.855, 0.92, 0.92, 0.897, 0.74, 0.448, 0.939, 0.698, 0.925, 0.939, 0.624, 0.878, 0.92, 0.939, 0.92, 0.884, 0.92, 0.92, 0.624, 0.794, 0.866, 0.92, 0.738, 0.855, 0.92, 0.926, 0.924, 0.624, 0.897, 0.698, 0.887, 0.92, 0.92, 0.89, 0.769, 0.92, 0.698, 0.939, 0.92, 0.647, 0.91, 0.913, 0.624, 0.91, 0.624, 0.897, 0.855, 0.893, 0.91, 0.624, 0.923, 0.624, 0.92, 0.624, 0.579, 0.926, 0.91, 0.92, 0.92, 0.762, 0.866, 0.92, 0.7759999999999999, 0.91, 0.92, 0.691, 0.6659999999999999, 0.6659999999999999, 0.897, 0.92, 0.92, 0.923, 0.926, 0.92, 0.624, 0.836, 0.92, 0.913, 0.92, 0.895, 0.795, 0.722, 0.682, 0.555, 0.926, 0.855, 0.92, 0.92, 0.91, 0.92, 0.897, 0.91, 0.624, 0.915, 0.92, 0.754, 0.92, 0.92, 0.624, 0.698, 0.91, 0.887, 0.926, 0.91, 0.624, 0.624, 0.624, 0.913, 0.8270000000000001, 0.624, 0.923, 0.92, 0.698, 0.926, 0.926, 0.92, 0.754, 0.899, 0.92, 0.624, 0.836, 0.789, 0.579, 0.926, 0.926, 0.926, 0.92, 0.91, 0.74, 0.924, 0.624, 0.92, 0.92, 0.913, 0.92, 0.624, 0.743, 0.887, 0.698, 0.754, 0.624, 0.92, 0.698, 0.923, 0.92, 0.92, 0.555, 0.91, 0.866, 0.923, 0.727, 0.624, 0.899, 0.92, 0.91, 0.847, 0.804, 0.89, 0.92, 0.913, 0.92, 0.92, 0.855, 0.698, 0.624, 0.624, 0.939, 0.939, 0.624, 0.92, 0.92, 0.913, 0.897, 0.878, 0.915, 0.92, 0.939, 0.926, 0.926, 0.855, 0.897, 0.92, 0.926, 0.924, 0.924, 0.92, 0.804, 0.92, 0.92, 0.794, 0.92, 0.893, 0.939, 0.903, 0.92, 0.926, 0.926, 0.8959999999999999, 0.926, 0.624, 0.802, 0.855, 0.767, 0.92, 0.55, 0.92, 0.6659999999999999, 0.92, 0.926, 0.754, 0.8959999999999999, 0.92, 0.92, 0.939, 0.92, 0.897, 0.55, 0.91, 0.624, 0.479, 0.92, 0.775, 0.884, 0.738, 0.92, 0.887, 0.701, 0.887, 0.91, 0.92, 0.624, 0.92, 0.92, 0.91, 0.92, 0.897, 0.7390000000000001, 0.624, 0.887, 0.624, 0.926, 0.6659999999999999, 0.926, 0.624, 0.925, 0.91, 0.92, 0.92, 0.92, 0.92, 0.6659999999999999, 0.754, 0.92, 0.92, 0.899, 0.887, 0.624, 0.698, 0.866, 0.624, 0.7659999999999999, 0.949, 0.893, 0.92, 0.92, 0.754, 0.698, 0.624, 0.924, 0.527, 0.92, 0.939, 0.92, 0.92, 0.698, 0.698, 0.624, 0.92, 0.518, 0.754, 0.924, 0.939, 0.624, 0.91, 0.926, 0.92, 0.91, 0.624, 0.5579999999999999, 0.91, 0.92, 0.926, 0.92, 0.843, 0.8959999999999999, 0.92, 0.55, 0.91, 0.624, 0.767, 0.624, 0.624, 0.91, 0.624, 0.897, 0.624, 0.92, 0.624, 0.55, 0.92, 0.624, 0.91, 0.91, 0.924, 0.92, 0.926, 0.92, 0.624, 0.939, 0.92, 0.624, 0.92, 0.624, 0.92, 0.92, 0.91, 0.855, 0.855, 0.924, 0.923, 0.855, 0.92, 0.897, 0.624, 0.92, 0.804, 0.92, 0.92, 0.893, 0.624, 0.92, 0.91, 0.926, 0.92, 0.926, 0.89, 0.802, 0.926, 0.939, 0.92, 0.722, 0.624, 0.92, 0.68, 0.91, 0.804, 0.926, 0.92, 0.926, 0.92, 0.926, 0.624, 0.91, 0.698, 0.878, 0.92, 0.92, 0.527, 0.624, 0.92, 0.738, 0.92, 0.865, 0.91, 0.926, 0.92, 0.897, 0.727, 0.92, 0.8959999999999999, 0.754, 0.6890000000000001, 0.926, 0.897, 0.92, 0.92, 0.579, 0.92, 0.924, 0.92, 0.8270000000000001, 0.624, 0.8959999999999999, 0.926, 0.804, 0.92, 0.691, 0.624, 0.624, 0.924, 0.926, 0.915, 0.624, 0.91, 0.926, 0.843, 0.884, 0.92, 0.691, 0.624, 0.624, 0.92, 0.926, 0.855, 0.91, 0.698, 0.624, 0.92, 0.91, 0.92, 0.624, 0.92, 0.92, 0.624, 0.92, 0.903, 0.698, 0.91, 0.55, 0.855, 0.624, 0.92, 0.92, 0.923, 0.624, 0.897, 0.794, 0.91, 0.897, 0.924, 0.92, 0.84, 0.92, 0.698, 0.92, 0.624, 0.624, 0.926, 0.855, 0.55, 0.893, 0.802, 0.92, 0.92, 0.939, 0.855, 0.91, 0.897, 0.92, 0.848, 0.624, 0.624, 0.91, 0.8270000000000001, 0.91, 0.92, 0.55, 0.8959999999999999, 0.624, 0.624, 0.624, 0.91, 0.926, 0.92, 0.92, 0.698, 0.926, 0.91, 0.856, 0.913, 0.897, 0.624, 0.754, 0.92, 0.897, 0.92, 0.913, 0.92, 0.91, 0.769, 0.8270000000000001, 0.92, 0.698, 0.8270000000000001, 0.92, 0.899, 0.91, 0.92, 0.91, 0.624, 0.92, 0.91, 0.804, 0.923, 0.897, 0.698, 0.855, 0.887, 0.91, 0.91, 0.887, 0.895, 0.624, 0.884, 0.624, 0.764, 0.91, 0.624, 0.91, 0.91, 0.926, 0.92, 0.939, 0.624, 0.754, 0.92, 0.624, 0.926, 0.579, 0.884, 0.624, 0.92, 0.624, 0.698, 0.579, 0.92, 0.448, 0.92, 0.926, 0.92, 0.91, 0.92, 0.91, 0.836, 0.92, 0.923, 0.698, 0.92, 0.698, 0.92, 0.624, 0.55, 0.887, 0.92, 0.92, 0.92, 0.926, 0.8959999999999999, 0.624, 0.92, 0.624, 0.698, 0.923, 0.92, 0.92, 0.624, 0.926, 0.802, 0.767, 0.624, 0.92, 0.91, 0.939, 0.92, 0.5579999999999999, 0.92, 0.926, 0.92, 0.92, 0.92, 0.939, 0.92, 0.8240000000000001, 0.527, 0.624, 0.698, 0.624, 0.7659999999999999, 0.91, 0.92, 0.6890000000000001, 0.624, 0.92, 0.92, 0.794, 0.624, 0.698, 0.878, 0.92, 0.924, 0.887, 0.923, 0.754, 0.878, 0.92, 0.897, 0.895, 0.926, 0.92, 0.624, 0.527, 0.624, 0.789, 0.92, 0.92, 0.91, 0.8959999999999999, 0.92, 0.887, 0.878, 0.926, 0.624, 0.624, 0.884, 0.698, 0.92, 0.92, 0.8270000000000001, 0.802, 0.624, 0.91, 0.698, 0.91, 0.949, 0.92, 0.939, 0.855, 0.91, 0.92, 0.91, 0.794, 0.624, 0.92, 0.92, 0.624, 0.855, 0.89, 0.926, 0.92, 0.92, 0.624, 0.743, 0.92, 0.884, 0.926, 0.92, 0.624, 0.897, 0.624, 0.92, 0.926, 0.897, 0.836, 0.915, 0.924, 0.92, 0.804, 0.92, 0.802, 0.926, 0.624, 0.804, 0.624, 0.924, 0.843, 0.83, 0.924, 0.8959999999999999, 0.91, 0.887, 0.624, 0.89, 0.92, 0.926, 0.91, 0.92, 0.794, 0.926, 0.92, 0.91, 0.899, 0.624, 0.92, 0.887, 0.92, 0.763, 0.91, 0.727, 0.8270000000000001, 0.738, 0.8270000000000001, 0.92, 0.698, 0.926, 0.55, 0.624, 0.949, 0.794, 0.92, 0.89, 0.843, 0.624, 0.698, 0.925, 0.92, 0.624, 0.698, 0.926, 0.624, 0.91, 0.92, 0.92, 0.924, 0.926, 0.92, 0.884, 0.92, 0.7759999999999999, 0.92, 0.624, 0.91, 0.624, 0.92, 0.939, 0.91, 0.866, 0.926, 0.91, 0.91, 0.926, 0.92, 0.92, 0.878, 0.92, 0.691, 0.92, 0.91, 0.92, 0.926, 0.897, 0.878, 0.92, 0.926, 0.91, 0.884, 0.92, 0.91, 0.624, 0.926, 0.926, 0.6659999999999999, 0.555, 0.884, 0.91, 0.897, 0.698, 0.802, 0.91, 0.767, 0.91, 0.926, 0.698, 0.5579999999999999, 0.92, 0.624, 0.624, 0.926, 0.624, 0.7759999999999999, 0.527, 0.6659999999999999, 0.5579999999999999, 0.74, 0.92, 0.91, 0.884, 0.939, 0.903, 0.698, 0.897, 0.895, 0.763, 0.92, 0.92, 0.7659999999999999, 0.8270000000000001, 0.518, 0.92, 0.884, 0.92, 0.92, 0.91, 0.91, 0.926, 0.92, 0.915, 0.893, 0.91, 0.865, 0.55, 0.624, 0.884, 0.855, 0.624, 0.92, 0.926, 0.897, 0.92, 0.91, 0.698, 0.949, 0.91, 0.939, 0.91, 0.767, 0.949, 0.92, 0.92, 0.92, 0.92, 0.893, 0.624, 0.865, 0.92, 0.926, 0.624, 0.767, 0.493, 0.92, 0.754, 0.92, 0.897, 0.624, 0.624, 0.913, 0.91, 0.925, 0.91, 0.897, 0.92, 0.6659999999999999, 0.92, 0.55, 0.913, 0.92, 0.939, 0.91, 0.624, 0.624, 0.624, 0.843, 0.624, 0.698, 0.91, 0.897, 0.92, 0.939, 0.939, 0.698, 0.7759999999999999, 0.926, 0.92, 0.698, 0.884, 0.91, 0.926, 0.698, 0.624, 0.762, 0.624, 0.767, 0.624, 0.855, 0.92, 0.527, 0.92, 0.624, 0.939, 0.6659999999999999, 0.926, 0.74, 0.92, 0.92, 0.926, 0.804, 0.92, 0.698, 0.698, 0.92, 0.91, 0.55, 0.913, 0.92, 0.926, 0.743, 0.836, 0.624, 0.8270000000000001, 0.5579999999999999, 0.92, 0.92, 0.762, 0.5579999999999999, 0.762, 0.698, 0.624, 0.899, 0.92, 0.926, 0.91, 0.92, 0.92, 0.887, 0.92, 0.767, 0.92, 0.939, 0.762, 0.913, 0.92, 0.579, 0.624, 0.92, 0.762, 0.926, 0.624, 0.624, 0.925, 0.624, 0.767, 0.92, 0.775, 0.924, 0.92, 0.855, 0.887, 0.836, 0.624, 0.92, 0.691, 0.91, 0.698, 0.92, 0.624, 0.92, 0.92, 0.855, 0.92, 0.624, 0.926, 0.802, 0.899, 0.92, 0.624, 0.92, 0.949, 0.698, 0.893, 0.836, 0.55, 0.92, 0.92, 0.92, 0.92, 0.91, 0.925, 0.848, 0.8959999999999999, 0.92, 0.92, 0.92, 0.926, 0.804, 0.698, 0.91, 0.624, 0.624, 0.926, 0.624, 0.92, 0.701, 0.884, 0.624, 0.698, 0.92, 0.926, 0.91, 0.624, 0.698, 0.92, 0.925, 0.624, 0.92, 0.92, 0.92, 0.884, 0.91, 0.804, 0.92, 0.91, 0.848, 0.624, 0.92, 0.767, 0.92, 0.74, 0.624, 0.92, 0.91, 0.555, 0.897, 0.693, 0.887, 0.92, 0.804, 0.92, 0.92, 0.924, 0.804, 0.754, 0.624, 0.926, 0.624, 0.92, 0.92, 0.925, 0.624, 0.92, 0.884, 0.926, 0.897, 0.884, 0.701, 0.8959999999999999, 0.855, 0.698, 0.903, 0.92, 0.847, 0.939, 0.848, 0.91, 0.92, 0.893, 0.92, 0.897, 0.949, 0.624, 0.624, 0.836, 0.91, 0.92, 0.92, 0.92, 0.698, 0.579, 0.624, 0.92, 0.624, 0.92, 0.939, 0.926, 0.698, 0.836, 0.855, 0.6890000000000001, 0.92, 0.92, 0.926, 0.91, 0.487, 0.899, 0.855, 0.92, 0.923, 0.698, 0.804, 0.92, 0.743, 0.924, 0.895, 0.91, 0.92, 0.926, 0.897, 0.74, 0.92, 0.92, 0.754, 0.698, 0.92, 0.92, 0.91, 0.92, 0.754, 0.91, 0.92, 0.91, 0.926, 0.91, 0.924, 0.698, 0.7959999999999999, 0.624, 0.804, 0.92, 0.91, 0.624, 0.743, 0.645, 0.887, 0.915, 0.91, 0.92, 0.624, 0.624, 0.926, 0.926, 0.939, 0.899, 0.887, 0.55, 0.92, 0.92, 0.926, 0.92, 0.624, 0.92, 0.92, 0.555, 0.91, 0.92, 0.926, 0.926, 0.926, 0.518, 0.92, 0.794, 0.939, 0.92, 0.8240000000000001, 0.92, 0.624, 0.887, 0.92, 0.855, 0.738, 0.949, 0.682, 0.926, 0.926, 0.624, 0.887, 0.698, 0.926, 0.92, 0.804, 0.92, 0.92, 0.91, 0.926, 0.802, 0.924, 0.767, 0.926, 0.92, 0.624, 0.6659999999999999, 0.743, 0.92, 0.92, 0.92, 0.767, 0.884, 0.913, 0.939, 0.924, 0.743, 0.55, 0.92, 0.556, 0.624, 0.92, 0.939, 0.624, 0.624, 0.698, 0.698, 0.698, 0.754, 0.92, 0.898, 0.856, 0.68, 0.8959999999999999, 0.92, 0.92, 0.939, 0.6890000000000001, 0.915, 0.92, 0.804, 0.91, 0.92, 0.727, 0.698, 0.913, 0.913, 0.8959999999999999, 0.847, 0.91, 0.92, 0.92, 0.897, 0.92, 0.903, 0.55, 0.92, 0.92, 0.899, 0.6659999999999999, 0.92, 0.624, 0.89, 0.92, 0.55, 0.8270000000000001, 0.897, 0.939, 0.92, 0.92, 0.92, 0.624, 0.92, 0.92, 0.624, 0.92, 0.855, 0.802, 0.624, 0.92, 0.55, 0.743, 0.939, 0.92, 0.92, 0.913, 0.516, 0.754, 0.848, 0.866, 0.8959999999999999, 0.855, 0.926, 0.926, 0.92, 0.92, 0.92, 0.91, 0.92, 0.92, 0.92, 0.789, 0.754, 0.92, 0.92, 0.924, 0.92, 0.7759999999999999, 0.804, 0.92, 0.92, 0.624, 0.624, 0.91, 0.924, 0.926, 0.913, 0.624, 0.698, 0.579, 0.743, 0.624, 0.866, 0.647, 0.92, 0.698, 0.884, 0.913, 0.91, 0.924, 0.92, 0.92, 0.897, 0.7659999999999999, 0.92, 0.7759999999999999, 0.926, 0.624, 0.855, 0.92, 0.92, 0.722, 0.92, 0.802, 0.899, 0.624, 0.64, 0.624, 0.91, 0.91, 0.624, 0.698, 0.92, 0.624, 0.92, 0.91, 0.926, 0.92, 0.91, 0.624, 0.897, 0.949, 0.624, 0.682, 0.743, 0.624, 0.91, 0.926, 0.624, 0.92, 0.92, 0.92, 0.939, 0.7759999999999999, 0.887, 0.624, 0.899, 0.92, 0.926, 0.92, 0.91, 0.624, 0.92, 0.8270000000000001, 0.91, 0.923, 0.897, 0.92, 0.913, 0.92, 0.884, 0.7759999999999999, 0.91, 0.926, 0.897, 0.884, 0.754, 0.91, 0.92, 0.804, 0.92, 0.903, 0.926, 0.6659999999999999, 0.92, 0.926, 0.915, 0.92, 0.555, 0.624, 0.92, 0.682, 0.754, 0.92, 0.91, 0.92, 0.624, 0.682, 0.698, 0.92, 0.624, 0.92, 0.91, 0.804, 0.624, 0.895, 0.91, 0.913, 0.92, 0.795, 0.92, 0.92, 0.92, 0.92, 0.91, 0.698, 0.924, 0.92, 0.624, 0.682, 0.92, 0.92, 0.926, 0.939, 0.624, 0.91, 0.92, 0.727, 0.92, 0.903, 0.682, 0.624, 0.74, 0.698, 0.893, 0.682, 0.91, 0.794, 0.624, 0.89, 0.789, 0.91, 0.848, 0.926, 0.624, 0.682, 0.92, 0.92, 0.6890000000000001, 0.939, 0.91, 0.897, 0.899, 0.92, 0.698, 0.624, 0.8270000000000001, 0.92, 0.939, 0.8959999999999999, 0.91, 0.624, 0.897, 0.92, 0.767, 0.7659999999999999, 0.926, 0.926, 0.92, 0.939, 0.624, 0.794, 0.754, 0.92, 0.92, 0.92, 0.92, 0.92, 0.878, 0.884, 0.939, 0.92, 0.764, 0.92, 0.923, 0.624, 0.92, 0.92, 0.92, 0.855, 0.92, 0.624, 0.624, 0.91, 0.92, 0.913, 0.804, 0.698, 0.92, 0.92, 0.624, 0.92, 0.89, 0.624, 0.92, 0.647, 0.795, 0.887, 0.92, 0.878, 0.624, 0.92, 0.624, 0.754, 0.887, 0.913, 0.91, 0.926, 0.926, 0.92, 0.624, 0.913, 0.624, 0.92, 0.764, 0.855, 0.624, 0.866, 0.92, 0.624, 0.926, 0.754, 0.89, 0.913, 0.926, 0.899, 0.855, 0.897, 0.794, 0.738, 0.7959999999999999, 0.92, 0.926, 0.878, 0.92, 0.893, 0.92, 0.91, 0.924, 0.915, 0.92, 0.91, 0.884, 0.804, 0.92, 0.624, 0.91, 0.897, 0.939, 0.624, 0.92, 0.92, 0.91, 0.624, 0.698, 0.926, 0.92, 0.92, 0.7759999999999999, 0.897, 0.92, 0.92, 0.624, 0.926, 0.8959999999999999, 0.926, 0.624, 0.91, 0.939, 0.92, 0.855, 0.926, 0.91, 0.897, 0.89, 0.624, 0.555, 0.887, 0.8270000000000001, 0.91, 0.923, 0.743, 0.92, 0.92, 0.926, 0.92, 0.939, 0.624, 0.91, 0.897, 0.762, 0.624, 0.92, 0.624, 0.92, 0.925, 0.624, 0.926, 0.913, 0.926, 0.92, 0.92, 0.884, 0.878, 0.92, 0.624, 0.91, 0.92, 0.92, 0.92, 0.856, 0.843, 0.624, 0.913, 0.624, 0.925, 0.92, 0.698, 0.698, 0.92, 0.92, 0.843, 0.92, 0.92, 0.92, 0.92, 0.924, 0.897, 0.92, 0.92, 0.926, 0.579, 0.92, 0.92, 0.903, 0.92, 0.926, 0.8959999999999999, 0.924, 0.887, 0.926, 0.91, 0.92, 0.92, 0.92, 0.624, 0.698, 0.926, 0.647, 0.89, 0.624, 0.899, 0.91, 0.91, 0.925, 0.887, 0.866, 0.92, 0.926, 0.92, 0.926, 0.91, 0.91, 0.92, 0.92, 0.92, 0.92, 0.92, 0.91, 0.897, 0.89, 0.624, 0.624, 0.893, 0.55, 0.624, 0.762, 0.91, 0.897, 0.92, 0.804, 0.92, 0.939, 0.92, 0.767, 0.923, 0.92, 0.738, 0.939, 0.767, 0.754, 0.92, 0.804, 0.92, 0.802, 0.92, 0.579, 0.624, 0.897, 0.92, 0.8959999999999999, 0.92, 0.92, 0.893, 0.624, 0.92, 0.92, 0.624, 0.802, 0.91, 0.624, 0.897, 0.924, 0.926, 0.754, 0.926, 0.92, 0.527, 0.91, 0.949, 0.754, 0.866, 0.924, 0.92, 0.698, 0.624, 0.924, 0.913, 0.926, 0.91, 0.926, 0.91, 0.92, 0.91, 0.92, 0.698, 0.55, 0.926, 0.915, 0.924, 0.926, 0.762, 0.939, 0.91, 0.83, 0.913, 0.743, 0.91, 0.92, 0.92, 0.698, 0.884, 0.624, 0.92, 0.92, 0.624, 0.698, 0.624, 0.6659999999999999, 0.92, 0.92, 0.926, 0.926, 0.84, 0.624, 0.92, 0.855, 0.897, 0.804, 0.804, 0.926, 0.913, 0.855, 0.789, 0.493, 0.6659999999999999, 0.92, 0.926, 0.92, 0.698, 0.624, 0.92, 0.924, 0.926, 0.8270000000000001, 0.6890000000000001, 0.92, 0.91, 0.624, 0.698, 0.92, 0.698, 0.923, 0.92, 0.624, 0.91, 0.91, 0.55, 0.8959999999999999, 0.893, 0.92, 0.92, 0.624, 0.624, 0.92, 0.624, 0.8270000000000001, 0.913, 0.91, 0.92, 0.92, 0.92, 0.915, 0.92, 0.926, 0.926, 0.763, 0.926, 0.925, 0.624, 0.92, 0.926, 0.913, 0.789, 0.804, 0.939, 0.926, 0.897, 0.92, 0.926, 0.913, 0.624, 0.92, 0.624, 0.897, 0.897, 0.897, 0.926, 0.91, 0.92, 0.855, 0.923, 0.624, 0.92, 0.624, 0.92, 0.92, 0.624, 0.92, 0.89, 0.804, 0.91, 0.92, 0.802, 0.8270000000000001, 0.92, 0.92, 0.92, 0.924, 0.789, 0.897, 0.624, 0.92, 0.897, 0.926, 0.624, 0.91, 0.698, 0.92, 0.91, 0.92, 0.923, 0.563, 0.624, 0.794, 0.91, 0.91, 0.926, 0.624, 0.682, 0.926, 0.795, 0.527, 0.91, 0.897, 0.92, 0.92, 0.624, 0.897, 0.92, 0.624, 0.794, 0.897, 0.682, 0.92, 0.91, 0.802, 0.91, 0.926, 0.878, 0.579, 0.949, 0.91, 0.624, 0.92, 0.624, 0.804, 0.91, 0.913, 0.91, 0.767, 0.939, 0.92, 0.926, 0.624, 0.624, 0.91, 0.949, 0.754, 0.884, 0.843, 0.887, 0.91, 0.92, 0.762, 0.624, 0.926, 0.92, 0.897, 0.55, 0.897, 0.92, 0.6659999999999999, 0.939, 0.624, 0.92, 0.939, 0.624, 0.624, 0.92, 0.55, 0.949, 0.745, 0.92, 0.624, 0.92, 0.897, 0.754, 0.92, 0.939, 0.897, 0.899, 0.92, 0.92, 0.92, 0.754, 0.624, 0.91, 0.897, 0.923, 0.878, 0.91, 0.92, 0.92, 0.624, 0.763, 0.527, 0.855, 0.698, 0.624, 0.92, 0.92, 0.897, 0.92, 0.92, 0.624, 0.92, 0.89, 0.624, 0.802, 0.83, 0.92, 0.897, 0.92, 0.743, 0.92, 0.698, 0.92, 0.624, 0.795, 0.624, 0.866, 0.624, 0.848, 0.682, 0.92, 0.624, 0.579, 0.91, 0.493, 0.939, 0.843, 0.92, 0.92, 0.624, 0.865, 0.926, 0.794, 0.624, 0.624, 0.92, 0.527, 0.624, 0.92, 0.624, 0.848, 0.866, 0.92, 0.92, 0.926, 0.897, 0.563, 0.448, 0.92, 0.92, 0.698, 0.926, 0.789, 0.92, 0.624, 0.624, 0.743, 0.855, 0.915, 0.624, 0.925, 0.91, 0.92, 0.92, 0.738, 0.624, 0.92, 0.727, 0.855, 0.92, 0.92, 0.925, 0.92, 0.91, 0.6890000000000001, 0.92, 0.926, 0.926, 0.92, 0.92, 0.794, 0.804, 0.624, 0.92, 0.8270000000000001, 0.92, 0.624, 0.624, 0.775, 0.843, 0.893, 0.92, 0.725, 0.855, 0.91, 0.884, 0.91, 0.92, 0.92, 0.624, 0.624, 0.8959999999999999, 0.92, 0.926, 0.91, 0.91, 0.624, 0.624, 0.92, 0.91, 0.624, 0.624, 0.624, 0.743, 0.92, 0.92, 0.92, 0.92, 0.92, 0.926, 0.91, 0.925, 0.624, 0.624, 0.91, 0.698, 0.856, 0.915, 0.884, 0.682, 0.91, 0.92, 0.7659999999999999, 0.92, 0.897, 0.91, 0.91, 0.92, 0.887, 0.92, 0.92, 0.91, 0.915, 0.738, 0.624, 0.89, 0.92, 0.898, 0.92, 0.92, 0.897, 0.855, 0.939, 0.893, 0.887, 0.893, 0.92, 0.92, 0.939, 0.8270000000000001, 0.624, 0.743, 0.682, 0.91, 0.855, 0.754, 0.897, 0.91, 0.92, 0.64, 0.913, 0.926, 0.624, 0.897, 0.624, 0.92, 0.939, 0.448, 0.92, 0.624, 0.897, 0.804, 0.624, 0.92, 0.789, 0.913, 0.855, 0.897, 0.92, 0.624, 0.789, 0.55, 0.926, 0.91, 0.92, 0.624, 0.92, 0.624, 0.743, 0.624, 0.939, 0.926, 0.923, 0.624, 0.682, 0.915, 0.92, 0.624, 0.527, 0.624, 0.925, 0.925, 0.804, 0.926, 0.92, 0.855, 0.92, 0.68, 0.836, 0.624, 0.91, 0.92, 0.92, 0.91, 0.91, 0.895, 0.722, 0.6890000000000001, 0.92, 0.92, 0.92, 0.92, 0.926, 0.893, 0.926, 0.913, 0.92, 0.92, 0.555, 0.624, 0.92, 0.92, 0.91, 0.92, 0.866, 0.6890000000000001, 0.893, 0.91, 0.91, 0.5579999999999999, 0.624, 0.92, 0.624, 0.624, 0.92, 0.5579999999999999, 0.924, 0.926, 0.624, 0.848, 0.91, 0.926, 0.913, 0.743, 0.802, 0.939, 0.926, 0.92, 0.91, 0.949, 0.84, 0.92, 0.624, 0.92, 0.92, 0.624, 0.926, 0.91, 0.92, 0.624, 0.923, 0.7959999999999999, 0.92, 0.624, 0.884, 0.897, 0.92, 0.895, 0.579, 0.939, 0.92, 0.92, 0.91, 0.7759999999999999, 0.887, 0.624, 0.926, 0.762, 0.895, 0.743, 0.893, 0.55, 0.624, 0.926, 0.804, 0.913, 0.698, 0.939, 0.743, 0.92, 0.624, 0.91, 0.83, 0.926, 0.92, 0.624, 0.92, 0.926, 0.624, 0.926, 0.91, 0.624, 0.92, 0.924, 0.899, 0.92, 0.769, 0.913, 0.92, 0.743, 0.8270000000000001, 0.92, 0.92, 0.897, 0.893, 0.7759999999999999, 0.91, 0.92, 0.836, 0.939, 0.924, 0.924, 0.855, 0.878, 0.624, 0.55, 0.884, 0.682, 0.7759999999999999, 0.92, 0.939, 0.926, 0.92, 0.91, 0.926, 0.926, 0.887, 0.762, 0.754, 0.92, 0.924, 0.92, 0.8959999999999999, 0.804, 0.804, 0.92, 0.92, 0.884, 0.624, 0.624, 0.92, 0.92, 0.91, 0.624, 0.8959999999999999, 0.92, 0.92, 0.92, 0.8270000000000001, 0.7879999999999999, 0.92, 0.926, 0.887, 0.83, 0.624, 0.939, 0.624, 0.939, 0.926, 0.8959999999999999, 0.92, 0.893, 0.8959999999999999, 0.92, 0.92, 0.92, 0.624, 0.92, 0.91, 0.897, 0.92, 0.91, 0.624, 0.926, 0.925, 0.91, 0.769, 0.884, 0.698, 0.92, 0.91, 0.624, 0.924, 0.92, 0.91, 0.878, 0.897, 0.804, 0.624, 0.926, 0.926, 0.915, 0.804, 0.91, 0.5579999999999999, 0.624, 0.83, 0.899, 0.92, 0.924, 0.624, 0.89, 0.804, 0.897, 0.91, 0.92, 0.92, 0.754, 0.804, 0.913, 0.91, 0.887, 0.939, 0.91, 0.698, 0.624, 0.887, 0.897, 0.92, 0.8959999999999999, 0.926, 0.555, 0.836, 0.92, 0.903, 0.887, 0.92, 0.6659999999999999, 0.843, 0.55, 0.926, 0.92, 0.926, 0.91, 0.91, 0.897, 0.92, 0.926, 0.92, 0.897, 0.764, 0.926, 0.624, 0.624, 0.7659999999999999, 0.91, 0.92, 0.926, 0.92, 0.92, 0.893, 0.6890000000000001, 0.624, 0.897, 0.55, 0.624, 0.92, 0.55, 0.92, 0.92, 0.92, 0.92, 0.897, 0.624, 0.926, 0.887, 0.913, 0.836, 0.855, 0.897, 0.624, 0.91, 0.8959999999999999, 0.91, 0.92, 0.926, 0.722, 0.91, 0.866, 0.92, 0.884, 0.624, 0.92, 0.624, 0.92, 0.6890000000000001, 0.865, 0.897, 0.924, 0.624, 0.769, 0.949, 0.926, 0.92, 0.738, 0.92, 0.698, 0.92, 0.92, 0.92, 0.624, 0.91, 0.92, 0.913, 0.7959999999999999, 0.624, 0.92, 0.624, 0.764, 0.624, 0.836, 0.698, 0.91, 0.624, 0.921, 0.624, 0.92, 0.926, 0.91, 0.698, 0.949, 0.92, 0.866, 0.7879999999999999, 0.624, 0.899, 0.925, 0.91, 0.624, 0.926, 0.913, 0.855, 0.897, 0.926, 0.8959999999999999, 0.91, 0.92, 0.924, 0.92, 0.804, 0.939, 0.92, 0.855, 0.92, 0.887, 0.926, 0.698, 0.91, 0.924, 0.92, 0.92, 0.939, 0.92, 0.55, 0.866, 0.887, 0.92, 0.91, 0.926, 0.92, 0.926, 0.624, 0.624, 0.91, 0.836, 0.764, 0.624, 0.91, 0.92, 0.647, 0.924, 0.91, 0.915, 0.727, 0.855, 0.92, 0.92, 0.698, 0.92, 0.624, 0.92, 0.913, 0.727, 0.767, 0.92, 0.579, 0.8270000000000001, 0.92, 0.926, 0.91, 0.92, 0.624, 0.855, 0.92, 0.924, 0.92, 0.92, 0.92, 0.92, 0.92, 0.727, 0.897, 0.794, 0.926, 0.897, 0.754, 0.92, 0.89, 0.926, 0.893, 0.738, 0.698, 0.91, 0.624, 0.698, 0.91, 0.624, 0.92, 0.754, 0.884, 0.92, 0.895, 0.92, 0.92, 0.92, 0.762, 0.925, 0.939, 0.855, 0.55, 0.579, 0.624, 0.762, 0.6659999999999999, 0.92, 0.92, 0.698, 0.893, 0.742, 0.878, 0.92, 0.92, 0.92, 0.92, 0.887, 0.624, 0.897, 0.698, 0.91, 0.926, 0.884, 0.624, 0.903, 0.6659999999999999, 0.91, 0.8270000000000001, 0.6659999999999999, 0.624, 0.735, 0.92, 0.5579999999999999, 0.698, 0.903, 0.555, 0.91, 0.92, 0.91, 0.91, 0.743, 0.91, 0.698, 0.925, 0.804, 0.624, 0.884, 0.698, 0.92, 0.91, 0.7659999999999999, 0.92, 0.92, 0.939, 0.897, 0.92, 0.804, 0.92, 0.624, 0.624, 0.624, 0.92, 0.762, 0.91, 0.92, 0.924, 0.925, 0.8270000000000001, 0.624, 0.74, 0.624, 0.624, 0.926, 0.91, 0.926, 0.92, 0.855, 0.92, 0.764, 0.926, 0.92, 0.92, 0.624, 0.55, 0.6890000000000001, 0.92, 0.624, 0.924, 0.926, 0.92, 0.926, 0.8270000000000001, 0.939, 0.738, 0.939, 0.624, 0.624, 0.682, 0.92, 0.897, 0.624, 0.6659999999999999, 0.698, 0.624, 0.926, 0.92, 0.92, 0.855, 0.725, 0.698, 0.794, 0.624, 0.926, 0.939, 0.682, 0.804, 0.91, 0.91, 0.897, 0.939, 0.92, 0.624, 0.624, 0.91, 0.92, 0.624, 0.887, 0.6659999999999999, 0.92, 0.624, 0.738, 0.92, 0.92, 0.624, 0.897, 0.847, 0.92, 0.91, 0.897, 0.754, 0.913, 0.91, 0.804, 0.624, 0.92, 0.855, 0.682, 0.624, 0.92, 0.897, 0.555, 0.91, 0.92, 0.91, 0.924, 0.624, 0.624, 0.913, 0.624, 0.884, 0.624, 0.55, 0.92, 0.855, 0.92, 0.722, 0.923, 0.624, 0.624, 0.91, 0.89, 0.92, 0.878, 0.767, 0.754, 0.91, 0.698, 0.884, 0.92, 0.92, 0.925, 0.926, 0.722, 0.624, 0.6659999999999999, 0.939, 0.92, 0.89, 0.926, 0.92, 0.624, 0.855, 0.926, 0.92, 0.624, 0.92, 0.926, 0.624, 0.92, 0.939, 0.926, 0.91, 0.743, 0.92, 0.92, 0.92, 0.698, 0.624, 0.887, 0.92, 0.91, 0.92, 0.92, 0.624, 0.939, 0.624, 0.92, 0.899, 0.7759999999999999, 0.555, 0.727, 0.91, 0.91, 0.624, 0.92, 0.913, 0.6659999999999999, 0.698, 0.92, 0.802, 0.92, 0.92, 0.92, 0.92, 0.91, 0.91, 0.493, 0.847, 0.92, 0.878, 0.92, 0.6890000000000001, 0.624, 0.926, 0.624, 0.878, 0.92, 0.91, 0.92, 0.926, 0.92, 0.884, 0.624, 0.55, 0.893, 0.899, 0.698, 0.92, 0.895, 0.624, 0.698, 0.913, 0.91, 0.624, 0.92, 0.921, 0.91, 0.91, 0.913, 0.794, 0.624, 0.7759999999999999, 0.924, 0.924, 0.884, 0.92, 0.91, 0.92, 0.92, 0.92, 0.92, 0.754, 0.624, 0.926, 0.624, 0.915, 0.843, 0.762, 0.91, 0.624, 0.92, 0.92, 0.624, 0.624, 0.767, 0.884, 0.925, 0.92, 0.92, 0.624, 0.939, 0.624, 0.899, 0.92, 0.926, 0.897, 0.555, 0.92, 0.92, 0.92, 0.92, 0.624, 0.913, 0.6659999999999999, 0.794, 0.92, 0.92, 0.92, 0.884, 0.624, 0.884, 0.91, 0.878, 0.804, 0.698, 0.91, 0.884, 0.92, 0.91, 0.804, 0.92, 0.624, 0.92, 0.682, 0.92, 0.698, 0.92, 0.915, 0.624, 0.923, 0.913, 0.899, 0.915, 0.897, 0.926, 0.624, 0.743, 0.698, 0.897, 0.74, 0.91, 0.624, 0.92, 0.92, 0.893, 0.698, 0.579, 0.899, 0.92, 0.802, 0.897, 0.794, 0.92, 0.899, 0.897, 0.92, 0.897, 0.7959999999999999, 0.893, 0.897, 0.92, 0.887, 0.884, 0.939, 0.92, 0.926, 0.91, 0.698, 0.83, 0.915, 0.624, 0.698, 0.527, 0.91, 0.92, 0.855, 0.579, 0.899, 0.925, 0.7659999999999999, 0.91, 0.855, 0.624, 0.92, 0.92, 0.92, 0.92, 0.913, 0.92, 0.92, 0.91, 0.939, 0.8270000000000001, 0.624, 0.895, 0.939, 0.915, 0.926, 0.91, 0.624, 0.624, 0.887, 0.949, 0.624, 0.92, 0.698, 0.92, 0.92, 0.789, 0.624, 0.939, 0.897, 0.92, 0.92, 0.89, 0.91, 0.624, 0.91, 0.624, 0.913, 0.624, 0.624, 0.92, 0.682, 0.727, 0.743, 0.92, 0.802, 0.939, 0.92, 0.92, 0.913, 0.92, 0.91, 0.8959999999999999, 0.92, 0.7759999999999999, 0.92, 0.855, 0.8270000000000001, 0.91, 0.926, 0.527, 0.926, 0.624, 0.939, 0.91, 0.92, 0.913, 0.92, 0.884, 0.895, 0.92, 0.92, 0.91, 0.897, 0.91, 0.92, 0.91, 0.92, 0.926, 0.92, 0.55, 0.92, 0.91, 0.698, 0.926, 0.92, 0.92, 0.92, 0.738, 0.624, 0.91, 0.6659999999999999, 0.92, 0.92, 0.91, 0.767, 0.91, 0.92, 0.698, 0.92, 0.92, 0.624, 0.698, 0.893, 0.624, 0.887, 0.92, 0.624, 0.897, 0.926, 0.939, 0.924, 0.754, 0.92, 0.92, 0.897, 0.897, 0.698, 0.903, 0.923, 0.92, 0.92, 0.887, 0.92, 0.624, 0.939, 0.924, 0.92, 0.802, 0.884, 0.92, 0.895, 0.91, 0.939, 0.878, 0.924, 0.92, 0.926, 0.897, 0.897, 0.624, 0.926, 0.624, 0.926, 0.855, 0.89, 0.624, 0.92, 0.8959999999999999, 0.8959999999999999, 0.855, 0.926, 0.939, 0.624, 0.92, 0.884, 0.884, 0.624, 0.92, 0.698, 0.92, 0.767, 0.855, 0.92, 0.92, 0.924, 0.92, 0.926, 0.624, 0.884, 0.91, 0.92, 0.64, 0.91, 0.926, 0.624, 0.887, 0.92, 0.698, 0.754, 0.92, 0.926, 0.92, 0.924, 0.698, 0.915, 0.624, 0.91, 0.624, 0.92, 0.92, 0.92, 0.624, 0.924, 0.624, 0.92, 0.92, 0.939, 0.742, 0.92, 0.698, 0.624, 0.92, 0.893, 0.92, 0.92, 0.887, 0.804, 0.91, 0.91, 0.91, 0.92, 0.8959999999999999, 0.698, 0.92, 0.804, 0.624, 0.92, 0.926, 0.92, 0.924, 0.92, 0.92, 0.92, 0.92, 0.8270000000000001, 0.743, 0.92, 0.855, 0.855, 0.924, 0.579, 0.925, 0.92, 0.884, 0.8959999999999999, 0.794, 0.92, 0.915, 0.92, 0.92, 0.92, 0.843, 0.924, 0.682, 0.91, 0.91, 0.926, 0.939, 0.878, 0.698, 0.804, 0.884, 0.624, 0.802, 0.92, 0.91, 0.698, 0.682, 0.92, 0.91, 0.794, 0.895, 0.92, 0.804, 0.92, 0.802, 0.55, 0.92, 0.92, 0.949, 0.91, 0.8959999999999999, 0.92, 0.6890000000000001, 0.624, 0.926, 0.92, 0.624, 0.923, 0.802, 0.897, 0.563, 0.91, 0.878, 0.92, 0.915, 0.92, 0.92, 0.624, 0.624, 0.92, 0.91, 0.893, 0.91, 0.91, 0.92, 0.698, 0.624, 0.926, 0.624, 0.866, 0.624, 0.624, 0.92, 0.804, 0.926, 0.624, 0.893, 0.91, 0.913, 0.895, 0.899, 0.92, 0.624, 0.647, 0.91, 0.893, 0.698, 0.624, 0.897, 0.899, 0.92, 0.92, 0.91, 0.887, 0.924, 0.926, 0.836, 0.579, 0.91, 0.866, 0.448, 0.624, 0.924, 0.91, 0.893, 0.91, 0.92, 0.624, 0.92, 0.804, 0.624, 0.804, 0.92, 0.92, 0.624, 0.624, 0.903, 0.624, 0.884, 0.624, 0.89, 0.92, 0.92, 0.91, 0.84, 0.92, 0.855, 0.92, 0.802, 0.91, 0.899, 0.939, 0.92, 0.92, 0.624, 0.624, 0.624, 0.893, 0.887, 0.899, 0.92, 0.91, 0.91, 0.91, 0.802, 0.92, 0.698, 0.897, 0.92, 0.624, 0.91, 0.624, 0.7659999999999999, 0.624, 0.91, 0.7759999999999999, 0.5579999999999999, 0.92, 0.5579999999999999, 0.92, 0.92, 0.92, 0.91, 0.939, 0.92, 0.91, 0.926, 0.926, 0.884, 0.624, 0.742, 0.92, 0.92, 0.925, 0.92, 0.518, 0.92, 0.698, 0.843, 0.92, 0.92, 0.479, 0.804, 0.624, 0.925, 0.92, 0.843, 0.762, 0.92, 0.92, 0.92, 0.92, 0.764, 0.887, 0.754, 0.91, 0.92, 0.802, 0.92, 0.887, 0.698, 0.92, 0.92, 0.91, 0.775, 0.926, 0.939, 0.624, 0.624, 0.624, 0.92, 0.624, 0.624, 0.924, 0.6890000000000001, 0.924, 0.915, 0.92, 0.624, 0.92, 0.92, 0.92, 0.92, 0.926, 0.754, 0.624, 0.556, 0.926, 0.899, 0.855, 0.91, 0.795, 0.92, 0.92, 0.698, 0.92, 0.624, 0.91, 0.926, 0.91, 0.624, 0.92, 0.855, 0.624, 0.92, 0.92, 0.92, 0.738, 0.915, 0.55, 0.878, 0.7659999999999999, 0.743, 0.6659999999999999, 0.92, 0.804, 0.624, 0.91, 0.645, 0.899, 0.647, 0.624, 0.92, 0.897, 0.92, 0.92, 0.926, 0.91, 0.91, 0.92, 0.926, 0.624, 0.92, 0.887, 0.55, 0.92, 0.878, 0.91, 0.92, 0.804, 0.91, 0.923, 0.91, 0.624, 0.92, 0.754, 0.92, 0.897, 0.91, 0.624, 0.55, 0.92, 0.754, 0.624, 0.624, 0.92, 0.92, 0.698, 0.802, 0.624, 0.949, 0.743, 0.91, 0.698, 0.624, 0.92, 0.92, 0.527, 0.92, 0.897, 0.836, 0.92, 0.8270000000000001, 0.92, 0.92, 0.91, 0.866, 0.939, 0.926, 0.8270000000000001, 0.92, 0.92, 0.624, 0.743, 0.6659999999999999, 0.897, 0.624, 0.92, 0.6890000000000001, 0.804, 0.527, 0.836, 0.926, 0.6890000000000001, 0.926, 0.5579999999999999, 0.92, 0.624, 0.624, 0.767, 0.698, 0.7759999999999999, 0.624, 0.843, 0.866, 0.843, 0.624, 0.647, 0.926, 0.91, 0.624, 0.92, 0.887, 0.92, 0.92, 0.92, 0.924, 0.92, 0.91, 0.624, 0.698, 0.866, 0.92, 0.624, 0.698, 0.624, 0.926, 0.91, 0.91, 0.6659999999999999, 0.923, 0.92, 0.926, 0.925, 0.754, 0.762, 0.624, 0.6659999999999999, 0.92, 0.926, 0.915, 0.55, 0.878, 0.804, 0.698, 0.884, 0.7659999999999999, 0.55, 0.92, 0.92, 0.856, 0.91, 0.92, 0.866, 0.624, 0.855, 0.92, 0.624, 0.92, 0.92, 0.878, 0.698, 0.92, 0.924, 0.754, 0.6890000000000001, 0.91, 0.913, 0.887, 0.556, 0.926, 0.92, 0.836, 0.624, 0.762, 0.878, 0.624, 0.913, 0.855, 0.767, 0.754, 0.92, 0.624, 0.855, 0.5579999999999999, 0.8959999999999999, 0.855, 0.91, 0.92, 0.878, 0.939, 0.92, 0.754, 0.579, 0.897, 0.92, 0.92, 0.624, 0.91, 0.92, 0.91, 0.624, 0.91, 0.92, 0.767, 0.92, 0.855, 0.624, 0.579, 0.698, 0.92, 0.926, 0.897, 0.92, 0.556, 0.754, 0.92, 0.624, 0.92, 0.92, 0.92, 0.92, 0.887, 0.727, 0.92, 0.624, 0.926, 0.924, 0.762, 0.764, 0.91, 0.767, 0.949, 0.91, 0.624, 0.92, 0.949, 0.91, 0.754, 0.92, 0.91, 0.897, 0.55, 0.5579999999999999, 0.92, 0.682, 0.923, 0.926, 0.91, 0.899, 0.926, 0.843, 0.55, 0.804, 0.939, 0.939, 0.92, 0.8959999999999999, 0.924, 0.92, 0.624, 0.848, 0.624, 0.92, 0.926, 0.92, 0.899, 0.924, 0.92, 0.624, 0.754, 0.624, 0.624, 0.884, 0.794, 0.91, 0.527, 0.91, 0.926, 0.698, 0.92, 0.926, 0.926, 0.624, 0.55, 0.855, 0.92, 0.893, 0.579, 0.92, 0.92, 0.624, 0.884, 0.698, 0.939, 0.5579999999999999, 0.926, 0.939, 0.92, 0.913, 0.887, 0.624, 0.92, 0.92, 0.855, 0.836, 0.698, 0.579, 0.91, 0.92, 0.624, 0.878, 0.743, 0.92, 0.836, 0.624, 0.5579999999999999, 0.624, 0.624, 0.725, 0.92, 0.926, 0.91, 0.74, 0.92, 0.7390000000000001, 0.624, 0.624, 0.624, 0.913, 0.926, 0.92, 0.91, 0.91, 0.624, 0.939, 0.92, 0.848, 0.55, 0.92, 0.92, 0.92, 0.624, 0.897, 0.624, 0.899, 0.926, 0.897, 0.92, 0.926, 0.624, 0.866, 0.743, 0.794, 0.899, 0.7759999999999999, 0.624, 0.624, 0.921, 0.92, 0.92, 0.897, 0.649, 0.939, 0.91, 0.624, 0.92, 0.92, 0.887, 0.939, 0.92, 0.624, 0.698, 0.92, 0.913, 0.926, 0.698, 0.624, 0.624, 0.92, 0.926, 0.698, 0.624, 0.804, 0.624, 0.92, 0.92, 0.804, 0.8959999999999999, 0.92, 0.92, 0.92, 0.92, 0.754, 0.939, 0.92, 0.555, 0.64, 0.92, 0.624, 0.926, 0.924, 0.91, 0.939, 0.92, 0.92, 0.92, 0.624, 0.92, 0.92, 0.92, 0.92, 0.92, 0.91, 0.789, 0.738, 0.624, 0.926, 0.624, 0.91, 0.925, 0.92, 0.624, 0.624, 0.855, 0.92, 0.92, 0.769, 0.804, 0.926, 0.91, 0.698, 0.624, 0.624, 0.926, 0.804, 0.91, 0.92, 0.527, 0.897, 0.624, 0.6659999999999999, 0.893, 0.8959999999999999, 0.92, 0.887, 0.91, 0.92, 0.92, 0.926, 0.91, 0.92, 0.92, 0.6659999999999999, 0.7659999999999999, 0.92, 0.92, 0.893, 0.8959999999999999, 0.92, 0.897, 0.878, 0.923, 0.92, 0.92, 0.89, 0.624, 0.754, 0.866, 0.92, 0.92, 0.926, 0.897, 0.92, 0.893, 0.804, 0.624, 0.926, 0.878, 0.91, 0.624, 0.624, 0.802, 0.92, 0.92, 0.913, 0.887, 0.92, 0.836, 0.926, 0.8270000000000001, 0.939, 0.624, 0.92, 0.926, 0.92, 0.624, 0.926, 0.92, 0.624, 0.92, 0.926, 0.6659999999999999, 0.7390000000000001, 0.939, 0.92, 0.926, 0.92, 0.92, 0.624, 0.763, 0.855, 0.92, 0.92, 0.624, 0.92, 0.897, 0.92, 0.92, 0.89, 0.926, 0.91, 0.92, 0.926, 0.92, 0.527, 0.91, 0.939, 0.804, 0.848, 0.92, 0.698, 0.91, 0.624, 0.624, 0.92, 0.698, 0.843, 0.92, 0.624, 0.698, 0.92, 0.92, 0.926, 0.91, 0.698, 0.92, 0.92, 0.555, 0.92, 0.624, 0.926, 0.647, 0.8959999999999999, 0.855, 0.92, 0.939, 0.624, 0.91, 0.878, 0.92, 0.855, 0.754, 0.855, 0.92, 0.926, 0.92, 0.926, 0.92, 0.624, 0.624, 0.754, 0.926, 0.624, 0.624, 0.794, 0.92, 0.884, 0.92, 0.91, 0.926, 0.698, 0.624, 0.92, 0.698, 0.91, 0.899, 0.92, 0.878, 0.92, 0.91, 0.92, 0.92, 0.926, 0.92, 0.91, 0.92, 0.624, 0.915, 0.836, 0.899, 0.92, 0.855, 0.913, 0.7759999999999999, 0.92, 0.92, 0.802, 0.895, 0.899, 0.624, 0.624, 0.893, 0.555, 0.897, 0.926, 0.92, 0.624, 0.624, 0.92, 0.92, 0.92, 0.624, 0.92, 0.843, 0.939, 0.92, 0.479, 0.926, 0.92, 0.624, 0.624, 0.91, 0.893, 0.647, 0.624, 0.897, 0.624, 0.92, 0.925, 0.926, 0.92, 0.579, 0.92, 0.887, 0.624, 0.92, 0.92, 0.92, 0.698, 0.899, 0.926, 0.92, 0.624, 0.92, 0.843, 0.925, 0.92, 0.92, 0.92, 0.92, 0.7809999999999999, 0.92, 0.897, 0.92, 0.794, 0.804, 0.754, 0.92, 0.92, 0.804, 0.939, 0.8959999999999999, 0.754, 0.926, 0.92, 0.878, 0.926, 0.767, 0.6890000000000001, 0.92, 0.624, 0.92, 0.682, 0.92, 0.897, 0.92, 0.624, 0.624, 0.624, 0.725, 0.92, 0.897, 0.92, 0.893, 0.92, 0.698, 0.92, 0.6890000000000001, 0.92, 0.924, 0.92, 0.92, 0.91, 0.939, 0.884, 0.55, 0.878, 0.847, 0.92, 0.887, 0.91, 0.848, 0.847, 0.92, 0.624, 0.92, 0.926, 0.926, 0.92, 0.897, 0.939, 0.92, 0.624, 0.624, 0.836, 0.754, 0.91, 0.91, 0.92, 0.738, 0.843, 0.8270000000000001, 0.897, 0.92, 0.939, 0.926, 0.855, 0.624, 0.624, 0.92, 0.83, 0.92, 0.624, 0.624, 0.92, 0.866, 0.92, 0.887, 0.926, 0.802, 0.579, 0.91, 0.893, 0.92, 0.926, 0.698, 0.92, 0.92, 0.92, 0.92, 0.887, 0.897, 0.92, 0.887, 0.579, 0.91, 0.624, 0.92, 0.855, 0.92, 0.92, 0.92, 0.92, 0.624, 0.7879999999999999, 0.92, 0.624, 0.92, 0.92, 0.92, 0.91, 0.926, 0.691, 0.91, 0.92, 0.848, 0.624, 0.91, 0.92, 0.899, 0.91, 0.924, 0.92, 0.855, 0.895, 0.92, 0.624, 0.735, 0.624, 0.624, 0.895, 0.92, 0.899, 0.92, 0.92, 0.624, 0.939, 0.92, 0.926, 0.91, 0.92, 0.91, 0.926, 0.92, 0.92, 0.8959999999999999, 0.913, 0.924, 0.92, 0.897, 0.895, 0.682, 0.762, 0.884, 0.924, 0.624, 0.926, 0.701, 0.624, 0.92, 0.92, 0.939, 0.7659999999999999, 0.55, 0.926, 0.926, 0.624, 0.624, 0.897, 0.698, 0.7759999999999999, 0.92, 0.92, 0.91, 0.926, 0.624, 0.848, 0.897, 0.91, 0.92, 0.682, 0.743, 0.624, 0.579, 0.897, 0.92, 0.727, 0.884, 0.926, 0.92, 0.897, 0.91, 0.624, 0.698, 0.92, 0.624, 0.91, 0.92, 0.925, 0.92, 0.698, 0.926, 0.92, 0.92, 0.624, 0.804, 0.624, 0.624, 0.92, 0.698, 0.926, 0.92, 0.926, 0.624, 0.926, 0.926, 0.624, 0.804, 0.897, 0.727, 0.92, 0.925, 0.866, 0.804, 0.579, 0.92, 0.897, 0.836, 0.624, 0.887, 0.92, 0.624, 0.624, 0.624, 0.92, 0.856, 0.855, 0.92, 0.74, 0.802, 0.924, 0.698, 0.91, 0.926, 0.624, 0.91, 0.887, 0.893, 0.624, 0.923, 0.92, 0.802, 0.92, 0.92, 0.926, 0.913, 0.855, 0.92, 0.91, 0.926, 0.92, 0.926, 0.698, 0.887, 0.579, 0.802, 0.92, 0.939, 0.624, 0.624, 0.89, 0.5579999999999999, 0.624, 0.91, 0.624, 0.802, 0.55, 0.92, 0.55, 0.555, 0.855, 0.624, 0.527, 0.92, 0.804, 0.92, 0.924, 0.926, 0.92, 0.92, 0.698, 0.913, 0.754, 0.92, 0.939, 0.802, 0.92, 0.92, 0.92, 0.926, 0.92, 0.92, 0.624, 0.92, 0.897, 0.926, 0.923, 0.925, 0.91, 0.897, 0.698, 0.55, 0.92, 0.843, 0.903, 0.92, 0.555, 0.897, 0.512, 0.924, 0.92, 0.92, 0.91, 0.92, 0.92, 0.698, 0.92, 0.92, 0.887, 0.843, 0.92, 0.624, 0.624, 0.91, 0.897, 0.91, 0.924, 0.92, 0.92, 0.55, 0.91, 0.738, 0.925, 0.897, 0.92, 0.92, 0.624, 0.939, 0.92, 0.624, 0.92, 0.624, 0.92, 0.92, 0.92, 0.624, 0.92, 0.897, 0.754, 0.897, 0.698, 0.899, 0.624, 0.624, 0.926, 0.836, 0.91, 0.843, 0.92, 0.925, 0.926, 0.698, 0.887, 0.843, 0.624, 0.855, 0.624, 0.847, 0.448, 0.698, 0.698, 0.754, 0.624, 0.754, 0.624, 0.897, 0.6890000000000001, 0.925, 0.767, 0.926, 0.624, 0.794, 0.92, 0.804, 0.913, 0.624, 0.926, 0.682, 0.624, 0.8959999999999999, 0.8270000000000001, 0.802, 0.8959999999999999, 0.624, 0.92, 0.899, 0.887, 0.92, 0.939, 0.91, 0.924, 0.92, 0.92, 0.926, 0.91, 0.64, 0.624, 0.91, 0.926, 0.8270000000000001, 0.624, 0.92, 0.624, 0.91, 0.924, 0.897, 0.92, 0.893, 0.804, 0.624, 0.92, 0.645, 0.92, 0.92, 0.92, 0.91, 0.926, 0.855, 0.91, 0.939, 0.887, 0.92, 0.843, 0.924, 0.92, 0.92, 0.73, 0.624, 0.924, 0.691, 0.91, 0.92, 0.92, 0.91, 0.923, 0.878, 0.624, 0.7879999999999999, 0.924, 0.939, 0.939, 0.856, 0.83, 0.926, 0.698, 0.913, 0.92, 0.939, 0.92, 0.949, 0.91, 0.92, 0.91, 0.55, 0.92, 0.92, 0.698, 0.91, 0.923, 0.899, 0.926, 0.754, 0.855, 0.624, 0.939, 0.855, 0.682, 0.91, 0.92, 0.926, 0.855, 0.624, 0.939, 0.92, 0.923, 0.92, 0.91, 0.92, 0.91, 0.624, 0.855, 0.926, 0.92, 0.92, 0.92, 0.897, 0.884, 0.92, 0.624, 0.92, 0.939, 0.923, 0.92, 0.92, 0.887, 0.939, 0.855, 0.92, 0.91, 0.884, 0.624, 0.92, 0.624, 0.55, 0.579, 0.624, 0.926, 0.92, 0.92, 0.856, 0.92, 0.624, 0.926, 0.625, 0.924, 0.91, 0.893, 0.884, 0.91, 0.92, 0.91, 0.92, 0.802, 0.836, 0.897, 0.887, 0.92, 0.555, 0.884, 0.91, 0.949, 0.855, 0.91, 0.92, 0.949, 0.926, 0.91, 0.698, 0.92, 0.92, 0.92, 0.897, 0.91, 0.8959999999999999, 0.91, 0.624, 0.897, 0.836, 0.855, 0.92, 0.91, 0.939, 0.91, 0.8959999999999999, 0.92, 0.926, 0.91, 0.926, 0.884, 0.74, 0.836, 0.92, 0.91, 0.887, 0.738, 0.855, 0.836, 0.92, 0.92, 0.92, 0.91, 0.91, 0.624, 0.8270000000000001, 0.624, 0.8270000000000001, 0.92, 0.624, 0.924, 0.92, 0.624, 0.92, 0.92, 0.92, 0.926, 0.92, 0.926, 0.682, 0.899, 0.698, 0.6890000000000001, 0.92, 0.91, 0.924, 0.92, 0.913, 0.55, 0.624, 0.92, 0.802, 0.92, 0.91, 0.91, 0.91, 0.91, 0.764, 0.924, 0.92, 0.91, 0.899, 0.92, 0.624, 0.92, 0.624, 0.91, 0.92, 0.92, 0.91, 0.897, 0.926, 0.92, 0.698, 0.698, 0.923, 0.866, 0.899, 0.92, 0.926, 0.92, 0.682, 0.92, 0.92, 0.682, 0.92, 0.913, 0.884, 0.738, 0.92, 0.903, 0.92, 0.939, 0.624, 0.855, 0.924, 0.92, 0.92, 0.92, 0.913, 0.924, 0.92, 0.92, 0.92, 0.925, 0.92, 0.92, 0.878, 0.83, 0.92, 0.923, 0.738, 0.624, 0.92, 0.92, 0.795, 0.92, 0.84, 0.92, 0.924, 0.91, 0.527, 0.92, 0.925, 0.92, 0.897, 0.92, 0.92, 0.743, 0.92, 0.895, 0.926, 0.754, 0.624, 0.91, 0.624, 0.939, 0.884, 0.802, 0.92, 0.624, 0.924, 0.624, 0.92, 0.926, 0.624, 0.624, 0.915, 0.884, 0.925, 0.83, 0.624, 0.926, 0.92, 0.926, 0.804, 0.926, 0.924, 0.698, 0.624, 0.897, 0.92, 0.92, 0.754, 0.738, 0.884, 0.624, 0.92, 0.624, 0.913, 0.624, 0.92, 0.92, 0.92, 0.855, 0.92, 0.92, 0.92, 0.92, 0.516, 0.92, 0.92, 0.762, 0.624, 0.691, 0.624, 0.897, 0.624, 0.949, 0.92, 0.926, 0.645, 0.624, 0.913, 0.802, 0.92, 0.843, 0.92, 0.91, 0.91, 0.698, 0.92, 0.92, 0.92, 0.802, 0.91, 0.6659999999999999, 0.804, 0.92, 0.91, 0.899, 0.624, 0.91, 0.624, 0.887, 0.92, 0.897, 0.7809999999999999, 0.92, 0.887, 0.698, 0.682, 0.884, 0.92, 0.92, 0.91, 0.624, 0.92, 0.7759999999999999, 0.924, 0.91, 0.92, 0.725, 0.843, 0.884, 0.74, 0.767, 0.91, 0.92, 0.92, 0.855, 0.92, 0.624, 0.926, 0.624, 0.55, 0.682, 0.92, 0.949, 0.897, 0.926, 0.866, 0.925, 0.887, 0.624, 0.926, 0.897, 0.91, 0.897, 0.878, 0.855, 0.924, 0.897, 0.855, 0.939, 0.92, 0.92, 0.926, 0.91, 0.92, 0.92, 0.92, 0.698, 0.92, 0.624, 0.802, 0.924, 0.804, 0.802, 0.698, 0.738, 0.878, 0.743, 0.92, 0.92, 0.624, 0.92, 0.887, 0.91, 0.92, 0.855, 0.92, 0.92, 0.92, 0.923, 0.926, 0.92, 0.91, 0.92, 0.579, 0.698, 0.92, 0.5579999999999999, 0.91, 0.923, 0.92, 0.939, 0.855, 0.92, 0.924, 0.555, 0.7879999999999999, 0.794, 0.926, 0.624, 0.926, 0.624, 0.91, 0.92, 0.926, 0.92, 0.624, 0.924, 0.913, 0.754, 0.754, 0.887, 0.878, 0.624, 0.55, 0.866, 0.92, 0.7759999999999999, 0.92, 0.624, 0.92, 0.91, 0.682, 0.92, 0.624, 0.92, 0.899, 0.624, 0.7959999999999999, 0.898, 0.743, 0.92, 0.92, 0.7659999999999999, 0.903, 0.624, 0.926, 0.92, 0.899, 0.698, 0.92, 0.92, 0.913, 0.91, 0.915, 0.92, 0.878, 0.91, 0.843, 0.897, 0.624, 0.624, 0.926, 0.887, 0.92, 0.624, 0.92, 0.624, 0.691, 0.897, 0.579, 0.92, 0.926, 0.92, 0.91, 0.924, 0.926, 0.624, 0.624, 0.939, 0.895, 0.698, 0.91, 0.92, 0.92, 0.92, 0.754, 0.742, 0.743, 0.754, 0.887, 0.897, 0.624, 0.925, 0.899, 0.92, 0.754, 0.926, 0.923, 0.926, 0.884, 0.939, 0.624, 0.949, 0.92, 0.92, 0.92, 0.924, 0.743, 0.887, 0.92, 0.6659999999999999, 0.754, 0.624, 0.624, 0.624, 0.884, 0.6659999999999999, 0.926, 0.727, 0.949, 0.624, 0.91, 0.624, 0.92, 0.925, 0.926, 0.926, 0.92, 0.92, 0.698, 0.884, 0.887, 0.624, 0.92, 0.624, 0.926, 0.925, 0.7759999999999999, 0.884, 0.91, 0.624, 0.92, 0.55, 0.624, 0.92, 0.884, 0.847, 0.92, 0.926, 0.92, 0.92, 0.624, 0.899, 0.92, 0.754, 0.624, 0.939, 0.939, 0.92, 0.91, 0.624, 0.7759999999999999, 0.743, 0.91, 0.92, 0.624, 0.7659999999999999, 0.899, 0.624, 0.804, 0.897, 0.91, 0.8959999999999999, 0.897, 0.754, 0.6659999999999999, 0.624, 0.624, 0.763, 0.92, 0.92, 0.884, 0.92, 0.527, 0.92, 0.624, 0.926, 0.92, 0.624, 0.897, 0.926, 0.624, 0.926, 0.926, 0.855, 0.698, 0.92, 0.926, 0.92, 0.91, 0.924, 0.92, 0.926, 0.924, 0.92, 0.92, 0.855, 0.579, 0.92, 0.624, 0.92, 0.91, 0.647, 0.579, 0.624, 0.91, 0.92, 0.802, 0.92, 0.925, 0.91, 0.8959999999999999, 0.92, 0.926, 0.698, 0.624, 0.624, 0.624, 0.493, 0.624, 0.939, 0.698, 0.8270000000000001, 0.624, 0.91, 0.924, 0.698, 0.624, 0.92, 0.91, 0.89, 0.926, 0.897, 0.878, 0.7759999999999999, 0.727, 0.91, 0.903, 0.55, 0.55, 0.897, 0.624, 0.92, 0.92, 0.92, 0.91, 0.698, 0.92, 0.926, 0.926, 0.647, 0.893, 0.92, 0.579, 0.887, 0.855, 0.878, 0.624, 0.92, 0.6659999999999999, 0.939, 0.855, 0.92, 0.743, 0.92, 0.926, 0.926, 0.92, 0.624, 0.92, 0.624, 0.887, 0.92, 0.804, 0.899, 0.91, 0.897, 0.855, 0.923, 0.91, 0.865, 0.92, 0.754, 0.92, 0.802, 0.802, 0.624, 0.91, 0.847, 0.698, 0.624, 0.91, 0.926, 0.91, 0.878, 0.624, 0.745, 0.92, 0.624, 0.866, 0.7390000000000001, 0.92, 0.926, 0.624, 0.925, 0.926, 0.925, 0.624, 0.92, 0.804, 0.91, 0.92, 0.624, 0.893, 0.804, 0.624, 0.624, 0.939, 0.884, 0.92, 0.893, 0.897, 0.762, 0.926, 0.92, 0.848, 0.92, 0.926, 0.802, 0.727, 0.89, 0.91, 0.804, 0.8270000000000001, 0.92, 0.92, 0.92, 0.913, 0.624, 0.92, 0.92, 0.926, 0.926, 0.91, 0.92, 0.55, 0.92, 0.6659999999999999, 0.92, 0.624, 0.624, 0.926, 0.624, 0.92, 0.92, 0.926, 0.92, 0.897, 0.926, 0.92, 0.92, 0.926, 0.92, 0.939, 0.624, 0.624, 0.92, 0.92, 0.802, 0.91, 0.899, 0.887, 0.92, 0.866, 0.789, 0.624, 0.91, 0.624, 0.624, 0.884, 0.855, 0.92, 0.789, 0.925, 0.624, 0.855, 0.767, 0.91, 0.802, 0.91, 0.624, 0.91, 0.92, 0.624, 0.579, 0.624, 0.624, 0.624, 0.926, 0.92, 0.92, 0.8959999999999999, 0.92, 0.926, 0.897, 0.647, 0.92, 0.698, 0.897, 0.897, 0.624, 0.897, 0.92, 0.804, 0.624, 0.527, 0.698, 0.624, 0.7959999999999999, 0.903, 0.939, 0.624, 0.926, 0.897, 0.698, 0.698, 0.754, 0.487, 0.624, 0.7759999999999999, 0.624, 0.624, 0.624, 0.624, 0.887, 0.624, 0.89, 0.92, 0.647, 0.624, 0.884, 0.92, 0.91, 0.624, 0.725, 0.92, 0.855, 0.884, 0.624, 0.789, 0.855, 0.8959999999999999, 0.92, 0.925, 0.855, 0.92, 0.92, 0.527, 0.55, 0.91, 0.6890000000000001, 0.624, 0.579, 0.92, 0.727, 0.893, 0.91, 0.887, 0.836, 0.855, 0.527, 0.92, 0.624, 0.92, 0.92, 0.926, 0.91, 0.789, 0.92, 0.897, 0.939, 0.624, 0.624, 0.624, 0.92, 0.92, 0.555, 0.624, 0.92, 0.91, 0.92, 0.698, 0.92, 0.884, 0.926, 0.624, 0.91, 0.92, 0.624, 0.624, 0.92, 0.769, 0.6890000000000001, 0.91, 0.804, 0.866, 0.92, 0.893, 0.74, 0.92, 0.92, 0.624, 0.924, 0.913, 0.897, 0.518, 0.738, 0.89, 0.924, 0.887, 0.887, 0.624, 0.89, 0.754, 0.698, 0.897, 0.92, 0.91, 0.8270000000000001, 0.92, 0.92, 0.92, 0.698, 0.624, 0.624, 0.92, 0.92, 0.624, 0.8270000000000001, 0.624, 0.92, 0.926, 0.92, 0.92, 0.5579999999999999, 0.91, 0.92, 0.762, 0.624, 0.92, 0.92, 0.926, 0.887, 0.754, 0.624, 0.855, 0.6659999999999999, 0.926, 0.624, 0.754, 0.939, 0.698, 0.92, 0.91, 0.92, 0.92, 0.924, 0.92, 0.866, 0.855, 0.767, 0.92, 0.92, 0.624, 0.926, 0.92, 0.92, 0.887, 0.563, 0.91, 0.92, 0.624, 0.878, 0.527, 0.92, 0.624, 0.698, 0.762, 0.91, 0.925, 0.92, 0.794, 0.91, 0.836, 0.926, 0.92, 0.92, 0.92, 0.836, 0.926, 0.92, 0.5579999999999999, 0.893, 0.92, 0.92, 0.624, 0.789, 0.92, 0.878, 0.848, 0.743, 0.92, 0.92, 0.855, 0.92, 0.92, 0.624, 0.624, 0.913, 0.6659999999999999, 0.926, 0.624, 0.92, 0.92, 0.804, 0.624, 0.92, 0.556, 0.624, 0.92, 0.624, 0.92, 0.92, 0.5579999999999999, 0.899, 0.624, 0.855, 0.926, 0.579, 0.92, 0.624, 0.804, 0.926, 0.899, 0.527, 0.92, 0.92, 0.6890000000000001, 0.91, 0.939, 0.92, 0.939, 0.92, 0.925, 0.897, 0.92, 0.865, 0.939, 0.926, 0.624, 0.92, 0.923, 0.913, 0.743, 0.92, 0.767, 0.899, 0.92, 0.8270000000000001, 0.924, 0.682, 0.92, 0.92, 0.91, 0.91, 0.624, 0.926, 0.926, 0.722, 0.926, 0.924, 0.92, 0.92, 0.92, 0.92, 0.926, 0.92, 0.915, 0.624, 0.743, 0.55, 0.804, 0.92, 0.769, 0.92, 0.939, 0.91, 0.698, 0.624, 0.92, 0.6659999999999999, 0.92, 0.624, 0.855, 0.7659999999999999, 0.923, 0.895, 0.767, 0.897, 0.754, 0.92, 0.92, 0.624, 0.92, 0.698, 0.855, 0.92, 0.624, 0.624, 0.923, 0.92, 0.754, 0.802, 0.903, 0.6890000000000001, 0.55, 0.91, 0.92, 0.91, 0.7759999999999999, 0.92, 0.624, 0.624, 0.926, 0.926, 0.91, 0.55, 0.893, 0.939, 0.91, 0.698, 0.555, 0.92, 0.725, 0.92, 0.479, 0.92, 0.91, 0.682, 0.884, 0.802, 0.92, 0.698, 0.624, 0.91, 0.91, 0.698, 0.92, 0.92, 0.913, 0.624, 0.743, 0.804, 0.624, 0.887, 0.92, 0.91, 0.91, 0.92, 0.884, 0.92, 0.897, 0.899, 0.624, 0.92, 0.878, 0.91, 0.89, 0.92, 0.762, 0.91, 0.926, 0.91, 0.92, 0.795, 0.855, 0.92, 0.579, 0.92, 0.92, 0.92, 0.624, 0.698, 0.624, 0.487, 0.624, 0.926, 0.7659999999999999, 0.5579999999999999, 0.624, 0.92, 0.92, 0.698, 0.866, 0.555, 0.92, 0.91, 0.802, 0.624, 0.754, 0.939, 0.92, 0.624, 0.92, 0.92, 0.893, 0.624, 0.762, 0.855, 0.92, 0.92, 0.92, 0.92, 0.92, 0.926, 0.91, 0.5579999999999999, 0.855, 0.794, 0.899, 0.92, 0.926, 0.92, 0.848, 0.7390000000000001, 0.92, 0.698, 0.926, 0.92, 0.92, 0.92, 0.7390000000000001, 0.92, 0.7759999999999999, 0.836, 0.92, 0.754, 0.89, 0.923, 0.926, 0.738, 0.91, 0.91, 0.92, 0.92, 0.92, 0.939, 0.91, 0.624, 0.624, 0.802, 0.897, 0.92, 0.913, 0.624, 0.91, 0.794, 0.939, 0.763, 0.92, 0.6659999999999999, 0.92, 0.91, 0.579, 0.795, 0.624, 0.925, 0.91, 0.926, 0.89, 0.926, 0.92, 0.92, 0.926, 0.92, 0.83, 0.624, 0.92, 0.89, 0.887, 0.763, 0.682, 0.92, 0.893, 0.913, 0.926, 0.74, 0.624, 0.92, 0.92, 0.8959999999999999, 0.926, 0.8270000000000001, 0.92, 0.92, 0.55, 0.624, 0.926, 0.5579999999999999, 0.91, 0.92, 0.92, 0.926, 0.887, 0.89, 0.92, 0.913, 0.855, 0.926, 0.91, 0.698, 0.624, 0.92, 0.624, 0.754, 0.92, 0.926, 0.92, 0.738, 0.855, 0.7759999999999999, 0.926, 0.8959999999999999, 0.92, 0.939, 0.913, 0.91, 0.92, 0.624, 0.698, 0.5579999999999999, 0.887, 0.91, 0.92, 0.91, 0.8959999999999999, 0.92, 0.91, 0.698, 0.897, 0.55, 0.92, 0.926, 0.92, 0.624, 0.92, 0.55, 0.924, 0.866, 0.8270000000000001, 0.92, 0.895, 0.624, 0.939, 0.913, 0.92, 0.897, 0.698, 0.7759999999999999, 0.92, 0.91, 0.743, 0.866, 0.92, 0.92, 0.939, 0.92, 0.804, 0.698, 0.91, 0.92, 0.926, 0.794, 0.926, 0.92, 0.55, 0.55, 0.767, 0.579, 0.92, 0.926, 0.926, 0.527, 0.92, 0.855, 0.897, 0.624, 0.92, 0.92, 0.92, 0.925, 0.855, 0.92, 0.924, 0.91, 0.92, 0.92, 0.92, 0.92, 0.624, 0.92, 0.92, 0.762, 0.92, 0.92, 0.843, 0.92, 0.92, 0.92, 0.794, 0.92, 0.899, 0.624, 0.92, 0.92, 0.92, 0.903, 0.926, 0.925, 0.624, 0.855, 0.91, 0.92, 0.926, 0.897, 0.91, 0.92, 0.915, 0.92, 0.92, 0.55, 0.91, 0.91, 0.91, 0.698, 0.767, 0.624, 0.92, 0.91, 0.624, 0.92, 0.855, 0.91, 0.91, 0.8270000000000001, 0.92, 0.92, 0.847, 0.91, 0.91, 0.624, 0.698, 0.804, 0.92, 0.884, 0.624, 0.727, 0.92, 0.83, 0.92, 0.855, 0.794, 0.897, 0.926, 0.92, 0.767, 0.924, 0.92, 0.624, 0.897, 0.8270000000000001, 0.624, 0.579, 0.92, 0.742, 0.698, 0.91, 0.878, 0.92, 0.899, 0.92, 0.8959999999999999, 0.6890000000000001, 0.855, 0.92, 0.92, 0.527, 0.804, 0.92, 0.555, 0.92, 0.949, 0.91, 0.698, 0.926, 0.74, 0.924, 0.754, 0.722, 0.865, 0.556, 0.866, 0.92, 0.92, 0.926, 0.897, 0.92, 0.74, 0.754, 0.624, 0.767, 0.92, 0.915, 0.893, 0.91, 0.878, 0.92, 0.92, 0.884, 0.624, 0.887, 0.926, 0.624, 0.926, 0.727, 0.92, 0.763, 0.92, 0.926, 0.925, 0.624, 0.855, 0.91, 0.698, 0.939, 0.926, 0.897, 0.921, 0.624, 0.92, 0.7390000000000001, 0.926, 0.895, 0.92, 0.754, 0.91, 0.92, 0.855, 0.92, 0.884, 0.847, 0.624, 0.624, 0.899, 0.91, 0.913, 0.624, 0.92, 0.92, 0.624, 0.89, 0.91, 0.925, 0.91, 0.743, 0.624, 0.91, 0.92, 0.727, 0.92, 0.926, 0.698, 0.836, 0.855, 0.802, 0.91, 0.624, 0.92, 0.624, 0.878, 0.624, 0.926, 0.8959999999999999, 0.92, 0.754, 0.92, 0.926, 0.903, 0.887, 0.856, 0.624, 0.92, 0.624, 0.91, 0.89, 0.949, 0.897, 0.897, 0.92, 0.92, 0.698, 0.91, 0.92, 0.624, 0.899, 0.855, 0.939, 0.624, 0.698, 0.89, 0.7759999999999999, 0.925, 0.91, 0.92, 0.92, 0.624, 0.91, 0.624, 0.92, 0.92, 0.89, 0.7959999999999999, 0.727, 0.89, 0.92, 0.913, 0.91, 0.92, 0.91, 0.92, 0.897, 0.926, 0.91, 0.884, 0.55, 0.624, 0.624, 0.624, 0.92, 0.91, 0.92, 0.92, 0.923, 0.92, 0.926, 0.624, 0.92, 0.92, 0.92, 0.913, 0.5579999999999999, 0.92, 0.624, 0.624, 0.92, 0.624, 0.624, 0.92, 0.926, 0.624, 0.926, 0.92, 0.92, 0.92, 0.939, 0.855, 0.624, 0.91, 0.92, 0.836, 0.855, 0.92, 0.856, 0.926, 0.92, 0.92, 0.624, 0.939, 0.855, 0.92, 0.913, 0.698, 0.92, 0.92, 0.92, 0.91, 0.698, 0.878, 0.92, 0.55, 0.624, 0.925, 0.804, 0.624, 0.855, 0.836, 0.625, 0.698, 0.939, 0.924, 0.92, 0.754, 0.91, 0.91, 0.91, 0.92, 0.92, 0.92, 0.92, 0.924, 0.899, 0.802, 0.926, 0.926, 0.7390000000000001, 0.92, 0.887, 0.698, 0.92, 0.92, 0.903, 0.92, 0.91, 0.55, 0.7659999999999999, 0.92, 0.92, 0.92, 0.92, 0.624, 0.92, 0.926, 0.92, 0.92, 0.92, 0.855, 0.897, 0.884, 0.91, 0.92, 0.624, 0.698, 0.624, 0.92, 0.624, 0.624, 0.926, 0.624, 0.855, 0.92, 0.624, 0.847, 0.92, 0.767, 0.91, 0.92, 0.624, 0.698, 0.579, 0.624, 0.8240000000000001, 0.624, 0.92, 0.624, 0.92, 0.865, 0.92, 0.92, 0.8959999999999999, 0.579, 0.92, 0.91, 0.913, 0.92, 0.92, 0.92, 0.92, 0.897, 0.926, 0.89, 0.55, 0.624, 0.92, 0.8270000000000001, 0.74, 0.722, 0.754, 0.92, 0.92, 0.92, 0.92, 0.754, 0.92, 0.762, 0.897, 0.92, 0.624, 0.754, 0.579, 0.939, 0.624, 0.624, 0.884, 0.624, 0.92, 0.8959999999999999, 0.92, 0.767, 0.727, 0.92, 0.92, 0.92, 0.939, 0.754, 0.91, 0.754, 0.925, 0.624, 0.74, 0.897, 0.802, 0.8270000000000001, 0.926, 0.884, 0.624, 0.698, 0.624, 0.92, 0.897, 0.91, 0.624, 0.926, 0.915, 0.92, 0.624, 0.939, 0.624, 0.624, 0.91, 0.887, 0.555, 0.92, 0.624, 0.698, 0.897, 0.624, 0.624, 0.92, 0.92, 0.804, 0.92, 0.915, 0.893, 0.624, 0.6659999999999999, 0.92, 0.926, 0.887, 0.884, 0.624, 0.926, 0.579, 0.92, 0.6890000000000001, 0.92, 0.624, 0.624, 0.895, 0.91, 0.767, 0.92, 0.91, 0.92, 0.92, 0.698, 0.92, 0.92, 0.754, 0.738, 0.897, 0.926, 0.926, 0.884, 0.915, 0.92, 0.926, 0.855, 0.884, 0.92, 0.92, 0.691, 0.91, 0.855, 0.92, 0.899, 0.92, 0.698, 0.743, 0.624, 0.92, 0.91, 0.926, 0.897, 0.92, 0.887, 0.92, 0.92, 0.91, 0.866, 0.855, 0.836, 0.92, 0.91, 0.924, 0.92, 0.6659999999999999, 0.92, 0.92, 0.92, 0.624, 0.92, 0.624, 0.855, 0.92, 0.743, 0.8959999999999999, 0.855, 0.926, 0.92, 0.624, 0.939, 0.92, 0.92, 0.884, 0.624, 0.897, 0.897, 0.624, 0.55, 0.92, 0.884, 0.579, 0.92, 0.91, 0.897, 0.897, 0.92, 0.762, 0.624, 0.698, 0.92, 0.624, 0.897, 0.92, 0.624, 0.92, 0.897, 0.762, 0.897, 0.624, 0.939, 0.897, 0.92, 0.691, 0.7759999999999999, 0.926, 0.624, 0.624, 0.624, 0.767, 0.91, 0.893, 0.624, 0.926, 0.794, 0.6890000000000001, 0.92, 0.92, 0.91, 0.624, 0.55, 0.624, 0.92, 0.624, 0.926, 0.884, 0.923, 0.899, 0.624, 0.897, 0.91, 0.843, 0.624, 0.624, 0.92, 0.624, 0.92, 0.913, 0.921, 0.926, 0.92, 0.913, 0.926, 0.92, 0.624, 0.926, 0.92, 0.762, 0.92, 0.624, 0.878, 0.939, 0.926, 0.624, 0.91, 0.527, 0.762, 0.926, 0.91, 0.92, 0.92, 0.92, 0.92, 0.855, 0.802, 0.92, 0.804, 0.91, 0.763, 0.55, 0.897, 0.92, 0.926, 0.92, 0.624, 0.899, 0.92, 0.624, 0.92, 0.92, 0.847, 0.624, 0.92, 0.743, 0.624, 0.92, 0.939, 0.899, 0.6659999999999999, 0.624, 0.767, 0.915, 0.92, 0.91, 0.92, 0.92, 0.743, 0.926, 0.743, 0.925, 0.91, 0.68, 0.92, 0.926, 0.92, 0.926, 0.6890000000000001, 0.624, 0.836, 0.92, 0.925, 0.91, 0.92, 0.92, 0.926, 0.91, 0.767, 0.92, 0.624, 0.926, 0.92, 0.926, 0.624, 0.527, 0.926, 0.92, 0.926, 0.92, 0.92, 0.624, 0.624, 0.579, 0.926, 0.624, 0.92, 0.895, 0.92, 0.763, 0.897, 0.624, 0.743, 0.92, 0.92, 0.897, 0.743, 0.682, 0.624, 0.762, 0.91, 0.92, 0.855, 0.91, 0.92, 0.884, 0.762, 0.92, 0.763, 0.682, 0.91, 0.804, 0.624, 0.624, 0.91, 0.624, 0.91, 0.895, 0.579, 0.92, 0.92, 0.91, 0.91, 0.939, 0.925, 0.727, 0.7759999999999999, 0.6890000000000001, 0.92, 0.92, 0.516, 0.855, 0.762, 0.743, 0.91, 0.91, 0.92, 0.624, 0.893, 0.7659999999999999, 0.92, 0.855, 0.92, 0.92, 0.899, 0.754, 0.92, 0.92, 0.92, 0.682, 0.92, 0.6890000000000001, 0.55, 0.92, 0.91, 0.92, 0.91, 0.92, 0.624, 0.624, 0.939, 0.92, 0.925, 0.897, 0.92, 0.939, 0.624, 0.843, 0.743, 0.926, 0.624, 0.926, 0.893, 0.926, 0.92, 0.926, 0.698, 0.647, 0.92, 0.92, 0.624, 0.794, 0.91, 0.949, 0.92, 0.92, 0.92, 0.926, 0.92, 0.925, 0.91, 0.899, 0.91, 0.92, 0.878, 0.92, 0.624, 0.698, 0.624, 0.91, 0.624, 0.624, 0.913, 0.92, 0.92, 0.624, 0.727, 0.92, 0.92, 0.8270000000000001, 0.555, 0.92, 0.92, 0.91, 0.92, 0.91, 0.92, 0.624, 0.624, 0.91, 0.91, 0.836, 0.624, 0.691, 0.926, 0.915, 0.624, 0.92, 0.624, 0.738, 0.926, 0.92, 0.91, 0.624, 0.624, 0.624, 0.884, 0.895, 0.949, 0.92, 0.923, 0.884, 0.804, 0.624, 0.884, 0.92, 0.92, 0.92, 0.926, 0.92, 0.878, 0.789, 0.624, 0.913, 0.855, 0.624, 0.898, 0.92, 0.887, 0.926, 0.802, 0.926, 0.624, 0.92, 0.624, 0.925, 0.855, 0.924, 0.92, 0.92, 0.924, 0.725, 0.738, 0.7959999999999999, 0.915, 0.727, 0.92, 0.91, 0.624, 0.92, 0.762, 0.926, 0.913, 0.754, 0.855, 0.92, 0.624, 0.92, 0.804, 0.624, 0.865, 0.92, 0.913, 0.579, 0.91, 0.91, 0.897, 0.939, 0.836, 0.92, 0.624, 0.92, 0.915, 0.92, 0.92, 0.915, 0.767, 0.92, 0.698, 0.624, 0.92, 0.55, 0.92, 0.92, 0.92, 0.899, 0.913, 0.55, 0.624, 0.926, 0.624, 0.754, 0.855, 0.92, 0.92, 0.624, 0.767, 0.924, 0.8959999999999999, 0.624, 0.92, 0.878, 0.887, 0.92, 0.939, 0.91, 0.91, 0.899, 0.83, 0.7759999999999999, 0.897, 0.897, 0.7759999999999999, 0.895, 0.855, 0.92, 0.802, 0.939, 0.767, 0.698, 0.855, 0.92, 0.624, 0.91, 0.925, 0.624, 0.624, 0.624, 0.624, 0.887, 0.92, 0.624, 0.84, 0.92, 0.91, 0.92, 0.91, 0.624, 0.926, 0.91, 0.926, 0.939, 0.698, 0.897, 0.926, 0.92, 0.725, 0.925, 0.7659999999999999, 0.92, 0.92, 0.843, 0.92, 0.92, 0.91, 0.624, 0.767, 0.92, 0.624, 0.92, 0.555, 0.92, 0.884, 0.836, 0.92, 0.91, 0.754, 0.794, 0.92, 0.738, 0.92, 0.754, 0.939, 0.92, 0.92, 0.92, 0.91, 0.926, 0.92, 0.8270000000000001, 0.926, 0.92, 0.92, 0.55, 0.624, 0.926, 0.926, 0.92, 0.92, 0.763, 0.897, 0.926, 0.624, 0.91, 0.924, 0.55, 0.624, 0.926, 0.91, 0.624, 0.624, 0.926, 0.847, 0.926, 0.762, 0.624, 0.92, 0.92, 0.691, 0.92, 0.91, 0.92, 0.624, 0.925, 0.92, 0.843, 0.92, 0.698, 0.92, 0.91, 0.884, 0.624, 0.897, 0.698, 0.92, 0.698, 0.91, 0.949, 0.92, 0.624, 0.92, 0.624, 0.624, 0.897, 0.624, 0.92, 0.926, 0.92, 0.92, 0.92, 0.926, 0.92, 0.92, 0.866, 0.925, 0.92, 0.924, 0.939, 0.923, 0.92, 0.926, 0.884, 0.91, 0.624, 0.897, 0.926, 0.92, 0.866, 0.74, 0.8270000000000001, 0.624, 0.624, 0.8959999999999999, 0.624, 0.884, 0.92, 0.897, 0.939, 0.91, 0.855, 0.848, 0.898, 0.92, 0.895, 0.92, 0.92, 0.6659999999999999, 0.624, 0.92, 0.92, 0.884, 0.92, 0.55, 0.926, 0.887, 0.92, 0.624, 0.923, 0.624, 0.91, 0.884, 0.926, 0.807, 0.754, 0.92, 0.624, 0.527, 0.92, 0.903, 0.939, 0.789, 0.92, 0.92, 0.924, 0.926, 0.624, 0.624, 0.92, 0.91, 0.624, 0.92, 0.855, 0.923, 0.624, 0.804, 0.897, 0.55, 0.866, 0.92, 0.92, 0.893, 0.926, 0.89, 0.899, 0.624, 0.624, 0.887, 0.91, 0.698, 0.804, 0.92, 0.92, 0.92, 0.5579999999999999, 0.855, 0.92, 0.92, 0.92, 0.92, 0.698, 0.8270000000000001, 0.624, 0.92, 0.92, 0.624, 0.884, 0.682, 0.92, 0.92, 0.624, 0.91, 0.89, 0.92, 0.91, 0.92, 0.92, 0.698, 0.624, 0.878, 0.92, 0.899, 0.92, 0.55, 0.92, 0.92, 0.926, 0.855, 0.579, 0.624, 0.682, 0.897, 0.897, 0.624, 0.92, 0.855, 0.856, 0.624, 0.91, 0.624, 0.624, 0.92, 0.926, 0.743, 0.754, 0.893, 0.939, 0.624, 0.92, 0.92, 0.92, 0.91, 0.897, 0.794, 0.92, 0.754, 0.926, 0.926, 0.926, 0.6890000000000001, 0.804, 0.738, 0.926, 0.55, 0.92, 0.92, 0.92, 0.91, 0.92, 0.91, 0.754, 0.899, 0.754, 0.836, 0.624, 0.527, 0.624, 0.92, 0.923, 0.91, 0.804, 0.763, 0.926, 0.624, 0.91, 0.92, 0.624, 0.925, 0.624, 0.92, 0.698, 0.743, 0.767, 0.701, 0.624, 0.92, 0.92, 0.91, 0.915, 0.855, 0.939, 0.91, 0.893, 0.8270000000000001, 0.92, 0.92, 0.92, 0.92, 0.5579999999999999, 0.866, 0.92, 0.924, 0.897, 0.92, 0.855, 0.624, 0.926, 0.92, 0.925, 0.795, 0.887, 0.7759999999999999, 0.92, 0.8959999999999999, 0.7759999999999999, 0.91, 0.92, 0.925, 0.92, 0.698, 0.802, 0.624, 0.6890000000000001, 0.8959999999999999, 0.897, 0.91, 0.92, 0.926, 0.555, 0.89, 0.775, 0.682, 0.923, 0.8959999999999999, 0.91, 0.698, 0.92, 0.884, 0.92, 0.91, 0.804, 0.913, 0.7759999999999999, 0.925, 0.92, 0.555, 0.92, 0.579, 0.8270000000000001, 0.92, 0.903, 0.624, 0.91, 0.92, 0.843, 0.754, 0.926, 0.926, 0.924, 0.92, 0.92, 0.924, 0.878, 0.926, 0.92, 0.794, 0.847, 0.884, 0.624, 0.939, 0.579, 0.479, 0.698, 0.804, 0.939, 0.91, 0.624, 0.767, 0.624, 0.743, 0.92, 0.92, 0.624, 0.92, 0.754, 0.735, 0.624, 0.878, 0.939, 0.92, 0.5579999999999999, 0.92, 0.804, 0.92, 0.926, 0.682, 0.92, 0.91, 0.926, 0.691, 0.767, 0.624, 0.926, 0.926, 0.92, 0.92, 0.926, 0.624, 0.55, 0.55, 0.6890000000000001, 0.8959999999999999, 0.92, 0.624, 0.926, 0.898, 0.926, 0.7659999999999999, 0.91, 0.925, 0.555, 0.897, 0.92, 0.91, 0.92, 0.91, 0.924, 0.8959999999999999, 0.913, 0.939, 0.624, 0.92, 0.624, 0.624, 0.897, 0.92, 0.913, 0.926, 0.624, 0.887, 0.92, 0.92, 0.92, 0.92, 0.91, 0.897, 0.624, 0.624, 0.92, 0.743, 0.848, 0.939, 0.92, 0.763, 0.949, 0.92, 0.92, 0.624, 0.92, 0.92, 0.698, 0.926, 0.5579999999999999, 0.887, 0.624, 0.91, 0.624, 0.448, 0.624, 0.855, 0.727, 0.794, 0.698, 0.926, 0.926, 0.926, 0.91, 0.884, 0.926, 0.92, 0.743, 0.92, 0.92, 0.754, 0.624, 0.925, 0.624, 0.6659999999999999, 0.939, 0.764, 0.92, 0.624, 0.92, 0.698, 0.83, 0.624, 0.624, 0.92, 0.92, 0.802, 0.92, 0.836, 0.624, 0.91, 0.624, 0.939, 0.6890000000000001, 0.624, 0.92, 0.924, 0.92, 0.6890000000000001, 0.855, 0.91, 0.887, 0.91, 0.92, 0.926, 0.878, 0.738, 0.92, 0.855, 0.92, 0.698, 0.91, 0.92, 0.924, 0.939, 0.647, 0.91, 0.91, 0.924, 0.899, 0.624, 0.55, 0.698, 0.926, 0.897, 0.92, 0.91, 0.698, 0.624, 0.624, 0.698, 0.762, 0.738, 0.92, 0.624, 0.91, 0.698, 0.92, 0.926, 0.92, 0.92, 0.89, 0.92, 0.897, 0.91, 0.92, 0.624, 0.884, 0.92, 0.926, 0.698, 0.624, 0.624, 0.624, 0.91, 0.92, 0.91, 0.92, 0.754, 0.92, 0.92, 0.91, 0.92, 0.884, 0.92, 0.897, 0.926, 0.92, 0.767, 0.698, 0.624, 0.92, 0.624, 0.92, 0.926, 0.924, 0.92, 0.91, 0.624, 0.624, 0.903, 0.92, 0.624, 0.92, 0.925, 0.939, 0.897, 0.897, 0.91, 0.92, 0.74, 0.897, 0.91, 0.92, 0.804, 0.624, 0.92, 0.92, 0.698, 0.92, 0.897, 0.899, 0.624, 0.89, 0.887, 0.836, 0.924, 0.923, 0.745, 0.8270000000000001, 0.682, 0.624, 0.789, 0.92, 0.926, 0.804, 0.92, 0.624, 0.8270000000000001, 0.624, 0.897, 0.897, 0.804, 0.92, 0.924, 0.926, 0.92, 0.855, 0.624, 0.698, 0.897, 0.92, 0.92, 0.624, 0.92, 0.92, 0.866, 0.579, 0.878, 0.92, 0.624, 0.855, 0.91, 0.866, 0.898, 0.926, 0.555, 0.92, 0.802, 0.92, 0.92, 0.92, 0.624, 0.682, 0.897, 0.939, 0.92, 0.903, 0.926, 0.624, 0.78, 0.855, 0.939, 0.83, 0.804, 0.743, 0.92, 0.698, 0.92, 0.92, 0.6659999999999999, 0.949, 0.926, 0.91, 0.516, 0.887, 0.899, 0.92, 0.91, 0.754, 0.855, 0.926, 0.939, 0.624, 0.92, 0.92, 0.92, 0.92, 0.899, 0.563, 0.92, 0.762, 0.92, 0.624, 0.92, 0.92, 0.563, 0.91, 0.722, 0.92, 0.913, 0.897, 0.895, 0.924, 0.7759999999999999, 0.624, 0.92, 0.55, 0.915, 0.624, 0.624, 0.804, 0.893, 0.92, 0.92, 0.89, 0.923, 0.624, 0.926, 0.624, 0.92, 0.762, 0.91, 0.92, 0.624, 0.624, 0.92, 0.893, 0.92, 0.92, 0.624, 0.926, 0.92, 0.91, 0.92, 0.92, 0.92, 0.624, 0.92, 0.939, 0.92, 0.92, 0.92, 0.884, 0.754, 0.926, 0.923, 0.843, 0.92, 0.802, 0.847, 0.91, 0.92, 0.843, 0.897, 0.926, 0.8270000000000001, 0.92, 0.7759999999999999, 0.915, 0.939, 0.92, 0.925, 0.92, 0.92, 0.92, 0.92, 0.624, 0.915, 0.91, 0.624, 0.848, 0.897, 0.855, 0.855, 0.92, 0.804, 0.624, 0.55, 0.92, 0.92, 0.899, 0.92, 0.897, 0.843, 0.91, 0.926, 0.698, 0.866, 0.92, 0.903, 0.926, 0.802, 0.698, 0.92, 0.8959999999999999, 0.92, 0.939, 0.926, 0.92, 0.899, 0.926, 0.624, 0.745, 0.939, 0.8240000000000001, 0.915, 0.91, 0.913, 0.92, 0.55, 0.92, 0.926, 0.92, 0.91, 0.624, 0.624, 0.92, 0.884, 0.855, 0.92, 0.924, 0.92, 0.866, 0.924, 0.804, 0.939, 0.624, 0.92, 0.682, 0.855, 0.92, 0.855, 0.8959999999999999, 0.836, 0.949, 0.855, 0.743, 0.624, 0.92, 0.92, 0.722, 0.92, 0.55, 0.848, 0.915, 0.91, 0.624, 0.92, 0.893, 0.624, 0.698, 0.92, 0.624, 0.754, 0.555, 0.926, 0.698, 0.624, 0.926, 0.92, 0.516, 0.926, 0.92, 0.92, 0.579, 0.926, 0.624, 0.698, 0.92, 0.926, 0.926, 0.92, 0.92, 0.926, 0.92, 0.926, 0.91, 0.923, 0.923, 0.92, 0.92, 0.91, 0.92, 0.804, 0.92, 0.939, 0.92, 0.92, 0.939, 0.92, 0.913, 0.926, 0.926, 0.92, 0.767, 0.91, 0.624, 0.762, 0.92, 0.767, 0.866, 0.804, 0.923, 0.8959999999999999, 0.624, 0.92, 0.624, 0.939, 0.92, 0.92, 0.897, 0.92, 0.926, 0.926, 0.925, 0.92, 0.92, 0.74, 0.926, 0.884, 0.92, 0.92, 0.899, 0.92, 0.92, 0.903, 0.925, 0.527, 0.55, 0.743, 0.8959999999999999, 0.55, 0.624, 0.91, 0.55, 0.624, 0.91, 0.754, 0.91, 0.855, 0.92, 0.92, 0.624, 0.926, 0.698, 0.762, 0.92, 0.855, 0.92, 0.843, 0.92, 0.91, 0.92, 0.762, 0.915, 0.624, 0.794, 0.624, 0.91, 0.624, 0.74, 0.92, 0.926, 0.926, 0.754, 0.624, 0.624, 0.926, 0.624, 0.91, 0.92, 0.92, 0.682, 0.682, 0.762, 0.91, 0.926, 0.794, 0.92, 0.55, 0.92, 0.754, 0.624, 0.698, 0.8959999999999999, 0.91, 0.91, 0.624, 0.92, 0.893, 0.92, 0.624, 0.856, 0.624, 0.939, 0.493, 0.92, 0.92, 0.926, 0.887, 0.8270000000000001, 0.939, 0.624, 0.6890000000000001, 0.682, 0.92, 0.92, 0.802, 0.897, 0.8270000000000001, 0.926, 0.924, 0.555, 0.624, 0.895, 0.624, 0.7659999999999999, 0.926, 0.682, 0.915, 0.92, 0.92, 0.479, 0.91, 0.91, 0.92, 0.7959999999999999, 0.887, 0.624, 0.926, 0.624, 0.939, 0.624, 0.802, 0.926, 0.698, 0.624, 0.92, 0.939, 0.579, 0.92, 0.924, 0.92, 0.767, 0.926, 0.92, 0.556, 0.727, 0.624, 0.899, 0.92, 0.624, 0.926, 0.624, 0.91, 0.804, 0.91, 0.903, 0.624, 0.8270000000000001, 0.789, 0.924, 0.92, 0.624, 0.887, 0.89, 0.624, 0.92, 0.89, 0.855, 0.92, 0.563, 0.624, 0.92, 0.624, 0.624, 0.55, 0.624, 0.92, 0.92, 0.624, 0.91, 0.624, 0.92, 0.926, 0.92, 0.92, 0.92, 0.624, 0.624, 0.55, 0.926, 0.743, 0.92, 0.92, 0.7759999999999999, 0.884, 0.624, 0.91, 0.92, 0.767, 0.926, 0.92, 0.624, 0.92, 0.92, 0.926, 0.92, 0.92, 0.579, 0.897, 0.92, 0.939, 0.92, 0.624, 0.884, 0.92, 0.91, 0.884, 0.698, 0.939, 0.55, 0.624, 0.92, 0.6659999999999999, 0.789, 0.92, 0.624, 0.926, 0.6659999999999999, 0.926, 0.92, 0.624, 0.55, 0.848, 0.899, 0.843, 0.624, 0.926, 0.92, 0.939, 0.6890000000000001, 0.92, 0.91, 0.926, 0.738, 0.949, 0.91, 0.836, 0.92, 0.698, 0.884, 0.91, 0.92, 0.698, 0.92, 0.579, 0.925, 0.92, 0.843, 0.847, 0.804, 0.903, 0.698, 0.624, 0.897, 0.92, 0.698, 0.92, 0.924, 0.92, 0.91, 0.682, 0.92, 0.926, 0.92, 0.92, 0.92, 0.887, 0.55, 0.926, 0.624, 0.92, 0.698, 0.924, 0.74, 0.895, 0.91, 0.92, 0.91, 0.92, 0.913, 0.698, 0.855, 0.767, 0.91, 0.698, 0.92, 0.884, 0.624, 0.92, 0.762, 0.926, 0.848, 0.92, 0.698, 0.762, 0.624, 0.924, 0.91, 0.903, 0.884, 0.6890000000000001, 0.624, 0.92, 0.92, 0.89, 0.926, 0.91, 0.89, 0.899, 0.925, 0.624, 0.924, 0.92, 0.624, 0.92, 0.804, 0.727, 0.624, 0.802, 0.698, 0.92, 0.624, 0.92, 0.91, 0.8959999999999999, 0.855, 0.92, 0.92, 0.915, 0.84, 0.926, 0.55, 0.92, 0.926, 0.624, 0.579, 0.624, 0.92, 0.624, 0.925, 0.91, 0.924, 0.92, 0.92, 0.92, 0.92, 0.92, 0.624, 0.624, 0.926, 0.91, 0.91, 0.897, 0.743, 0.92, 0.92, 0.926, 0.624, 0.624, 0.5579999999999999, 0.624, 0.624, 0.843, 0.92, 0.92, 0.92, 0.878, 0.735, 0.855, 0.897, 0.794, 0.92, 0.8270000000000001, 0.91, 0.926, 0.624, 0.556, 0.8270000000000001, 0.84, 0.91, 0.897, 0.92, 0.855, 0.92, 0.939, 0.92, 0.624, 0.897, 0.92, 0.92, 0.92, 0.92, 0.92, 0.664, 0.738, 0.727, 0.91, 0.939, 0.92, 0.74, 0.926, 0.92, 0.7759999999999999, 0.884, 0.92, 0.624, 0.897, 0.897, 0.624, 0.92, 0.624, 0.897, 0.925, 0.92, 0.855, 0.682, 0.698, 0.897, 0.91, 0.92, 0.527, 0.91, 0.91, 0.949, 0.897, 0.91, 0.887, 0.92, 0.939, 0.92, 0.926, 0.926, 0.624, 0.926, 0.897, 0.91, 0.743, 0.92, 0.624, 0.738, 0.926, 0.897, 0.624, 0.926, 0.754, 0.887, 0.887, 0.92, 0.855, 0.884, 0.92, 0.92, 0.92, 0.92, 0.624, 0.92, 0.92, 0.624, 0.624, 0.8959999999999999, 0.624, 0.92, 0.884, 0.91, 0.926, 0.804, 0.92, 0.624, 0.804, 0.92, 0.899, 0.624, 0.926, 0.866, 0.92, 0.856, 0.92, 0.624, 0.55, 0.855, 0.92, 0.915, 0.92, 0.899, 0.727, 0.691, 0.624, 0.624, 0.949, 0.92, 0.92, 0.92, 0.624, 0.913, 0.624, 0.92, 0.624, 0.92, 0.624, 0.899, 0.925, 0.754, 0.923, 0.925, 0.92, 0.722, 0.624, 0.92, 0.92, 0.92, 0.738, 0.624, 0.92, 0.624, 0.624, 0.527, 0.682, 0.624, 0.92, 0.92, 0.926, 0.92, 0.92, 0.92, 0.91, 0.624, 0.92, 0.926, 0.895, 0.926, 0.6890000000000001, 0.92, 0.624, 0.624, 0.92, 0.691, 0.884, 0.762, 0.91, 0.926, 0.92, 0.8270000000000001, 0.92, 0.624, 0.624, 0.624, 0.624, 0.926, 0.92, 0.698, 0.92, 0.92, 0.92, 0.762, 0.84, 0.91, 0.624, 0.762, 0.897, 0.878, 0.624, 0.624, 0.92, 0.92, 0.897, 0.624, 0.92, 0.92, 0.92, 0.91, 0.89, 0.802, 0.939, 0.92, 0.647, 0.762, 0.698, 0.92, 0.624, 0.884, 0.7659999999999999, 0.624, 0.92, 0.897, 0.555, 0.924, 0.939, 0.92, 0.926, 0.91, 0.92, 0.92, 0.926, 0.624, 0.92, 0.92, 0.91, 0.939, 0.92, 0.624, 0.91, 0.884, 0.92, 0.91, 0.92, 0.92, 0.939, 0.897, 0.926, 0.91, 0.884, 0.624, 0.802, 0.91, 0.897, 0.91, 0.91, 0.624, 0.624, 0.836, 0.55, 0.91, 0.624, 0.802, 0.624, 0.624, 0.92, 0.91, 0.624, 0.926, 0.92, 0.754, 0.767, 0.926, 0.624, 0.624, 0.91, 0.897, 0.74, 0.624, 0.802, 0.92, 0.926, 0.92, 0.92, 0.91, 0.624, 0.624, 0.91, 0.624, 0.92, 0.92, 0.91, 0.7659999999999999, 0.743, 0.92, 0.903, 0.738, 0.884, 0.579, 0.926, 0.899, 0.624, 0.92, 0.624, 0.92, 0.926, 0.55, 0.92, 0.624, 0.92, 0.92, 0.8959999999999999, 0.92, 0.884, 0.91, 0.836, 0.913, 0.897, 0.923, 0.8959999999999999, 0.624, 0.624, 0.949, 0.55, 0.802, 0.92, 0.55, 0.924, 0.624, 0.698, 0.887, 0.878, 0.939, 0.647, 0.7809999999999999, 0.8959999999999999, 0.804, 0.92, 0.92, 0.866, 0.8959999999999999, 0.92, 0.92, 0.92, 0.92, 0.92, 0.92, 0.92, 0.926, 0.926, 0.926, 0.926, 0.624, 0.624, 0.887, 0.624, 0.897, 0.913, 0.92, 0.92, 0.926, 0.926, 0.855, 0.556, 0.804, 0.624, 0.624, 0.843, 0.92, 0.745, 0.698, 0.878, 0.92, 0.91, 0.92, 0.899, 0.74, 0.92, 0.92, 0.55, 0.745, 0.855, 0.939, 0.92, 0.804, 0.865, 0.74, 0.89, 0.55, 0.762, 0.897, 0.624, 0.92, 0.92, 0.556, 0.92, 0.92, 0.92, 0.926, 0.843, 0.698, 0.92, 0.897, 0.92, 0.897, 0.624, 0.878, 0.939, 0.624, 0.624, 0.64, 0.624, 0.92, 0.926, 0.624, 0.92, 0.897, 0.926, 0.897, 0.91, 0.512, 0.92, 0.92, 0.92, 0.624, 0.7879999999999999, 0.682, 0.897, 0.836, 0.926, 0.92, 0.926, 0.92, 0.836, 0.92, 0.794, 0.698, 0.92, 0.92, 0.92, 0.624, 0.92, 0.939, 0.92, 0.926, 0.92, 0.92, 0.91, 0.754, 0.92, 0.92, 0.939, 0.939, 0.527, 0.915, 0.579, 0.754, 0.527, 0.939, 0.698, 0.92, 0.802, 0.91, 0.624, 0.926, 0.913, 0.926, 0.74, 0.893, 0.448, 0.92, 0.624, 0.91, 0.698, 0.624, 0.926, 0.92, 0.926, 0.897, 0.92, 0.624, 0.895, 0.624, 0.91, 0.926, 0.91, 0.92, 0.624, 0.624, 0.754, 0.91, 0.884, 0.92, 0.92, 0.804, 0.92, 0.939, 0.926, 0.92, 0.762, 0.754, 0.878, 0.899, 0.55, 0.6890000000000001, 0.624, 0.698, 0.91, 0.754, 0.92, 0.698, 0.92, 0.55, 0.624, 0.493, 0.91, 0.893, 0.92, 0.91, 0.762, 0.698, 0.926, 0.884, 0.913, 0.92, 0.92, 0.92, 0.926, 0.682, 0.878, 0.691, 0.92, 0.698, 0.92, 0.91, 0.843, 0.92, 0.939, 0.92, 0.92, 0.939, 0.897, 0.92, 0.91, 0.647, 0.624, 0.92, 0.92, 0.92, 0.92, 0.624, 0.91, 0.91, 0.92, 0.939, 0.92, 0.92, 0.698, 0.855, 0.92, 0.91, 0.91, 0.743, 0.92, 0.899, 0.884, 0.698, 0.865, 0.804, 0.92, 0.91, 0.624, 0.895, 0.624, 0.887, 0.91, 0.92, 0.738, 0.624, 0.624, 0.624, 0.762, 0.92, 0.624, 0.897, 0.92, 0.92, 0.878, 0.92, 0.903, 0.897, 0.6890000000000001, 0.92, 0.926, 0.92, 0.92, 0.92, 0.924, 0.897, 0.91, 0.92, 0.92, 0.91, 0.92, 0.939, 0.624, 0.527, 0.887, 0.762, 0.624, 0.939, 0.92, 0.939, 0.92, 0.92, 0.887, 0.939, 0.91, 0.926, 0.762, 0.926, 0.865, 0.92, 0.693, 0.92, 0.925, 0.926, 0.924, 0.92, 0.939, 0.92, 0.91, 0.624, 0.754, 0.848, 0.8270000000000001, 0.836, 0.698, 0.624, 0.762, 0.802, 0.74, 0.92, 0.92, 0.698, 0.624, 0.764, 0.89, 0.92, 0.92, 0.624, 0.89, 0.926, 0.804, 0.691, 0.91, 0.926, 0.7759999999999999, 0.624, 0.92, 0.448, 0.624, 0.698, 0.92, 0.5579999999999999, 0.92, 0.527, 0.698, 0.92, 0.91, 0.836, 0.624, 0.92, 0.789, 0.624, 0.925, 0.92, 0.848, 0.855, 0.855, 0.92, 0.91, 0.92, 0.855, 0.913, 0.92, 0.92, 0.91, 0.92, 0.855, 0.92, 0.913, 0.92, 0.92, 0.855, 0.92, 0.884, 0.926, 0.55, 0.624, 0.92, 0.762, 0.884, 0.926, 0.624, 0.91, 0.926, 0.92, 0.8959999999999999, 0.92, 0.92, 0.939, 0.92, 0.92, 0.624, 0.913, 0.939, 0.847, 0.55, 0.92, 0.754, 0.6890000000000001, 0.91, 0.624, 0.624, 0.91, 0.754, 0.767, 0.624, 0.865, 0.624, 0.843, 0.92, 0.926, 0.899, 0.92, 0.743, 0.939, 0.939, 0.92, 0.923, 0.92, 0.92, 0.624, 0.91, 0.92, 0.924, 0.92, 0.926, 0.924, 0.893, 0.92, 0.855, 0.55, 0.92, 0.698, 0.843, 0.91, 0.836, 0.887, 0.527, 0.897, 0.91, 0.92, 0.92, 0.836, 0.698, 0.91, 0.624, 0.92, 0.754, 0.899, 0.754, 0.92, 0.939, 0.92, 0.926, 0.92, 0.754, 0.624, 0.92, 0.92, 0.624, 0.926, 0.738, 0.843, 0.767, 0.92, 0.92, 0.698, 0.624, 0.624, 0.8959999999999999, 0.926, 0.92, 0.624, 0.804, 0.92, 0.92, 0.624, 0.624, 0.92, 0.92, 0.55, 0.698, 0.624, 0.92, 0.926, 0.579, 0.92, 0.624, 0.92, 0.897, 0.624, 0.92, 0.926, 0.92, 0.647, 0.91, 0.926, 0.926, 0.804, 0.624, 0.795, 0.624, 0.897, 0.92, 0.624, 0.92, 0.925, 0.926, 0.691, 0.895, 0.92, 0.913, 0.913, 0.924, 0.92, 0.926, 0.89, 0.624, 0.804, 0.923, 0.802, 0.92, 0.754, 0.55, 0.92, 0.698, 0.939, 0.624, 0.8959999999999999, 0.926, 0.91, 0.624, 0.527, 0.924, 0.926, 0.926, 0.926, 0.92, 0.698, 0.624, 0.92, 0.92, 0.91, 0.698, 0.92, 0.754, 0.91, 0.624, 0.762, 0.92, 0.939, 0.878, 0.789, 0.92, 0.843, 0.8959999999999999, 0.763, 0.926, 0.92, 0.92, 0.763, 0.754, 0.913, 0.92, 0.91, 0.92, 0.92, 0.92, 0.866, 0.789, 0.926, 0.895, 0.926, 0.92, 0.92, 0.91, 0.804, 0.92, 0.698, 0.802, 0.55, 0.624, 0.624, 0.878, 0.92, 0.939, 0.897, 0.91, 0.698, 0.92, 0.84, 0.698, 0.92, 0.92, 0.6659999999999999, 0.92, 0.92, 0.738, 0.92, 0.624, 0.92, 0.926, 0.92, 0.624, 0.92, 0.926, 0.92, 0.884, 0.92, 0.762, 0.91, 0.878, 0.92, 0.92, 0.624, 0.92, 0.92, 0.624, 0.91, 0.92, 0.91, 0.92, 0.939, 0.913, 0.92, 0.926, 0.754, 0.91, 0.836, 0.6890000000000001, 0.8270000000000001, 0.624, 0.794, 0.555, 0.92, 0.91, 0.91, 0.926, 0.926, 0.923, 0.91, 0.91, 0.878, 0.624, 0.92, 0.92, 0.91, 0.92, 0.92, 0.722, 0.802, 0.884, 0.624, 0.926, 0.92, 0.762, 0.91, 0.804, 0.939, 0.8270000000000001, 0.92, 0.682, 0.887, 0.743, 0.493, 0.92, 0.649, 0.866, 0.6890000000000001, 0.624, 0.698, 0.926, 0.563, 0.89, 0.624, 0.92, 0.92, 0.767, 0.939, 0.92, 0.742, 0.92, 0.91, 0.897, 0.527, 0.624, 0.92, 0.91, 0.924, 0.91, 0.624, 0.743, 0.92, 0.624, 0.624, 0.92, 0.923, 0.92, 0.624, 0.624, 0.624, 0.92, 0.848, 0.92, 0.624, 0.92, 0.893, 0.92, 0.92, 0.91, 0.92, 0.804, 0.804, 0.624, 0.899, 0.624, 0.91, 0.903, 0.92, 0.924, 0.743, 0.92, 0.92, 0.92, 0.913, 0.624, 0.624, 0.92, 0.92, 0.698, 0.92, 0.92, 0.92, 0.682, 0.92, 0.91, 0.91, 0.887, 0.92, 0.926, 0.624, 0.804, 0.624, 0.949, 0.926, 0.725, 0.92, 0.624, 0.92, 0.7759999999999999, 0.92, 0.926, 0.92, 0.91, 0.5579999999999999, 0.802, 0.92, 0.92, 0.624, 0.92, 0.55, 0.939, 0.926, 0.624, 0.92, 0.624, 0.743, 0.92, 0.92, 0.624, 0.939, 0.926, 0.92, 0.893, 0.855, 0.6659999999999999, 0.92, 0.624, 0.915, 0.83, 0.91, 0.926, 0.884, 0.624, 0.624, 0.925, 0.91, 0.92, 0.926, 0.884, 0.802, 0.92, 0.91, 0.926, 0.527, 0.754, 0.802, 0.7959999999999999, 0.91, 0.92, 0.804, 0.91, 0.624, 0.754, 0.92, 0.887, 0.92, 0.624, 0.848, 0.91, 0.92, 0.92, 0.887, 0.624, 0.698, 0.624, 0.92, 0.92, 0.92, 0.92, 0.855, 0.92, 0.926, 0.624, 0.91, 0.92, 0.939, 0.6890000000000001, 0.91, 0.855, 0.92, 0.92, 0.92, 0.698, 0.92, 0.926, 0.92, 0.624, 0.91, 0.743, 0.92, 0.91, 0.92, 0.895, 0.939, 0.92, 0.624, 0.92, 0.91, 0.624, 0.624, 0.92, 0.6890000000000001, 0.855, 0.91, 0.899, 0.926, 0.624, 0.92, 0.91, 0.92, 0.855, 0.897, 0.939, 0.843, 0.887, 0.926, 0.939, 0.89, 0.624, 0.89, 0.887, 0.91, 0.915, 0.91, 0.939, 0.624, 0.624, 0.926, 0.579, 0.624, 0.92, 0.939, 0.698, 0.92, 0.624, 0.92, 0.624, 0.893, 0.92, 0.698, 0.91, 0.91, 0.913, 0.763, 0.92, 0.923, 0.91, 0.92, 0.923, 0.926, 0.804, 0.92, 0.939, 0.722, 0.92, 0.794, 0.74, 0.55, 0.92, 0.897, 0.92, 0.92, 0.624, 0.913, 0.624, 0.624, 0.926, 0.698, 0.92, 0.91, 0.926, 0.794, 0.92, 0.92, 0.884, 0.92, 0.555, 0.92, 0.767, 0.924, 0.887, 0.924, 0.926, 0.92, 0.949, 0.92, 0.624, 0.836, 0.926, 0.92, 0.91, 0.897, 0.897, 0.878, 0.92, 0.7390000000000001, 0.804, 0.91, 0.91, 0.698, 0.92, 0.926, 0.624, 0.92, 0.624, 0.92, 0.926, 0.926, 0.92, 0.92, 0.926, 0.92, 0.624, 0.92, 0.92, 0.843, 0.92, 0.856, 0.6659999999999999, 0.624, 0.92, 0.866, 0.884, 0.91, 0.92, 0.866, 0.8959999999999999, 0.8270000000000001, 0.92, 0.802, 0.8270000000000001, 0.624, 0.926, 0.897, 0.92, 0.83, 0.91, 0.698, 0.887, 0.92, 0.92, 0.915, 0.698, 0.897, 0.579, 0.8270000000000001, 0.855, 0.698, 0.767, 0.836, 0.92, 0.878, 0.92, 0.92, 0.92, 0.624, 0.92, 0.92, 0.624, 0.624, 0.887, 0.92, 0.884, 0.579, 0.624, 0.624, 0.767, 0.897, 0.91, 0.527, 0.893, 0.92, 0.624, 0.856, 0.866, 0.92, 0.878, 0.624, 0.92, 0.926, 0.92, 0.939, 0.624, 0.92, 0.866, 0.682, 0.804, 0.91, 0.91, 0.92, 0.55, 0.92, 0.624, 0.897, 0.926, 0.92, 0.926, 0.926, 0.92, 0.926, 0.8270000000000001, 0.926, 0.923, 0.939, 0.92, 0.92, 0.939, 0.92, 0.92, 0.92, 0.92, 0.92, 0.91, 0.91, 0.91, 0.91, 0.939, 0.762, 0.855, 0.624, 0.527, 0.92, 0.92, 0.836, 0.92, 0.92, 0.91, 0.924, 0.92, 0.925, 0.92, 0.855, 0.92, 0.893, 0.807, 0.789, 0.925, 0.92, 0.624, 0.899, 0.624, 0.92, 0.855, 0.92, 0.895, 0.6659999999999999, 0.579, 0.92, 0.926, 0.92, 0.878, 0.55, 0.924, 0.92, 0.939, 0.527, 0.92, 0.921, 0.624, 0.899, 0.92, 0.939, 0.754, 0.887, 0.926, 0.91, 0.624, 0.897, 0.55, 0.92, 0.624, 0.727, 0.92, 0.92, 0.92, 0.926, 0.92, 0.7659999999999999, 0.924, 0.939, 0.7959999999999999, 0.8959999999999999, 0.91, 0.92, 0.939, 0.939, 0.624, 0.92, 0.91, 0.738, 0.92, 0.92, 0.92, 0.925, 0.624, 0.939, 0.926, 0.802, 0.624, 0.624, 0.8959999999999999, 0.92, 0.754, 0.92, 0.698, 0.939, 0.92, 0.698, 0.836, 0.624, 0.895, 0.802, 0.624, 0.92, 0.624, 0.897, 0.92, 0.926, 0.91, 0.92, 0.887, 0.92, 0.698, 0.92, 0.624, 0.624, 0.624, 0.92, 0.74, 0.897, 0.682, 0.682, 0.92, 0.949, 0.92, 0.92, 0.855, 0.92, 0.624, 0.887, 0.843, 0.624, 0.92, 0.624, 0.624, 0.92, 0.691, 0.92, 0.926, 0.738, 0.92, 0.92, 0.92, 0.624, 0.802, 0.848, 0.698, 0.55, 0.949, 0.897, 0.92, 0.698, 0.624, 0.92, 0.91, 0.855, 0.92, 0.926, 0.624, 0.899, 0.92, 0.624, 0.897, 0.624, 0.926, 0.91, 0.92, 0.92, 0.92, 0.92, 0.884, 0.926, 0.624, 0.925, 0.924, 0.624, 0.527, 0.836, 0.939, 0.92, 0.624, 0.92, 0.92, 0.878, 0.939, 0.887, 0.624, 0.92, 0.804, 0.738, 0.926, 0.939, 0.91, 0.624, 0.92, 0.92, 0.939, 0.897, 0.8959999999999999, 0.91, 0.624, 0.92, 0.92, 0.893, 0.92, 0.939, 0.855, 0.92, 0.897, 0.92, 0.804, 0.92, 0.897, 0.887, 0.887, 0.924, 0.855, 0.624, 0.92, 0.855, 0.624, 0.926, 0.743, 0.92, 0.897, 0.73, 0.624, 0.624, 0.91, 0.775, 0.926, 0.878, 0.92, 0.926, 0.92, 0.897, 0.92, 0.884, 0.855, 0.897, 0.624, 0.92, 0.91, 0.794, 0.91, 0.92, 0.89, 0.624, 0.884, 0.855, 0.92, 0.92, 0.743, 0.698, 0.624, 0.887, 0.92, 0.926, 0.92, 0.925, 0.926, 0.68, 0.624, 0.926, 0.92, 0.5579999999999999, 0.92, 0.624, 0.624, 0.92, 0.7759999999999999, 0.73, 0.479, 0.92, 0.92, 0.698, 0.887, 0.92, 0.698, 0.92, 0.926, 0.843, 0.855, 0.843, 0.624, 0.92, 0.92, 0.884, 0.926, 0.698, 0.92, 0.92, 0.91, 0.856, 0.92, 0.926, 0.866, 0.754, 0.926, 0.92, 0.624, 0.895, 0.92, 0.926, 0.939, 0.754, 0.913, 0.804, 0.92, 0.754, 0.92, 0.624, 0.924, 0.624, 0.91, 0.624, 0.624, 0.924, 0.89, 0.55, 0.83, 0.893, 0.939, 0.855, 0.6890000000000001, 0.92, 0.91, 0.92, 0.926, 0.624, 0.92, 0.92, 0.92, 0.624, 0.727, 0.89, 0.624, 0.555, 0.926, 0.92, 0.924, 0.92, 0.887, 0.92, 0.624, 0.924, 0.92, 0.624, 0.754, 0.92, 0.92, 0.92, 0.91, 0.754, 0.722, 0.682, 0.836, 0.92, 0.624, 0.92, 0.92, 0.92, 0.92, 0.884, 0.926, 0.92, 0.939, 0.624, 0.802, 0.887, 0.738, 0.91, 0.624, 0.624, 0.722, 0.939, 0.939, 0.92, 0.92, 0.895, 0.624, 0.762, 0.754, 0.682, 0.926, 0.92, 0.91, 0.92, 0.91, 0.92, 0.897, 0.555, 0.624, 0.92, 0.91, 0.92, 0.855, 0.527, 0.91, 0.624, 0.624, 0.92, 0.926, 0.92, 0.836, 0.6890000000000001, 0.884, 0.579, 0.624, 0.884, 0.624, 0.91, 0.802, 0.6659999999999999, 0.897, 0.925, 0.91, 0.579, 0.92, 0.91, 0.92, 0.92, 0.754, 0.897, 0.91, 0.92, 0.887, 0.579, 0.923, 0.897, 0.698, 0.624, 0.884, 0.91, 0.926, 0.91, 0.897, 0.91, 0.903, 0.855, 0.92, 0.8959999999999999, 0.926, 0.55, 0.479, 0.92, 0.92, 0.92, 0.92, 0.92, 0.926, 0.92, 0.624, 0.926, 0.92, 0.754, 0.624, 0.767, 0.624, 0.855, 0.915, 0.789, 0.698, 0.92, 0.92, 0.91, 0.624, 0.91, 0.8959999999999999, 0.884, 0.624, 0.91, 0.795, 0.91, 0.887, 0.92, 0.91, 0.915, 0.92, 0.899, 0.624, 0.91, 0.754, 0.924, 0.555, 0.92, 0.92, 0.73, 0.92, 0.92, 0.926, 0.624, 0.92, 0.754, 0.624, 0.924, 0.91, 0.754, 0.897, 0.624, 0.74, 0.624, 0.939, 0.624, 0.92, 0.698, 0.92, 0.92, 0.91, 0.8270000000000001, 0.624, 0.91, 0.55, 0.926, 0.92, 0.91, 0.624, 0.7659999999999999, 0.92, 0.91, 0.903, 0.74, 0.926, 0.754, 0.624, 0.939, 0.855, 0.92, 0.92, 0.7390000000000001, 0.897, 0.624, 0.855, 0.923, 0.913, 0.92, 0.836, 0.92, 0.92, 0.92, 0.939, 0.887, 0.897, 0.624, 0.624, 0.92, 0.92, 0.91, 0.804, 0.92, 0.8270000000000001, 0.743, 0.91, 0.92, 0.92, 0.92, 0.92, 0.939, 0.92, 0.92, 0.855, 0.92, 0.92, 0.92, 0.762, 0.92, 0.624, 0.92, 0.91, 0.92, 0.624, 0.92, 0.92, 0.92, 0.92, 0.92, 0.55, 0.92, 0.92, 0.92, 0.925, 0.836, 0.493, 0.855, 0.92, 0.754, 0.855, 0.579, 0.698, 0.926, 0.92, 0.804, 0.91, 0.698, 0.897, 0.92, 0.91, 0.939, 0.91, 0.624, 0.926, 0.926, 0.8959999999999999, 0.884, 0.698, 0.92, 0.847, 0.624, 0.92, 0.92, 0.92, 0.847, 0.92, 0.865, 0.893, 0.92, 0.92, 0.91, 0.897, 0.899, 0.836, 0.794, 0.92, 0.448, 0.762, 0.624, 0.5579999999999999, 0.92, 0.91, 0.895, 0.92, 0.624, 0.887, 0.698, 0.897, 0.939, 0.624, 0.897, 0.624, 0.92, 0.802, 0.939, 0.624, 0.92, 0.624, 0.91, 0.794, 0.698, 0.802, 0.92, 0.767, 0.698, 0.624, 0.91, 0.91, 0.527, 0.92, 0.893, 0.802, 0.92, 0.855, 0.624, 0.939, 0.91, 0.624, 0.91, 0.91, 0.8959999999999999, 0.92, 0.92, 0.92, 0.624, 0.74, 0.926, 0.5579999999999999, 0.913, 0.691, 0.92, 0.624, 0.91, 0.624, 0.903, 0.893, 0.92, 0.92, 0.843, 0.624, 0.92, 0.92, 0.926, 0.92, 0.649, 0.92, 0.855, 0.91, 0.624, 0.682, 0.624, 0.884, 0.762, 0.691, 0.915, 0.899, 0.624, 0.624, 0.926, 0.897, 0.897, 0.915, 0.624, 0.55, 0.92, 0.624, 0.6659999999999999, 0.887, 0.92, 0.939, 0.913, 0.762, 0.92, 0.8959999999999999, 0.925, 0.855, 0.767, 0.92, 0.92, 0.6890000000000001, 0.624, 0.92, 0.92, 0.92, 0.55, 0.92, 0.92, 0.624, 0.804, 0.795, 0.754, 0.884, 0.92, 0.92, 0.856, 0.794, 0.926, 0.91, 0.884, 0.624, 0.743, 0.92, 0.92, 0.92, 0.91, 0.926, 0.624, 0.91, 0.92, 0.6659999999999999, 0.5579999999999999, 0.92, 0.92, 0.8270000000000001, 0.762, 0.92, 0.698, 0.926, 0.624, 0.924, 0.91, 0.92, 0.74, 0.92, 0.92, 0.92, 0.92, 0.91, 0.926, 0.92, 0.624, 0.884, 0.926, 0.92, 0.807, 0.924, 0.92, 0.926, 0.624, 0.91, 0.55, 0.624, 0.624, 0.92, 0.92, 0.92, 0.624, 0.624, 0.926, 0.939, 0.92, 0.92, 0.899, 0.855, 0.487, 0.897, 0.92, 0.899, 0.92, 0.926, 0.91, 0.624, 0.794, 0.624, 0.91, 0.5579999999999999, 0.926, 0.843, 0.91, 0.624, 0.91, 0.91, 0.5579999999999999, 0.923, 0.897, 0.866, 0.92, 0.92, 0.91, 0.698, 0.624, 0.727, 0.843, 0.91, 0.92, 0.92, 0.624, 0.698, 0.624, 0.92, 0.92, 0.448, 0.92, 0.74, 0.794, 0.624, 0.91, 0.92, 0.899, 0.897, 0.738, 0.887, 0.923, 0.767, 0.682, 0.92, 0.624, 0.92, 0.887, 0.624, 0.926, 0.84, 0.926, 0.92, 0.698, 0.698, 0.624, 0.92, 0.92, 0.624, 0.624, 0.92, 0.939, 0.92, 0.92, 0.754, 0.855, 0.84, 0.92, 0.926, 0.92, 0.91, 0.884, 0.887, 0.624, 0.92, 0.698, 0.754, 0.804, 0.924, 0.92, 0.92, 0.624, 0.89, 0.92, 0.92, 0.897, 0.92, 0.899, 0.92, 0.865, 0.624, 0.624, 0.92, 0.92, 0.55, 0.89, 0.855, 0.91, 0.83, 0.6890000000000001, 0.92, 0.92, 0.92, 0.92, 0.8959999999999999, 0.8959999999999999, 0.91, 0.92, 0.624, 0.897, 0.939, 0.926, 0.92, 0.804, 0.92, 0.939, 0.92, 0.92, 0.55, 0.847, 0.91, 0.727, 0.92, 0.92, 0.92, 0.92, 0.92, 0.91, 0.855, 0.789, 0.624, 0.767, 0.92, 0.92, 0.926, 0.579, 0.897, 0.624, 0.92, 0.92, 0.624, 0.91, 0.92, 0.92, 0.855, 0.92, 0.624, 0.91, 0.682, 0.926, 0.91, 0.92, 0.92, 0.926, 0.866, 0.92, 0.624, 0.92, 0.624, 0.624, 0.903, 0.804, 0.939, 0.92, 0.92, 0.926, 0.624, 0.887, 0.91, 0.6890000000000001, 0.624, 0.804, 0.698, 0.893, 0.939, 0.92, 0.92, 0.92, 0.897, 0.92, 0.91, 0.804, 0.92, 0.579, 0.527, 0.92, 0.754, 0.949, 0.855, 0.763, 0.913, 0.624, 0.884, 0.754, 0.939, 0.92, 0.897, 0.939, 0.924, 0.92, 0.92, 0.91, 0.939, 0.92, 0.624, 0.843, 0.926, 0.92, 0.804, 0.939, 0.624, 0.939, 0.92, 0.926, 0.897, 0.926, 0.55, 0.92, 0.926, 0.926, 0.926, 0.884, 0.926, 0.92, 0.926, 0.884, 0.624, 0.92, 0.7759999999999999, 0.701, 0.55, 0.926, 0.92, 0.789, 0.866, 0.92, 0.91, 0.91, 0.893, 0.624, 0.89, 0.884, 0.624, 0.913, 0.91, 0.91, 0.91, 0.878, 0.91, 0.91, 0.92, 0.624, 0.924, 0.855, 0.727, 0.767, 0.855, 0.92, 0.884, 0.939, 0.92, 0.8270000000000001, 0.899, 0.754, 0.91, 0.6659999999999999, 0.92, 0.624, 0.698, 0.698, 0.92, 0.92, 0.624, 0.878, 0.624, 0.92, 0.698, 0.743, 0.939, 0.939, 0.926, 0.924, 0.92, 0.92, 0.767, 0.754, 0.92, 0.92, 0.624, 0.647, 0.92, 0.754, 0.92, 0.843, 0.903, 0.926, 0.624, 0.84, 0.624, 0.92, 0.924, 0.939, 0.92, 0.92, 0.939, 0.624, 0.83, 0.92, 0.624, 0.91, 0.802, 0.624, 0.887, 0.92, 0.6659999999999999, 0.92, 0.899, 0.92, 0.624, 0.913, 0.91, 0.624, 0.92, 0.754, 0.92, 0.915, 0.55, 0.91, 0.92, 0.887, 0.897, 0.78, 0.624, 0.926, 0.939, 0.624, 0.939, 0.624, 0.92, 0.527, 0.698, 0.939, 0.624, 0.91, 0.624, 0.836, 0.698, 0.92, 0.836, 0.624, 0.624, 0.804, 0.92, 0.92, 0.698, 0.92, 0.92, 0.926, 0.762, 0.92, 0.926, 0.836, 0.92, 0.913, 0.92, 0.698, 0.939, 0.743, 0.939, 0.92, 0.92, 0.92, 0.92, 0.74, 0.92, 0.843, 0.926, 0.7759999999999999, 0.624, 0.91, 0.802, 0.924, 0.925, 0.92, 0.91, 0.92, 0.691, 0.887, 0.923, 0.92, 0.698, 0.55, 0.893, 0.624, 0.74, 0.836, 0.939, 0.624, 0.624, 0.855, 0.698, 0.92, 0.92, 0.624, 0.624, 0.802, 0.92, 0.92, 0.899, 0.624, 0.91, 0.55, 0.624, 0.92, 0.624, 0.91, 0.92, 0.925, 0.802, 0.949, 0.855, 0.92, 0.8959999999999999, 0.897, 0.624, 0.624, 0.789, 0.923, 0.92, 0.624, 0.855, 0.926, 0.92, 0.743, 0.92, 0.893, 0.923, 0.8959999999999999, 0.926, 0.92, 0.887, 0.855, 0.691, 0.92, 0.7659999999999999, 0.624, 0.91, 0.91, 0.8270000000000001, 0.92, 0.92, 0.698, 0.493, 0.91, 0.527, 0.92, 0.903, 0.92, 0.913, 0.624, 0.91, 0.91, 0.624, 0.923, 0.926, 0.55, 0.789, 0.92, 0.738, 0.91, 0.897, 0.92, 0.92, 0.887, 0.698, 0.939, 0.897, 0.55, 0.6659999999999999, 0.92, 0.92, 0.802, 0.92, 0.884, 0.624, 0.698, 0.624, 0.836, 0.624, 0.802, 0.91, 0.624, 0.55, 0.691, 0.899, 0.802, 0.55, 0.926, 0.624, 0.926, 0.926, 0.884, 0.92, 0.527, 0.92, 0.92, 0.762, 0.92, 0.624, 0.899, 0.624, 0.92, 0.897, 0.926, 0.92, 0.55, 0.91, 0.899, 0.92, 0.836, 0.903, 0.939, 0.55, 0.92, 0.92, 0.92, 0.91, 0.91, 0.7759999999999999, 0.92, 0.92, 0.802, 0.92, 0.92, 0.92, 0.92, 0.7759999999999999, 0.624, 0.92, 0.91, 0.624, 0.92, 0.843, 0.92, 0.847, 0.92, 0.887, 0.895, 0.897, 0.624, 0.92, 0.91, 0.92, 0.624, 0.624, 0.754, 0.92, 0.92, 0.91, 0.92, 0.92, 0.92, 0.91, 0.91, 0.847, 0.754, 0.74, 0.555, 0.807, 0.91, 0.92, 0.855, 0.926, 0.836, 0.804, 0.78, 0.624, 0.92, 0.624, 0.939, 0.91, 0.804, 0.92, 0.899, 0.887, 0.743, 0.91, 0.884, 0.91, 0.926, 0.624, 0.92, 0.939, 0.878, 0.91, 0.624, 0.92, 0.804, 0.701, 0.579, 0.915, 0.624, 0.92, 0.92, 0.92, 0.848, 0.789, 0.624, 0.92, 0.698, 0.92, 0.893, 0.624, 0.926, 0.926, 0.926, 0.527, 0.92, 0.926, 0.92, 0.624, 0.91, 0.836, 0.923, 0.92, 0.698, 0.926, 0.804, 0.92, 0.92, 0.8270000000000001, 0.624, 0.866, 0.55, 0.887, 0.8959999999999999, 0.92, 0.92, 0.92, 0.579, 0.624, 0.897, 0.802, 0.926, 0.92, 0.624, 0.939, 0.91, 0.92, 0.7659999999999999, 0.624, 0.899, 0.624, 0.624, 0.92, 0.624, 0.926, 0.624, 0.926, 0.836, 0.91, 0.923, 0.624, 0.926, 0.924, 0.92, 0.92, 0.92, 0.762, 0.698, 0.887, 0.92, 0.92, 0.92, 0.926, 0.579, 0.915, 0.754, 0.762, 0.92, 0.924, 0.7659999999999999, 0.92, 0.92, 0.893, 0.949, 0.698, 0.939, 0.91, 0.924, 0.6659999999999999, 0.92, 0.698, 0.624, 0.91, 0.624, 0.624, 0.6659999999999999, 0.92, 0.804, 0.926, 0.624, 0.92, 0.897, 0.698, 0.926, 0.698, 0.789, 0.804, 0.92, 0.924, 0.624, 0.92, 0.903, 0.92, 0.624, 0.6890000000000001, 0.624, 0.762, 0.794, 0.804, 0.939, 0.55, 0.91, 0.924, 0.92, 0.855, 0.5579999999999999, 0.924, 0.878, 0.897, 0.624, 0.92, 0.925, 0.89, 0.91, 0.624, 0.55, 0.762, 0.92, 0.939, 0.926, 0.926, 0.92, 0.624, 0.92, 0.92, 0.926, 0.769, 0.92, 0.92, 0.624, 0.92, 0.6890000000000001, 0.92, 0.92, 0.92, 0.91, 0.926, 0.924, 0.92, 0.92, 0.91, 0.92, 0.926, 0.624, 0.92, 0.926, 0.897, 0.92, 0.624, 0.855, 0.92, 0.926, 0.92, 0.855, 0.923, 0.92, 0.897, 0.926, 0.6659999999999999, 0.92, 0.939, 0.92, 0.92, 0.92, 0.924, 0.624, 0.92, 0.92, 0.92, 0.91, 0.92, 0.92, 0.91, 0.897, 0.91, 0.92, 0.92, 0.624, 0.899, 0.923, 0.913, 0.92, 0.624, 0.92, 0.91, 0.92, 0.855, 0.92, 0.92, 0.624, 0.624, 0.624, 0.92, 0.92, 0.624, 0.92, 0.624, 0.92, 0.939, 0.899, 0.91, 0.92, 0.92, 0.897, 0.926, 0.897, 0.624, 0.926, 0.5579999999999999, 0.92, 0.92, 0.682, 0.92, 0.92, 0.91, 0.913, 0.92, 0.91, 0.848, 0.866, 0.92, 0.55, 0.836, 0.802, 0.878, 0.913, 0.92, 0.624, 0.624, 0.698, 0.92, 0.92, 0.926, 0.92, 0.893, 0.698, 0.624, 0.897, 0.91, 0.924, 0.897, 0.5579999999999999, 0.91, 0.887, 0.624, 0.802, 0.91, 0.91, 0.722, 0.924, 0.91, 0.743, 0.92, 0.92, 0.92, 0.897, 0.92, 0.924, 0.754, 0.897, 0.802, 0.897, 0.92, 0.923, 0.887, 0.624, 0.92, 0.91, 0.887, 0.448, 0.91, 0.55, 0.897, 0.624, 0.92, 0.624, 0.926, 0.624, 0.738, 0.91, 0.92, 0.91, 0.624, 0.92, 0.743, 0.884, 0.624, 0.735, 0.92, 0.624, 0.92, 0.92, 0.754, 0.92, 0.89, 0.92, 0.836, 0.884, 0.925, 0.926, 0.762, 0.624, 0.624, 0.926, 0.855, 0.939, 0.91, 0.91, 0.893, 0.92, 0.527, 0.92, 0.92, 0.92, 0.624, 0.92, 0.624, 0.91, 0.89, 0.92, 0.624, 0.903, 0.926, 0.7659999999999999, 0.92, 0.92, 0.939, 0.624, 0.7759999999999999, 0.855, 0.92, 0.92, 0.92, 0.624, 0.939, 0.624, 0.92, 0.698, 0.926, 0.794, 0.92, 0.91, 0.624, 0.92, 0.92, 0.682, 0.698, 0.92, 0.913, 0.624, 0.91, 0.897, 0.884, 0.767, 0.949, 0.624, 0.855, 0.92, 0.91, 0.92, 0.903, 0.92, 0.624, 0.624, 0.926, 0.939, 0.7759999999999999, 0.5579999999999999, 0.926, 0.91, 0.92, 0.913, 0.887, 0.91, 0.698, 0.89, 0.926, 0.92, 0.92, 0.897, 0.527, 0.926, 0.926, 0.915, 0.92, 0.92, 0.754, 0.624, 0.92, 0.939, 0.754, 0.91, 0.884, 0.92, 0.92, 0.89, 0.92, 0.91, 0.92, 0.926, 0.624, 0.949, 0.897, 0.92, 0.789, 0.884, 0.8959999999999999, 0.92, 0.743, 0.802, 0.7759999999999999, 0.91, 0.754, 0.624, 0.92, 0.92, 0.624, 0.754, 0.92, 0.91, 0.624, 0.925, 0.579, 0.91, 0.92, 0.6659999999999999, 0.91, 0.939, 0.92, 0.804, 0.8270000000000001, 0.92, 0.899, 0.878, 0.55, 0.754, 0.92, 0.926, 0.92, 0.92, 0.624, 0.897, 0.92, 0.92, 0.624, 0.92, 0.926, 0.92, 0.7759999999999999, 0.895, 0.92, 0.624, 0.92, 0.91, 0.762, 0.802, 0.624, 0.6659999999999999, 0.624, 0.698, 0.92, 0.804, 0.698, 0.923, 0.893, 0.92, 0.887, 0.926, 0.924, 0.91, 0.91, 0.91, 0.92, 0.878, 0.897, 0.92, 0.91, 0.926, 0.624, 0.897, 0.887, 0.579, 0.624, 0.92, 0.624, 0.624, 0.92, 0.897, 0.698, 0.92, 0.91, 0.924, 0.939, 0.855, 0.92, 0.8270000000000001, 0.698, 0.91, 0.624, 0.926, 0.92, 0.925, 0.939, 0.91, 0.91, 0.92, 0.913, 0.624, 0.92, 0.92, 0.92, 0.92, 0.92, 0.727, 0.624, 0.926, 0.767, 0.555, 0.915, 0.913, 0.926, 0.91, 0.926, 0.878, 0.92, 0.55, 0.92, 0.624, 0.92, 0.624, 0.939, 0.743, 0.55, 0.624, 0.92, 0.682, 0.926, 0.92, 0.624, 0.866, 0.92, 0.91, 0.624, 0.738, 0.624, 0.92, 0.6890000000000001, 0.92, 0.92, 0.92, 0.913, 0.92, 0.579, 0.925, 0.804, 0.92, 0.92, 0.926, 0.92, 0.939, 0.925, 0.855, 0.738, 0.926, 0.878, 0.624, 0.64, 0.926, 0.855, 0.897, 0.8270000000000001, 0.754, 0.91, 0.92, 0.92, 0.624, 0.516, 0.802, 0.92, 0.915, 0.6659999999999999, 0.698, 0.767, 0.762, 0.804, 0.926, 0.92, 0.866, 0.802, 0.92, 0.866, 0.624, 0.92, 0.939, 0.698, 0.8959999999999999, 0.92, 0.92, 0.743, 0.926, 0.92, 0.89, 0.624, 0.92, 0.91, 0.7759999999999999, 0.92, 0.92, 0.804, 0.91, 0.855, 0.92, 0.91, 0.92, 0.915, 0.579, 0.897, 0.92, 0.913, 0.92, 0.738, 0.926, 0.691, 0.915, 0.924, 0.92, 0.92, 0.897, 0.624, 0.884, 0.913, 0.92, 0.926, 0.91, 0.855, 0.92, 0.802, 0.926, 0.923, 0.794, 0.897, 0.624, 0.878, 0.682, 0.91, 0.91, 0.624, 0.92, 0.8270000000000001, 0.624, 0.92, 0.91, 0.6659999999999999, 0.92, 0.887, 0.884, 0.92, 0.698, 0.767, 0.92, 0.92, 0.92, 0.92, 0.92, 0.855, 0.92, 0.91, 0.91, 0.92, 0.897, 0.89, 0.92, 0.624, 0.92, 0.92, 0.91, 0.698, 0.926, 0.887, 0.91, 0.92, 0.91, 0.924, 0.91, 0.767, 0.92, 0.92, 0.762, 0.698, 0.804, 0.624, 0.897, 0.92, 0.624, 0.92, 0.91, 0.804, 0.92, 0.855, 0.91, 0.925, 0.624, 0.92, 0.878, 0.923, 0.92, 0.92, 0.624, 0.939, 0.926, 0.624, 0.91, 0.624, 0.512, 0.92, 0.624, 0.939, 0.926, 0.92, 0.884, 0.91, 0.92, 0.897, 0.897, 0.7759999999999999, 0.926, 0.527, 0.624, 0.887, 0.884, 0.893, 0.926, 0.624, 0.92, 0.92, 0.92, 0.843, 0.624, 0.55, 0.92, 0.92, 0.92, 0.836, 0.893, 0.624, 0.92, 0.843, 0.83, 0.897, 0.92, 0.92, 0.802, 0.92, 0.624, 0.92, 0.92, 0.804, 0.897, 0.55, 0.91, 0.939, 0.92, 0.92, 0.939, 0.624, 0.762, 0.762, 0.939, 0.91, 0.92, 0.754, 0.769, 0.92, 0.55, 0.884, 0.92, 0.624, 0.91, 0.92, 0.926, 0.926, 0.579, 0.939, 0.925, 0.92, 0.92, 0.913, 0.884, 0.91, 0.624, 0.767, 0.92, 0.92, 0.91, 0.855, 0.92, 0.92, 0.698, 0.92, 0.897, 0.624, 0.949, 0.91, 0.6890000000000001, 0.624, 0.92, 0.926, 0.855, 0.92, 0.855, 0.802, 0.698, 0.92, 0.55, 0.949, 0.92, 0.92, 0.926, 0.698, 0.92, 0.698, 0.624, 0.527, 0.926, 0.92, 0.92, 0.92, 0.83, 0.899, 0.92, 0.92, 0.897, 0.698, 0.804, 0.893, 0.698, 0.754, 0.624, 0.624, 0.691, 0.92, 0.8959999999999999, 0.624, 0.924, 0.91, 0.624, 0.92, 0.91, 0.89, 0.926, 0.897, 0.92, 0.855, 0.754, 0.92, 0.866, 0.855, 0.789, 0.92, 0.895, 0.92, 0.92, 0.698, 0.91, 0.897, 0.924, 0.939, 0.91, 0.91, 0.527, 0.804, 0.939, 0.91, 0.555, 0.624, 0.91, 0.624, 0.855, 0.624, 0.92, 0.624, 0.698, 0.727, 0.92, 0.915, 0.624, 0.92, 0.92, 0.74, 0.769, 0.698, 0.767, 0.884, 0.624, 0.579, 0.939, 0.804, 0.897, 0.698, 0.887, 0.926, 0.92, 0.92, 0.91, 0.8270000000000001, 0.624, 0.897, 0.624, 0.92, 0.91, 0.92, 0.855, 0.939, 0.682, 0.865, 0.8270000000000001, 0.92, 0.92, 0.92, 0.925, 0.924, 0.7659999999999999, 0.92, 0.78, 0.884, 0.899, 0.926, 0.92, 0.855, 0.92, 0.92, 0.926, 0.92, 0.89, 0.738, 0.624, 0.92, 0.92, 0.624, 0.92, 0.939, 0.624, 0.698, 0.903, 0.682, 0.804, 0.91, 0.924, 0.91, 0.939, 0.698, 0.92, 0.92, 0.92, 0.73, 0.92, 0.92, 0.754, 0.878, 0.847, 0.738, 0.92, 0.624, 0.924, 0.92, 0.8959999999999999, 0.92, 0.624, 0.92, 0.92, 0.698, 0.855, 0.91, 0.55, 0.92, 0.92, 0.92, 0.924, 0.897, 0.91, 0.847, 0.939, 0.926, 0.91, 0.767, 0.92, 0.555, 0.939, 0.92, 0.92, 0.92, 0.742, 0.92, 0.92, 0.698, 0.624, 0.92, 0.939, 0.926, 0.624, 0.924, 0.893, 0.926, 0.92, 0.926, 0.92, 0.92, 0.924, 0.624, 0.913, 0.624, 0.897, 0.855, 0.91, 0.91, 0.92, 0.92, 0.92, 0.92, 0.92, 0.624, 0.92, 0.92, 0.92, 0.624, 0.895, 0.624, 0.92, 0.8270000000000001, 0.698, 0.794, 0.92, 0.92, 0.804, 0.92, 0.624, 0.897, 0.92, 0.926, 0.92, 0.92, 0.92, 0.624, 0.682, 0.913, 0.92, 0.866, 0.92, 0.624, 0.836, 0.698, 0.926, 0.949, 0.802, 0.92, 0.866, 0.92, 0.92, 0.855, 0.754, 0.866, 0.789, 0.92, 0.926, 0.8959999999999999, 0.92, 0.939, 0.92, 0.802, 0.897, 0.897, 0.897, 0.926, 0.624, 0.74, 0.92, 0.915, 0.624, 0.804, 0.878, 0.8959999999999999, 0.92, 0.92, 0.624, 0.897, 0.624, 0.91, 0.897, 0.794, 0.887, 0.92, 0.926, 0.624, 0.893, 0.92, 0.92, 0.92, 0.926, 0.866, 0.92, 0.939, 0.624, 0.92, 0.624, 0.92, 0.91, 0.624, 0.913, 0.92, 0.6659999999999999, 0.91, 0.743, 0.91, 0.579, 0.624, 0.924, 0.92, 0.92, 0.624, 0.624, 0.92, 0.92, 0.579, 0.624, 0.92, 0.624, 0.92, 0.884, 0.92, 0.939, 0.939, 0.878, 0.92, 0.91, 0.92, 0.924, 0.698, 0.91, 0.843, 0.92, 0.92, 0.856, 0.8270000000000001, 0.767, 0.92, 0.92, 0.92, 0.903, 0.92, 0.92, 0.926, 0.6659999999999999, 0.895, 0.899, 0.887, 0.624, 0.91, 0.624, 0.555, 0.7759999999999999, 0.92, 0.804, 0.92, 0.92, 0.926, 0.897, 0.878, 0.92, 0.624, 0.91, 0.855, 0.555, 0.754, 0.925, 0.698, 0.754, 0.89, 0.884, 0.804, 0.836, 0.624, 0.92, 0.754, 0.763, 0.74, 0.92, 0.939, 0.92, 0.915, 0.855, 0.92, 0.804, 0.92, 0.926, 0.926, 0.802, 0.897, 0.767, 0.624, 0.624, 0.92, 0.624, 0.55, 0.579, 0.836, 0.92, 0.767, 0.624, 0.624, 0.926, 0.624, 0.624, 0.926, 0.624, 0.624, 0.92, 0.92, 0.624, 0.855, 0.893, 0.897, 0.789, 0.847, 0.92, 0.925, 0.624, 0.738, 0.767, 0.8959999999999999, 0.92, 0.624, 0.92, 0.939, 0.913, 0.866, 0.527, 0.926, 0.926, 0.855, 0.887, 0.767, 0.92, 0.92, 0.899, 0.836, 0.92, 0.893, 0.893, 0.8270000000000001, 0.794, 0.804, 0.913, 0.624, 0.624, 0.624, 0.949, 0.92, 0.887, 0.836, 0.624, 0.887, 0.624, 0.92, 0.926, 0.913, 0.802, 0.92, 0.92, 0.794, 0.92, 0.855, 0.802, 0.92, 0.855, 0.91, 0.89, 0.624, 0.855, 0.92, 0.926, 0.926, 0.926, 0.926, 0.92, 0.925, 0.92, 0.743, 0.92, 0.847, 0.624, 0.754, 0.926, 0.804, 0.624, 0.899, 0.92, 0.836, 0.92, 0.92, 0.624, 0.884, 0.925, 0.555, 0.624, 0.926, 0.92, 0.915, 0.624, 0.624, 0.887, 0.624, 0.92, 0.92, 0.698, 0.926, 0.92, 0.926, 0.92, 0.624, 0.926, 0.91, 0.624, 0.6890000000000001, 0.866, 0.624, 0.92, 0.55, 0.624, 0.92, 0.767, 0.579, 0.924, 0.92, 0.91, 0.92, 0.754, 0.91, 0.92, 0.893, 0.624, 0.92, 0.624, 0.91, 0.926, 0.92, 0.924, 0.722, 0.92, 0.624, 0.74, 0.73, 0.579, 0.92, 0.926, 0.6659999999999999, 0.92, 0.878, 0.92, 0.897, 0.836, 0.92, 0.624, 0.624, 0.698, 0.92, 0.624, 0.624, 0.624, 0.92, 0.903, 0.92, 0.92, 0.624, 0.899, 0.7659999999999999, 0.91, 0.6890000000000001, 0.913, 0.92, 0.624, 0.624, 0.743, 0.91, 0.7959999999999999, 0.884, 0.92, 0.92, 0.624, 0.92, 0.5579999999999999, 0.84, 0.92, 0.925, 0.794, 0.743, 0.939, 0.92, 0.926, 0.924, 0.624, 0.866, 0.91, 0.923, 0.518, 0.89, 0.92, 0.92, 0.92, 0.913, 0.624, 0.92, 0.92, 0.5579999999999999, 0.897, 0.903, 0.92, 0.91, 0.926, 0.866, 0.92, 0.91, 0.939, 0.92, 0.895, 0.804, 0.624, 0.926, 0.527, 0.92, 0.624, 0.6890000000000001, 0.843, 0.91, 0.624, 0.92, 0.92, 0.92, 0.92, 0.698, 0.92, 0.754, 0.865, 0.624, 0.6890000000000001, 0.855, 0.91, 0.91, 0.92, 0.925, 0.624, 0.55, 0.698, 0.926, 0.624, 0.897, 0.899, 0.804, 0.527, 0.92, 0.624, 0.624, 0.624, 0.91, 0.804, 0.926, 0.743, 0.92, 0.624, 0.8270000000000001, 0.92, 0.92, 0.84, 0.939, 0.92, 0.923, 0.92, 0.92, 0.91, 0.926, 0.899, 0.92, 0.92, 0.624, 0.92, 0.769, 0.92, 0.925, 0.722, 0.92, 0.624, 0.624, 0.925, 0.92, 0.926, 0.92, 0.92, 0.6659999999999999, 0.925, 0.92, 0.92, 0.92, 0.92, 0.92, 0.897, 0.92, 0.91, 0.698, 0.92, 0.878, 0.855, 0.926, 0.92, 0.624, 0.624, 0.91, 0.926, 0.74, 0.698, 0.754, 0.91, 0.893, 0.887, 0.92, 0.527, 0.925, 0.698, 0.624, 0.92, 0.698, 0.897, 0.92, 0.789, 0.624, 0.848, 0.624, 0.698, 0.92, 0.92, 0.91, 0.92, 0.804, 0.887, 0.855, 0.92, 0.925, 0.92, 0.91, 0.897, 0.926, 0.804, 0.92, 0.939, 0.92, 0.91, 0.91, 0.92, 0.55, 0.926, 0.92, 0.92, 0.91, 0.92, 0.5579999999999999, 0.923, 0.91, 0.624, 0.624, 0.92, 0.762, 0.926, 0.923, 0.92, 0.92, 0.92, 0.878, 0.92, 0.624, 0.91, 0.91, 0.624, 0.895, 0.89, 0.92, 0.92, 0.91, 0.92, 0.92, 0.897, 0.624, 0.913, 0.92, 0.926, 0.915, 0.895, 0.91, 0.92, 0.92, 0.579, 0.91, 0.847, 0.91, 0.887, 0.624, 0.743, 0.893, 0.895, 0.92, 0.802, 0.624, 0.624, 0.698, 0.92, 0.899, 0.92, 0.624, 0.725, 0.92, 0.624, 0.624, 0.92, 0.92, 0.6890000000000001, 0.92, 0.878, 0.92, 0.92, 0.802, 0.855], \"y0\": \" \", \"yaxis\": \"y\"}],\n",
              "                        {\"boxmode\": \"group\", \"legend\": {\"tracegroupgap\": 0}, \"template\": {\"data\": {\"bar\": [{\"error_x\": {\"color\": \"#2a3f5f\"}, \"error_y\": {\"color\": \"#2a3f5f\"}, \"marker\": {\"line\": {\"color\": \"#E5ECF6\", \"width\": 0.5}}, \"type\": \"bar\"}], \"barpolar\": [{\"marker\": {\"line\": {\"color\": \"#E5ECF6\", \"width\": 0.5}}, \"type\": \"barpolar\"}], \"carpet\": [{\"aaxis\": {\"endlinecolor\": \"#2a3f5f\", \"gridcolor\": \"white\", \"linecolor\": \"white\", \"minorgridcolor\": \"white\", \"startlinecolor\": \"#2a3f5f\"}, \"baxis\": {\"endlinecolor\": \"#2a3f5f\", \"gridcolor\": \"white\", \"linecolor\": \"white\", \"minorgridcolor\": \"white\", \"startlinecolor\": \"#2a3f5f\"}, \"type\": \"carpet\"}], \"choropleth\": [{\"colorbar\": {\"outlinewidth\": 0, \"ticks\": \"\"}, \"type\": \"choropleth\"}], \"contour\": [{\"colorbar\": {\"outlinewidth\": 0, \"ticks\": \"\"}, \"colorscale\": [[0.0, \"#0d0887\"], [0.1111111111111111, \"#46039f\"], [0.2222222222222222, \"#7201a8\"], [0.3333333333333333, \"#9c179e\"], [0.4444444444444444, \"#bd3786\"], [0.5555555555555556, \"#d8576b\"], [0.6666666666666666, \"#ed7953\"], [0.7777777777777778, \"#fb9f3a\"], [0.8888888888888888, \"#fdca26\"], [1.0, \"#f0f921\"]], \"type\": \"contour\"}], \"contourcarpet\": [{\"colorbar\": {\"outlinewidth\": 0, \"ticks\": \"\"}, \"type\": \"contourcarpet\"}], \"heatmap\": [{\"colorbar\": {\"outlinewidth\": 0, \"ticks\": \"\"}, \"colorscale\": [[0.0, \"#0d0887\"], [0.1111111111111111, \"#46039f\"], [0.2222222222222222, \"#7201a8\"], [0.3333333333333333, \"#9c179e\"], [0.4444444444444444, \"#bd3786\"], [0.5555555555555556, \"#d8576b\"], [0.6666666666666666, \"#ed7953\"], [0.7777777777777778, \"#fb9f3a\"], [0.8888888888888888, \"#fdca26\"], [1.0, \"#f0f921\"]], \"type\": \"heatmap\"}], \"heatmapgl\": [{\"colorbar\": {\"outlinewidth\": 0, \"ticks\": \"\"}, \"colorscale\": [[0.0, \"#0d0887\"], [0.1111111111111111, \"#46039f\"], [0.2222222222222222, \"#7201a8\"], [0.3333333333333333, \"#9c179e\"], [0.4444444444444444, \"#bd3786\"], [0.5555555555555556, \"#d8576b\"], [0.6666666666666666, \"#ed7953\"], [0.7777777777777778, \"#fb9f3a\"], [0.8888888888888888, \"#fdca26\"], [1.0, \"#f0f921\"]], \"type\": \"heatmapgl\"}], \"histogram\": [{\"marker\": {\"colorbar\": {\"outlinewidth\": 0, \"ticks\": \"\"}}, \"type\": \"histogram\"}], \"histogram2d\": [{\"colorbar\": {\"outlinewidth\": 0, \"ticks\": \"\"}, \"colorscale\": [[0.0, \"#0d0887\"], [0.1111111111111111, \"#46039f\"], [0.2222222222222222, \"#7201a8\"], [0.3333333333333333, \"#9c179e\"], [0.4444444444444444, \"#bd3786\"], [0.5555555555555556, \"#d8576b\"], [0.6666666666666666, \"#ed7953\"], [0.7777777777777778, \"#fb9f3a\"], [0.8888888888888888, \"#fdca26\"], [1.0, \"#f0f921\"]], \"type\": \"histogram2d\"}], \"histogram2dcontour\": [{\"colorbar\": {\"outlinewidth\": 0, \"ticks\": \"\"}, \"colorscale\": [[0.0, \"#0d0887\"], [0.1111111111111111, \"#46039f\"], [0.2222222222222222, \"#7201a8\"], [0.3333333333333333, \"#9c179e\"], [0.4444444444444444, \"#bd3786\"], [0.5555555555555556, \"#d8576b\"], [0.6666666666666666, \"#ed7953\"], [0.7777777777777778, \"#fb9f3a\"], [0.8888888888888888, \"#fdca26\"], [1.0, \"#f0f921\"]], \"type\": \"histogram2dcontour\"}], \"mesh3d\": [{\"colorbar\": {\"outlinewidth\": 0, \"ticks\": \"\"}, \"type\": \"mesh3d\"}], \"parcoords\": [{\"line\": {\"colorbar\": {\"outlinewidth\": 0, \"ticks\": \"\"}}, \"type\": \"parcoords\"}], \"pie\": [{\"automargin\": true, \"type\": \"pie\"}], \"scatter\": [{\"marker\": {\"colorbar\": {\"outlinewidth\": 0, \"ticks\": \"\"}}, \"type\": \"scatter\"}], \"scatter3d\": [{\"line\": {\"colorbar\": {\"outlinewidth\": 0, \"ticks\": \"\"}}, \"marker\": {\"colorbar\": {\"outlinewidth\": 0, \"ticks\": \"\"}}, \"type\": \"scatter3d\"}], \"scattercarpet\": [{\"marker\": {\"colorbar\": {\"outlinewidth\": 0, \"ticks\": \"\"}}, \"type\": \"scattercarpet\"}], \"scattergeo\": [{\"marker\": {\"colorbar\": {\"outlinewidth\": 0, \"ticks\": \"\"}}, \"type\": \"scattergeo\"}], \"scattergl\": [{\"marker\": {\"colorbar\": {\"outlinewidth\": 0, \"ticks\": \"\"}}, \"type\": \"scattergl\"}], \"scattermapbox\": [{\"marker\": {\"colorbar\": {\"outlinewidth\": 0, \"ticks\": \"\"}}, \"type\": \"scattermapbox\"}], \"scatterpolar\": [{\"marker\": {\"colorbar\": {\"outlinewidth\": 0, \"ticks\": \"\"}}, \"type\": \"scatterpolar\"}], \"scatterpolargl\": [{\"marker\": {\"colorbar\": {\"outlinewidth\": 0, \"ticks\": \"\"}}, \"type\": \"scatterpolargl\"}], \"scatterternary\": [{\"marker\": {\"colorbar\": {\"outlinewidth\": 0, \"ticks\": \"\"}}, \"type\": \"scatterternary\"}], \"surface\": [{\"colorbar\": {\"outlinewidth\": 0, \"ticks\": \"\"}, \"colorscale\": [[0.0, \"#0d0887\"], [0.1111111111111111, \"#46039f\"], [0.2222222222222222, \"#7201a8\"], [0.3333333333333333, \"#9c179e\"], [0.4444444444444444, \"#bd3786\"], [0.5555555555555556, \"#d8576b\"], [0.6666666666666666, \"#ed7953\"], [0.7777777777777778, \"#fb9f3a\"], [0.8888888888888888, \"#fdca26\"], [1.0, \"#f0f921\"]], \"type\": \"surface\"}], \"table\": [{\"cells\": {\"fill\": {\"color\": \"#EBF0F8\"}, \"line\": {\"color\": \"white\"}}, \"header\": {\"fill\": {\"color\": \"#C8D4E3\"}, \"line\": {\"color\": \"white\"}}, \"type\": \"table\"}]}, \"layout\": {\"annotationdefaults\": {\"arrowcolor\": \"#2a3f5f\", \"arrowhead\": 0, \"arrowwidth\": 1}, \"coloraxis\": {\"colorbar\": {\"outlinewidth\": 0, \"ticks\": \"\"}}, \"colorscale\": {\"diverging\": [[0, \"#8e0152\"], [0.1, \"#c51b7d\"], [0.2, \"#de77ae\"], [0.3, \"#f1b6da\"], [0.4, \"#fde0ef\"], [0.5, \"#f7f7f7\"], [0.6, \"#e6f5d0\"], [0.7, \"#b8e186\"], [0.8, \"#7fbc41\"], [0.9, \"#4d9221\"], [1, \"#276419\"]], \"sequential\": [[0.0, \"#0d0887\"], [0.1111111111111111, \"#46039f\"], [0.2222222222222222, \"#7201a8\"], [0.3333333333333333, \"#9c179e\"], [0.4444444444444444, \"#bd3786\"], [0.5555555555555556, \"#d8576b\"], [0.6666666666666666, \"#ed7953\"], [0.7777777777777778, \"#fb9f3a\"], [0.8888888888888888, \"#fdca26\"], [1.0, \"#f0f921\"]], \"sequentialminus\": [[0.0, \"#0d0887\"], [0.1111111111111111, \"#46039f\"], [0.2222222222222222, \"#7201a8\"], [0.3333333333333333, \"#9c179e\"], [0.4444444444444444, \"#bd3786\"], [0.5555555555555556, \"#d8576b\"], [0.6666666666666666, \"#ed7953\"], [0.7777777777777778, \"#fb9f3a\"], [0.8888888888888888, \"#fdca26\"], [1.0, \"#f0f921\"]]}, \"colorway\": [\"#636efa\", \"#EF553B\", \"#00cc96\", \"#ab63fa\", \"#FFA15A\", \"#19d3f3\", \"#FF6692\", \"#B6E880\", \"#FF97FF\", \"#FECB52\"], \"font\": {\"color\": \"#2a3f5f\"}, \"geo\": {\"bgcolor\": \"white\", \"lakecolor\": \"white\", \"landcolor\": \"#E5ECF6\", \"showlakes\": true, \"showland\": true, \"subunitcolor\": \"white\"}, \"hoverlabel\": {\"align\": \"left\"}, \"hovermode\": \"closest\", \"mapbox\": {\"style\": \"light\"}, \"paper_bgcolor\": \"white\", \"plot_bgcolor\": \"#E5ECF6\", \"polar\": {\"angularaxis\": {\"gridcolor\": \"white\", \"linecolor\": \"white\", \"ticks\": \"\"}, \"bgcolor\": \"#E5ECF6\", \"radialaxis\": {\"gridcolor\": \"white\", \"linecolor\": \"white\", \"ticks\": \"\"}}, \"scene\": {\"xaxis\": {\"backgroundcolor\": \"#E5ECF6\", \"gridcolor\": \"white\", \"gridwidth\": 2, \"linecolor\": \"white\", \"showbackground\": true, \"ticks\": \"\", \"zerolinecolor\": \"white\"}, \"yaxis\": {\"backgroundcolor\": \"#E5ECF6\", \"gridcolor\": \"white\", \"gridwidth\": 2, \"linecolor\": \"white\", \"showbackground\": true, \"ticks\": \"\", \"zerolinecolor\": \"white\"}, \"zaxis\": {\"backgroundcolor\": \"#E5ECF6\", \"gridcolor\": \"white\", \"gridwidth\": 2, \"linecolor\": \"white\", \"showbackground\": true, \"ticks\": \"\", \"zerolinecolor\": \"white\"}}, \"shapedefaults\": {\"line\": {\"color\": \"#2a3f5f\"}}, \"ternary\": {\"aaxis\": {\"gridcolor\": \"white\", \"linecolor\": \"white\", \"ticks\": \"\"}, \"baxis\": {\"gridcolor\": \"white\", \"linecolor\": \"white\", \"ticks\": \"\"}, \"bgcolor\": \"#E5ECF6\", \"caxis\": {\"gridcolor\": \"white\", \"linecolor\": \"white\", \"ticks\": \"\"}}, \"title\": {\"x\": 0.05}, \"xaxis\": {\"automargin\": true, \"gridcolor\": \"white\", \"linecolor\": \"white\", \"ticks\": \"\", \"title\": {\"standoff\": 15}, \"zerolinecolor\": \"white\", \"zerolinewidth\": 2}, \"yaxis\": {\"automargin\": true, \"gridcolor\": \"white\", \"linecolor\": \"white\", \"ticks\": \"\", \"title\": {\"standoff\": 15}, \"zerolinecolor\": \"white\", \"zerolinewidth\": 2}}}, \"title\": {\"text\": \"Relation of city development index with individuals looking for a job\", \"x\": 0.5, \"xanchor\": \"center\", \"y\": 0.9, \"yanchor\": \"top\"}, \"xaxis\": {\"anchor\": \"y\", \"domain\": [0.0, 1.0], \"title\": {\"text\": \"looking_for_job\"}}, \"yaxis\": {\"anchor\": \"x\", \"domain\": [0.0, 1.0], \"title\": {\"text\": \"city_development_index\"}}},\n",
              "                        {\"responsive\": true}\n",
              "                    ).then(function(){\n",
              "                            \n",
              "var gd = document.getElementById('51c894e3-6d18-4335-be35-d8319f936eda');\n",
              "var x = new MutationObserver(function (mutations, observer) {{\n",
              "        var display = window.getComputedStyle(gd).display;\n",
              "        if (!display || display === 'none') {{\n",
              "            console.log([gd, 'removed!']);\n",
              "            Plotly.purge(gd);\n",
              "            observer.disconnect();\n",
              "        }}\n",
              "}});\n",
              "\n",
              "// Listen for the removal of the full notebook cells\n",
              "var notebookContainer = gd.closest('#notebook-container');\n",
              "if (notebookContainer) {{\n",
              "    x.observe(notebookContainer, {childList: true});\n",
              "}}\n",
              "\n",
              "// Listen for the clearing of the current output cell\n",
              "var outputEl = gd.closest('.output');\n",
              "if (outputEl) {{\n",
              "    x.observe(outputEl, {childList: true});\n",
              "}}\n",
              "\n",
              "                        })\n",
              "                };\n",
              "                \n",
              "            </script>\n",
              "        </div>\n",
              "</body>\n",
              "</html>"
            ]
          },
          "metadata": {
            "tags": []
          }
        }
      ]
    },
    {
      "cell_type": "code",
      "metadata": {
        "id": "2REwORrrE_NP",
        "colab": {
          "base_uri": "https://localhost:8080/",
          "height": 767
        },
        "outputId": "640403c3-523b-4abd-93fb-aca6f0b178ce"
      },
      "source": [
        "\n",
        "cor = df_train.corr()\n",
        "# fig = ff.create_annotated_heatmap(x =list(df_train.corr().keys()),y =list(df_train.corr().keys()), z=cor,colorscale='Viridis')\n",
        "# fig.show()\n",
        "\n",
        "trace = plotly.graph_objs.Heatmap(x =list(df_train.corr().keys()),y =list(df_train.corr().keys()), z=cor)\n",
        "data=[trace]\n",
        "fig = plotly.graph_objs.FigureWidget(data=data)\n",
        "fig.update_layout(\n",
        "    title={\n",
        "        'text': \"Correlation matrix\",\n",
        "        'y':0.9,\n",
        "        'x':0.5,\n",
        "        'xanchor': 'center',\n",
        "        'yanchor': 'top'})\n",
        "fig.layout.height = 750\n",
        "fig.layout.width =750\n",
        "plotly.offline.iplot(fig)\n",
        "\n",
        "#run again"
      ],
      "execution_count": null,
      "outputs": [
        {
          "output_type": "display_data",
          "data": {
            "text/html": [
              "<html>\n",
              "<head><meta charset=\"utf-8\" /></head>\n",
              "<body>\n",
              "    <div>\n",
              "            <script src=\"https://cdnjs.cloudflare.com/ajax/libs/mathjax/2.7.5/MathJax.js?config=TeX-AMS-MML_SVG\"></script><script type=\"text/javascript\">if (window.MathJax) {MathJax.Hub.Config({SVG: {font: \"STIX-Web\"}});}</script>\n",
              "                <script type=\"text/javascript\">window.PlotlyConfig = {MathJaxConfig: 'local'};</script>\n",
              "        <script src=\"https://cdn.plot.ly/plotly-latest.min.js\"></script>    \n",
              "            <div id=\"1d961cfa-d400-4ce2-a0b7-98ec26130d5c\" class=\"plotly-graph-div\" style=\"height:750px; width:750px;\"></div>\n",
              "            <script type=\"text/javascript\">\n",
              "                \n",
              "                    window.PLOTLYENV=window.PLOTLYENV || {};\n",
              "                    \n",
              "                if (document.getElementById(\"1d961cfa-d400-4ce2-a0b7-98ec26130d5c\")) {\n",
              "                    Plotly.newPlot(\n",
              "                        '1d961cfa-d400-4ce2-a0b7-98ec26130d5c',\n",
              "                        [{\"type\": \"heatmap\", \"uid\": \"18dbd762-eec8-4827-9062-02f94ee3922a\", \"x\": [\"enrollee_id\", \"city_development_index\", \"relevent_experience\", \"last_new_job\", \"training_hours\", \"looking_for_job\"], \"y\": [\"enrollee_id\", \"city_development_index\", \"relevent_experience\", \"last_new_job\", \"training_hours\", \"looking_for_job\"], \"z\": [[1.0, -0.040029461025172366, -0.04762987712690091, -0.03161322619145439, -0.00037964153462243704, 0.049281406713382096], [-0.040029461025172366, 1.0, 0.05842631845201454, 0.1884122240794093, 0.0026481248176357932, -0.33623401910551326], [-0.04762987712690091, 0.05842631845201454, 1.0, 0.23291097289688292, 0.01542016984557678, -0.13548955834377205], [-0.03161322619145439, 0.1884122240794093, 0.23291097289688292, 1.0, -0.0038229989704243023, -0.08666887270528054], [-0.00037964153462243704, 0.0026481248176357932, 0.01542016984557678, -0.0038229989704243023, 1.0, -0.02242420063372277], [0.049281406713382096, -0.33623401910551326, -0.13548955834377205, -0.08666887270528054, -0.02242420063372277, 1.0]]}],\n",
              "                        {\"height\": 750, \"template\": {\"data\": {\"bar\": [{\"error_x\": {\"color\": \"#2a3f5f\"}, \"error_y\": {\"color\": \"#2a3f5f\"}, \"marker\": {\"line\": {\"color\": \"#E5ECF6\", \"width\": 0.5}}, \"type\": \"bar\"}], \"barpolar\": [{\"marker\": {\"line\": {\"color\": \"#E5ECF6\", \"width\": 0.5}}, \"type\": \"barpolar\"}], \"carpet\": [{\"aaxis\": {\"endlinecolor\": \"#2a3f5f\", \"gridcolor\": \"white\", \"linecolor\": \"white\", \"minorgridcolor\": \"white\", \"startlinecolor\": \"#2a3f5f\"}, \"baxis\": {\"endlinecolor\": \"#2a3f5f\", \"gridcolor\": \"white\", \"linecolor\": \"white\", \"minorgridcolor\": \"white\", \"startlinecolor\": \"#2a3f5f\"}, \"type\": \"carpet\"}], \"choropleth\": [{\"colorbar\": {\"outlinewidth\": 0, \"ticks\": \"\"}, \"type\": \"choropleth\"}], \"contour\": [{\"colorbar\": {\"outlinewidth\": 0, \"ticks\": \"\"}, \"colorscale\": [[0.0, \"#0d0887\"], [0.1111111111111111, \"#46039f\"], [0.2222222222222222, \"#7201a8\"], [0.3333333333333333, \"#9c179e\"], [0.4444444444444444, \"#bd3786\"], [0.5555555555555556, \"#d8576b\"], [0.6666666666666666, \"#ed7953\"], [0.7777777777777778, \"#fb9f3a\"], [0.8888888888888888, \"#fdca26\"], [1.0, \"#f0f921\"]], \"type\": \"contour\"}], \"contourcarpet\": [{\"colorbar\": {\"outlinewidth\": 0, \"ticks\": \"\"}, \"type\": \"contourcarpet\"}], \"heatmap\": [{\"colorbar\": {\"outlinewidth\": 0, \"ticks\": \"\"}, \"colorscale\": [[0.0, \"#0d0887\"], [0.1111111111111111, \"#46039f\"], [0.2222222222222222, \"#7201a8\"], [0.3333333333333333, \"#9c179e\"], [0.4444444444444444, \"#bd3786\"], [0.5555555555555556, \"#d8576b\"], [0.6666666666666666, \"#ed7953\"], [0.7777777777777778, \"#fb9f3a\"], [0.8888888888888888, \"#fdca26\"], [1.0, \"#f0f921\"]], \"type\": \"heatmap\"}], \"heatmapgl\": [{\"colorbar\": {\"outlinewidth\": 0, \"ticks\": \"\"}, \"colorscale\": [[0.0, \"#0d0887\"], [0.1111111111111111, \"#46039f\"], [0.2222222222222222, \"#7201a8\"], [0.3333333333333333, \"#9c179e\"], [0.4444444444444444, \"#bd3786\"], [0.5555555555555556, \"#d8576b\"], [0.6666666666666666, \"#ed7953\"], [0.7777777777777778, \"#fb9f3a\"], [0.8888888888888888, \"#fdca26\"], [1.0, \"#f0f921\"]], \"type\": \"heatmapgl\"}], \"histogram\": [{\"marker\": {\"colorbar\": {\"outlinewidth\": 0, \"ticks\": \"\"}}, \"type\": \"histogram\"}], \"histogram2d\": [{\"colorbar\": {\"outlinewidth\": 0, \"ticks\": \"\"}, \"colorscale\": [[0.0, \"#0d0887\"], [0.1111111111111111, \"#46039f\"], [0.2222222222222222, \"#7201a8\"], [0.3333333333333333, \"#9c179e\"], [0.4444444444444444, \"#bd3786\"], [0.5555555555555556, \"#d8576b\"], [0.6666666666666666, \"#ed7953\"], [0.7777777777777778, \"#fb9f3a\"], [0.8888888888888888, \"#fdca26\"], [1.0, \"#f0f921\"]], \"type\": \"histogram2d\"}], \"histogram2dcontour\": [{\"colorbar\": {\"outlinewidth\": 0, \"ticks\": \"\"}, \"colorscale\": [[0.0, \"#0d0887\"], [0.1111111111111111, \"#46039f\"], [0.2222222222222222, \"#7201a8\"], [0.3333333333333333, \"#9c179e\"], [0.4444444444444444, \"#bd3786\"], [0.5555555555555556, \"#d8576b\"], [0.6666666666666666, \"#ed7953\"], [0.7777777777777778, \"#fb9f3a\"], [0.8888888888888888, \"#fdca26\"], [1.0, \"#f0f921\"]], \"type\": \"histogram2dcontour\"}], \"mesh3d\": [{\"colorbar\": {\"outlinewidth\": 0, \"ticks\": \"\"}, \"type\": \"mesh3d\"}], \"parcoords\": [{\"line\": {\"colorbar\": {\"outlinewidth\": 0, \"ticks\": \"\"}}, \"type\": \"parcoords\"}], \"pie\": [{\"automargin\": true, \"type\": \"pie\"}], \"scatter\": [{\"marker\": {\"colorbar\": {\"outlinewidth\": 0, \"ticks\": \"\"}}, \"type\": \"scatter\"}], \"scatter3d\": [{\"line\": {\"colorbar\": {\"outlinewidth\": 0, \"ticks\": \"\"}}, \"marker\": {\"colorbar\": {\"outlinewidth\": 0, \"ticks\": \"\"}}, \"type\": \"scatter3d\"}], \"scattercarpet\": [{\"marker\": {\"colorbar\": {\"outlinewidth\": 0, \"ticks\": \"\"}}, \"type\": \"scattercarpet\"}], \"scattergeo\": [{\"marker\": {\"colorbar\": {\"outlinewidth\": 0, \"ticks\": \"\"}}, \"type\": \"scattergeo\"}], \"scattergl\": [{\"marker\": {\"colorbar\": {\"outlinewidth\": 0, \"ticks\": \"\"}}, \"type\": \"scattergl\"}], \"scattermapbox\": [{\"marker\": {\"colorbar\": {\"outlinewidth\": 0, \"ticks\": \"\"}}, \"type\": \"scattermapbox\"}], \"scatterpolar\": [{\"marker\": {\"colorbar\": {\"outlinewidth\": 0, \"ticks\": \"\"}}, \"type\": \"scatterpolar\"}], \"scatterpolargl\": [{\"marker\": {\"colorbar\": {\"outlinewidth\": 0, \"ticks\": \"\"}}, \"type\": \"scatterpolargl\"}], \"scatterternary\": [{\"marker\": {\"colorbar\": {\"outlinewidth\": 0, \"ticks\": \"\"}}, \"type\": \"scatterternary\"}], \"surface\": [{\"colorbar\": {\"outlinewidth\": 0, \"ticks\": \"\"}, \"colorscale\": [[0.0, \"#0d0887\"], [0.1111111111111111, \"#46039f\"], [0.2222222222222222, \"#7201a8\"], [0.3333333333333333, \"#9c179e\"], [0.4444444444444444, \"#bd3786\"], [0.5555555555555556, \"#d8576b\"], [0.6666666666666666, \"#ed7953\"], [0.7777777777777778, \"#fb9f3a\"], [0.8888888888888888, \"#fdca26\"], [1.0, \"#f0f921\"]], \"type\": \"surface\"}], \"table\": [{\"cells\": {\"fill\": {\"color\": \"#EBF0F8\"}, \"line\": {\"color\": \"white\"}}, \"header\": {\"fill\": {\"color\": \"#C8D4E3\"}, \"line\": {\"color\": \"white\"}}, \"type\": \"table\"}]}, \"layout\": {\"annotationdefaults\": {\"arrowcolor\": \"#2a3f5f\", \"arrowhead\": 0, \"arrowwidth\": 1}, \"coloraxis\": {\"colorbar\": {\"outlinewidth\": 0, \"ticks\": \"\"}}, \"colorscale\": {\"diverging\": [[0, \"#8e0152\"], [0.1, \"#c51b7d\"], [0.2, \"#de77ae\"], [0.3, \"#f1b6da\"], [0.4, \"#fde0ef\"], [0.5, \"#f7f7f7\"], [0.6, \"#e6f5d0\"], [0.7, \"#b8e186\"], [0.8, \"#7fbc41\"], [0.9, \"#4d9221\"], [1, \"#276419\"]], \"sequential\": [[0.0, \"#0d0887\"], [0.1111111111111111, \"#46039f\"], [0.2222222222222222, \"#7201a8\"], [0.3333333333333333, \"#9c179e\"], [0.4444444444444444, \"#bd3786\"], [0.5555555555555556, \"#d8576b\"], [0.6666666666666666, \"#ed7953\"], [0.7777777777777778, \"#fb9f3a\"], [0.8888888888888888, \"#fdca26\"], [1.0, \"#f0f921\"]], \"sequentialminus\": [[0.0, \"#0d0887\"], [0.1111111111111111, \"#46039f\"], [0.2222222222222222, \"#7201a8\"], [0.3333333333333333, \"#9c179e\"], [0.4444444444444444, \"#bd3786\"], [0.5555555555555556, \"#d8576b\"], [0.6666666666666666, \"#ed7953\"], [0.7777777777777778, \"#fb9f3a\"], [0.8888888888888888, \"#fdca26\"], [1.0, \"#f0f921\"]]}, \"colorway\": [\"#636efa\", \"#EF553B\", \"#00cc96\", \"#ab63fa\", \"#FFA15A\", \"#19d3f3\", \"#FF6692\", \"#B6E880\", \"#FF97FF\", \"#FECB52\"], \"font\": {\"color\": \"#2a3f5f\"}, \"geo\": {\"bgcolor\": \"white\", \"lakecolor\": \"white\", \"landcolor\": \"#E5ECF6\", \"showlakes\": true, \"showland\": true, \"subunitcolor\": \"white\"}, \"hoverlabel\": {\"align\": \"left\"}, \"hovermode\": \"closest\", \"mapbox\": {\"style\": \"light\"}, \"paper_bgcolor\": \"white\", \"plot_bgcolor\": \"#E5ECF6\", \"polar\": {\"angularaxis\": {\"gridcolor\": \"white\", \"linecolor\": \"white\", \"ticks\": \"\"}, \"bgcolor\": \"#E5ECF6\", \"radialaxis\": {\"gridcolor\": \"white\", \"linecolor\": \"white\", \"ticks\": \"\"}}, \"scene\": {\"xaxis\": {\"backgroundcolor\": \"#E5ECF6\", \"gridcolor\": \"white\", \"gridwidth\": 2, \"linecolor\": \"white\", \"showbackground\": true, \"ticks\": \"\", \"zerolinecolor\": \"white\"}, \"yaxis\": {\"backgroundcolor\": \"#E5ECF6\", \"gridcolor\": \"white\", \"gridwidth\": 2, \"linecolor\": \"white\", \"showbackground\": true, \"ticks\": \"\", \"zerolinecolor\": \"white\"}, \"zaxis\": {\"backgroundcolor\": \"#E5ECF6\", \"gridcolor\": \"white\", \"gridwidth\": 2, \"linecolor\": \"white\", \"showbackground\": true, \"ticks\": \"\", \"zerolinecolor\": \"white\"}}, \"shapedefaults\": {\"line\": {\"color\": \"#2a3f5f\"}}, \"ternary\": {\"aaxis\": {\"gridcolor\": \"white\", \"linecolor\": \"white\", \"ticks\": \"\"}, \"baxis\": {\"gridcolor\": \"white\", \"linecolor\": \"white\", \"ticks\": \"\"}, \"bgcolor\": \"#E5ECF6\", \"caxis\": {\"gridcolor\": \"white\", \"linecolor\": \"white\", \"ticks\": \"\"}}, \"title\": {\"x\": 0.05}, \"xaxis\": {\"automargin\": true, \"gridcolor\": \"white\", \"linecolor\": \"white\", \"ticks\": \"\", \"title\": {\"standoff\": 15}, \"zerolinecolor\": \"white\", \"zerolinewidth\": 2}, \"yaxis\": {\"automargin\": true, \"gridcolor\": \"white\", \"linecolor\": \"white\", \"ticks\": \"\", \"title\": {\"standoff\": 15}, \"zerolinecolor\": \"white\", \"zerolinewidth\": 2}}}, \"title\": {\"text\": \"Correlation matrix\", \"x\": 0.5, \"xanchor\": \"center\", \"y\": 0.9, \"yanchor\": \"top\"}, \"width\": 750},\n",
              "                        {\"responsive\": true}\n",
              "                    ).then(function(){\n",
              "                            \n",
              "var gd = document.getElementById('1d961cfa-d400-4ce2-a0b7-98ec26130d5c');\n",
              "var x = new MutationObserver(function (mutations, observer) {{\n",
              "        var display = window.getComputedStyle(gd).display;\n",
              "        if (!display || display === 'none') {{\n",
              "            console.log([gd, 'removed!']);\n",
              "            Plotly.purge(gd);\n",
              "            observer.disconnect();\n",
              "        }}\n",
              "}});\n",
              "\n",
              "// Listen for the removal of the full notebook cells\n",
              "var notebookContainer = gd.closest('#notebook-container');\n",
              "if (notebookContainer) {{\n",
              "    x.observe(notebookContainer, {childList: true});\n",
              "}}\n",
              "\n",
              "// Listen for the clearing of the current output cell\n",
              "var outputEl = gd.closest('.output');\n",
              "if (outputEl) {{\n",
              "    x.observe(outputEl, {childList: true});\n",
              "}}\n",
              "\n",
              "                        })\n",
              "                };\n",
              "                \n",
              "            </script>\n",
              "        </div>\n",
              "</body>\n",
              "</html>"
            ]
          },
          "metadata": {
            "tags": []
          }
        }
      ]
    },
    {
      "cell_type": "code",
      "metadata": {
        "id": "HI73k2vOG60j",
        "colab": {
          "base_uri": "https://localhost:8080/"
        },
        "outputId": "fd6ac8eb-139d-494f-9a78-5d261a54191c"
      },
      "source": [
        "df_train.corr().keys()"
      ],
      "execution_count": null,
      "outputs": [
        {
          "output_type": "execute_result",
          "data": {
            "text/plain": [
              "Index(['enrollee_id', 'city_development_index', 'relevent_experience',\n",
              "       'last_new_job', 'training_hours', 'looking_for_job'],\n",
              "      dtype='object')"
            ]
          },
          "metadata": {
            "tags": []
          },
          "execution_count": 19
        }
      ]
    },
    {
      "cell_type": "code",
      "metadata": {
        "id": "7MJl8fNBH-0o",
        "colab": {
          "base_uri": "https://localhost:8080/",
          "height": 542
        },
        "outputId": "d5d74916-0e44-48d4-e667-bfb0e8fd11a5"
      },
      "source": [
        "fig = go.Figure()\n",
        "fig.add_trace(go.Bar(y=df_train.city.value_counts(),\n",
        "                      x = list(df_train.city.value_counts().keys()))\n",
        "\n",
        ")\n",
        "fig.update_layout(\n",
        "    xaxis_title=\"city\",\n",
        "    yaxis_title=\"Number of employees\",)\n",
        "fig.update_layout(\n",
        "    title={\n",
        "        'text':\"Number of employees in each city\",\n",
        "        'y':0.9,\n",
        "        'x':0.5,\n",
        "        'xanchor': 'center',\n",
        "        'yanchor': 'top'})\n",
        "fig.show()\n",
        "\n",
        "\n",
        "\n",
        "\n",
        "\n"
      ],
      "execution_count": null,
      "outputs": [
        {
          "output_type": "display_data",
          "data": {
            "text/html": [
              "<html>\n",
              "<head><meta charset=\"utf-8\" /></head>\n",
              "<body>\n",
              "    <div>\n",
              "            <script src=\"https://cdnjs.cloudflare.com/ajax/libs/mathjax/2.7.5/MathJax.js?config=TeX-AMS-MML_SVG\"></script><script type=\"text/javascript\">if (window.MathJax) {MathJax.Hub.Config({SVG: {font: \"STIX-Web\"}});}</script>\n",
              "                <script type=\"text/javascript\">window.PlotlyConfig = {MathJaxConfig: 'local'};</script>\n",
              "        <script src=\"https://cdn.plot.ly/plotly-latest.min.js\"></script>    \n",
              "            <div id=\"4d028817-dcc8-4844-b40f-7ddefc42c5a4\" class=\"plotly-graph-div\" style=\"height:525px; width:100%;\"></div>\n",
              "            <script type=\"text/javascript\">\n",
              "                \n",
              "                    window.PLOTLYENV=window.PLOTLYENV || {};\n",
              "                    \n",
              "                if (document.getElementById(\"4d028817-dcc8-4844-b40f-7ddefc42c5a4\")) {\n",
              "                    Plotly.newPlot(\n",
              "                        '4d028817-dcc8-4844-b40f-7ddefc42c5a4',\n",
              "                        [{\"type\": \"bar\", \"x\": [\"city_103\", \"city_21\", \"city_16\", \"city_114\", \"city_160\", \"city_136\", \"city_67\", \"city_75\", \"city_104\", \"city_102\", \"city_73\", \"city_100\", \"city_71\", \"city_11\", \"city_61\", \"city_28\", \"city_90\", \"city_23\", \"city_65\", \"city_36\", \"city_173\", \"city_83\", \"city_50\", \"city_46\", \"city_116\", \"city_162\", \"city_138\", \"city_64\", \"city_45\", \"city_19\", \"city_57\", \"city_97\", \"city_74\", \"city_99\", \"city_159\", \"city_128\", \"city_149\", \"city_41\", \"city_10\", \"city_98\", \"city_165\", \"city_105\", \"city_101\", \"city_123\", \"city_89\", \"city_40\", \"city_145\", \"city_150\", \"city_24\", \"city_115\", \"city_142\", \"city_158\", \"city_13\", \"city_76\", \"city_152\", \"city_27\", \"city_70\", \"city_91\", \"city_143\", \"city_77\", \"city_78\", \"city_20\", \"city_7\", \"city_14\", \"city_144\", \"city_141\", \"city_118\", \"city_1\", \"city_93\", \"city_53\", \"city_84\", \"city_94\", \"city_134\", \"city_157\", \"city_30\", \"city_176\", \"city_26\", \"city_72\", \"city_44\", \"city_69\", \"city_33\", \"city_126\", \"city_9\", \"city_54\", \"city_175\", \"city_12\", \"city_155\", \"city_48\", \"city_37\", \"city_117\", \"city_55\", \"city_39\", \"city_43\", \"city_80\", \"city_133\", \"city_42\", \"city_167\", \"city_59\", \"city_106\", \"city_131\", \"city_127\", \"city_109\", \"city_180\", \"city_2\", \"city_81\", \"city_107\", \"city_146\", \"city_179\", \"city_62\", \"city_120\", \"city_25\", \"city_18\", \"city_31\", \"city_139\", \"city_79\", \"city_121\", \"city_111\", \"city_82\", \"city_166\", \"city_129\", \"city_8\", \"city_171\", \"city_140\"], \"y\": [4194, 2454, 1471, 1254, 817, 542, 414, 295, 287, 287, 270, 259, 256, 231, 191, 183, 178, 173, 165, 154, 140, 139, 135, 122, 116, 115, 114, 110, 107, 105, 101, 99, 91, 91, 91, 90, 85, 83, 82, 77, 74, 71, 70, 68, 65, 63, 60, 55, 55, 52, 50, 47, 45, 45, 44, 44, 39, 38, 33, 30, 28, 27, 27, 27, 26, 26, 25, 25, 24, 24, 24, 24, 22, 21, 20, 20, 20, 18, 16, 16, 15, 15, 15, 14, 14, 13, 13, 13, 12, 12, 12, 11, 11, 10, 10, 10, 10, 9, 9, 9, 8, 8, 7, 7, 7, 6, 6, 5, 5, 5, 4, 4, 4, 4, 3, 3, 3, 3, 3, 2, 2, 1, 1]}],\n",
              "                        {\"template\": {\"data\": {\"bar\": [{\"error_x\": {\"color\": \"#2a3f5f\"}, \"error_y\": {\"color\": \"#2a3f5f\"}, \"marker\": {\"line\": {\"color\": \"#E5ECF6\", \"width\": 0.5}}, \"type\": \"bar\"}], \"barpolar\": [{\"marker\": {\"line\": {\"color\": \"#E5ECF6\", \"width\": 0.5}}, \"type\": \"barpolar\"}], \"carpet\": [{\"aaxis\": {\"endlinecolor\": \"#2a3f5f\", \"gridcolor\": \"white\", \"linecolor\": \"white\", \"minorgridcolor\": \"white\", \"startlinecolor\": \"#2a3f5f\"}, \"baxis\": {\"endlinecolor\": \"#2a3f5f\", \"gridcolor\": \"white\", \"linecolor\": \"white\", \"minorgridcolor\": \"white\", \"startlinecolor\": \"#2a3f5f\"}, \"type\": \"carpet\"}], \"choropleth\": [{\"colorbar\": {\"outlinewidth\": 0, \"ticks\": \"\"}, \"type\": \"choropleth\"}], \"contour\": [{\"colorbar\": {\"outlinewidth\": 0, \"ticks\": \"\"}, \"colorscale\": [[0.0, \"#0d0887\"], [0.1111111111111111, \"#46039f\"], [0.2222222222222222, \"#7201a8\"], [0.3333333333333333, \"#9c179e\"], [0.4444444444444444, \"#bd3786\"], [0.5555555555555556, \"#d8576b\"], [0.6666666666666666, \"#ed7953\"], [0.7777777777777778, \"#fb9f3a\"], [0.8888888888888888, \"#fdca26\"], [1.0, \"#f0f921\"]], \"type\": \"contour\"}], \"contourcarpet\": [{\"colorbar\": {\"outlinewidth\": 0, \"ticks\": \"\"}, \"type\": \"contourcarpet\"}], \"heatmap\": [{\"colorbar\": {\"outlinewidth\": 0, \"ticks\": \"\"}, \"colorscale\": [[0.0, \"#0d0887\"], [0.1111111111111111, \"#46039f\"], [0.2222222222222222, \"#7201a8\"], [0.3333333333333333, \"#9c179e\"], [0.4444444444444444, \"#bd3786\"], [0.5555555555555556, \"#d8576b\"], [0.6666666666666666, \"#ed7953\"], [0.7777777777777778, \"#fb9f3a\"], [0.8888888888888888, \"#fdca26\"], [1.0, \"#f0f921\"]], \"type\": \"heatmap\"}], \"heatmapgl\": [{\"colorbar\": {\"outlinewidth\": 0, \"ticks\": \"\"}, \"colorscale\": [[0.0, \"#0d0887\"], [0.1111111111111111, \"#46039f\"], [0.2222222222222222, \"#7201a8\"], [0.3333333333333333, \"#9c179e\"], [0.4444444444444444, \"#bd3786\"], [0.5555555555555556, \"#d8576b\"], [0.6666666666666666, \"#ed7953\"], [0.7777777777777778, \"#fb9f3a\"], [0.8888888888888888, \"#fdca26\"], [1.0, \"#f0f921\"]], \"type\": \"heatmapgl\"}], \"histogram\": [{\"marker\": {\"colorbar\": {\"outlinewidth\": 0, \"ticks\": \"\"}}, \"type\": \"histogram\"}], \"histogram2d\": [{\"colorbar\": {\"outlinewidth\": 0, \"ticks\": \"\"}, \"colorscale\": [[0.0, \"#0d0887\"], [0.1111111111111111, \"#46039f\"], [0.2222222222222222, \"#7201a8\"], [0.3333333333333333, \"#9c179e\"], [0.4444444444444444, \"#bd3786\"], [0.5555555555555556, \"#d8576b\"], [0.6666666666666666, \"#ed7953\"], [0.7777777777777778, \"#fb9f3a\"], [0.8888888888888888, \"#fdca26\"], [1.0, \"#f0f921\"]], \"type\": \"histogram2d\"}], \"histogram2dcontour\": [{\"colorbar\": {\"outlinewidth\": 0, \"ticks\": \"\"}, \"colorscale\": [[0.0, \"#0d0887\"], [0.1111111111111111, \"#46039f\"], [0.2222222222222222, \"#7201a8\"], [0.3333333333333333, \"#9c179e\"], [0.4444444444444444, \"#bd3786\"], [0.5555555555555556, \"#d8576b\"], [0.6666666666666666, \"#ed7953\"], [0.7777777777777778, \"#fb9f3a\"], [0.8888888888888888, \"#fdca26\"], [1.0, \"#f0f921\"]], \"type\": \"histogram2dcontour\"}], \"mesh3d\": [{\"colorbar\": {\"outlinewidth\": 0, \"ticks\": \"\"}, \"type\": \"mesh3d\"}], \"parcoords\": [{\"line\": {\"colorbar\": {\"outlinewidth\": 0, \"ticks\": \"\"}}, \"type\": \"parcoords\"}], \"pie\": [{\"automargin\": true, \"type\": \"pie\"}], \"scatter\": [{\"marker\": {\"colorbar\": {\"outlinewidth\": 0, \"ticks\": \"\"}}, \"type\": \"scatter\"}], \"scatter3d\": [{\"line\": {\"colorbar\": {\"outlinewidth\": 0, \"ticks\": \"\"}}, \"marker\": {\"colorbar\": {\"outlinewidth\": 0, \"ticks\": \"\"}}, \"type\": \"scatter3d\"}], \"scattercarpet\": [{\"marker\": {\"colorbar\": {\"outlinewidth\": 0, \"ticks\": \"\"}}, \"type\": \"scattercarpet\"}], \"scattergeo\": [{\"marker\": {\"colorbar\": {\"outlinewidth\": 0, \"ticks\": \"\"}}, \"type\": \"scattergeo\"}], \"scattergl\": [{\"marker\": {\"colorbar\": {\"outlinewidth\": 0, \"ticks\": \"\"}}, \"type\": \"scattergl\"}], \"scattermapbox\": [{\"marker\": {\"colorbar\": {\"outlinewidth\": 0, \"ticks\": \"\"}}, \"type\": \"scattermapbox\"}], \"scatterpolar\": [{\"marker\": {\"colorbar\": {\"outlinewidth\": 0, \"ticks\": \"\"}}, \"type\": \"scatterpolar\"}], \"scatterpolargl\": [{\"marker\": {\"colorbar\": {\"outlinewidth\": 0, \"ticks\": \"\"}}, \"type\": \"scatterpolargl\"}], \"scatterternary\": [{\"marker\": {\"colorbar\": {\"outlinewidth\": 0, \"ticks\": \"\"}}, \"type\": \"scatterternary\"}], \"surface\": [{\"colorbar\": {\"outlinewidth\": 0, \"ticks\": \"\"}, \"colorscale\": [[0.0, \"#0d0887\"], [0.1111111111111111, \"#46039f\"], [0.2222222222222222, \"#7201a8\"], [0.3333333333333333, \"#9c179e\"], [0.4444444444444444, \"#bd3786\"], [0.5555555555555556, \"#d8576b\"], [0.6666666666666666, \"#ed7953\"], [0.7777777777777778, \"#fb9f3a\"], [0.8888888888888888, \"#fdca26\"], [1.0, \"#f0f921\"]], \"type\": \"surface\"}], \"table\": [{\"cells\": {\"fill\": {\"color\": \"#EBF0F8\"}, \"line\": {\"color\": \"white\"}}, \"header\": {\"fill\": {\"color\": \"#C8D4E3\"}, \"line\": {\"color\": \"white\"}}, \"type\": \"table\"}]}, \"layout\": {\"annotationdefaults\": {\"arrowcolor\": \"#2a3f5f\", \"arrowhead\": 0, \"arrowwidth\": 1}, \"coloraxis\": {\"colorbar\": {\"outlinewidth\": 0, \"ticks\": \"\"}}, \"colorscale\": {\"diverging\": [[0, \"#8e0152\"], [0.1, \"#c51b7d\"], [0.2, \"#de77ae\"], [0.3, \"#f1b6da\"], [0.4, \"#fde0ef\"], [0.5, \"#f7f7f7\"], [0.6, \"#e6f5d0\"], [0.7, \"#b8e186\"], [0.8, \"#7fbc41\"], [0.9, \"#4d9221\"], [1, \"#276419\"]], \"sequential\": [[0.0, \"#0d0887\"], [0.1111111111111111, \"#46039f\"], [0.2222222222222222, \"#7201a8\"], [0.3333333333333333, \"#9c179e\"], [0.4444444444444444, \"#bd3786\"], [0.5555555555555556, \"#d8576b\"], [0.6666666666666666, \"#ed7953\"], [0.7777777777777778, \"#fb9f3a\"], [0.8888888888888888, \"#fdca26\"], [1.0, \"#f0f921\"]], \"sequentialminus\": [[0.0, \"#0d0887\"], [0.1111111111111111, \"#46039f\"], [0.2222222222222222, \"#7201a8\"], [0.3333333333333333, \"#9c179e\"], [0.4444444444444444, \"#bd3786\"], [0.5555555555555556, \"#d8576b\"], [0.6666666666666666, \"#ed7953\"], [0.7777777777777778, \"#fb9f3a\"], [0.8888888888888888, \"#fdca26\"], [1.0, \"#f0f921\"]]}, \"colorway\": [\"#636efa\", \"#EF553B\", \"#00cc96\", \"#ab63fa\", \"#FFA15A\", \"#19d3f3\", \"#FF6692\", \"#B6E880\", \"#FF97FF\", \"#FECB52\"], \"font\": {\"color\": \"#2a3f5f\"}, \"geo\": {\"bgcolor\": \"white\", \"lakecolor\": \"white\", \"landcolor\": \"#E5ECF6\", \"showlakes\": true, \"showland\": true, \"subunitcolor\": \"white\"}, \"hoverlabel\": {\"align\": \"left\"}, \"hovermode\": \"closest\", \"mapbox\": {\"style\": \"light\"}, \"paper_bgcolor\": \"white\", \"plot_bgcolor\": \"#E5ECF6\", \"polar\": {\"angularaxis\": {\"gridcolor\": \"white\", \"linecolor\": \"white\", \"ticks\": \"\"}, \"bgcolor\": \"#E5ECF6\", \"radialaxis\": {\"gridcolor\": \"white\", \"linecolor\": \"white\", \"ticks\": \"\"}}, \"scene\": {\"xaxis\": {\"backgroundcolor\": \"#E5ECF6\", \"gridcolor\": \"white\", \"gridwidth\": 2, \"linecolor\": \"white\", \"showbackground\": true, \"ticks\": \"\", \"zerolinecolor\": \"white\"}, \"yaxis\": {\"backgroundcolor\": \"#E5ECF6\", \"gridcolor\": \"white\", \"gridwidth\": 2, \"linecolor\": \"white\", \"showbackground\": true, \"ticks\": \"\", \"zerolinecolor\": \"white\"}, \"zaxis\": {\"backgroundcolor\": \"#E5ECF6\", \"gridcolor\": \"white\", \"gridwidth\": 2, \"linecolor\": \"white\", \"showbackground\": true, \"ticks\": \"\", \"zerolinecolor\": \"white\"}}, \"shapedefaults\": {\"line\": {\"color\": \"#2a3f5f\"}}, \"ternary\": {\"aaxis\": {\"gridcolor\": \"white\", \"linecolor\": \"white\", \"ticks\": \"\"}, \"baxis\": {\"gridcolor\": \"white\", \"linecolor\": \"white\", \"ticks\": \"\"}, \"bgcolor\": \"#E5ECF6\", \"caxis\": {\"gridcolor\": \"white\", \"linecolor\": \"white\", \"ticks\": \"\"}}, \"title\": {\"x\": 0.05}, \"xaxis\": {\"automargin\": true, \"gridcolor\": \"white\", \"linecolor\": \"white\", \"ticks\": \"\", \"title\": {\"standoff\": 15}, \"zerolinecolor\": \"white\", \"zerolinewidth\": 2}, \"yaxis\": {\"automargin\": true, \"gridcolor\": \"white\", \"linecolor\": \"white\", \"ticks\": \"\", \"title\": {\"standoff\": 15}, \"zerolinecolor\": \"white\", \"zerolinewidth\": 2}}}, \"title\": {\"text\": \"Number of employees in each city\", \"x\": 0.5, \"xanchor\": \"center\", \"y\": 0.9, \"yanchor\": \"top\"}, \"xaxis\": {\"title\": {\"text\": \"city\"}}, \"yaxis\": {\"title\": {\"text\": \"Number of employees\"}}},\n",
              "                        {\"responsive\": true}\n",
              "                    ).then(function(){\n",
              "                            \n",
              "var gd = document.getElementById('4d028817-dcc8-4844-b40f-7ddefc42c5a4');\n",
              "var x = new MutationObserver(function (mutations, observer) {{\n",
              "        var display = window.getComputedStyle(gd).display;\n",
              "        if (!display || display === 'none') {{\n",
              "            console.log([gd, 'removed!']);\n",
              "            Plotly.purge(gd);\n",
              "            observer.disconnect();\n",
              "        }}\n",
              "}});\n",
              "\n",
              "// Listen for the removal of the full notebook cells\n",
              "var notebookContainer = gd.closest('#notebook-container');\n",
              "if (notebookContainer) {{\n",
              "    x.observe(notebookContainer, {childList: true});\n",
              "}}\n",
              "\n",
              "// Listen for the clearing of the current output cell\n",
              "var outputEl = gd.closest('.output');\n",
              "if (outputEl) {{\n",
              "    x.observe(outputEl, {childList: true});\n",
              "}}\n",
              "\n",
              "                        })\n",
              "                };\n",
              "                \n",
              "            </script>\n",
              "        </div>\n",
              "</body>\n",
              "</html>"
            ]
          },
          "metadata": {
            "tags": []
          }
        }
      ]
    },
    {
      "cell_type": "code",
      "metadata": {
        "id": "KXa_GFX88KGA",
        "colab": {
          "base_uri": "https://localhost:8080/"
        },
        "outputId": "1df3d3aa-115f-4c41-a0bf-ad3316711d15"
      },
      "source": [
        "# fig = px.box(df_train, y=\"relevent_experience\",x= 'looking_for_job',title=\"Relation of relevent_experience with looking_for_job\")\n",
        "# fig.update_layout(\n",
        "#     title={\n",
        "#         'y':0.9,\n",
        "#         'x':0.5,\n",
        "#         'xanchor': 'center',\n",
        "#         'yanchor': 'top'})\n",
        "# fig.show()\n",
        "vals = df_train.city.value_counts().values[:5]\n",
        "keys = dict(df_train.city.value_counts()[:5])\n",
        "print(keys.keys(),vals)"
      ],
      "execution_count": null,
      "outputs": [
        {
          "output_type": "stream",
          "text": [
            "dict_keys(['city_103', 'city_21', 'city_16', 'city_114', 'city_160']) [4194 2454 1471 1254  817]\n"
          ],
          "name": "stdout"
        }
      ]
    },
    {
      "cell_type": "code",
      "metadata": {
        "id": "aDJq9VyeDNiX",
        "colab": {
          "base_uri": "https://localhost:8080/"
        },
        "outputId": "98f611e9-d3c1-46d2-bee9-17fdfa7c6b0f"
      },
      "source": [
        "#56 percent of data is collected from  these 5 cities\n",
        "data = vals.sum()/ df_train.city.value_counts().sum()\n",
        "data*100"
      ],
      "execution_count": null,
      "outputs": [
        {
          "output_type": "execute_result",
          "data": {
            "text/plain": [
              "56.567114466526036"
            ]
          },
          "metadata": {
            "tags": []
          },
          "execution_count": 22
        }
      ]
    },
    {
      "cell_type": "code",
      "metadata": {
        "id": "i-GRIXIscjBc",
        "colab": {
          "base_uri": "https://localhost:8080/",
          "height": 643
        },
        "outputId": "d89dcf52-c7ef-4104-d6a7-f6f16dbc60c0"
      },
      "source": [
        "df_train"
      ],
      "execution_count": null,
      "outputs": [
        {
          "output_type": "execute_result",
          "data": {
            "text/html": [
              "<div>\n",
              "<style scoped>\n",
              "    .dataframe tbody tr th:only-of-type {\n",
              "        vertical-align: middle;\n",
              "    }\n",
              "\n",
              "    .dataframe tbody tr th {\n",
              "        vertical-align: top;\n",
              "    }\n",
              "\n",
              "    .dataframe thead th {\n",
              "        text-align: right;\n",
              "    }\n",
              "</style>\n",
              "<table border=\"1\" class=\"dataframe\">\n",
              "  <thead>\n",
              "    <tr style=\"text-align: right;\">\n",
              "      <th></th>\n",
              "      <th>enrollee_id</th>\n",
              "      <th>city</th>\n",
              "      <th>city_development_index</th>\n",
              "      <th>gender</th>\n",
              "      <th>relevent_experience</th>\n",
              "      <th>enrolled_university</th>\n",
              "      <th>education_level</th>\n",
              "      <th>major_discipline</th>\n",
              "      <th>experience</th>\n",
              "      <th>company_size</th>\n",
              "      <th>company_type</th>\n",
              "      <th>last_new_job</th>\n",
              "      <th>training_hours</th>\n",
              "      <th>looking_for_job</th>\n",
              "    </tr>\n",
              "  </thead>\n",
              "  <tbody>\n",
              "    <tr>\n",
              "      <th>0</th>\n",
              "      <td>8949</td>\n",
              "      <td>city_103</td>\n",
              "      <td>0.920</td>\n",
              "      <td>Male</td>\n",
              "      <td>1</td>\n",
              "      <td>no_enrollment</td>\n",
              "      <td>Graduate</td>\n",
              "      <td>STEM</td>\n",
              "      <td>Highly-experienced</td>\n",
              "      <td>undefined</td>\n",
              "      <td>Pvt Ltd</td>\n",
              "      <td>1</td>\n",
              "      <td>36</td>\n",
              "      <td>1.0</td>\n",
              "    </tr>\n",
              "    <tr>\n",
              "      <th>1</th>\n",
              "      <td>29725</td>\n",
              "      <td>city_40</td>\n",
              "      <td>0.776</td>\n",
              "      <td>Male</td>\n",
              "      <td>0</td>\n",
              "      <td>no_enrollment</td>\n",
              "      <td>Graduate</td>\n",
              "      <td>STEM</td>\n",
              "      <td>Highly-experienced</td>\n",
              "      <td>Small</td>\n",
              "      <td>Pvt Ltd</td>\n",
              "      <td>5</td>\n",
              "      <td>47</td>\n",
              "      <td>0.0</td>\n",
              "    </tr>\n",
              "    <tr>\n",
              "      <th>2</th>\n",
              "      <td>11561</td>\n",
              "      <td>city_21</td>\n",
              "      <td>0.624</td>\n",
              "      <td>Undefined</td>\n",
              "      <td>0</td>\n",
              "      <td>Full time course</td>\n",
              "      <td>Graduate</td>\n",
              "      <td>STEM</td>\n",
              "      <td>Intermediate-experienced</td>\n",
              "      <td>undefined</td>\n",
              "      <td>Pvt Ltd</td>\n",
              "      <td>0</td>\n",
              "      <td>83</td>\n",
              "      <td>0.0</td>\n",
              "    </tr>\n",
              "    <tr>\n",
              "      <th>4</th>\n",
              "      <td>666</td>\n",
              "      <td>city_162</td>\n",
              "      <td>0.767</td>\n",
              "      <td>Male</td>\n",
              "      <td>1</td>\n",
              "      <td>no_enrollment</td>\n",
              "      <td>Masters</td>\n",
              "      <td>STEM</td>\n",
              "      <td>Highly-experienced</td>\n",
              "      <td>Small</td>\n",
              "      <td>Funded Startup</td>\n",
              "      <td>4</td>\n",
              "      <td>8</td>\n",
              "      <td>0.0</td>\n",
              "    </tr>\n",
              "    <tr>\n",
              "      <th>5</th>\n",
              "      <td>21651</td>\n",
              "      <td>city_176</td>\n",
              "      <td>0.764</td>\n",
              "      <td>Undefined</td>\n",
              "      <td>1</td>\n",
              "      <td>Part time course</td>\n",
              "      <td>Graduate</td>\n",
              "      <td>STEM</td>\n",
              "      <td>Highly-experienced</td>\n",
              "      <td>undefined</td>\n",
              "      <td>Pvt Ltd</td>\n",
              "      <td>1</td>\n",
              "      <td>24</td>\n",
              "      <td>1.0</td>\n",
              "    </tr>\n",
              "    <tr>\n",
              "      <th>...</th>\n",
              "      <td>...</td>\n",
              "      <td>...</td>\n",
              "      <td>...</td>\n",
              "      <td>...</td>\n",
              "      <td>...</td>\n",
              "      <td>...</td>\n",
              "      <td>...</td>\n",
              "      <td>...</td>\n",
              "      <td>...</td>\n",
              "      <td>...</td>\n",
              "      <td>...</td>\n",
              "      <td>...</td>\n",
              "      <td>...</td>\n",
              "      <td>...</td>\n",
              "    </tr>\n",
              "    <tr>\n",
              "      <th>19153</th>\n",
              "      <td>7386</td>\n",
              "      <td>city_173</td>\n",
              "      <td>0.878</td>\n",
              "      <td>Male</td>\n",
              "      <td>0</td>\n",
              "      <td>no_enrollment</td>\n",
              "      <td>Graduate</td>\n",
              "      <td>Humanities</td>\n",
              "      <td>Highly-experienced</td>\n",
              "      <td>undefined</td>\n",
              "      <td>Pvt Ltd</td>\n",
              "      <td>1</td>\n",
              "      <td>42</td>\n",
              "      <td>1.0</td>\n",
              "    </tr>\n",
              "    <tr>\n",
              "      <th>19154</th>\n",
              "      <td>31398</td>\n",
              "      <td>city_103</td>\n",
              "      <td>0.920</td>\n",
              "      <td>Male</td>\n",
              "      <td>1</td>\n",
              "      <td>no_enrollment</td>\n",
              "      <td>Graduate</td>\n",
              "      <td>STEM</td>\n",
              "      <td>Highly-experienced</td>\n",
              "      <td>undefined</td>\n",
              "      <td>Pvt Ltd</td>\n",
              "      <td>4</td>\n",
              "      <td>52</td>\n",
              "      <td>1.0</td>\n",
              "    </tr>\n",
              "    <tr>\n",
              "      <th>19155</th>\n",
              "      <td>24576</td>\n",
              "      <td>city_103</td>\n",
              "      <td>0.920</td>\n",
              "      <td>Male</td>\n",
              "      <td>1</td>\n",
              "      <td>no_enrollment</td>\n",
              "      <td>Graduate</td>\n",
              "      <td>STEM</td>\n",
              "      <td>Highly-experienced</td>\n",
              "      <td>Small</td>\n",
              "      <td>Pvt Ltd</td>\n",
              "      <td>4</td>\n",
              "      <td>44</td>\n",
              "      <td>0.0</td>\n",
              "    </tr>\n",
              "    <tr>\n",
              "      <th>19156</th>\n",
              "      <td>5756</td>\n",
              "      <td>city_65</td>\n",
              "      <td>0.802</td>\n",
              "      <td>Male</td>\n",
              "      <td>1</td>\n",
              "      <td>no_enrollment</td>\n",
              "      <td>High School</td>\n",
              "      <td>STEM</td>\n",
              "      <td>In-experienced/Low-experience</td>\n",
              "      <td>Medium</td>\n",
              "      <td>Pvt Ltd</td>\n",
              "      <td>2</td>\n",
              "      <td>97</td>\n",
              "      <td>0.0</td>\n",
              "    </tr>\n",
              "    <tr>\n",
              "      <th>19157</th>\n",
              "      <td>23834</td>\n",
              "      <td>city_67</td>\n",
              "      <td>0.855</td>\n",
              "      <td>Undefined</td>\n",
              "      <td>0</td>\n",
              "      <td>no_enrollment</td>\n",
              "      <td>Primary School</td>\n",
              "      <td>STEM</td>\n",
              "      <td>In-experienced/Low-experience</td>\n",
              "      <td>undefined</td>\n",
              "      <td>Pvt Ltd</td>\n",
              "      <td>1</td>\n",
              "      <td>127</td>\n",
              "      <td>0.0</td>\n",
              "    </tr>\n",
              "  </tbody>\n",
              "</table>\n",
              "<p>18014 rows × 14 columns</p>\n",
              "</div>"
            ],
            "text/plain": [
              "       enrollee_id      city  ...  training_hours looking_for_job\n",
              "0             8949  city_103  ...              36             1.0\n",
              "1            29725   city_40  ...              47             0.0\n",
              "2            11561   city_21  ...              83             0.0\n",
              "4              666  city_162  ...               8             0.0\n",
              "5            21651  city_176  ...              24             1.0\n",
              "...            ...       ...  ...             ...             ...\n",
              "19153         7386  city_173  ...              42             1.0\n",
              "19154        31398  city_103  ...              52             1.0\n",
              "19155        24576  city_103  ...              44             0.0\n",
              "19156         5756   city_65  ...              97             0.0\n",
              "19157        23834   city_67  ...             127             0.0\n",
              "\n",
              "[18014 rows x 14 columns]"
            ]
          },
          "metadata": {
            "tags": []
          },
          "execution_count": 23
        }
      ]
    },
    {
      "cell_type": "code",
      "metadata": {
        "id": "HqHMMtcz7YA7"
      },
      "source": [
        "one_hot = pd.get_dummies(df_train[['enrolled_university','gender'\n",
        "                    ,'company_type','company_size','experience',\n",
        "                    'major_discipline','education_level']])\n",
        "\n",
        "df_train.drop(['enrolled_university','gender','company_type',\n",
        "               'company_size','experience','major_discipline',\n",
        "               'education_level'],axis=1, inplace=True)\n"
      ],
      "execution_count": null,
      "outputs": []
    },
    {
      "cell_type": "code",
      "metadata": {
        "id": "ynLpmiR2-gja"
      },
      "source": [
        "data = pd.concat([df_train, one_hot],axis=1)"
      ],
      "execution_count": null,
      "outputs": []
    },
    {
      "cell_type": "code",
      "metadata": {
        "id": "c2aFS_hC-wIu",
        "colab": {
          "base_uri": "https://localhost:8080/",
          "height": 473
        },
        "outputId": "f00c562e-f752-4e2a-f804-324256ab838f"
      },
      "source": [
        "\n",
        "def ordinal_encode(df):\n",
        "    city = {\n",
        "    'city':list(set(df['city']))}\n",
        "    \n",
        "    for i in city:\n",
        "        unique = list(df[i].unique())\n",
        "        df[i] = df[i].apply(lambda x: city[i].index(x))\n",
        "    return df\n",
        "ordinal_encode(data)\n"
      ],
      "execution_count": null,
      "outputs": [
        {
          "output_type": "execute_result",
          "data": {
            "text/html": [
              "<div>\n",
              "<style scoped>\n",
              "    .dataframe tbody tr th:only-of-type {\n",
              "        vertical-align: middle;\n",
              "    }\n",
              "\n",
              "    .dataframe tbody tr th {\n",
              "        vertical-align: top;\n",
              "    }\n",
              "\n",
              "    .dataframe thead th {\n",
              "        text-align: right;\n",
              "    }\n",
              "</style>\n",
              "<table border=\"1\" class=\"dataframe\">\n",
              "  <thead>\n",
              "    <tr style=\"text-align: right;\">\n",
              "      <th></th>\n",
              "      <th>enrollee_id</th>\n",
              "      <th>city</th>\n",
              "      <th>city_development_index</th>\n",
              "      <th>relevent_experience</th>\n",
              "      <th>last_new_job</th>\n",
              "      <th>training_hours</th>\n",
              "      <th>looking_for_job</th>\n",
              "      <th>enrolled_university_Full time course</th>\n",
              "      <th>enrolled_university_Part time course</th>\n",
              "      <th>enrolled_university_no_enrollment</th>\n",
              "      <th>gender_Female</th>\n",
              "      <th>gender_Male</th>\n",
              "      <th>gender_Other</th>\n",
              "      <th>gender_Undefined</th>\n",
              "      <th>company_type_Early Stage Startup</th>\n",
              "      <th>company_type_Funded Startup</th>\n",
              "      <th>company_type_NGO</th>\n",
              "      <th>company_type_Other</th>\n",
              "      <th>company_type_Public Sector</th>\n",
              "      <th>company_type_Pvt Ltd</th>\n",
              "      <th>company_size_Large</th>\n",
              "      <th>company_size_Medium</th>\n",
              "      <th>company_size_Small</th>\n",
              "      <th>company_size_undefined</th>\n",
              "      <th>experience_Highly-experienced</th>\n",
              "      <th>experience_In-experienced/Low-experience</th>\n",
              "      <th>experience_Intermediate-experienced</th>\n",
              "      <th>major_discipline_Arts</th>\n",
              "      <th>major_discipline_Business Degree</th>\n",
              "      <th>major_discipline_Humanities</th>\n",
              "      <th>major_discipline_No Major</th>\n",
              "      <th>major_discipline_Other</th>\n",
              "      <th>major_discipline_STEM</th>\n",
              "      <th>education_level_Graduate</th>\n",
              "      <th>education_level_High School</th>\n",
              "      <th>education_level_Masters</th>\n",
              "      <th>education_level_Phd</th>\n",
              "      <th>education_level_Primary School</th>\n",
              "    </tr>\n",
              "  </thead>\n",
              "  <tbody>\n",
              "    <tr>\n",
              "      <th>0</th>\n",
              "      <td>8949</td>\n",
              "      <td>1</td>\n",
              "      <td>0.920</td>\n",
              "      <td>1</td>\n",
              "      <td>1</td>\n",
              "      <td>36</td>\n",
              "      <td>1.0</td>\n",
              "      <td>0</td>\n",
              "      <td>0</td>\n",
              "      <td>1</td>\n",
              "      <td>0</td>\n",
              "      <td>1</td>\n",
              "      <td>0</td>\n",
              "      <td>0</td>\n",
              "      <td>0</td>\n",
              "      <td>0</td>\n",
              "      <td>0</td>\n",
              "      <td>0</td>\n",
              "      <td>0</td>\n",
              "      <td>1</td>\n",
              "      <td>0</td>\n",
              "      <td>0</td>\n",
              "      <td>0</td>\n",
              "      <td>1</td>\n",
              "      <td>1</td>\n",
              "      <td>0</td>\n",
              "      <td>0</td>\n",
              "      <td>0</td>\n",
              "      <td>0</td>\n",
              "      <td>0</td>\n",
              "      <td>0</td>\n",
              "      <td>0</td>\n",
              "      <td>1</td>\n",
              "      <td>1</td>\n",
              "      <td>0</td>\n",
              "      <td>0</td>\n",
              "      <td>0</td>\n",
              "      <td>0</td>\n",
              "    </tr>\n",
              "    <tr>\n",
              "      <th>1</th>\n",
              "      <td>29725</td>\n",
              "      <td>41</td>\n",
              "      <td>0.776</td>\n",
              "      <td>0</td>\n",
              "      <td>5</td>\n",
              "      <td>47</td>\n",
              "      <td>0.0</td>\n",
              "      <td>0</td>\n",
              "      <td>0</td>\n",
              "      <td>1</td>\n",
              "      <td>0</td>\n",
              "      <td>1</td>\n",
              "      <td>0</td>\n",
              "      <td>0</td>\n",
              "      <td>0</td>\n",
              "      <td>0</td>\n",
              "      <td>0</td>\n",
              "      <td>0</td>\n",
              "      <td>0</td>\n",
              "      <td>1</td>\n",
              "      <td>0</td>\n",
              "      <td>0</td>\n",
              "      <td>1</td>\n",
              "      <td>0</td>\n",
              "      <td>1</td>\n",
              "      <td>0</td>\n",
              "      <td>0</td>\n",
              "      <td>0</td>\n",
              "      <td>0</td>\n",
              "      <td>0</td>\n",
              "      <td>0</td>\n",
              "      <td>0</td>\n",
              "      <td>1</td>\n",
              "      <td>1</td>\n",
              "      <td>0</td>\n",
              "      <td>0</td>\n",
              "      <td>0</td>\n",
              "      <td>0</td>\n",
              "    </tr>\n",
              "    <tr>\n",
              "      <th>2</th>\n",
              "      <td>11561</td>\n",
              "      <td>75</td>\n",
              "      <td>0.624</td>\n",
              "      <td>0</td>\n",
              "      <td>0</td>\n",
              "      <td>83</td>\n",
              "      <td>0.0</td>\n",
              "      <td>1</td>\n",
              "      <td>0</td>\n",
              "      <td>0</td>\n",
              "      <td>0</td>\n",
              "      <td>0</td>\n",
              "      <td>0</td>\n",
              "      <td>1</td>\n",
              "      <td>0</td>\n",
              "      <td>0</td>\n",
              "      <td>0</td>\n",
              "      <td>0</td>\n",
              "      <td>0</td>\n",
              "      <td>1</td>\n",
              "      <td>0</td>\n",
              "      <td>0</td>\n",
              "      <td>0</td>\n",
              "      <td>1</td>\n",
              "      <td>0</td>\n",
              "      <td>0</td>\n",
              "      <td>1</td>\n",
              "      <td>0</td>\n",
              "      <td>0</td>\n",
              "      <td>0</td>\n",
              "      <td>0</td>\n",
              "      <td>0</td>\n",
              "      <td>1</td>\n",
              "      <td>1</td>\n",
              "      <td>0</td>\n",
              "      <td>0</td>\n",
              "      <td>0</td>\n",
              "      <td>0</td>\n",
              "    </tr>\n",
              "    <tr>\n",
              "      <th>4</th>\n",
              "      <td>666</td>\n",
              "      <td>106</td>\n",
              "      <td>0.767</td>\n",
              "      <td>1</td>\n",
              "      <td>4</td>\n",
              "      <td>8</td>\n",
              "      <td>0.0</td>\n",
              "      <td>0</td>\n",
              "      <td>0</td>\n",
              "      <td>1</td>\n",
              "      <td>0</td>\n",
              "      <td>1</td>\n",
              "      <td>0</td>\n",
              "      <td>0</td>\n",
              "      <td>0</td>\n",
              "      <td>1</td>\n",
              "      <td>0</td>\n",
              "      <td>0</td>\n",
              "      <td>0</td>\n",
              "      <td>0</td>\n",
              "      <td>0</td>\n",
              "      <td>0</td>\n",
              "      <td>1</td>\n",
              "      <td>0</td>\n",
              "      <td>1</td>\n",
              "      <td>0</td>\n",
              "      <td>0</td>\n",
              "      <td>0</td>\n",
              "      <td>0</td>\n",
              "      <td>0</td>\n",
              "      <td>0</td>\n",
              "      <td>0</td>\n",
              "      <td>1</td>\n",
              "      <td>0</td>\n",
              "      <td>0</td>\n",
              "      <td>1</td>\n",
              "      <td>0</td>\n",
              "      <td>0</td>\n",
              "    </tr>\n",
              "    <tr>\n",
              "      <th>5</th>\n",
              "      <td>21651</td>\n",
              "      <td>42</td>\n",
              "      <td>0.764</td>\n",
              "      <td>1</td>\n",
              "      <td>1</td>\n",
              "      <td>24</td>\n",
              "      <td>1.0</td>\n",
              "      <td>0</td>\n",
              "      <td>1</td>\n",
              "      <td>0</td>\n",
              "      <td>0</td>\n",
              "      <td>0</td>\n",
              "      <td>0</td>\n",
              "      <td>1</td>\n",
              "      <td>0</td>\n",
              "      <td>0</td>\n",
              "      <td>0</td>\n",
              "      <td>0</td>\n",
              "      <td>0</td>\n",
              "      <td>1</td>\n",
              "      <td>0</td>\n",
              "      <td>0</td>\n",
              "      <td>0</td>\n",
              "      <td>1</td>\n",
              "      <td>1</td>\n",
              "      <td>0</td>\n",
              "      <td>0</td>\n",
              "      <td>0</td>\n",
              "      <td>0</td>\n",
              "      <td>0</td>\n",
              "      <td>0</td>\n",
              "      <td>0</td>\n",
              "      <td>1</td>\n",
              "      <td>1</td>\n",
              "      <td>0</td>\n",
              "      <td>0</td>\n",
              "      <td>0</td>\n",
              "      <td>0</td>\n",
              "    </tr>\n",
              "    <tr>\n",
              "      <th>...</th>\n",
              "      <td>...</td>\n",
              "      <td>...</td>\n",
              "      <td>...</td>\n",
              "      <td>...</td>\n",
              "      <td>...</td>\n",
              "      <td>...</td>\n",
              "      <td>...</td>\n",
              "      <td>...</td>\n",
              "      <td>...</td>\n",
              "      <td>...</td>\n",
              "      <td>...</td>\n",
              "      <td>...</td>\n",
              "      <td>...</td>\n",
              "      <td>...</td>\n",
              "      <td>...</td>\n",
              "      <td>...</td>\n",
              "      <td>...</td>\n",
              "      <td>...</td>\n",
              "      <td>...</td>\n",
              "      <td>...</td>\n",
              "      <td>...</td>\n",
              "      <td>...</td>\n",
              "      <td>...</td>\n",
              "      <td>...</td>\n",
              "      <td>...</td>\n",
              "      <td>...</td>\n",
              "      <td>...</td>\n",
              "      <td>...</td>\n",
              "      <td>...</td>\n",
              "      <td>...</td>\n",
              "      <td>...</td>\n",
              "      <td>...</td>\n",
              "      <td>...</td>\n",
              "      <td>...</td>\n",
              "      <td>...</td>\n",
              "      <td>...</td>\n",
              "      <td>...</td>\n",
              "      <td>...</td>\n",
              "    </tr>\n",
              "    <tr>\n",
              "      <th>19153</th>\n",
              "      <td>7386</td>\n",
              "      <td>83</td>\n",
              "      <td>0.878</td>\n",
              "      <td>0</td>\n",
              "      <td>1</td>\n",
              "      <td>42</td>\n",
              "      <td>1.0</td>\n",
              "      <td>0</td>\n",
              "      <td>0</td>\n",
              "      <td>1</td>\n",
              "      <td>0</td>\n",
              "      <td>1</td>\n",
              "      <td>0</td>\n",
              "      <td>0</td>\n",
              "      <td>0</td>\n",
              "      <td>0</td>\n",
              "      <td>0</td>\n",
              "      <td>0</td>\n",
              "      <td>0</td>\n",
              "      <td>1</td>\n",
              "      <td>0</td>\n",
              "      <td>0</td>\n",
              "      <td>0</td>\n",
              "      <td>1</td>\n",
              "      <td>1</td>\n",
              "      <td>0</td>\n",
              "      <td>0</td>\n",
              "      <td>0</td>\n",
              "      <td>0</td>\n",
              "      <td>1</td>\n",
              "      <td>0</td>\n",
              "      <td>0</td>\n",
              "      <td>0</td>\n",
              "      <td>1</td>\n",
              "      <td>0</td>\n",
              "      <td>0</td>\n",
              "      <td>0</td>\n",
              "      <td>0</td>\n",
              "    </tr>\n",
              "    <tr>\n",
              "      <th>19154</th>\n",
              "      <td>31398</td>\n",
              "      <td>1</td>\n",
              "      <td>0.920</td>\n",
              "      <td>1</td>\n",
              "      <td>4</td>\n",
              "      <td>52</td>\n",
              "      <td>1.0</td>\n",
              "      <td>0</td>\n",
              "      <td>0</td>\n",
              "      <td>1</td>\n",
              "      <td>0</td>\n",
              "      <td>1</td>\n",
              "      <td>0</td>\n",
              "      <td>0</td>\n",
              "      <td>0</td>\n",
              "      <td>0</td>\n",
              "      <td>0</td>\n",
              "      <td>0</td>\n",
              "      <td>0</td>\n",
              "      <td>1</td>\n",
              "      <td>0</td>\n",
              "      <td>0</td>\n",
              "      <td>0</td>\n",
              "      <td>1</td>\n",
              "      <td>1</td>\n",
              "      <td>0</td>\n",
              "      <td>0</td>\n",
              "      <td>0</td>\n",
              "      <td>0</td>\n",
              "      <td>0</td>\n",
              "      <td>0</td>\n",
              "      <td>0</td>\n",
              "      <td>1</td>\n",
              "      <td>1</td>\n",
              "      <td>0</td>\n",
              "      <td>0</td>\n",
              "      <td>0</td>\n",
              "      <td>0</td>\n",
              "    </tr>\n",
              "    <tr>\n",
              "      <th>19155</th>\n",
              "      <td>24576</td>\n",
              "      <td>1</td>\n",
              "      <td>0.920</td>\n",
              "      <td>1</td>\n",
              "      <td>4</td>\n",
              "      <td>44</td>\n",
              "      <td>0.0</td>\n",
              "      <td>0</td>\n",
              "      <td>0</td>\n",
              "      <td>1</td>\n",
              "      <td>0</td>\n",
              "      <td>1</td>\n",
              "      <td>0</td>\n",
              "      <td>0</td>\n",
              "      <td>0</td>\n",
              "      <td>0</td>\n",
              "      <td>0</td>\n",
              "      <td>0</td>\n",
              "      <td>0</td>\n",
              "      <td>1</td>\n",
              "      <td>0</td>\n",
              "      <td>0</td>\n",
              "      <td>1</td>\n",
              "      <td>0</td>\n",
              "      <td>1</td>\n",
              "      <td>0</td>\n",
              "      <td>0</td>\n",
              "      <td>0</td>\n",
              "      <td>0</td>\n",
              "      <td>0</td>\n",
              "      <td>0</td>\n",
              "      <td>0</td>\n",
              "      <td>1</td>\n",
              "      <td>1</td>\n",
              "      <td>0</td>\n",
              "      <td>0</td>\n",
              "      <td>0</td>\n",
              "      <td>0</td>\n",
              "    </tr>\n",
              "    <tr>\n",
              "      <th>19156</th>\n",
              "      <td>5756</td>\n",
              "      <td>44</td>\n",
              "      <td>0.802</td>\n",
              "      <td>1</td>\n",
              "      <td>2</td>\n",
              "      <td>97</td>\n",
              "      <td>0.0</td>\n",
              "      <td>0</td>\n",
              "      <td>0</td>\n",
              "      <td>1</td>\n",
              "      <td>0</td>\n",
              "      <td>1</td>\n",
              "      <td>0</td>\n",
              "      <td>0</td>\n",
              "      <td>0</td>\n",
              "      <td>0</td>\n",
              "      <td>0</td>\n",
              "      <td>0</td>\n",
              "      <td>0</td>\n",
              "      <td>1</td>\n",
              "      <td>0</td>\n",
              "      <td>1</td>\n",
              "      <td>0</td>\n",
              "      <td>0</td>\n",
              "      <td>0</td>\n",
              "      <td>1</td>\n",
              "      <td>0</td>\n",
              "      <td>0</td>\n",
              "      <td>0</td>\n",
              "      <td>0</td>\n",
              "      <td>0</td>\n",
              "      <td>0</td>\n",
              "      <td>1</td>\n",
              "      <td>0</td>\n",
              "      <td>1</td>\n",
              "      <td>0</td>\n",
              "      <td>0</td>\n",
              "      <td>0</td>\n",
              "    </tr>\n",
              "    <tr>\n",
              "      <th>19157</th>\n",
              "      <td>23834</td>\n",
              "      <td>68</td>\n",
              "      <td>0.855</td>\n",
              "      <td>0</td>\n",
              "      <td>1</td>\n",
              "      <td>127</td>\n",
              "      <td>0.0</td>\n",
              "      <td>0</td>\n",
              "      <td>0</td>\n",
              "      <td>1</td>\n",
              "      <td>0</td>\n",
              "      <td>0</td>\n",
              "      <td>0</td>\n",
              "      <td>1</td>\n",
              "      <td>0</td>\n",
              "      <td>0</td>\n",
              "      <td>0</td>\n",
              "      <td>0</td>\n",
              "      <td>0</td>\n",
              "      <td>1</td>\n",
              "      <td>0</td>\n",
              "      <td>0</td>\n",
              "      <td>0</td>\n",
              "      <td>1</td>\n",
              "      <td>0</td>\n",
              "      <td>1</td>\n",
              "      <td>0</td>\n",
              "      <td>0</td>\n",
              "      <td>0</td>\n",
              "      <td>0</td>\n",
              "      <td>0</td>\n",
              "      <td>0</td>\n",
              "      <td>1</td>\n",
              "      <td>0</td>\n",
              "      <td>0</td>\n",
              "      <td>0</td>\n",
              "      <td>0</td>\n",
              "      <td>1</td>\n",
              "    </tr>\n",
              "  </tbody>\n",
              "</table>\n",
              "<p>18014 rows × 38 columns</p>\n",
              "</div>"
            ],
            "text/plain": [
              "       enrollee_id  city  ...  education_level_Phd  education_level_Primary School\n",
              "0             8949     1  ...                    0                               0\n",
              "1            29725    41  ...                    0                               0\n",
              "2            11561    75  ...                    0                               0\n",
              "4              666   106  ...                    0                               0\n",
              "5            21651    42  ...                    0                               0\n",
              "...            ...   ...  ...                  ...                             ...\n",
              "19153         7386    83  ...                    0                               0\n",
              "19154        31398     1  ...                    0                               0\n",
              "19155        24576     1  ...                    0                               0\n",
              "19156         5756    44  ...                    0                               0\n",
              "19157        23834    68  ...                    0                               1\n",
              "\n",
              "[18014 rows x 38 columns]"
            ]
          },
          "metadata": {
            "tags": []
          },
          "execution_count": 26
        }
      ]
    },
    {
      "cell_type": "code",
      "metadata": {
        "id": "xSNaqORu_dfo"
      },
      "source": [
        "X= data.drop(['looking_for_job'],axis=1)\n",
        "\n",
        "y= data['looking_for_job']\n",
        "X_train, X_test, y_train, y_test = train_test_split(X, y, test_size=0.25, random_state=42)"
      ],
      "execution_count": null,
      "outputs": []
    },
    {
      "cell_type": "code",
      "metadata": {
        "colab": {
          "base_uri": "https://localhost:8080/"
        },
        "id": "nH8OlLCECDq8",
        "outputId": "3239cb42-aa36-46a7-8a54-2372d7257d13"
      },
      "source": [
        "y_test.value_counts()"
      ],
      "execution_count": null,
      "outputs": [
        {
          "output_type": "execute_result",
          "data": {
            "text/plain": [
              "0.0    3381\n",
              "1.0    1123\n",
              "Name: looking_for_job, dtype: int64"
            ]
          },
          "metadata": {
            "tags": []
          },
          "execution_count": 28
        }
      ]
    },
    {
      "cell_type": "code",
      "metadata": {
        "id": "zyjOJqccC2WV",
        "colab": {
          "base_uri": "https://localhost:8080/",
          "height": 333
        },
        "outputId": "0b963c5e-fa0b-4ebc-bbb7-0b1a6b9aa890"
      },
      "source": [
        "keys= list(y_train.value_counts().keys())\n",
        "vals= list(y_train.value_counts().values)\n",
        "plt.style.use('ggplot')\n",
        "plt.bar(keys,vals,color =['r','orange'])\n",
        "plt.xlabel(\"classes\")\n",
        "plt.ylabel('counts')\n",
        "plt.xticks(keys,[\"0\",\"1\"])"
      ],
      "execution_count": null,
      "outputs": [
        {
          "output_type": "execute_result",
          "data": {
            "text/plain": [
              "([<matplotlib.axis.XTick at 0x7f84290755d0>,\n",
              "  <matplotlib.axis.XTick at 0x7f8429075590>],\n",
              " [Text(0, 0, '0'), Text(0, 0, '1')])"
            ]
          },
          "metadata": {
            "tags": []
          },
          "execution_count": 29
        },
        {
          "output_type": "display_data",
          "data": {
            "image/png": "[encoded data removed]",
            "text/plain": [
              "<Figure size 432x288 with 1 Axes>"
            ]
          },
          "metadata": {
            "tags": []
          }
        }
      ]
    },
    {
      "cell_type": "code",
      "metadata": {
        "id": "P6zt1StaDe0s",
        "colab": {
          "base_uri": "https://localhost:8080/"
        },
        "outputId": "4f94aae6-217d-441f-ea62-9c46cb0e7e5b"
      },
      "source": [
        "from imblearn.over_sampling import SMOTE\n",
        "from collections import Counter\n",
        "\n",
        "# oversampling the train dataset using SMOTE\n",
        "smt = SMOTE()\n",
        "X_train_sm, y_train_sm = smt.fit_resample(X_train, y_train)\n",
        "\n",
        "X_train = pd.DataFrame(X_train_sm)\n",
        "y_train = pd.Series(y_train_sm)"
      ],
      "execution_count": null,
      "outputs": [
        {
          "output_type": "stream",
          "text": [
            "/usr/local/lib/python3.7/dist-packages/sklearn/externals/six.py:31: FutureWarning:\n",
            "\n",
            "The module is deprecated in version 0.21 and will be removed in version 0.23 since we've dropped support for Python 2.7. Please rely on the official version of six (https://pypi.org/project/six/).\n",
            "\n",
            "/usr/local/lib/python3.7/dist-packages/sklearn/utils/deprecation.py:144: FutureWarning:\n",
            "\n",
            "The sklearn.neighbors.base module is  deprecated in version 0.22 and will be removed in version 0.24. The corresponding classes / functions should instead be imported from sklearn.neighbors. Anything that cannot be imported from sklearn.neighbors is now part of the private API.\n",
            "\n",
            "/usr/local/lib/python3.7/dist-packages/sklearn/utils/deprecation.py:87: FutureWarning:\n",
            "\n",
            "Function safe_indexing is deprecated; safe_indexing is deprecated in version 0.22 and will be removed in version 0.24.\n",
            "\n"
          ],
          "name": "stderr"
        }
      ]
    },
    {
      "cell_type": "code",
      "metadata": {
        "id": "WqbKLGhqGVVV",
        "colab": {
          "base_uri": "https://localhost:8080/",
          "height": 333
        },
        "outputId": "5497e071-289c-48b6-d8ce-450defbbeb53"
      },
      "source": [
        "keys= list(y_train.value_counts().keys())\n",
        "vals= list(y_train.value_counts().values)\n",
        "plt.style.use('ggplot')\n",
        "plt.bar(keys,vals)\n",
        "plt.xlabel(\"classes\")\n",
        "plt.ylabel('counts')\n",
        "plt.xticks(keys,[\"0\",\"1\"])"
      ],
      "execution_count": null,
      "outputs": [
        {
          "output_type": "execute_result",
          "data": {
            "text/plain": [
              "([<matplotlib.axis.XTick at 0x7f84287de6d0>,\n",
              "  <matplotlib.axis.XTick at 0x7f84287a0290>],\n",
              " [Text(0, 0, '0'), Text(0, 0, '1')])"
            ]
          },
          "metadata": {
            "tags": []
          },
          "execution_count": 31
        },
        {
          "output_type": "display_data",
          "data": {
            "image/png": "[encoded data removed]",
            "text/plain": [
              "<Figure size 432x288 with 1 Axes>"
            ]
          },
          "metadata": {
            "tags": []
          }
        }
      ]
    },
    {
      "cell_type": "code",
      "metadata": {
        "id": "agQ0P4x3Hg7H"
      },
      "source": [
        "def test_eval(clf_model, X_test, y_test,):\n",
        "    # Test set prediction\n",
        "    y_prob=clf_model.predict_proba(X_test)\n",
        "    y_pred=clf_model.predict(X_test)\n",
        "\n",
        "    print('Confusion Matrix')\n",
        "    print('='*60)\n",
        "    plot_confusion_matrix(clf_model, X_test, y_test,cmap = 'YlOrBr')\n",
        "    plt.grid(False)  \n",
        "    plt.show() \n",
        "\n",
        "    print('Classification Report')\n",
        "    print('='*60)\n",
        "    print(classification_report(y_test,y_pred),\"\\n\")\n",
        "    print('AUC-ROC')\n",
        "    print('='*60)\n",
        "    print(roc_auc_score(y_test, y_prob[:,1]))\n",
        "          "
      ],
      "execution_count": null,
      "outputs": []
    },
    {
      "cell_type": "markdown",
      "metadata": {
        "id": "IfJjpiWuKbSn"
      },
      "source": [
        "# Logistic regression\n"
      ]
    },
    {
      "cell_type": "code",
      "metadata": {
        "id": "tpSHzUQMKN9f",
        "colab": {
          "base_uri": "https://localhost:8080/",
          "height": 743
        },
        "outputId": "37281062-fdb7-4dbb-bb79-0c045d4361be"
      },
      "source": [
        "\n",
        "clf = LogisticRegression(random_state=0).fit(X_train, y_train)\n",
        "preds = clf.predict(X_test)\n",
        "test_eval(clf,X_test, y_test)"
      ],
      "execution_count": null,
      "outputs": [
        {
          "output_type": "stream",
          "text": [
            "Confusion Matrix\n",
            "============================================================\n"
          ],
          "name": "stdout"
        },
        {
          "output_type": "stream",
          "text": [
            "/usr/local/lib/python3.7/dist-packages/sklearn/linear_model/_logistic.py:940: ConvergenceWarning:\n",
            "\n",
            "lbfgs failed to converge (status=1):\n",
            "STOP: TOTAL NO. of ITERATIONS REACHED LIMIT.\n",
            "\n",
            "Increase the number of iterations (max_iter) or scale the data as shown in:\n",
            "    https://scikit-learn.org/stable/modules/preprocessing.html\n",
            "Please also refer to the documentation for alternative solver options:\n",
            "    https://scikit-learn.org/stable/modules/linear_model.html#logistic-regression\n",
            "\n"
          ],
          "name": "stderr"
        },
        {
          "output_type": "display_data",
          "data": {
            "image/png": "[encoded data removed]",
            "text/plain": [
              "<Figure size 432x288 with 2 Axes>"
            ]
          },
          "metadata": {
            "tags": []
          }
        },
        {
          "output_type": "stream",
          "text": [
            "Classification Report\n",
            "============================================================\n",
            "              precision    recall  f1-score   support\n",
            "\n",
            "         0.0       0.85      0.67      0.75      3381\n",
            "         1.0       0.39      0.64      0.48      1123\n",
            "\n",
            "    accuracy                           0.66      4504\n",
            "   macro avg       0.62      0.65      0.62      4504\n",
            "weighted avg       0.73      0.66      0.68      4504\n",
            " \n",
            "\n",
            "AUC-ROC\n",
            "============================================================\n",
            "0.6951878432274222\n"
          ],
          "name": "stdout"
        }
      ]
    },
    {
      "cell_type": "code",
      "metadata": {
        "id": "U_Y8not3K4NF",
        "colab": {
          "base_uri": "https://localhost:8080/"
        },
        "outputId": "a2c5a51b-c7b1-4969-9450-02b9c57550f6"
      },
      "source": [
        "importance = clf.coef_[0]\n",
        "# summarize feature importance\n",
        "for i,v in enumerate(importance):\n",
        "\tprint('Feature: %0d, Score: %.5f' % (i,v))"
      ],
      "execution_count": null,
      "outputs": [
        {
          "output_type": "stream",
          "text": [
            "Feature: 0, Score: 0.00000\n",
            "Feature: 1, Score: 0.00405\n",
            "Feature: 2, Score: -0.27052\n",
            "Feature: 3, Score: -0.22290\n",
            "Feature: 4, Score: 0.05391\n",
            "Feature: 5, Score: -0.00373\n",
            "Feature: 6, Score: 0.28375\n",
            "Feature: 7, Score: -0.00669\n",
            "Feature: 8, Score: -0.23136\n",
            "Feature: 9, Score: 0.01047\n",
            "Feature: 10, Score: -0.14734\n",
            "Feature: 11, Score: 0.00753\n",
            "Feature: 12, Score: 0.17503\n",
            "Feature: 13, Score: -0.00451\n",
            "Feature: 14, Score: -0.09081\n",
            "Feature: 15, Score: -0.02273\n",
            "Feature: 16, Score: 0.00312\n",
            "Feature: 17, Score: -0.00386\n",
            "Feature: 18, Score: 0.16447\n",
            "Feature: 19, Score: -0.09143\n",
            "Feature: 20, Score: -0.17350\n",
            "Feature: 21, Score: -0.43565\n",
            "Feature: 22, Score: 0.74629\n",
            "Feature: 23, Score: -0.36189\n",
            "Feature: 24, Score: 0.28467\n",
            "Feature: 25, Score: 0.12292\n",
            "Feature: 26, Score: -0.00533\n",
            "Feature: 27, Score: 0.00604\n",
            "Feature: 28, Score: -0.01233\n",
            "Feature: 29, Score: 0.00518\n",
            "Feature: 30, Score: 0.00829\n",
            "Feature: 31, Score: 0.04385\n",
            "Feature: 32, Score: 0.36016\n",
            "Feature: 33, Score: -0.16166\n",
            "Feature: 34, Score: -0.07377\n",
            "Feature: 35, Score: -0.03455\n",
            "Feature: 36, Score: -0.04448\n"
          ],
          "name": "stdout"
        }
      ]
    },
    {
      "cell_type": "code",
      "metadata": {
        "id": "IuuCRQOmLJLs",
        "colab": {
          "base_uri": "https://localhost:8080/",
          "height": 282
        },
        "outputId": "b9bd2f34-4033-4bfa-881c-80e555a4d104"
      },
      "source": [
        "feat_importances = pd.Series(importance, index=list(X_train.columns))\n",
        "feat_importances.nlargest(4).plot(kind='barh')\n",
        "#most important features(top 4)"
      ],
      "execution_count": null,
      "outputs": [
        {
          "output_type": "execute_result",
          "data": {
            "text/plain": [
              "<matplotlib.axes._subplots.AxesSubplot at 0x7f841ba909d0>"
            ]
          },
          "metadata": {
            "tags": []
          },
          "execution_count": 35
        },
        {
          "output_type": "display_data",
          "data": {
            "image/png": "[encoded data removed]",
            "text/plain": [
              "<Figure size 432x288 with 1 Axes>"
            ]
          },
          "metadata": {
            "tags": []
          }
        }
      ]
    },
    {
      "cell_type": "markdown",
      "metadata": {
        "id": "x5_NSCKhjyhn"
      },
      "source": [
        "# Random forest Classifier\n",
        "uses grid search to find optimal parameters for the model"
      ]
    },
    {
      "cell_type": "code",
      "metadata": {
        "id": "i3dqGA-5j3tA",
        "colab": {
          "base_uri": "https://localhost:8080/"
        },
        "outputId": "8b076bb9-ddf1-4bf1-fb2a-47daf0c0d7ae"
      },
      "source": [
        "from sklearn.model_selection import RandomizedSearchCV\n",
        "\n",
        "# Number of trees in random forest\n",
        "n_estimators = [10,200,300,400,500]\n",
        "# Number of features to consider at every split\n",
        "max_features = ['auto', 'sqrt']\n",
        "# Maximum number of levels in tree\n",
        "max_depth = [5,10,20,30,40,50]\n",
        "max_depth.append(None)\n",
        "# Minimum number of samples required to split a node\n",
        "min_samples_split = [2, 5, 10]\n",
        "# Minimum number of samples required at each leaf node\n",
        "min_samples_leaf = [1, 2, 4]\n",
        "# Method of selecting samples for training each tree\n",
        "bootstrap = [True, False]\n",
        "# Create the random grid\n",
        "random_grid = {'n_estimators': n_estimators,\n",
        "               'max_features': max_features,\n",
        "               'max_depth': max_depth,\n",
        "               'min_samples_split': min_samples_split,\n",
        "               'min_samples_leaf': min_samples_leaf,\n",
        "               'bootstrap': bootstrap}\n",
        "import pprint\n",
        "pprint.pprint(random_grid)\n"
      ],
      "execution_count": null,
      "outputs": [
        {
          "output_type": "stream",
          "text": [
            "{'bootstrap': [True, False],\n",
            " 'max_depth': [5, 10, 20, 30, 40, 50, None],\n",
            " 'max_features': ['auto', 'sqrt'],\n",
            " 'min_samples_leaf': [1, 2, 4],\n",
            " 'min_samples_split': [2, 5, 10],\n",
            " 'n_estimators': [10, 200, 300, 400, 500]}\n"
          ],
          "name": "stdout"
        }
      ]
    },
    {
      "cell_type": "code",
      "metadata": {
        "id": "ZxR9Bdw5ludQ",
        "colab": {
          "base_uri": "https://localhost:8080/"
        },
        "outputId": "843c27d6-f165-4ec1-a4dd-8efcc6558ed1"
      },
      "source": [
        "#choosing the right parmeters for the model using RandomizedSearchCV\n",
        "rf_model = RandomForestClassifier()\n",
        "clf_RF = RandomizedSearchCV(rf_model, random_grid,cv = 3,\n",
        "                            verbose=2, random_state=42, n_jobs = -1)\n",
        "clf_RF.fit(X_train,y_train)"
      ],
      "execution_count": null,
      "outputs": [
        {
          "output_type": "stream",
          "text": [
            "Fitting 3 folds for each of 10 candidates, totalling 30 fits\n"
          ],
          "name": "stdout"
        },
        {
          "output_type": "stream",
          "text": [
            "[Parallel(n_jobs=-1)]: Using backend LokyBackend with 2 concurrent workers.\n",
            "[Parallel(n_jobs=-1)]: Done  30 out of  30 | elapsed:  1.3min finished\n"
          ],
          "name": "stderr"
        },
        {
          "output_type": "execute_result",
          "data": {
            "text/plain": [
              "RandomizedSearchCV(cv=3, error_score=nan,\n",
              "                   estimator=RandomForestClassifier(bootstrap=True,\n",
              "                                                    ccp_alpha=0.0,\n",
              "                                                    class_weight=None,\n",
              "                                                    criterion='gini',\n",
              "                                                    max_depth=None,\n",
              "                                                    max_features='auto',\n",
              "                                                    max_leaf_nodes=None,\n",
              "                                                    max_samples=None,\n",
              "                                                    min_impurity_decrease=0.0,\n",
              "                                                    min_impurity_split=None,\n",
              "                                                    min_samples_leaf=1,\n",
              "                                                    min_samples_split=2,\n",
              "                                                    min_weight_fraction_leaf=0.0,\n",
              "                                                    n_estimators=100,\n",
              "                                                    n_jobs...\n",
              "                                                    warm_start=False),\n",
              "                   iid='deprecated', n_iter=10, n_jobs=-1,\n",
              "                   param_distributions={'bootstrap': [True, False],\n",
              "                                        'max_depth': [5, 10, 20, 30, 40, 50,\n",
              "                                                      None],\n",
              "                                        'max_features': ['auto', 'sqrt'],\n",
              "                                        'min_samples_leaf': [1, 2, 4],\n",
              "                                        'min_samples_split': [2, 5, 10],\n",
              "                                        'n_estimators': [10, 200, 300, 400,\n",
              "                                                         500]},\n",
              "                   pre_dispatch='2*n_jobs', random_state=42, refit=True,\n",
              "                   return_train_score=False, scoring=None, verbose=2)"
            ]
          },
          "metadata": {
            "tags": []
          },
          "execution_count": 37
        }
      ]
    },
    {
      "cell_type": "code",
      "metadata": {
        "id": "bG6FDCMUoTqf",
        "colab": {
          "base_uri": "https://localhost:8080/",
          "height": 571
        },
        "outputId": "c388e620-3d1c-4904-dbc9-ad9b54a8cc10"
      },
      "source": [
        "test_eval(clf_RF, X_test, y_test)"
      ],
      "execution_count": null,
      "outputs": [
        {
          "output_type": "stream",
          "text": [
            "Confusion Matrix\n",
            "============================================================\n"
          ],
          "name": "stdout"
        },
        {
          "output_type": "display_data",
          "data": {
            "image/png": "[encoded data removed]",
            "text/plain": [
              "<Figure size 432x288 with 2 Axes>"
            ]
          },
          "metadata": {
            "tags": []
          }
        },
        {
          "output_type": "stream",
          "text": [
            "Classification Report\n",
            "============================================================\n",
            "              precision    recall  f1-score   support\n",
            "\n",
            "         0.0       0.85      0.85      0.85      3381\n",
            "         1.0       0.55      0.55      0.55      1123\n",
            "\n",
            "    accuracy                           0.78      4504\n",
            "   macro avg       0.70      0.70      0.70      4504\n",
            "weighted avg       0.78      0.78      0.78      4504\n",
            " \n",
            "\n",
            "AUC-ROC\n",
            "============================================================\n",
            "0.7856484418847876\n"
          ],
          "name": "stdout"
        }
      ]
    },
    {
      "cell_type": "markdown",
      "metadata": {
        "id": "7-qPP-mXE5De"
      },
      "source": [
        "# Gradient boost Classifier"
      ]
    },
    {
      "cell_type": "code",
      "metadata": {
        "id": "Zo2wnDXr0Ah1",
        "colab": {
          "base_uri": "https://localhost:8080/"
        },
        "outputId": "2772a454-80b8-4052-d2a1-ee4fdf05b735"
      },
      "source": [
        "from sklearn.ensemble import GradientBoostingClassifier\n",
        "\n",
        "gb_model = GradientBoostingClassifier()\n",
        "\n",
        "gb_params = { \n",
        "    \"n_estimators\":[1,3,5,10,15,20,30,40,50,],\n",
        "    'learning_rate': [0.1, 0.05, 0.02, 0.01],\n",
        "    'max_depth': [2,6,8,10,12,15],\n",
        "    'min_samples_split': [2,5,10,15,20],\n",
        "    'min_samples_leaf': [1,2,4]\n",
        "}\n",
        "#choosing the right parmeters for the model using RandomizedSearchCV\n",
        "clf_gb=RandomizedSearchCV(gb_model,gb_params,cv=5, scoring='roc_auc',n_jobs=1)\n",
        "\n",
        "clf_gb.fit(X_train, y_train)\n",
        "clf_gb.best_estimator_"
      ],
      "execution_count": null,
      "outputs": [
        {
          "output_type": "execute_result",
          "data": {
            "text/plain": [
              "GradientBoostingClassifier(ccp_alpha=0.0, criterion='friedman_mse', init=None,\n",
              "                           learning_rate=0.02, loss='deviance', max_depth=6,\n",
              "                           max_features=None, max_leaf_nodes=None,\n",
              "                           min_impurity_decrease=0.0, min_impurity_split=None,\n",
              "                           min_samples_leaf=4, min_samples_split=5,\n",
              "                           min_weight_fraction_leaf=0.0, n_estimators=50,\n",
              "                           n_iter_no_change=None, presort='deprecated',\n",
              "                           random_state=None, subsample=1.0, tol=0.0001,\n",
              "                           validation_fraction=0.1, verbose=0,\n",
              "                           warm_start=False)"
            ]
          },
          "metadata": {
            "tags": []
          },
          "execution_count": 42
        }
      ]
    },
    {
      "cell_type": "code",
      "metadata": {
        "colab": {
          "base_uri": "https://localhost:8080/",
          "height": 571
        },
        "id": "FTpr2KEvFCD1",
        "outputId": "f1cb7e9c-fa40-4eff-fe22-6ab4753859f6"
      },
      "source": [
        "#we were able to get the highest accuracy and AUC-ROC score with gradient boost classifier\n",
        "test_eval(clf_gb, X_test, y_test)"
      ],
      "execution_count": null,
      "outputs": [
        {
          "output_type": "stream",
          "text": [
            "Confusion Matrix\n",
            "============================================================\n"
          ],
          "name": "stdout"
        },
        {
          "output_type": "display_data",
          "data": {
            "image/png": "[encoded data removed]",
            "text/plain": [
              "<Figure size 432x288 with 2 Axes>"
            ]
          },
          "metadata": {
            "tags": []
          }
        },
        {
          "output_type": "stream",
          "text": [
            "Classification Report\n",
            "============================================================\n",
            "              precision    recall  f1-score   support\n",
            "\n",
            "         0.0       0.88      0.82      0.85      3381\n",
            "         1.0       0.56      0.67      0.61      1123\n",
            "\n",
            "    accuracy                           0.78      4504\n",
            "   macro avg       0.72      0.75      0.73      4504\n",
            "weighted avg       0.80      0.78      0.79      4504\n",
            " \n",
            "\n",
            "AUC-ROC\n",
            "============================================================\n",
            "0.7944005353893464\n"
          ],
          "name": "stdout"
        }
      ]
    },
    {
      "cell_type": "code",
      "metadata": {
        "colab": {
          "base_uri": "https://localhost:8080/",
          "height": 265
        },
        "id": "WJM0qVavFheU",
        "outputId": "c41ac3a9-cebf-40be-aba5-e4af1f04739e"
      },
      "source": [
        "def Featureimportances(models):\n",
        "    model = models\n",
        "    model.fit(X_train,y_train)\n",
        "    importances = model.feature_importances_\n",
        "    features = X_train.columns\n",
        "    imp = pd.DataFrame({'Features': list(X_test), 'Importance': importances})\n",
        "    \n",
        "    imp['Importance'].nlargest(4).plot(kind='barh')\n",
        "    li = list(imp['Importance'].nlargest(4))\n",
        "    lis = list(imp['Importance'].nlargest(4).index)\n",
        "    fs =list(X_test.columns)\n",
        "    labels =[fs[i] for i in lis]\n",
        "    plt.yticks(range(4), [fs[i] for i in lis])\n",
        "\n",
        "Featureimportances(GradientBoostingClassifier(n_estimators=500, learning_rate=1, max_features=2, max_depth=2, random_state=0))"
      ],
      "execution_count": null,
      "outputs": [
        {
          "output_type": "display_data",
          "data": {
            "image/png": "[encoded data removed]",
            "text/plain": [
              "<Figure size 432x288 with 1 Axes>"
            ]
          },
          "metadata": {
            "tags": []
          }
        }
      ]
    },
    {
      "cell_type": "code",
      "metadata": {
        "id": "lhHismc-d7sZ"
      },
      "source": [
        ""
      ],
      "execution_count": null,
      "outputs": []
    }
  ]
}